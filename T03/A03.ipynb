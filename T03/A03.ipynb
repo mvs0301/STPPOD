{
 "cells": [
  {
   "cell_type": "markdown",
   "metadata": {},
   "source": [
    "<img src=\"../Img/banner-fa-49-2.jpg\">\n",
    "\n",
    "29 марта 2021 года, ВМ/305-1(кк)<br>\n",
    "\n",
    "# Семинар. Контрольная работа\n",
    "\n",
    "Студенты: Поток У18-7у<br>\n",
    "Преподаватель: Смирнов Михаил Викторович, доцент Департамента Анализа данных и машинного обучения Финансового университета при Правительстве Российской Федерации"
   ]
  },
  {
   "cell_type": "code",
   "execution_count": null,
   "metadata": {},
   "outputs": [],
   "source": [
    "import numpy as np"
   ]
  },
  {
   "cell_type": "markdown",
   "metadata": {},
   "source": [
    "### Задание 1\n",
    "Имеется строка \"Волшебной красоты закат озарил Красноярск\". Напишите код, который меняет местами второе и третье слова."
   ]
  },
  {
   "cell_type": "code",
   "execution_count": null,
   "metadata": {},
   "outputs": [],
   "source": [
    "# 1.\n",
    "\n",
    "s=\"Волшебной красоты закат озарил Красноярск\"\n",
    "# Ваш код здесь\n"
   ]
  },
  {
   "cell_type": "markdown",
   "metadata": {},
   "source": [
    "### Задание 2 \n",
    "Имеется фрагмент html-кода.\n",
    "```\n",
    "<script type=\"text\" charset=\"UTF-8\"></script><script id=\"documentation_options\"></script>\n",
    "```\n",
    "Напишите код, возвращающий значение идентификатора *id*. Ожидается результат `documentation_options`."
   ]
  },
  {
   "cell_type": "code",
   "execution_count": null,
   "metadata": {},
   "outputs": [],
   "source": [
    "# 2.\n",
    "\n",
    "h='<script type=\"text\" charset=\"UTF-8\"></script><script id=\"documentation_options\"></script>'\n",
    "# Ваш код здесь\n"
   ]
  },
  {
   "cell_type": "markdown",
   "metadata": {},
   "source": [
    "### Задание 3\n",
    "Напишите код, который показывает, сколько раз в html-коде встречается подстрока \"</\"."
   ]
  },
  {
   "cell_type": "code",
   "execution_count": null,
   "metadata": {},
   "outputs": [],
   "source": [
    "# 3.\n",
    "\n",
    "h='<script type=\"text\" charset=\"UTF-8\"></script><script id=\"documentation_options\"></script>'\n",
    "# Ваш код здесь\n"
   ]
  },
  {
   "cell_type": "markdown",
   "metadata": {},
   "source": [
    "### Задание 4\n",
    "Имеется вложенная структура данных, содержащая список ингредиентов греческой кухни.\n",
    "```\n",
    "{'cuisine': 'greek',\n",
    " 'id': 10259,\n",
    " 'ingredients': ['romaine lettuce',\n",
    "                 'black olives',\n",
    "                 'grape tomatoes',\n",
    "                 'garlic',\n",
    "                 'pepper',\n",
    "                 'purple onion',\n",
    "                 'seasoning',\n",
    "                 'garbanzo beans',\n",
    "                 'feta cheese crumbles']}\n",
    "```\n",
    "Напишите код, который возвращает число ингредиентов."
   ]
  },
  {
   "cell_type": "code",
   "execution_count": null,
   "metadata": {},
   "outputs": [],
   "source": [
    "# 4.\n",
    "\n",
    "food={'cuisine': 'greek',\n",
    "'id': 10259,\n",
    "'ingredients': ['romaine lettuce',\n",
    "              'black olives',\n",
    "              'grape tomatoes',\n",
    "              'garlic',\n",
    "              'pepper',\n",
    "              'purple onion',\n",
    "              'seasoning',\n",
    "              'garbanzo beans',\n",
    "              'feta cheese crumbles']}\n",
    "# Ваш код здесь\n"
   ]
  },
  {
   "cell_type": "markdown",
   "metadata": {},
   "source": [
    "### Задание 5\n",
    "Напишите код, который распечатывает список ингредиентов кухни в алфавитном порядке."
   ]
  },
  {
   "cell_type": "code",
   "execution_count": null,
   "metadata": {},
   "outputs": [],
   "source": [
    "# 5.\n",
    "\n",
    "food={'cuisine': 'greek',\n",
    "'id': 10259,\n",
    "'ingredients': ['romaine lettuce',\n",
    "              'black olives',\n",
    "              'grape tomatoes',\n",
    "              'garlic',\n",
    "              'pepper',\n",
    "              'purple onion',\n",
    "              'seasoning',\n",
    "              'garbanzo beans',\n",
    "              'feta cheese crumbles']}\n",
    "# Ваш код здесь\n"
   ]
  },
  {
   "cell_type": "markdown",
   "metadata": {},
   "source": [
    "### Задание 6\n",
    "В списке ингредиентов тайской кухни допущена ошибка: рис указан дважды. \n",
    "```\n",
    "food={'id': 13121,\n",
    "      'cuisine': 'thai',\n",
    "      'ingredients': ['chopped cilantro fresh', 'hoisin sauce', \n",
    "                      'creamy peanut butter', 'chopped fresh mint',\n",
    "                      'thai basil', 'rice','rice','medium shrimp']}\n",
    "```\n",
    "Напишите код, который исключает повторяющееся значение. Результат может быть представлен в виде списка или множества."
   ]
  },
  {
   "cell_type": "code",
   "execution_count": null,
   "metadata": {},
   "outputs": [],
   "source": [
    "# 6. \n",
    "\n",
    "food={'id': 13121,\n",
    "   'cuisine': 'thai',\n",
    "   'ingredients': ['chopped cilantro fresh', 'hoisin sauce', \n",
    "                   'creamy peanut butter', 'chopped fresh mint',\n",
    "                   'thai basil', 'rice', 'rice', 'medium shrimp']}\n",
    "# Ваш код здесь\n"
   ]
  },
  {
   "cell_type": "markdown",
   "metadata": {},
   "source": [
    "### Задание 7\n",
    "Имеется массив `arr = np.array([1, 2, 3, 4])` Распечатайте  количество измерений данного массива."
   ]
  },
  {
   "cell_type": "code",
   "execution_count": null,
   "metadata": {},
   "outputs": [],
   "source": [
    "# 7.\n",
    "\n",
    "arr = np.array([1, 2, 3, 4])\n",
    "# Ваш код здесь\n"
   ]
  },
  {
   "cell_type": "markdown",
   "metadata": {},
   "source": [
    "### Задание 8\n",
    "Создать NumPy массив 11 на 7 вида: [[1, 2, 3, ..., 7], [11, 12, 13, ..., 17], [21, 22, 23, ..., 27], ..., [101, 102, 103, ..., 107]]"
   ]
  },
  {
   "cell_type": "code",
   "execution_count": null,
   "metadata": {},
   "outputs": [],
   "source": [
    "# 8. Вариант 1. С помощью среза\n",
    "\n",
    "# Ваш код здесь\n"
   ]
  },
  {
   "cell_type": "code",
   "execution_count": null,
   "metadata": {},
   "outputs": [],
   "source": [
    "# 8. Вариант 2. С помощью распространения\n",
    "\n",
    "# Ваш код здесь\n"
   ]
  },
  {
   "cell_type": "markdown",
   "metadata": {},
   "source": [
    "### Задание 9\n",
    "Написать код, в результате выполнения которого матрица размера $m$ на $n$, заполняется текстурой размера 2 на 2:\n",
    "\n",
    "```\n",
    "0 1\n",
    "2 3\n",
    "\n",
    "```\n",
    "\n",
    "Пример для m = 4 и n = 5:\n",
    "\n",
    "```\n",
    "0 1 0 1 0\n",
    "2 3 2 3 2\n",
    "0 1 0 1 0\n",
    "2 3 2 3 2\n",
    "```"
   ]
  },
  {
   "cell_type": "code",
   "execution_count": null,
   "metadata": {},
   "outputs": [],
   "source": [
    "# 9.\n",
    "\n",
    "# Ваш код здесь\n"
   ]
  },
  {
   "cell_type": "markdown",
   "metadata": {},
   "source": [
    "### Задание 10\n",
    "Вычесть одномерный массив *B* из двумерного массива *A*, так, чтобы каждый элемент одномерного массива вычитался из всех элементов соответствующих строк массива *A*. Применить технику распространения.\n",
    "\n",
    "_Пример:_\n",
    "\n",
    "```\n",
    "A = np.array([[3,3,3],[4,4,4],[5,5,5]])\n",
    "B = np.array([1,2,3])\n",
    "```\n",
    "\n",
    "Ожидается резульат:\n",
    "\n",
    "```\n",
    "[[2 2 2]\n",
    " [2 2 2]\n",
    " [2 2 2]]\n",
    "```"
   ]
  },
  {
   "cell_type": "code",
   "execution_count": null,
   "metadata": {},
   "outputs": [],
   "source": [
    "# 10.\n",
    "\n",
    "# Ваш код здесь\n"
   ]
  },
  {
   "cell_type": "markdown",
   "metadata": {},
   "source": [
    "### Задание 11\n",
    "Дан массив углов\n",
    "```\n",
    "alfas = np.array(([0.52, 0.79, 1.04, 1.57, 2.09, 2.36, 2.61]))\n",
    "```\n",
    "Создать массив из трех строк, состоящих из значений синусов, косинусов и тангенсов углов."
   ]
  },
  {
   "cell_type": "code",
   "execution_count": null,
   "metadata": {},
   "outputs": [],
   "source": [
    "# 11.\n",
    "\n",
    "alfas = np.array(([0.52, 0.79, 1.04, 1.57, 2.09, 2.36, 2.61]))\n",
    "\n",
    "# Ваш код здесь\n"
   ]
  },
  {
   "cell_type": "markdown",
   "metadata": {},
   "source": [
    "### Задание 12\n",
    "Имеется массив `A = np.array([2, 6, 1, 9, 10, 3, 27])`. Получить элементы в диапазоне от 5 до 10."
   ]
  },
  {
   "cell_type": "code",
   "execution_count": null,
   "metadata": {},
   "outputs": [],
   "source": [
    "# 12.\n",
    "\n",
    "A = np.array([2, 6, 1, 9, 10, 3, 27])\n",
    "# Ваш код здесь\n"
   ]
  },
  {
   "cell_type": "markdown",
   "metadata": {},
   "source": [
    "### Задание 13\n",
    "Поменять местами столбец 1 и 2 в массиве np.arange(9).reshape(3,3)"
   ]
  },
  {
   "cell_type": "code",
   "execution_count": null,
   "metadata": {},
   "outputs": [],
   "source": [
    "# 13\n",
    "\n",
    "A = np.arange(9).reshape(3,3)\n",
    "\n",
    "# Ваш код здесь\n"
   ]
  },
  {
   "cell_type": "markdown",
   "metadata": {},
   "source": [
    "### Задание 14\n",
    "Инвертировать порядок элементов в двухмерном массиве np.arange(9).reshape(3,3) .\n",
    "\n",
    "Ожидаемый результат:\n",
    "\n",
    "\n",
    "```python\n",
    "array([[8, 7, 6],\n",
    "       [5, 4, 3],\n",
    "       [2, 1, 0]])\n",
    "```"
   ]
  },
  {
   "cell_type": "code",
   "execution_count": null,
   "metadata": {},
   "outputs": [],
   "source": [
    "# 14.\n",
    "\n",
    "A = np.arange(9).reshape(3,3)\n",
    "\n",
    "# Ваш код здесь\n"
   ]
  },
  {
   "cell_type": "markdown",
   "metadata": {},
   "source": [
    "### Задание 15\n",
    "Cоздать массив из 20 случайных целых чисел от 0 до 100. Обрезать значения массива (заменить значения выходящие за диапазон на крайние значения) снизу по значению 30, сверху по значению 70."
   ]
  },
  {
   "cell_type": "code",
   "execution_count": null,
   "metadata": {},
   "outputs": [],
   "source": [
    "# 15.\n",
    "\n",
    "# Ваш код здесь\n"
   ]
  }
 ],
 "metadata": {
  "kernelspec": {
   "display_name": "Python 3",
   "language": "python",
   "name": "python3"
  },
  "language_info": {
   "codemirror_mode": {
    "name": "ipython",
    "version": 3
   },
   "file_extension": ".py",
   "mimetype": "text/x-python",
   "name": "python",
   "nbconvert_exporter": "python",
   "pygments_lexer": "ipython3",
   "version": "3.7.6"
  }
 },
 "nbformat": 4,
 "nbformat_minor": 4
}
