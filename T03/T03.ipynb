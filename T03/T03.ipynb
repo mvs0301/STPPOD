{
 "cells": [
  {
   "cell_type": "markdown",
   "metadata": {},
   "source": [
    "<img src=\"../Img/banner-fa-49-2.jpg\">"
   ]
  },
  {
   "cell_type": "markdown",
   "metadata": {},
   "source": [
    "23 марта 2021 года, ВМ/305-1(кк),<br>\n",
    "\n",
    "# Лекция 3. Библиотека NumPy\n",
    "\n",
    "Студенты: Поток У18-7у<br>\n",
    "Преподаватель: Смирнов Михаил Викторович, доцент Департамента Анализа данных и машинного обучения Финансового университета при Правительстве Российской Федерации"
   ]
  },
  {
   "cell_type": "markdown",
   "metadata": {},
   "source": [
    "<a id=Ref></a>\n",
    "# Оглавление\n",
    "\n",
    "[1. Что такое NumPy](#WhatIsNumPy)<br>\n",
    "[2. Numpy массивы](#NumPyArrays)<br>\n",
    "[3. Индексация](#Ind)<br>\n",
    "[4. Типы данных](#dtype)<br>\n",
    "[5. Копии и представления](#copy_and_view)<br>\n",
    "[6. Форма массива](#shape)<br>\n",
    "[7. Изменение формы массива](#shape_change)<br>\n",
    "[8. Итерация](#iterating)<br>\n",
    "[9. Объединение массивов](#con)<br>\n",
    "[10. Разделение массивов](#split)<br>\n",
    "[11. Поиск в массивах](#where)<br>\n",
    "[12. Сортировка массивов](#sort)<br>\n",
    "[13. Фильтрация массивов](#filter)<br>\n",
    "[14. Случайные числа в NumPy](#random)<br>\n",
    "[Задания](#Tsk)"
   ]
  },
  {
   "cell_type": "markdown",
   "metadata": {},
   "source": [
    "<a id=WhatIsNumPy></a>\n",
    "[Оглавление](#Ref)|| [=>](#NumPyArrays)\n",
    "# 1. Что такое NumPy\n",
    "NumPy - это библиотека Python, используемая для работы с массивами. Она также имеет функции для операций линейной алгебры, преобразования Фурье и работы с матрицами. NumPy была создана в 2005 году Трэвисом Олифантом. Это проект с открытым исходным кодом и им можно свободно пользоваться. NumPy означает числовой Python.\n",
    "\n",
    "В Python есть списки, но они относительно медленно обрабатываются. NumPy обеспечивает работу с массивами, которые обрабатываются до 50 раз быстрее, чем традиционные списки Python. Объект массива в NumPy называется *ndarray*. Массивы часто используются в науке о данных, где очень важны скорость и ресурсы.\n",
    "\n",
    "Наука о данных - это отрасль информатики, в которой мы изучаем, как хранить, использовать и анализировать данные для получения информации.\n",
    "\n",
    "Почему NumPy быстрее списков? В отличие от списков, массивы NumPy хранятся в одной непрерывной области памяти, поэтому процессы могут обращаться к ним и управлять ими очень эффективно. В информатике это называется локальностью ссылок. Также библиотека NumPy оптимизирована для работы с новыми архитектурами процессоров.\n",
    "\n",
    "Библиотека NumPy частично написана на Python, но большинство частей, требующих быстрых вычислений, написаны на C или C ++.\n",
    "\n",
    "Для установки NumPy достаточно выполнить команду\n",
    "\n",
    "`C:\\Users\\Your Name>pip install numpy` \n",
    "\n",
    "NumPy входит в популярный пакет программ Anaconda, поэтому, если пакет Anaconda установлен, то библиотека NumPy также установлена.\n",
    "\n",
    "Если NumPy установлена, то для работы с библиотекой ее необходимо импортировать с помощью команды\n",
    "\n",
    "`import numpy`"
   ]
  },
  {
   "cell_type": "code",
   "execution_count": null,
   "metadata": {
    "scrolled": true
   },
   "outputs": [],
   "source": [
    "import numpy\n",
    "arr=numpy.array([1,2,3,4])\n",
    "print(arr)"
   ]
  },
  {
   "cell_type": "markdown",
   "metadata": {},
   "source": [
    "Как правило, библиотеку NumPy импортиируют с псевдонимом *np*."
   ]
  },
  {
   "cell_type": "code",
   "execution_count": null,
   "metadata": {},
   "outputs": [],
   "source": [
    "import numpy as np"
   ]
  },
  {
   "cell_type": "markdown",
   "metadata": {},
   "source": [
    "Строка версии хранится в атрибуте `__version__`"
   ]
  },
  {
   "cell_type": "code",
   "execution_count": null,
   "metadata": {},
   "outputs": [],
   "source": [
    "print(np.__version__)"
   ]
  },
  {
   "cell_type": "markdown",
   "metadata": {},
   "source": [
    "### Официальная документация\n",
    "https://numpy.org/doc/stable/contents.html#"
   ]
  },
  {
   "cell_type": "markdown",
   "metadata": {},
   "source": [
    "<a id=NumPyArrays></a>\n",
    "[ <= ](#WhatIsNumPy) || [Оглавление](#Ref)|| [=>](#Ind)\n",
    "# 2. NumPy массивы\n",
    "\n",
    "NumPy используется для работы с массивами. Массив NumPy является объектом *ndarray* (нд-массив). Мы можем создать объект *ndarray* с помощью функции *array()*."
   ]
  },
  {
   "cell_type": "code",
   "execution_count": null,
   "metadata": {},
   "outputs": [],
   "source": [
    "import numpy as np\n",
    "arr = np.array([1, 2, 3, 4, 5])\n",
    "print(arr)\n",
    "print(type(arr))"
   ]
  },
  {
   "cell_type": "markdown",
   "metadata": {},
   "source": [
    "Чтобы создать *ndarray*, мы можем передать список или кортеж в метод *array()*, и он будет преобразован в *ndarray*:"
   ]
  },
  {
   "cell_type": "code",
   "execution_count": null,
   "metadata": {},
   "outputs": [],
   "source": [
    "arr = np.array((1, 2, 3, 4, 5))\n",
    "print(arr) "
   ]
  },
  {
   "cell_type": "markdown",
   "metadata": {},
   "source": [
    "### Массив нулевой размерности"
   ]
  },
  {
   "cell_type": "markdown",
   "metadata": {},
   "source": [
    "Массивами нулевой размерности (0-D), или скалярами, являются элементы массива. Каждое значение в массиве представляет собой массив нулевой размерности."
   ]
  },
  {
   "cell_type": "code",
   "execution_count": null,
   "metadata": {},
   "outputs": [],
   "source": [
    "import numpy as np\n",
    "arr = np.array(42)\n",
    "print(arr)"
   ]
  },
  {
   "cell_type": "markdown",
   "metadata": {},
   "source": [
    "### Одномерный массив\n",
    "Одномерным является массив, элементами которого являются массивы нулевой размерности (скаляры)."
   ]
  },
  {
   "cell_type": "code",
   "execution_count": null,
   "metadata": {},
   "outputs": [],
   "source": [
    "import numpy as np\n",
    "arr = np.array([1, 2, 3, 4, 5])\n",
    "print(arr) "
   ]
  },
  {
   "cell_type": "markdown",
   "metadata": {},
   "source": [
    "### Двумерный массив\n",
    "Двумерным является массив, элементами которого являются одномерные массивы. Такие массивы часто используются для задания матриц. Создадим двумерный массив, содержащий два массива со значениями 1,2,3 и 4,5,6:"
   ]
  },
  {
   "cell_type": "code",
   "execution_count": null,
   "metadata": {},
   "outputs": [],
   "source": [
    "arr = np.array([[1, 2, 3], [4, 5, 6]])\n",
    "print(arr)"
   ]
  },
  {
   "cell_type": "code",
   "execution_count": null,
   "metadata": {},
   "outputs": [],
   "source": [
    "arr = np.array([[1, 2, 3], [4, 5, 6]])\n",
    "print(arr)"
   ]
  },
  {
   "cell_type": "markdown",
   "metadata": {},
   "source": [
    "### Трехмерный массив\n",
    "Трехмерным массивом является массив, элементами которого являются двумерные массивы (матрицы)"
   ]
  },
  {
   "cell_type": "code",
   "execution_count": null,
   "metadata": {},
   "outputs": [],
   "source": [
    "arr = np.array([[[1, 2, 3], [4, 5, 6]], [[1, 2, 3], [4, 5, 6]]])\n",
    "print(arr) "
   ]
  },
  {
   "cell_type": "markdown",
   "metadata": {},
   "source": [
    "### Атрибут *ndim*\n",
    "Атрибут *ndim* возвращает число измерений массива"
   ]
  },
  {
   "cell_type": "code",
   "execution_count": null,
   "metadata": {},
   "outputs": [],
   "source": [
    "a = np.array(42)\n",
    "b = np.array([1, 2, 3, 4, 5])\n",
    "c = np.array([[1, 2, 3], [4, 5, 6]])\n",
    "d = np.array([[[1, 2, 3], [4, 5, 6]], [[1, 2, 3], [4, 5, 6]]])\n",
    "\n",
    "print(a.ndim)\n",
    "print(b.ndim)\n",
    "print(c.ndim)\n",
    "print(d.ndim) "
   ]
  },
  {
   "cell_type": "markdown",
   "metadata": {},
   "source": [
    "### Массивы большей размерности\n",
    "Массив может иметь любое количество измерений. При создании массива количество измерений количество измерений можно определить с помощью аргумента *ndmin*."
   ]
  },
  {
   "cell_type": "code",
   "execution_count": null,
   "metadata": {},
   "outputs": [],
   "source": [
    "arr = np.array([1, 2, 3, 4], ndmin=5)\n",
    "print(arr)\n",
    "print('number of dimensions :', arr.ndim) "
   ]
  },
  {
   "cell_type": "markdown",
   "metadata": {},
   "source": [
    "В этом массиве самое внутреннее измерение (5-й размер) имеет 4 элемента, 4-й размер имеет 1 элемент, который является вектором, 3-й размер имеет 1 элемент, который является матрицей с вектором, 2-й размер имеет 1 элемент, который является трехмерным массивом и 1-й размер имеет 1 элемент, который является 4-мерным массивом."
   ]
  },
  {
   "cell_type": "code",
   "execution_count": null,
   "metadata": {},
   "outputs": [],
   "source": [
    "arr"
   ]
  },
  {
   "cell_type": "markdown",
   "metadata": {},
   "source": [
    "<a id=Ind></a>\n",
    "[ <= ](#NumPyArrays) || [Оглавление](#Ref)|| [=>](#dtype)\n",
    "# 3. Индексация элементов массивов\n",
    "### Доступ к элементам массива по индексу\n",
    "Доступ к элементам массива осуществляется по их индексу. Индексы в массивах NumPy начинаются с 0, что означает, что первый элемент имеет индекс 0, а второй - индекс 1 и т. д."
   ]
  },
  {
   "cell_type": "code",
   "execution_count": null,
   "metadata": {},
   "outputs": [],
   "source": [
    "arr = np.array([1, 2, 3, 4])\n",
    "print(arr[0])\n",
    "print(arr[1])\n",
    "print(arr[2] + arr[3]) "
   ]
  },
  {
   "cell_type": "markdown",
   "metadata": {},
   "source": [
    "Для доступа к элементам двумерных массивов указывается размер и индекс элемента через запятую."
   ]
  },
  {
   "cell_type": "code",
   "execution_count": null,
   "metadata": {
    "scrolled": true
   },
   "outputs": [],
   "source": [
    "arr = np.array([[1,2,3,4,5], [6,7,8,9,10]])\n",
    "print('2-й элемент 1-го размера: ', arr[0, 1])\n",
    "print('5-й элемент on 2-го размера: ', arr[1, 4]) "
   ]
  },
  {
   "cell_type": "markdown",
   "metadata": {},
   "source": [
    "Для доступа к элементам трехмерного массива указываются целые числа, разделенные запятыми, представляющие размеры и индекс элемента."
   ]
  },
  {
   "cell_type": "code",
   "execution_count": null,
   "metadata": {},
   "outputs": [],
   "source": [
    "arr = np.array([[[1, 2, 3], [4, 5, 6]], [[7, 8, 9], [10, 11, 12]]])\n",
    "print(arr[0, 1, 2])"
   ]
  },
  {
   "cell_type": "markdown",
   "metadata": {},
   "source": [
    "Использование отрицательных индексов"
   ]
  },
  {
   "cell_type": "code",
   "execution_count": null,
   "metadata": {},
   "outputs": [],
   "source": [
    "arr = np.array([[1,2,3,4,5], [6,7,8,9,10]])\n",
    "print(arr[1, -1]) "
   ]
  },
  {
   "cell_type": "markdown",
   "metadata": {},
   "source": [
    "### Срезы\n",
    "[start:end] или [start:end:step]"
   ]
  },
  {
   "cell_type": "code",
   "execution_count": null,
   "metadata": {},
   "outputs": [],
   "source": [
    "arr = np.array([1, 2, 3, 4, 5, 6, 7])\n",
    "print(arr[1:5])\n",
    "print(arr[:4])"
   ]
  },
  {
   "cell_type": "markdown",
   "metadata": {},
   "source": [
    "Срезы с использованием отрицательных индексов"
   ]
  },
  {
   "cell_type": "code",
   "execution_count": null,
   "metadata": {},
   "outputs": [],
   "source": [
    "arr = np.array([1, 2, 3, 4, 5, 6, 7])\n",
    "print(arr[-3:-1]) "
   ]
  },
  {
   "cell_type": "markdown",
   "metadata": {},
   "source": [
    "### Шаг"
   ]
  },
  {
   "cell_type": "markdown",
   "metadata": {},
   "source": [
    "Пример 1"
   ]
  },
  {
   "cell_type": "code",
   "execution_count": null,
   "metadata": {},
   "outputs": [],
   "source": [
    "arr = np.array([1, 2, 3, 4, 5, 6, 7])\n",
    "print(arr[1:5:2]) "
   ]
  },
  {
   "cell_type": "markdown",
   "metadata": {},
   "source": [
    "Пример 2"
   ]
  },
  {
   "cell_type": "code",
   "execution_count": null,
   "metadata": {},
   "outputs": [],
   "source": [
    "arr = np.array([1, 2, 3, 4, 5, 6, 7])\n",
    "print(arr[::2])"
   ]
  },
  {
   "cell_type": "markdown",
   "metadata": {},
   "source": [
    "### Срезы в двумерных массивах"
   ]
  },
  {
   "cell_type": "markdown",
   "metadata": {},
   "source": [
    "Пример 1. Из 2-го элемента получить элементы с 1-го по 4-й (правая граница не включена)"
   ]
  },
  {
   "cell_type": "code",
   "execution_count": null,
   "metadata": {},
   "outputs": [],
   "source": [
    "arr = np.array([[1, 2, 3, 4, 5], [6, 7, 8, 9, 10]])\n",
    "print(arr[1, 1:4]) "
   ]
  },
  {
   "cell_type": "markdown",
   "metadata": {},
   "source": [
    "Пример 2. Из обоих элементов получить элементы с индексом 2."
   ]
  },
  {
   "cell_type": "code",
   "execution_count": null,
   "metadata": {},
   "outputs": [],
   "source": [
    "arr = np.array([[1, 2, 3, 4, 5], [6, 7, 8, 9, 10]])\n",
    "print(arr[0:2, 2])"
   ]
  },
  {
   "cell_type": "markdown",
   "metadata": {},
   "source": [
    "Пример 3. Из оббоих массивов получить элементы с индексами от 1 до 4, не включая правую границу. "
   ]
  },
  {
   "cell_type": "code",
   "execution_count": null,
   "metadata": {
    "scrolled": true
   },
   "outputs": [],
   "source": [
    "arr = np.array([[1, 2, 3, 4, 5], [6, 7, 8, 9, 10]])\n",
    "print(arr[0:2, 1:4]) "
   ]
  },
  {
   "cell_type": "markdown",
   "metadata": {},
   "source": [
    "<a id=dtype></a>\n",
    " [ <= ](#Ind) || [Оглавление](#Ref)|| [=>](#copy_and_view)\n",
    "# 4. Типы данных в массиве\n",
    "```\n",
    "i - integer\n",
    "b - boolean\n",
    "u - unsigned integer\n",
    "f - float\n",
    "c - complex float\n",
    "m - timedelta\n",
    "M - datetime\n",
    "O - object\n",
    "S - string\n",
    "U - unicode string\n",
    "V - fixed chunk of memory for other type ( void )\n",
    "```"
   ]
  },
  {
   "cell_type": "markdown",
   "metadata": {},
   "source": [
    "Объект массива NumPy имеет свойство с именем *dtype*, которое возвращает тип данных массива"
   ]
  },
  {
   "cell_type": "code",
   "execution_count": null,
   "metadata": {},
   "outputs": [],
   "source": [
    "arr = np.array([1, 2, 3, 4])\n",
    "print(arr.dtype) "
   ]
  },
  {
   "cell_type": "code",
   "execution_count": null,
   "metadata": {},
   "outputs": [],
   "source": [
    "arr = np.array(['apple', 'banana', 'cherry'])\n",
    "print(arr.dtype)"
   ]
  },
  {
   "cell_type": "markdown",
   "metadata": {},
   "source": [
    "Функция array() может принимать необязательный аргумент *dtype*, который позволяет определять ожидаемый тип данных элементов массива. Создадим массив с данными текстового типа."
   ]
  },
  {
   "cell_type": "code",
   "execution_count": null,
   "metadata": {},
   "outputs": [],
   "source": [
    "arr = np.array([1, 2, 3, 4], dtype='S')\n",
    "\n",
    "print(arr)\n",
    "print(arr.dtype) "
   ]
  },
  {
   "cell_type": "markdown",
   "metadata": {},
   "source": [
    "Для i, u, f, S и U мы также можем определить размер. Создадим массив с типом данных \"целое число 4 байта\":"
   ]
  },
  {
   "cell_type": "code",
   "execution_count": null,
   "metadata": {},
   "outputs": [],
   "source": [
    "arr = np.array([1, 2, 3, 4], dtype='i4')\n",
    "\n",
    "print(arr)\n",
    "print(arr.dtype) "
   ]
  },
  {
   "cell_type": "markdown",
   "metadata": {},
   "source": [
    "Что происходит, если преобразование типа невозможно? Если указан тип, в который элементы не могут быть преобразованы, NumPy вызовет ValueError. Пример. Строка, отличная от целого числа, например 'a', не может быть преобразована в целое число (вызовет ошибку)\n",
    "```\n",
    "arr = np.array(['a', '2', '3'], dtype='i')\n",
    "---------------------------------------------------------------------------\n",
    "ValueError  \n",
    "```"
   ]
  },
  {
   "cell_type": "markdown",
   "metadata": {},
   "source": [
    "Лучший способ изменить тип данных массива - сделать копию массива с помощью *astype()*.\n",
    "\n",
    "Функция *astype()* создает копию массива и позволяет указать тип данных в качестве параметра.\n",
    "\n",
    "Тип данных может быть указан с помощью строки, например 'f' для вещественного числа, 'i' для целого числа и т. д. Также тип данных может быть указан напрямую, например, *float* для вещественного числа и *int* для целого числа.\n",
    "\n",
    "Изменим тип данных с *float* на *integer*, используя 'i' в качестве значения параметра:"
   ]
  },
  {
   "cell_type": "code",
   "execution_count": null,
   "metadata": {},
   "outputs": [],
   "source": [
    "arr = np.array([1.1, 2.1, 3.1])\n",
    "\n",
    "newarr = arr.astype('i')\n",
    "\n",
    "print(newarr)\n",
    "print(newarr.dtype) "
   ]
  },
  {
   "cell_type": "markdown",
   "metadata": {},
   "source": [
    "Изменим тип данных с целого на логический:"
   ]
  },
  {
   "cell_type": "code",
   "execution_count": null,
   "metadata": {},
   "outputs": [],
   "source": [
    "arr = np.array([1, 0, 3])\n",
    "\n",
    "newarr = arr.astype(bool)\n",
    "\n",
    "print(newarr)\n",
    "print(newarr.dtype) "
   ]
  },
  {
   "cell_type": "markdown",
   "metadata": {},
   "source": [
    "<a id=copy_and_view></a>\n",
    "[ <= ](#dtype) || [Оглавление](#Ref)|| [=>](#shape)\n",
    "# 5. Копия *copy()* и представление *view()*\n",
    "Основное различие между копией и представлением массива в том, что копия - это новый массив, а представление - это просто представление исходного массива.\n",
    "\n",
    "Копии хранит свои данные, и изменения, внесенные в копию, не повлияют на исходный массив, а изменения, внесенные в исходный массив, не повлияют на копию.\n",
    "\n",
    "Представление не владеет данными, и любые изменения, внесенные в представление, повлияют на исходный массив, а любые изменения, внесенные в исходный массив, повлияют на представление.\n",
    "\n",
    "Сделаем копию, изменим исходный массив и отобразим оба массива:"
   ]
  },
  {
   "cell_type": "code",
   "execution_count": null,
   "metadata": {},
   "outputs": [],
   "source": [
    "arr = np.array([1, 2, 3, 4, 5])\n",
    "x = arr.copy()\n",
    "arr[0] = 42\n",
    "\n",
    "print(arr)\n",
    "print(x)"
   ]
  },
  {
   "cell_type": "markdown",
   "metadata": {},
   "source": [
    "Создадим представление, изменим исходный массив и отобразим оба массива:"
   ]
  },
  {
   "cell_type": "code",
   "execution_count": null,
   "metadata": {},
   "outputs": [],
   "source": [
    "arr = np.array([1, 2, 3, 4, 5])\n",
    "x = arr.view()\n",
    "arr[0] = 42\n",
    "\n",
    "print(arr)\n",
    "print(x)"
   ]
  },
  {
   "cell_type": "markdown",
   "metadata": {},
   "source": [
    "Создадим представление, изменим представление и отобразим оба массива:"
   ]
  },
  {
   "cell_type": "code",
   "execution_count": null,
   "metadata": {},
   "outputs": [],
   "source": [
    "arr = np.array([1, 2, 3, 4, 5])\n",
    "x = arr.view()\n",
    "x[0] = 31\n",
    "\n",
    "print(arr)\n",
    "print(x)"
   ]
  },
  {
   "cell_type": "markdown",
   "metadata": {},
   "source": [
    "Копии хранят данные, а представления не хранят данных, но как это проверить?\n",
    "\n",
    "Каждый массив NumPy имеет атрибут *base*, который возвращает None, если массив хранит свои данные. В противном случае атрибут *base* ссылается на исходный объект."
   ]
  },
  {
   "cell_type": "code",
   "execution_count": null,
   "metadata": {},
   "outputs": [],
   "source": [
    "arr = np.array([1, 2, 3, 4, 5])\n",
    "\n",
    "x = arr.copy()\n",
    "y = arr.view()\n",
    "\n",
    "print(x.base)\n",
    "print(y.base)"
   ]
  },
  {
   "cell_type": "markdown",
   "metadata": {},
   "source": [
    "<a id=shape></a>\n",
    "[ <= ](#copy_and_view) || [Оглавление](#Ref)|| [=>](#shape_change)\n",
    "# 6. Форма массива NumPy\n",
    "\n",
    "Форма массива - это количество элементов в каждом измерении. Массивы NumPy имеют атрибут *shape*, который возвращает кортеж, каждое значение которого указывает на длину массива по соотвектствующей оси. В следующем примере массив имеет два измерения и в каждом четыре элемента."
   ]
  },
  {
   "cell_type": "code",
   "execution_count": null,
   "metadata": {},
   "outputs": [],
   "source": [
    "arr = np.array([[1, 2, 3, 4], [5, 6, 7, 8]])\n",
    "print(arr.shape) "
   ]
  },
  {
   "cell_type": "markdown",
   "metadata": {},
   "source": [
    "Пример. Создать массив с 5 измерениями, используя ndmin, используя вектор со значениями 1,2,3,4, и убедиться, что последнее измерение имеет значение 4:"
   ]
  },
  {
   "cell_type": "code",
   "execution_count": null,
   "metadata": {},
   "outputs": [],
   "source": [
    "arr = np.array([1, 2, 3, 4], ndmin=5)\n",
    "\n",
    "print(arr)\n",
    "print('Форма массива :', arr.shape)"
   ]
  },
  {
   "cell_type": "markdown",
   "metadata": {},
   "source": [
    "Что представляет собой кортеж формы? Числа кортежа указывают на число элементов по каждому измерению. В предыдущем примере элемент кортежа с индексом 4 имеет значение 4, поэтому 5-е измерение (4+1) массива содержит 4 элемента."
   ]
  },
  {
   "cell_type": "markdown",
   "metadata": {},
   "source": [
    "<a id=shape_change></a>\n",
    "[ <= ](#shape) || [Оглавление](#Ref)|| [=>](#iterating)\n",
    "# 7. Изменение формы массива NumPy\n",
    "\n",
    "Изменяя форму, мы можем добавлять или удалять размеры или изменять количество элементов в каждом измерении.\n",
    "\n",
    "Пример.<br>\n",
    "Преобразуйте следующий одномерный массив с 12 элементами в двухмерный массив.<br> В результате по самому внешнему измерению получим 4 массива по 3 элемента в каждом:"
   ]
  },
  {
   "cell_type": "code",
   "execution_count": null,
   "metadata": {
    "scrolled": true
   },
   "outputs": [],
   "source": [
    "arr = np.array([1, 2, 3, 4, 5, 6, 7, 8, 9, 10, 11, 12])\n",
    "\n",
    "newarr = arr.reshape(4, 3)\n",
    "print(newarr)"
   ]
  },
  {
   "cell_type": "markdown",
   "metadata": {},
   "source": [
    "Пример<br>\n",
    "Преобразуйте следующий одномерный массив с 12 элементами в трехмерный массив.<br>\n",
    "Самое внешнее измерение будет иметь 2 массива, содержащих 3 массива, каждый с 2 элементами:"
   ]
  },
  {
   "cell_type": "code",
   "execution_count": null,
   "metadata": {},
   "outputs": [],
   "source": [
    "arr = np.array([1, 2, 3, 4, 5, 6, 7, 8, 9, 10, 11, 12])\n",
    "\n",
    "newarr = arr.reshape(2, 3, 2)\n",
    "print(newarr)"
   ]
  },
  {
   "cell_type": "markdown",
   "metadata": {},
   "source": [
    "### Какие допускаются преобразования формы?\n",
    "Любые при условии, что число элементов в обоих формах одинаково.\n",
    "```\n",
    "arr = np.array([1, 2, 3, 4, 5, 6, 7, 8])\n",
    "newarr = arr.reshape(3, 3)\n",
    "-----------------------------------------------------------\n",
    "----> 3 newarr = arr.reshape(3, 3)\n",
    "ValueError: cannot reshape array of size 8 into shape (3,3)\n",
    "```"
   ]
  },
  {
   "cell_type": "markdown",
   "metadata": {},
   "source": [
    "### Копия или представление?"
   ]
  },
  {
   "cell_type": "code",
   "execution_count": null,
   "metadata": {},
   "outputs": [],
   "source": [
    "import numpy as np\n",
    "arr = np.array([1, 2, 3, 4, 5, 6, 7, 8])\n",
    "print(arr.reshape(2, 4).base)"
   ]
  },
  {
   "cell_type": "markdown",
   "metadata": {},
   "source": [
    "В приведенном выше примере возвращается исходный массив, поэтому это представление."
   ]
  },
  {
   "cell_type": "markdown",
   "metadata": {},
   "source": [
    "### Неизвестный размер\n",
    "NumPy разрешает иметь одно «неизвестное» измерение. Это означает, что точное число для одного из размеров можно не указывать. Передайте -1 в качестве значения, и NumPy вычислит это число за вас."
   ]
  },
  {
   "cell_type": "code",
   "execution_count": null,
   "metadata": {},
   "outputs": [],
   "source": [
    "arr = np.array([1, 2, 3, 4, 5, 6, 7, 8])\n",
    "newarr = arr.reshape(2, 2, -1)\n",
    "print(newarr) "
   ]
  },
  {
   "cell_type": "markdown",
   "metadata": {},
   "source": [
    "Примечание. Значение -1 можно указывать только один раз при задании формы."
   ]
  },
  {
   "cell_type": "markdown",
   "metadata": {},
   "source": [
    "### Сглаживание массивов\n",
    "\n",
    "Сглаживание массива означает преобразование многомерного массива в одномерный массив. Для этого мы можем использовать `reshape(-1)`."
   ]
  },
  {
   "cell_type": "code",
   "execution_count": null,
   "metadata": {},
   "outputs": [],
   "source": [
    "arr = np.array([[1, 2, 3], [4, 5, 6]])\n",
    "newarr = arr.reshape(-1)\n",
    "print(newarr)"
   ]
  },
  {
   "cell_type": "markdown",
   "metadata": {},
   "source": [
    "Примечание. Существует множество функций для изменения форм массивов в numpy: *flatten, ravel*, а также для переупорядочивания элементов: *rot90, flip, fliplr, flipud* и т. д."
   ]
  },
  {
   "cell_type": "markdown",
   "metadata": {},
   "source": [
    "<a id=iterating></a>\n",
    "[ <= ](#shape_change) || [Оглавление](#Ref)|| [=>](#con)\n",
    "# 8. Итерация массива NumPy\n",
    "Итерация означает прохождение элементов один за другим. Итерация в Пайтон осуществляется с помощью цикла *for*."
   ]
  },
  {
   "cell_type": "code",
   "execution_count": null,
   "metadata": {},
   "outputs": [],
   "source": [
    "import numpy as np\n",
    "arr = np.array([1, 2, 3])\n",
    "\n",
    "for x in arr:\n",
    "    print(x)"
   ]
  },
  {
   "cell_type": "markdown",
   "metadata": {},
   "source": [
    "### Итерация двумерного массива"
   ]
  },
  {
   "cell_type": "code",
   "execution_count": null,
   "metadata": {},
   "outputs": [],
   "source": [
    "arr = np.array([[1, 2, 3], [4, 5, 6]])\n",
    "\n",
    "for x in arr:\n",
    "    print(x)"
   ]
  },
  {
   "cell_type": "markdown",
   "metadata": {},
   "source": [
    "Итерация n-мерного массива проходит измерению с индексом n-1. Чтобы вернуть фактические значения, скаляры, необходимо перебирать массивы в каждом измерении."
   ]
  },
  {
   "cell_type": "code",
   "execution_count": null,
   "metadata": {},
   "outputs": [],
   "source": [
    "arr = np.array([[1, 2, 3], [4, 5, 6]])\n",
    "\n",
    "for x in arr:\n",
    "    for y in x:\n",
    "        print(y)"
   ]
  },
  {
   "cell_type": "markdown",
   "metadata": {},
   "source": [
    "### Итерация трехмерного массива"
   ]
  },
  {
   "cell_type": "code",
   "execution_count": null,
   "metadata": {},
   "outputs": [],
   "source": [
    "arr = np.array([[[1, 2, 3], [4, 5, 6]], [[7, 8, 9], [10, 11, 12]]])\n",
    "\n",
    "for x in arr:\n",
    "    print(x)"
   ]
  },
  {
   "cell_type": "markdown",
   "metadata": {},
   "source": [
    "Чтобы вернуть фактические значения, скаляры, необходимо перебирать массивы в каждом измерении."
   ]
  },
  {
   "cell_type": "code",
   "execution_count": null,
   "metadata": {
    "scrolled": true
   },
   "outputs": [],
   "source": [
    "arr = np.array([[[1, 2, 3], [4, 5, 6]], [[7, 8, 9], [10, 11, 12]]])\n",
    "\n",
    "for x in arr:\n",
    "    for y in x:\n",
    "        for z in y:\n",
    "            print(z)"
   ]
  },
  {
   "cell_type": "markdown",
   "metadata": {},
   "source": [
    "### Итерация массивов с помощью *nditer ()*\n",
    "Функция *nditer()* - это вспомогательная функция, которую можно использовать от самых простых до очень сложных итераций. Она решает некоторые основные проблемы, с которыми мы сталкиваемся в итерации.\n",
    "\n",
    "Пример. Итерация 3-х мерного массива."
   ]
  },
  {
   "cell_type": "code",
   "execution_count": null,
   "metadata": {},
   "outputs": [],
   "source": [
    "arr = np.array([[[1, 2], [3, 4]], [[5, 6], [7, 8]]])\n",
    "\n",
    "for x in np.nditer(arr):\n",
    "    print(x) "
   ]
  },
  {
   "cell_type": "markdown",
   "metadata": {},
   "source": [
    "### Итерация массива с разными типами данных\n",
    "\n",
    "Мы можем использовать аргумент *op_dtypes* и передать ему ожидаемый тип данных, чтобы изменить тип данных элементов во время итерации.\n",
    "\n",
    "NumPy не изменяет тип данных элемента на месте (где элемент находится в массиве), поэтому для выполнения этого действия требуется какое-то другое пространство, это дополнительное пространство называется буфером, и чтобы включить его в *nditer()*, мы передаем `flags=['buffered']`."
   ]
  },
  {
   "cell_type": "code",
   "execution_count": null,
   "metadata": {},
   "outputs": [],
   "source": [
    "arr = np.array([1, 2, 3])\n",
    "a=[]\n",
    "for x in np.nditer(arr, flags=['buffered'], op_dtypes=['S']):\n",
    "    a.append(x)\n",
    "    print(x)"
   ]
  },
  {
   "cell_type": "markdown",
   "metadata": {},
   "source": [
    "Итерация с разным размером шага. Мы можем использовать фильтрацию с последующей итерацией."
   ]
  },
  {
   "cell_type": "code",
   "execution_count": null,
   "metadata": {},
   "outputs": [],
   "source": [
    "arr = np.array([[1, 2, 3, 4], [5, 6, 7, 8]])\n",
    "\n",
    "for x in np.nditer(arr[:, ::2]):\n",
    "    print(x)"
   ]
  },
  {
   "cell_type": "markdown",
   "metadata": {},
   "source": [
    "Пронумерованная итерация с использованием *ndenumerate()*\n",
    "\n",
    "В ходе пронумерованной итерации возвращается порядковый номер шага итерации. Используется, если необходимо получить индекс элемента во время итерации.\n",
    "\n",
    "Пример 1."
   ]
  },
  {
   "cell_type": "code",
   "execution_count": null,
   "metadata": {},
   "outputs": [],
   "source": [
    "arr = np.array([1, 2, 3])\n",
    "\n",
    "for idx, x in np.ndenumerate(arr):\n",
    "    print(idx, x)"
   ]
  },
  {
   "cell_type": "markdown",
   "metadata": {},
   "source": [
    "Пример 2."
   ]
  },
  {
   "cell_type": "code",
   "execution_count": null,
   "metadata": {},
   "outputs": [],
   "source": [
    "import numpy as np\n",
    "\n",
    "arr = np.array([[1, 2, 3, 4], [5, 6, 7, 8]])\n",
    "\n",
    "for idx, x in np.ndenumerate(arr):\n",
    "    print(idx, x)"
   ]
  },
  {
   "cell_type": "markdown",
   "metadata": {},
   "source": [
    "<a id=con></a>\n",
    "[ <= ](#iterating) || [Оглавление](#Ref)|| [=>](#split)\n",
    "\n",
    "# 9. Объединение массивов\n",
    "\n",
    "### Объединение с помощью *concatenate()*\n",
    "\n",
    "Объединение означает размещение содержимого двух или более массивов в одном массиве.\n",
    "\n",
    "В SQL мы объединяем таблицы на основе ключа, тогда как в NumPy мы объединяем массивы по осям. Мы передаем последовательность массивов, которые хотим присоединить, к функции *concatenate()* вместе с осью. Если ось явно не задана, она принимается равной 0."
   ]
  },
  {
   "cell_type": "code",
   "execution_count": null,
   "metadata": {},
   "outputs": [],
   "source": [
    "import numpy as np\n",
    "\n",
    "arr1 = np.array([1, 2, 3])\n",
    "arr2 = np.array([4, 5, 6])\n",
    "arr = np.concatenate((arr1, arr2))\n",
    "print(arr)"
   ]
  },
  {
   "cell_type": "markdown",
   "metadata": {},
   "source": [
    "Объединение двумерных массивов вдоль строк"
   ]
  },
  {
   "cell_type": "code",
   "execution_count": null,
   "metadata": {},
   "outputs": [],
   "source": [
    "arr1 = np.array([[1, 2], [3, 4]])\n",
    "arr2 = np.array([[5, 6], [7, 8]])\n",
    "arr = np.concatenate((arr1, arr2), axis=1)\n",
    "\n",
    "print(arr) "
   ]
  },
  {
   "cell_type": "markdown",
   "metadata": {},
   "source": [
    "### Объединение массивов с помощью функции уклаlrb *stack()*\n",
    "\n",
    "Объединение с помощью функции укладки такое же, как и конкатенация, с той лишь разницей, что наложение выполняется по новой оси. Мы можем объединить два одномерных массива вдоль второй оси, что приведет к их размещению друг над другом, т.е. штабелирование. Если ось явно не передана, она принимается равной 0."
   ]
  },
  {
   "cell_type": "code",
   "execution_count": null,
   "metadata": {},
   "outputs": [],
   "source": [
    "arr1 = np.array([1, 2, 3])\n",
    "arr2 = np.array([4, 5, 6])\n",
    "arr = np.stack((arr1, arr2), axis=1)\n",
    "\n",
    "print(arr)"
   ]
  },
  {
   "cell_type": "markdown",
   "metadata": {},
   "source": [
    "### Укладка по рядам\n",
    "\n",
    "NumPy предоставляет вспомогательную функцию: hstack () для укладки вдоль строк."
   ]
  },
  {
   "cell_type": "code",
   "execution_count": null,
   "metadata": {},
   "outputs": [],
   "source": [
    "arr1 = np.array([1, 2, 3])\n",
    "arr2 = np.array([4, 5, 6])\n",
    "arr = np.hstack((arr1, arr2))\n",
    "print(arr)"
   ]
  },
  {
   "cell_type": "markdown",
   "metadata": {},
   "source": [
    "### Укладка по столбцам\n",
    "\n",
    "NumPy предоставляет вспомогательную функцию: *vstack()* для укладки по столбцам."
   ]
  },
  {
   "cell_type": "code",
   "execution_count": null,
   "metadata": {},
   "outputs": [],
   "source": [
    "arr1 = np.array([1, 2, 3])\n",
    "\n",
    "arr2 = np.array([4, 5, 6])\n",
    "\n",
    "arr = np.vstack((arr1, arr2))\n",
    "\n",
    "print(arr)"
   ]
  },
  {
   "cell_type": "markdown",
   "metadata": {},
   "source": [
    "### Укладка по высоте (в глубину)\n",
    "NumPy предоставляет вспомогательную функцию: *dstack()* для стека по высоте."
   ]
  },
  {
   "cell_type": "code",
   "execution_count": null,
   "metadata": {},
   "outputs": [],
   "source": [
    "arr1 = np.array([1, 2, 3])\n",
    "arr2 = np.array([4, 5, 6])\n",
    "arr = np.dstack((arr1, arr2))\n",
    "\n",
    "print(arr) "
   ]
  },
  {
   "cell_type": "markdown",
   "metadata": {},
   "source": [
    "<a id=split></a>\n",
    "[ <= ](#con) || [Оглавление](#Ref)|| [=>](#where)\n",
    "\n",
    "\n",
    "# 10. Разделение массивов\n",
    "\n",
    "Разделение - это операция, обратная объединению.\n",
    "\n",
    "Объединение объединяет несколько массивов в один, а разделение разбивает один массив на несколько.\n",
    "\n",
    "Мы используем *array_split()* для разделения массивов, мы передаем ему массив, который мы хотим разделить, и количество разделений."
   ]
  },
  {
   "cell_type": "code",
   "execution_count": null,
   "metadata": {},
   "outputs": [],
   "source": [
    "import numpy as np\n",
    "\n",
    "arr = np.array([1, 2, 3, 4, 5, 6])\n",
    "newarr = np.array_split(arr, 3)\n",
    "print(newarr) "
   ]
  },
  {
   "cell_type": "markdown",
   "metadata": {},
   "source": [
    "Примечание. Результатом является массив, содержащий три массива.\n",
    "\n",
    "Разделим массив на четыре части."
   ]
  },
  {
   "cell_type": "code",
   "execution_count": null,
   "metadata": {},
   "outputs": [],
   "source": [
    "import numpy as np\n",
    "\n",
    "arr = np.array([1, 2, 3, 4, 5, 6])\n",
    "newarr = np.array_split(arr, 4)\n",
    "print(newarr)"
   ]
  },
  {
   "cell_type": "markdown",
   "metadata": {},
   "source": [
    "Примечание: также есть метод *split()*, но он не будет разделять, когда в исходном массиве меньше элементов для разделения, как в примере выше. *array_split()* работет корректно, но *split()* в таком случае возвращает ошибку.\n",
    "\n",
    "Доступ к результатам *array_split()* осуществляется по индексу массива."
   ]
  },
  {
   "cell_type": "code",
   "execution_count": null,
   "metadata": {},
   "outputs": [],
   "source": [
    "arr = np.array([1, 2, 3, 4, 5, 6])\n",
    "\n",
    "newarr = np.array_split(arr, 3)\n",
    "\n",
    "print(newarr[0])\n",
    "print(newarr[1])\n",
    "print(newarr[2])"
   ]
  },
  {
   "cell_type": "markdown",
   "metadata": {},
   "source": [
    "### Разделение двумерных массивов\n",
    "\n",
    "Используйте тот же синтаксис при разделении двумерных массивов. Используйте метод *array_split()*, передайте массив, и количество разделений. В результате выполнения следующей ячейки массив разделяется на три двумерных массива. "
   ]
  },
  {
   "cell_type": "code",
   "execution_count": null,
   "metadata": {},
   "outputs": [],
   "source": [
    "arr = np.array([[1, 2], [3, 4], [5, 6], [7, 8], [9, 10], [11, 12]])\n",
    "\n",
    "newarr = np.array_split(arr, 3)\n",
    "\n",
    "print(newarr)"
   ]
  },
  {
   "cell_type": "markdown",
   "metadata": {},
   "source": [
    "В следующем примере каждый элемент двумерного массива содержит три элемента."
   ]
  },
  {
   "cell_type": "code",
   "execution_count": null,
   "metadata": {},
   "outputs": [],
   "source": [
    "arr = np.array([[1, 2, 3], [4, 5, 6], [7, 8, 9], [10, 11, 12], [13, 14, 15], [16, 17, 18]])\n",
    "\n",
    "newarr = np.array_split(arr, 3)\n",
    "\n",
    "print(newarr)"
   ]
  },
  {
   "cell_type": "markdown",
   "metadata": {},
   "source": [
    "Кроме того, можно указать, по какой оси делать разделение.\n",
    "\n",
    "В приведенном ниже примере также возвращаются три двумерных массива, но они разделены по строке (ось = 1)."
   ]
  },
  {
   "cell_type": "code",
   "execution_count": null,
   "metadata": {},
   "outputs": [],
   "source": [
    "arr = np.array([[1, 2, 3], [4, 5, 6], [7, 8, 9], [10, 11, 12], [13, 14, 15], [16, 17, 18]])\n",
    "\n",
    "newarr = np.array_split(arr, 3, axis=1)\n",
    "\n",
    "print(newarr)"
   ]
  },
  {
   "cell_type": "markdown",
   "metadata": {},
   "source": [
    "Как альтернативу можно применить *hsplit()* - противоположенность *hstack()*. Также существуют методы *vsplit()* и *dsplit()*, выполняющие обратные действия по сравнению с *vstack()* и *dstack()*."
   ]
  },
  {
   "cell_type": "code",
   "execution_count": null,
   "metadata": {},
   "outputs": [],
   "source": [
    "arr = np.array([[1, 2, 3], [4, 5, 6], [7, 8, 9], [10, 11, 12], [13, 14, 15], [16, 17, 18]])\n",
    "\n",
    "newarr = np.hsplit(arr, 3)\n",
    "\n",
    "print(newarr)"
   ]
  },
  {
   "cell_type": "markdown",
   "metadata": {},
   "source": [
    "<a id=where></a>\n",
    "[ <= ](#split) || [Оглавление](#Ref)|| [=>](#sort)\n",
    "\n",
    "# 11. Поиск в массивах\n",
    "\n",
    "### Поиск с помощью *where()*\n",
    "Вы можете искать в массиве определенное значение и возвращать найденные индексы. Для поиска в массиве используется метод *where()*."
   ]
  },
  {
   "cell_type": "code",
   "execution_count": null,
   "metadata": {},
   "outputs": [],
   "source": [
    "import numpy as np\n",
    "\n",
    "arr = np.array([1, 2, 3, 4, 5, 4, 4])\n",
    "\n",
    "x = np.where(arr == 4)\n",
    "\n",
    "print(x)"
   ]
  },
  {
   "cell_type": "markdown",
   "metadata": {},
   "source": [
    "Пример. Найти индексы элементов, принимающих четные значения."
   ]
  },
  {
   "cell_type": "code",
   "execution_count": null,
   "metadata": {},
   "outputs": [],
   "source": [
    "arr = np.array([1, 2, 3, 4, 5, 6, 7, 8])\n",
    "x = np.where(arr%2 == 0)\n",
    "print(x)"
   ]
  },
  {
   "cell_type": "markdown",
   "metadata": {},
   "source": [
    "Пример. Найдите индексы элементов с нечетными значениями."
   ]
  },
  {
   "cell_type": "code",
   "execution_count": null,
   "metadata": {},
   "outputs": [],
   "source": [
    "arr = np.array([1, 2, 3, 4, 5, 6, 7, 8])\n",
    "\n",
    "x = np.where(arr%2 == 1)\n",
    "\n",
    "print(x)"
   ]
  },
  {
   "cell_type": "markdown",
   "metadata": {},
   "source": [
    "### Метод *searchsorted()*"
   ]
  },
  {
   "cell_type": "markdown",
   "metadata": {},
   "source": [
    "Метод *searchsorted()* выполняет двоичный поиск в массиве и возвращает индекс, в который будет вставлено указанное значение для поддержания порядка поиска. Предполагается, что метод *searchsorted()* используется для отсортированных массивов.\n",
    "\n",
    "Пример. Найти индекс элемента, на место которого следует вставить число семь."
   ]
  },
  {
   "cell_type": "code",
   "execution_count": null,
   "metadata": {},
   "outputs": [],
   "source": [
    "arr = np.array([6, 7, 8, 9])\n",
    "x = np.searchsorted(arr, 7)\n",
    "print(x)"
   ]
  },
  {
   "cell_type": "markdown",
   "metadata": {},
   "source": [
    "Метод начинает поиск слева и возвращает первый индекс, в котором число 7 не больше следующего значения.\n",
    "\n",
    "По умолчанию возвращается крайний левый индекс, но вместо этого мы можем указать `side = 'right'`, чтобы вернуть крайний правый индекс.\n",
    "\n",
    "Пример. Найдите индексы, в которые нужно вставить значение 7, начиная справа."
   ]
  },
  {
   "cell_type": "code",
   "execution_count": null,
   "metadata": {},
   "outputs": [],
   "source": [
    "arr = np.array([6, 7, 8, 9])\n",
    "\n",
    "x = np.searchsorted(arr, 7, side='right')\n",
    "\n",
    "print(x)"
   ]
  },
  {
   "cell_type": "markdown",
   "metadata": {},
   "source": [
    "Объяснение примера: число 7 следует вставить с индексом 2, чтобы сохранить порядок сортировки. Метод начинает поиск справа и возвращает первый индекс, начиная с которого число 7 не меньше следующего значения."
   ]
  },
  {
   "cell_type": "markdown",
   "metadata": {},
   "source": [
    "### Поиск нескольких значений\n",
    "\n",
    "Чтобы найти более одного значения, используйте массив с указанными значениями.\n",
    "\n",
    "Пример. Найти индексы, в которые нужно вставить значения 2, 4 и 6."
   ]
  },
  {
   "cell_type": "code",
   "execution_count": null,
   "metadata": {},
   "outputs": [],
   "source": [
    "arr = np.array([1, 3, 5, 7])\n",
    "\n",
    "x = np.searchsorted(arr, [2, 4, 6])\n",
    "\n",
    "print(x)"
   ]
  },
  {
   "cell_type": "markdown",
   "metadata": {},
   "source": [
    "<a id=sort></a>\n",
    "[ <= ](#where) || [Оглавление](#Ref)|| [=>](#filter)\n",
    "\n",
    "# 12. Сортировка массивов\n",
    "\n",
    "Сортировка означает размещение элементов в упорядоченной последовательности.\n",
    "\n",
    "Упорядоченная последовательность - это любая последовательность, которая имеет порядок, соответствующий элементам, например числовой или алфавитный, по возрастанию или по убыванию.\n",
    "\n",
    "В объекте NumPy ndarray есть функция *sort()*, которая сортирует указанный массив."
   ]
  },
  {
   "cell_type": "code",
   "execution_count": null,
   "metadata": {},
   "outputs": [],
   "source": [
    "import numpy as np\n",
    "\n",
    "arr = np.array([3, 2, 0, 1])\n",
    "print(np.sort(arr)) "
   ]
  },
  {
   "cell_type": "markdown",
   "metadata": {},
   "source": [
    "Примечание. Этот метод возвращает копию массива, оставляя исходный массив без изменений.\n",
    "\n",
    "Пример. Сортировка по алфавиту."
   ]
  },
  {
   "cell_type": "code",
   "execution_count": null,
   "metadata": {},
   "outputs": [],
   "source": [
    "arr = np.array(['банан', 'вишня', 'яблоко'])\n",
    "\n",
    "print(np.sort(arr)) "
   ]
  },
  {
   "cell_type": "markdown",
   "metadata": {},
   "source": [
    "Пример. Сортировка логических значений."
   ]
  },
  {
   "cell_type": "code",
   "execution_count": null,
   "metadata": {},
   "outputs": [],
   "source": [
    "arr = np.array([True, False, True])\n",
    "\n",
    "print(np.sort(arr))"
   ]
  },
  {
   "cell_type": "markdown",
   "metadata": {},
   "source": [
    "### Сортировка двумерных массивов\n",
    "При сортирвке двумерного массива методом *sort()*, оба массива сортируются."
   ]
  },
  {
   "cell_type": "code",
   "execution_count": null,
   "metadata": {},
   "outputs": [],
   "source": [
    "arr = np.array([[3, 2, 4], [5, 0, 1]])\n",
    "\n",
    "print(np.sort(arr))"
   ]
  },
  {
   "cell_type": "markdown",
   "metadata": {},
   "source": [
    "<a id=filter></a>\n",
    "[ <= ](#sort) || [Оглавление](#Ref)|| [=>](#random)\n",
    "\n",
    "# 13. Фильтрация массивов\n",
    "\n",
    "### Фильтрация массивов\n",
    "\n",
    "Получение некоторых элементов из существующего массива и создание из них нового массива называется фильтрацией.\n",
    "\n",
    "В NumPy для фильтрации используется список логических индексов. Список логических индексов - это список логических значений, соответствующих индексам в массиве.\n",
    "\n",
    "Если значение логического индекса *True*, элемент содержится в фильтруемом массиве, если значение *False*, этот элемент исключается из фильтруемого массива."
   ]
  },
  {
   "cell_type": "code",
   "execution_count": null,
   "metadata": {},
   "outputs": [],
   "source": [
    "import numpy as np\n",
    "\n",
    "arr = np.array([41, 42, 43, 44])\n",
    "x = [True, False, True, False]\n",
    "newarr = arr[x]\n",
    "print(newarr) "
   ]
  },
  {
   "cell_type": "markdown",
   "metadata": {},
   "source": [
    "### Создание массива фильтров\n",
    "\n",
    "В приведенном выше примере мы жестко запрограммировали значения True и False, но обычно они используются для создания массива фильтров на основе условий.\n",
    "\n",
    "Пример. Создать массив фильтров, который будет возвращать только значения больше 42."
   ]
  },
  {
   "cell_type": "code",
   "execution_count": null,
   "metadata": {},
   "outputs": [],
   "source": [
    "arr = np.array([41, 42, 43, 44])\n",
    "\n",
    "# Создать пустой список\n",
    "filter_arr = []\n",
    "\n",
    "# цикл по всем элемента массива\n",
    "for element in arr:\n",
    "  # если элемент больше 42, добавить значение True, иначе False\n",
    "    if element > 42:\n",
    "        filter_arr.append(True)\n",
    "    else:\n",
    "        filter_arr.append(False)\n",
    "\n",
    "# применить фильтр, результат сохранить в новом массиве\n",
    "newarr = arr[filter_arr]\n",
    "\n",
    "print(filter_arr)\n",
    "print(newarr) "
   ]
  },
  {
   "cell_type": "markdown",
   "metadata": {},
   "source": [
    "Задание. Создать массив фильтров, который будет возвращать только четные элементы из исходного массива."
   ]
  },
  {
   "cell_type": "code",
   "execution_count": null,
   "metadata": {},
   "outputs": [],
   "source": [
    "arr = np.array([1, 2, 3, 4, 5, 6, 7])\n",
    "filter_arr = []\n",
    "\n",
    "# Ваш код здесь\n"
   ]
  },
  {
   "cell_type": "markdown",
   "metadata": {},
   "source": [
    "### Создание фильтра непосредственно из массива\n",
    "\n",
    "Приведенный выше пример - довольно распространенная задача в NumPy, и NumPy предоставляет хороший способ ее решить.\n",
    "\n",
    "Мы можем напрямую подставить массив вместо итерируемой переменной в нашем условии, и оно будет работать так, как мы ожидаем."
   ]
  },
  {
   "cell_type": "markdown",
   "metadata": {},
   "source": [
    "Пример. Создать массив фильтров, который будет возвращать только значения больше 42."
   ]
  },
  {
   "cell_type": "code",
   "execution_count": null,
   "metadata": {},
   "outputs": [],
   "source": [
    "arr = np.array([41, 42, 43, 44])\n",
    "\n",
    "filter_arr = arr > 42\n",
    "\n",
    "newarr = arr[filter_arr]\n",
    "\n",
    "print(filter_arr)\n",
    "print(newarr) "
   ]
  },
  {
   "cell_type": "markdown",
   "metadata": {},
   "source": [
    "Задание. Создать массив фильтров, который будет возвращать только четные элементы из исходного массива."
   ]
  },
  {
   "cell_type": "code",
   "execution_count": null,
   "metadata": {},
   "outputs": [],
   "source": [
    "arr = np.array([1, 2, 3, 4, 5, 6, 7])\n",
    "\n",
    "# Ваш код здесь"
   ]
  },
  {
   "cell_type": "markdown",
   "metadata": {},
   "source": [
    "<a id=random></a>\n",
    "[ <= ](#filter) || [Оглавление](#Ref)|| [=>](#task)\n",
    "\n",
    "# 14. Случайные числа в NumPy\n",
    "\n",
    "Случайность означает то, что нельзя предсказать логически.\n",
    "\n",
    "## 14.1. Введение\n",
    "\n",
    "### Псевдослучайное и истинное случайное\n",
    "\n",
    "Компьютеры работают по программам, а программы представляют собой окончательный набор инструкций. Значит, должен быть какой-то алгоритм для генерации случайного числа.\n",
    "\n",
    "Если есть программа для генерации случайного числа, его можно предсказать, поэтому оно не является действительно случайным.\n",
    "\n",
    "Случайные числа, сгенерированные с помощью алгоритма генерации, называются псевдослучайными.\n",
    "\n",
    "Можем ли мы получить действительно случайные числа?\n",
    "\n",
    "Да. Чтобы сгенерировать действительно случайное число на наших компьютерах, нам нужно получить случайные данные из какого-то внешнего источника. Этим внешним источником обычно являются наши нажатия клавиш, движения мыши, данные в сети и т. д.\n",
    "\n",
    "Нам не нужны действительно случайные числа, если только это не связано с безопасностью (например, ключи шифрования) или основанием для применения является случайность (например, колеса цифровой рулетки).\n",
    "\n",
    "В этой лекции мы будем использовать псевдослучайные числа.\n",
    "\n",
    "### Сгенерировать случайное число\n",
    "\n",
    "NumPy предлагает модуль *random* для работы со случайными числами. Метод *randint()* позволяет сгенерировать случайное целое число.\n",
    "\n",
    "Пример. Сгенерировать случайное целое число от 0 до 100:"
   ]
  },
  {
   "cell_type": "code",
   "execution_count": null,
   "metadata": {},
   "outputs": [],
   "source": [
    "from numpy import random\n",
    "\n",
    "x = random.randint(100)\n",
    "\n",
    "print(x)"
   ]
  },
  {
   "cell_type": "markdown",
   "metadata": {},
   "source": [
    "Метод *rand()* модуля *random* возвращает случайное вещественное число от 0 до 1."
   ]
  },
  {
   "cell_type": "code",
   "execution_count": null,
   "metadata": {},
   "outputs": [],
   "source": [
    "x = random.rand()\n",
    "print(x) "
   ]
  },
  {
   "cell_type": "markdown",
   "metadata": {},
   "source": [
    "### Случайный массив\n",
    "\n",
    "Пример. Сгенерировать одномерный массив, содержащий 5 случайных целых чисел от 0 до 100."
   ]
  },
  {
   "cell_type": "code",
   "execution_count": null,
   "metadata": {},
   "outputs": [],
   "source": [
    "from numpy import random\n",
    "\n",
    "x = random.randint(100, size=(5))\n",
    "print(x) "
   ]
  },
  {
   "cell_type": "markdown",
   "metadata": {},
   "source": [
    "Пример. Сгенерировать двумерный массив с 3 строками, каждая строка содержит 5 случайных целых чисел от 0 до 100."
   ]
  },
  {
   "cell_type": "code",
   "execution_count": null,
   "metadata": {},
   "outputs": [],
   "source": [
    "x = random.randint(100, size=(3, 5))\n",
    "print(x)"
   ]
  },
  {
   "cell_type": "markdown",
   "metadata": {},
   "source": [
    "Метод *rand()* также позволяет указать форму массива."
   ]
  },
  {
   "cell_type": "code",
   "execution_count": null,
   "metadata": {},
   "outputs": [],
   "source": [
    "x = random.rand(5)\n",
    "print(x)"
   ]
  },
  {
   "cell_type": "code",
   "execution_count": null,
   "metadata": {},
   "outputs": [],
   "source": [
    "x = random.rand(3, 5)\n",
    "print(x)"
   ]
  },
  {
   "cell_type": "markdown",
   "metadata": {},
   "source": [
    "### Случайное число массива\n",
    "Метод *choice()* позволяет генерировать случайное значение на основе массива значений. Метод *choice()* принимает в качестве параметра массив и случайным образом возвращает одно из значений."
   ]
  },
  {
   "cell_type": "code",
   "execution_count": null,
   "metadata": {},
   "outputs": [],
   "source": [
    "from numpy import random\n",
    "\n",
    "x = random.choice([3, 5, 7, 9])\n",
    "\n",
    "print(x)"
   ]
  },
  {
   "cell_type": "markdown",
   "metadata": {},
   "source": [
    "Метод *choice()* также позволяет возвращать массив значений. Добавьте параметр размера, чтобы указать форму массива."
   ]
  },
  {
   "cell_type": "code",
   "execution_count": null,
   "metadata": {},
   "outputs": [],
   "source": [
    "from numpy import random\n",
    "\n",
    "x = random.choice([3, 5, 7, 9], size=(3, 5))\n",
    "\n",
    "print(x) "
   ]
  },
  {
   "cell_type": "markdown",
   "metadata": {},
   "source": [
    "## 14.2. Случайное распределение данных\n",
    "\n",
    "Распределение данных - это список всех возможных значений и того, как часто встречается каждое значение. Такие списки важны при работе со статистикой и наукой о данных.\n",
    "\n",
    "Модуль *random* предлагает методы, которые возвращают случайно сгенерированные распределения данных.\n",
    "\n",
    "### Случайное распределение\n",
    "\n",
    "Случайное распределение - это набор случайных чисел, которые следуют определенной функции плотности вероятности.\n",
    "\n",
    "Функция плотности вероятности: функция, описывающая непрерывную вероятность. т.е. вероятность всех значений в массиве.\n",
    "\n",
    "Мы можем генерировать случайные числа на основе определенных вероятностей, используя метод *choice()* случайного модуля. Метод *choice()* позволяет нам указать вероятность для каждого значения. Вероятность задается числом от нуля до одного.\n",
    "\n",
    "Пример<br>\n",
    "Создайте одномерный массив, содержащий 100 значений, где каждое значение должно быть 3, 5, 7 или 9.<br>\n",
    "Вероятность того, что значение будет равно 3, установлена ​​равной 0,1.<br>\n",
    "Вероятность того, что значение будет 5, установлена ​​равной 0,3.<br>\n",
    "Вероятность того, что значение будет равно 7, составляет 0,6.<br>\n",
    "Вероятность того, что значение будет равно 9, установлена ​​равной 0.<br>"
   ]
  },
  {
   "cell_type": "code",
   "execution_count": null,
   "metadata": {},
   "outputs": [],
   "source": [
    "from numpy import random\n",
    "\n",
    "x = random.choice([3, 5, 7, 9], p=[0.1, 0.3, 0.6, 0.0], size=(100))\n",
    "\n",
    "print(x)"
   ]
  },
  {
   "cell_type": "markdown",
   "metadata": {},
   "source": [
    "Примечание. Сумма вероятностей *p* должна быть равна единице.\n",
    "\n",
    "Пример. Тот же пример, что и выше, но создается двумерный массив с 3 строками, каждая из которых содержит 5 значений."
   ]
  },
  {
   "cell_type": "code",
   "execution_count": null,
   "metadata": {},
   "outputs": [],
   "source": [
    "x = random.choice([3, 5, 7, 9], p=[0.1, 0.3, 0.6, 0.0], size=(3,5))\n",
    "\n",
    "print(x)"
   ]
  },
  {
   "cell_type": "markdown",
   "metadata": {},
   "source": [
    "## 14.3. Случайные перестановки\n",
    "\n",
    "Перестановка относится к расположению элементов. например, [3, 2, 1] - это перестановка [1, 2, 3] и наоборот. Модуль NumPy Random предоставляет для этого два метода: *shuffle()* и *permutation()*.\n",
    "\n",
    "Пример.<br>\n",
    "Случайным образом перемешать элементы массива."
   ]
  },
  {
   "cell_type": "code",
   "execution_count": null,
   "metadata": {},
   "outputs": [],
   "source": [
    "from numpy import random\n",
    "import numpy as np\n",
    "\n",
    "arr = np.array([1, 2, 3, 4, 5])\n",
    "\n",
    "random.shuffle(arr)\n",
    "\n",
    "print(arr)"
   ]
  },
  {
   "cell_type": "markdown",
   "metadata": {},
   "source": [
    "### Генерация перестановок массивов\n",
    "Пример. Сгенерируйте случайную перестановку элементов следующего массива."
   ]
  },
  {
   "cell_type": "code",
   "execution_count": null,
   "metadata": {},
   "outputs": [],
   "source": [
    "from numpy import random\n",
    "import numpy as np\n",
    "\n",
    "arr = np.array([1, 2, 3, 4, 5])\n",
    "\n",
    "print(random.permutation(arr))"
   ]
  },
  {
   "cell_type": "markdown",
   "metadata": {},
   "source": [
    "## 14.4. Нормальное (гауссово) распределение\n",
    "\n",
    "Нормальное распределение - одно из самых важных распределений. Его также называют распределением Гаусса в честь немецкого математика Карла Фридриха Гаусса. Оно соответствует распределению вероятностей многих событий, например показатели IQ, сердцебиение и т. д.\n",
    "\n",
    "Используйте метод *random.normal()*, чтобы получить нормальное распределение данных. У него три параметра:\n",
    "\n",
    "- loc - (среднее) там, где пик колокола.\n",
    "- scale - (стандартное отклонение) - насколько ровным должно быть распределение графа.\n",
    "- size - форма возвращаемого массива.\n",
    "\n",
    "Пример. Сгенерируйте случайное нормальное распределение в массиве размером 2x3:"
   ]
  },
  {
   "cell_type": "code",
   "execution_count": null,
   "metadata": {},
   "outputs": [],
   "source": [
    "from numpy import random\n",
    "\n",
    "x = random.normal(size=(2, 3))\n",
    "\n",
    "print(x)"
   ]
  },
  {
   "cell_type": "markdown",
   "metadata": {},
   "source": [
    "Пример. Сгенерировать случайное нормальное распределение размера 2x3 со средним значением 1 и стандартным отклонением 2."
   ]
  },
  {
   "cell_type": "code",
   "execution_count": null,
   "metadata": {},
   "outputs": [],
   "source": [
    "from numpy import random\n",
    "\n",
    "x = random.normal(loc=1, scale=2, size=(2, 3))\n",
    "\n",
    "print(x) "
   ]
  },
  {
   "cell_type": "markdown",
   "metadata": {},
   "source": [
    "### Визуализация нормального распределения"
   ]
  },
  {
   "cell_type": "code",
   "execution_count": null,
   "metadata": {},
   "outputs": [],
   "source": [
    "from numpy import random\n",
    "import matplotlib.pyplot as plt\n",
    "import seaborn as sns\n",
    "\n",
    "sns.distplot(random.normal(size=1000, loc=11), hist=False)\n",
    "\n",
    "plt.show()"
   ]
  },
  {
   "cell_type": "markdown",
   "metadata": {},
   "source": [
    "<a id=task></a>\n",
    "[ <= ](#random) || [Оглавление](#Ref)|| [=>](#task)\n",
    "\n",
    "# Задания"
   ]
  },
  {
   "cell_type": "markdown",
   "metadata": {},
   "source": [
    "1. Дано: списки `a,b=[1,1,1],[3,3,3]`\n",
    "\n",
    "Создать одномерные массивы A и B из списков а и b.\n",
    "\n",
    "Вычислить выражение $-((B-А)*(B/2))$"
   ]
  },
  {
   "cell_type": "code",
   "execution_count": null,
   "metadata": {},
   "outputs": [],
   "source": [
    "import numpy as np\n",
    "\n",
    "#1\n",
    "\n",
    "a,b=[1,1,1],[3,3,3]\n",
    "\n",
    "# Ваш код здесь\n"
   ]
  },
  {
   "cell_type": "markdown",
   "metadata": {},
   "source": [
    "2. Используя как можно меньше операций в исходном массиве \"шахматная доска\" np.zeros((8,8)) добиться расстановки кодов \"шахматных фигур\".\n",
    "\n",
    "Ожидаемый результат:\n",
    "```\n",
    "[[-4., -3., -2., -6., -5., -2., -3., -4.],\n",
    " [-1., -1., -1., -1., -1., -1., -1., -1.],\n",
    " [0., 0., 0., 0., 0., 0., 0., 0.],\n",
    " [0., 0., 0., 0., 0., 0., 0., 0.],\n",
    " [0., 0., 0., 0., 0., 0., 0., 0.],\n",
    " [0., 0., 0., 0., 0., 0., 0., 0.],\n",
    " [1., 1., 1., 1., 1., 1., 1., 1.],\n",
    " [4., 3., 2., 6., 5., 2., 3., 4.]]\n",
    " ```"
   ]
  },
  {
   "cell_type": "code",
   "execution_count": null,
   "metadata": {},
   "outputs": [],
   "source": [
    "#2 Ваш код здесь\n"
   ]
  },
  {
   "cell_type": "markdown",
   "metadata": {},
   "source": [
    "3. Средствами NumPy рассчитать произведения четных чисел от 2 до 20 на ближайшие к ним бОльшие нечетные числа"
   ]
  },
  {
   "cell_type": "code",
   "execution_count": null,
   "metadata": {},
   "outputs": [],
   "source": [
    "#3 Ваш код здесь\n"
   ]
  },
  {
   "cell_type": "markdown",
   "metadata": {},
   "source": [
    "4. Сгенерировать двумерный массив arr размерности (4, 7), состоящий из случайных действительных чисел, равномерно распределенных в дипазоне от 0 до 20. Нормализовать значения массива так, что после нормализации максимальный элемент масива будет равен 1.0, минимальный 0.0."
   ]
  },
  {
   "cell_type": "code",
   "execution_count": null,
   "metadata": {},
   "outputs": [],
   "source": [
    "# 4. Ваш код здесь\n"
   ]
  },
  {
   "cell_type": "markdown",
   "metadata": {},
   "source": [
    "5. Имеется массив my_array\n",
    "```\n",
    "my_array = np.array([[1,2,3,4,5],\n",
    "                [6,7,8,9,10],\n",
    "                [11,12,13,14,15],\n",
    "                [16,17,18,19,20],\n",
    "                [21,22,23,24,25]])\n",
    "```\n",
    "Напишите код, с помощью которого можно извлечь из него центральный фрагмент размером 3 х 3, с числами 7, 8, 9, 12, 13, 14, 17, 18, 19."
   ]
  },
  {
   "cell_type": "code",
   "execution_count": null,
   "metadata": {},
   "outputs": [],
   "source": [
    "# 5. Ваш код здесь\n"
   ]
  },
  {
   "cell_type": "markdown",
   "metadata": {},
   "source": [
    "6. Создайте массив my_sin, состоящий из синусов элементов массива my_array.\n",
    "Посчитайте, чему равна сумма элементов полученного массива. Ответ округлите до\n",
    "трёх цифр после запятой."
   ]
  },
  {
   "cell_type": "code",
   "execution_count": null,
   "metadata": {},
   "outputs": [],
   "source": [
    "# 6. Ваш код здесь\n"
   ]
  },
  {
   "cell_type": "markdown",
   "metadata": {},
   "source": [
    "7. Создать матрицу из 20 случайных целых чисел от 0 до 100. Получить второе сверху значение в матрице. Определить индекс этого значения."
   ]
  },
  {
   "cell_type": "code",
   "execution_count": null,
   "metadata": {},
   "outputs": [],
   "source": [
    "# 7. Ваш код здесь\n"
   ]
  },
  {
   "cell_type": "markdown",
   "metadata": {},
   "source": [
    "8. Задать два двухмерных массива ar1 и ar2 размерности (4, 7), состоящих из случайных целых чисел в пределах от 0 до 10. Построить двухмерный массив размерности (4, 7), каждый элемент которого представляет собой максимум (минимум, среднее) из двух значений, находящихся на аналогичной позиции в массивах ar1, ar2."
   ]
  },
  {
   "cell_type": "code",
   "execution_count": null,
   "metadata": {},
   "outputs": [],
   "source": [
    "# 8. Ваш код здесь\n"
   ]
  },
  {
   "cell_type": "markdown",
   "metadata": {},
   "source": [
    "9. Имеется массив *great_array*\n",
    "```\n",
    "first = [x**(1/2) for x in range(100)]\n",
    "second = [x**(1/3) for x in range(100, 200)]\n",
    "third = [x/y for x in range(200,300,2) for y in [3,5]]\n",
    "great_array = np.array([first, second, third]).T\n",
    "```\n",
    "Чему равна сумма элементов массива great_array, значение которых больше 50?"
   ]
  },
  {
   "cell_type": "code",
   "execution_count": 28,
   "metadata": {},
   "outputs": [],
   "source": [
    "#9\n",
    "first = [x**(1/2) for x in range(100)]\n",
    "second = [x**(1/3) for x in range(100, 200)]\n",
    "third = [x/y for x in range(200,300,2) for y in [3,5]]\n",
    "great_array = np.array([first, second, third]).T\n",
    "\n",
    "# Ваш код здесь\n"
   ]
  },
  {
   "cell_type": "markdown",
   "metadata": {},
   "source": [
    "10. Переведите массив great_array в одномерную форму. Какое значение в получившемся массиве имеет элемент с индексом 150?"
   ]
  },
  {
   "cell_type": "code",
   "execution_count": 29,
   "metadata": {},
   "outputs": [],
   "source": [
    "# 10. Ваш код здесь\n"
   ]
  }
 ],
 "metadata": {
  "kernelspec": {
   "display_name": "Python 3",
   "language": "python",
   "name": "python3"
  },
  "language_info": {
   "codemirror_mode": {
    "name": "ipython",
    "version": 3
   },
   "file_extension": ".py",
   "mimetype": "text/x-python",
   "name": "python",
   "nbconvert_exporter": "python",
   "pygments_lexer": "ipython3",
   "version": "3.7.6"
  }
 },
 "nbformat": 4,
 "nbformat_minor": 4
}
