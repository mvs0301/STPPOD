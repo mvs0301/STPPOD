{
 "cells": [
  {
   "cell_type": "markdown",
   "metadata": {},
   "source": [
    "<img src=\"../Img/banner-fa-49-2.jpg\">"
   ]
  },
  {
   "cell_type": "markdown",
   "metadata": {},
   "source": [
    "23 марта 2021 года, ВМ/305-1(кк)<br>\n",
    "29 марта 2021 года, ВМ/305-1(кк)<br>\n",
    "\n",
    "# Лекция 3. Библиотека NumPy\n",
    "\n",
    "Студенты: Поток У18-7у<br>\n",
    "Преподаватель: Смирнов Михаил Викторович, доцент Департамента Анализа данных и машинного обучения Финансового университета при Правительстве Российской Федерации"
   ]
  },
  {
   "cell_type": "markdown",
   "metadata": {},
   "source": [
    "<a id=Ref></a>\n",
    "# Оглавление\n",
    "\n",
    "[1. Что такое NumPy](#WhatIsNumPy)<br>\n",
    "[2. Numpy массивы](#NumPyArrays)<br>\n",
    "[3. Индексация](#Ind)<br>\n",
    "[4. Типы данных](#dtype)<br>\n",
    "[5. Копии и представления](#copy_and_view)<br>\n",
    "[6. Форма массива](#shape)<br>\n",
    "[7. Изменение формы массива](#shape_change)<br>\n",
    "[8. Итерация](#iterating)<br>\n",
    "[9. Объединение массивов](#con)<br>\n",
    "[10. Разделение массивов](#split)<br>\n",
    "[11. Поиск в массивах](#where)<br>\n",
    "[12. Сортировка массивов](#sort)<br>\n",
    "[13. Фильтрация массивов](#filter)<br>\n",
    "[14. Случайные числа](#random)<br>\n",
    "[15. Статистические функции](#func)<br>\n",
    "[16. Универсальные функции](#ufunc)<br>\n",
    "[17. Распространение](#broadc)<br>\n",
    "[Задания](#task)"
   ]
  },
  {
   "cell_type": "markdown",
   "metadata": {},
   "source": [
    "<a id=WhatIsNumPy></a>\n",
    "[Оглавление](#Ref)|| [=>](#NumPyArrays)\n",
    "# 1. Что такое NumPy\n",
    "NumPy - это библиотека Python, используемая для работы с массивами. Она также имеет функции для операций линейной алгебры, преобразования Фурье и работы с матрицами. NumPy была создана в 2005 году Трэвисом Олифантом. Это проект с открытым исходным кодом и им можно свободно пользоваться. NumPy означает числовой Python.\n",
    "\n",
    "В Python есть списки, но они относительно медленно обрабатываются. NumPy обеспечивает работу с массивами, которые обрабатываются до 50 раз быстрее, чем традиционные списки Python. Объект массива в NumPy называется *ndarray*. Массивы часто используются в науке о данных, где очень важны скорость и ресурсы.\n",
    "\n",
    "Наука о данных - это отрасль информатики, в которой мы изучаем, как хранить, использовать и анализировать данные для получения информации.\n",
    "\n",
    "Почему NumPy быстрее списков? В отличие от списков, массивы NumPy хранятся в одной непрерывной области памяти, поэтому процессы могут обращаться к ним и управлять ими очень эффективно. В информатике это называется локальностью ссылок. Также библиотека NumPy оптимизирована для работы с новыми архитектурами процессоров.\n",
    "\n",
    "Библиотека NumPy частично написана на Python, но большинство частей, требующих быстрых вычислений, написаны на C или C ++.\n",
    "\n",
    "Для установки NumPy достаточно выполнить команду\n",
    "\n",
    "`C:\\Users\\Your Name>pip install numpy` \n",
    "\n",
    "NumPy входит в популярный пакет программ Anaconda, поэтому, если пакет Anaconda установлен, то библиотека NumPy также установлена.\n",
    "\n",
    "Если NumPy установлена, то для работы с библиотекой ее необходимо импортировать с помощью команды\n",
    "\n",
    "`import numpy`"
   ]
  },
  {
   "cell_type": "code",
   "execution_count": null,
   "metadata": {
    "scrolled": true
   },
   "outputs": [],
   "source": [
    "import numpy\n",
    "arr=numpy.array([1,2,3,4])\n",
    "print(arr)"
   ]
  },
  {
   "cell_type": "markdown",
   "metadata": {},
   "source": [
    "Как правило, библиотеку NumPy импортиируют с псевдонимом *np*."
   ]
  },
  {
   "cell_type": "code",
   "execution_count": 1,
   "metadata": {},
   "outputs": [],
   "source": [
    "import numpy as np"
   ]
  },
  {
   "cell_type": "markdown",
   "metadata": {},
   "source": [
    "Строка версии хранится в атрибуте `__version__`"
   ]
  },
  {
   "cell_type": "code",
   "execution_count": null,
   "metadata": {},
   "outputs": [],
   "source": [
    "print(np.__version__)"
   ]
  },
  {
   "cell_type": "markdown",
   "metadata": {},
   "source": [
    "### Официальная документация\n",
    "https://numpy.org/doc/stable/contents.html#"
   ]
  },
  {
   "cell_type": "markdown",
   "metadata": {},
   "source": [
    "<a id=NumPyArrays></a>\n",
    "[ <= ](#WhatIsNumPy) || [Оглавление](#Ref)|| [=>](#Ind)\n",
    "# 2. NumPy массивы\n",
    "\n",
    "NumPy используется для работы с массивами. Массив NumPy является объектом *ndarray* (нд-массив). Мы можем создать объект *ndarray* с помощью функции *array()*."
   ]
  },
  {
   "cell_type": "code",
   "execution_count": null,
   "metadata": {},
   "outputs": [],
   "source": [
    "import numpy as np\n",
    "arr = np.array([1, 2, 3, 4, 5])\n",
    "print(arr)\n",
    "print(type(arr))"
   ]
  },
  {
   "cell_type": "markdown",
   "metadata": {},
   "source": [
    "Чтобы создать *ndarray*, мы можем передать список или кортеж в метод *array()*, и он будет преобразован в *ndarray*:"
   ]
  },
  {
   "cell_type": "code",
   "execution_count": null,
   "metadata": {},
   "outputs": [],
   "source": [
    "arr = np.array((1, 2, 3, 4, 5))\n",
    "print(arr) "
   ]
  },
  {
   "cell_type": "markdown",
   "metadata": {},
   "source": [
    "### Массив нулевой размерности"
   ]
  },
  {
   "cell_type": "markdown",
   "metadata": {},
   "source": [
    "Массивами нулевой размерности (0-D), или скалярами, являются элементы массива. Каждое значение в массиве представляет собой массив нулевой размерности."
   ]
  },
  {
   "cell_type": "code",
   "execution_count": null,
   "metadata": {},
   "outputs": [],
   "source": [
    "import numpy as np\n",
    "arr = np.array(42)\n",
    "print(arr)"
   ]
  },
  {
   "cell_type": "markdown",
   "metadata": {},
   "source": [
    "### Одномерный массив\n",
    "Одномерным является массив, элементами которого являются массивы нулевой размерности (скаляры)."
   ]
  },
  {
   "cell_type": "code",
   "execution_count": null,
   "metadata": {},
   "outputs": [],
   "source": [
    "import numpy as np\n",
    "arr = np.array([1, 2, 3, 4, 5])\n",
    "print(arr) "
   ]
  },
  {
   "cell_type": "markdown",
   "metadata": {},
   "source": [
    "### Двумерный массив\n",
    "Двумерным является массив, элементами которого являются одномерные массивы. Такие массивы часто используются для задания матриц. Создадим двумерный массив, содержащий два массива со значениями 1,2,3 и 4,5,6:"
   ]
  },
  {
   "cell_type": "code",
   "execution_count": null,
   "metadata": {},
   "outputs": [],
   "source": [
    "arr = np.array([[1, 2, 3], [4, 5, 6]])\n",
    "print(arr)"
   ]
  },
  {
   "cell_type": "code",
   "execution_count": null,
   "metadata": {},
   "outputs": [],
   "source": [
    "arr = np.array([[1, 2, 3], [4, 5, 6]])\n",
    "print(arr)"
   ]
  },
  {
   "cell_type": "markdown",
   "metadata": {},
   "source": [
    "### Трехмерный массив\n",
    "Трехмерным массивом является массив, элементами которого являются двумерные массивы (матрицы)"
   ]
  },
  {
   "cell_type": "code",
   "execution_count": null,
   "metadata": {},
   "outputs": [],
   "source": [
    "arr = np.array([[[1, 2, 3], [4, 5, 6]], [[1, 2, 3], [4, 5, 6]]])\n",
    "print(arr) "
   ]
  },
  {
   "cell_type": "markdown",
   "metadata": {},
   "source": [
    "### Атрибут *ndim*\n",
    "Атрибут *ndim* возвращает число измерений массива"
   ]
  },
  {
   "cell_type": "code",
   "execution_count": null,
   "metadata": {},
   "outputs": [],
   "source": [
    "a = np.array(42)\n",
    "b = np.array([1, 2, 3, 4, 5])\n",
    "c = np.array([[1, 2, 3], [4, 5, 6]])\n",
    "d = np.array([[[1, 2, 3], [4, 5, 6]], [[1, 2, 3], [4, 5, 6]]])\n",
    "\n",
    "print(a.ndim)\n",
    "print(b.ndim)\n",
    "print(c.ndim)\n",
    "print(d.ndim) "
   ]
  },
  {
   "cell_type": "markdown",
   "metadata": {},
   "source": [
    "### Массивы большей размерности\n",
    "Массив может иметь любое количество измерений. При создании массива количество измерений количество измерений можно определить с помощью аргумента *ndmin*."
   ]
  },
  {
   "cell_type": "code",
   "execution_count": null,
   "metadata": {},
   "outputs": [],
   "source": [
    "arr = np.array([1, 2, 3, 4], ndmin=5)\n",
    "print(arr)\n",
    "print('number of dimensions :', arr.ndim) "
   ]
  },
  {
   "cell_type": "markdown",
   "metadata": {},
   "source": [
    "В этом массиве самое внутреннее измерение (5-й размер) имеет 4 элемента, 4-й размер имеет 1 элемент, который является вектором, 3-й размер имеет 1 элемент, который является матрицей с вектором, 2-й размер имеет 1 элемент, который является трехмерным массивом и 1-й размер имеет 1 элемент, который является 4-мерным массивом."
   ]
  },
  {
   "cell_type": "code",
   "execution_count": null,
   "metadata": {},
   "outputs": [],
   "source": [
    "arr"
   ]
  },
  {
   "cell_type": "markdown",
   "metadata": {},
   "source": [
    "<a id=Ind></a>\n",
    "[ <= ](#NumPyArrays) || [Оглавление](#Ref)|| [=>](#dtype)\n",
    "# 3. Индексация элементов массивов\n",
    "### Доступ к элементам массива по индексу\n",
    "Доступ к элементам массива осуществляется по их индексу. Индексы в массивах NumPy начинаются с 0, что означает, что первый элемент имеет индекс 0, а второй - индекс 1 и т. д."
   ]
  },
  {
   "cell_type": "code",
   "execution_count": null,
   "metadata": {},
   "outputs": [],
   "source": [
    "arr = np.array([1, 2, 3, 4])\n",
    "print(arr[0])\n",
    "print(arr[1])\n",
    "print(arr[2] + arr[3]) "
   ]
  },
  {
   "cell_type": "markdown",
   "metadata": {},
   "source": [
    "Для доступа к элементам двумерных массивов указывается размер и индекс элемента через запятую."
   ]
  },
  {
   "cell_type": "code",
   "execution_count": 30,
   "metadata": {
    "scrolled": true
   },
   "outputs": [
    {
     "name": "stdout",
     "output_type": "stream",
     "text": [
      "2-й элемент 1-го размера:  2\n",
      "5-й элемент 2-го размера:  10\n"
     ]
    }
   ],
   "source": [
    "arr = np.array([[1,2,3,4,5], [6,7,8,9,10]])\n",
    "print('2-й элемент 1-го размера: ', arr[0, 1])\n",
    "print('5-й элемент 2-го размера: ', arr[1, 4]) "
   ]
  },
  {
   "cell_type": "markdown",
   "metadata": {},
   "source": [
    "Для доступа к элементам трехмерного массива указываются целые числа, разделенные запятыми, представляющие размеры и индекс элемента."
   ]
  },
  {
   "cell_type": "code",
   "execution_count": null,
   "metadata": {},
   "outputs": [],
   "source": [
    "arr = np.array([[[1, 2, 3], [4, 5, 6]], [[7, 8, 9], [10, 11, 12]]])\n",
    "print(arr[0, 1, 2])"
   ]
  },
  {
   "cell_type": "markdown",
   "metadata": {},
   "source": [
    "Использование отрицательных индексов"
   ]
  },
  {
   "cell_type": "code",
   "execution_count": null,
   "metadata": {},
   "outputs": [],
   "source": [
    "arr = np.array([[1,2,3,4,5], [6,7,8,9,10]])\n",
    "print(arr[1, -1]) "
   ]
  },
  {
   "cell_type": "markdown",
   "metadata": {},
   "source": [
    "### Срезы\n",
    "[start:end] или [start:end:step]"
   ]
  },
  {
   "cell_type": "code",
   "execution_count": null,
   "metadata": {},
   "outputs": [],
   "source": [
    "arr = np.array([1, 2, 3, 4, 5, 6, 7])\n",
    "print(arr[1:5])\n",
    "print(arr[:4])"
   ]
  },
  {
   "cell_type": "markdown",
   "metadata": {},
   "source": [
    "Срезы с использованием отрицательных индексов"
   ]
  },
  {
   "cell_type": "code",
   "execution_count": null,
   "metadata": {},
   "outputs": [],
   "source": [
    "arr = np.array([1, 2, 3, 4, 5, 6, 7])\n",
    "print(arr[-3:-1]) "
   ]
  },
  {
   "cell_type": "markdown",
   "metadata": {},
   "source": [
    "### Шаг"
   ]
  },
  {
   "cell_type": "markdown",
   "metadata": {},
   "source": [
    "Пример 1"
   ]
  },
  {
   "cell_type": "code",
   "execution_count": null,
   "metadata": {},
   "outputs": [],
   "source": [
    "arr = np.array([1, 2, 3, 4, 5, 6, 7])\n",
    "print(arr[1:5:2]) "
   ]
  },
  {
   "cell_type": "markdown",
   "metadata": {},
   "source": [
    "Пример 2"
   ]
  },
  {
   "cell_type": "code",
   "execution_count": null,
   "metadata": {},
   "outputs": [],
   "source": [
    "arr = np.array([1, 2, 3, 4, 5, 6, 7])\n",
    "print(arr[::2])"
   ]
  },
  {
   "cell_type": "markdown",
   "metadata": {},
   "source": [
    "### Срезы в двумерных массивах"
   ]
  },
  {
   "cell_type": "markdown",
   "metadata": {},
   "source": [
    "Пример 1. Из 2-го элемента получить элементы с 1-го по 4-й (правая граница не включена)"
   ]
  },
  {
   "cell_type": "code",
   "execution_count": null,
   "metadata": {},
   "outputs": [],
   "source": [
    "arr = np.array([[1, 2, 3, 4, 5], [6, 7, 8, 9, 10]])\n",
    "print(arr[1, 1:4]) "
   ]
  },
  {
   "cell_type": "markdown",
   "metadata": {},
   "source": [
    "Пример 2. Из обоих элементов получить элементы с индексом 2."
   ]
  },
  {
   "cell_type": "code",
   "execution_count": null,
   "metadata": {},
   "outputs": [],
   "source": [
    "arr = np.array([[1, 2, 3, 4, 5], [6, 7, 8, 9, 10]])\n",
    "print(arr[0:2, 2])"
   ]
  },
  {
   "cell_type": "markdown",
   "metadata": {},
   "source": [
    "Пример 3. Из обоих массивов получить элементы с индексами от 1 до 4, не включая правую границу. "
   ]
  },
  {
   "cell_type": "code",
   "execution_count": null,
   "metadata": {
    "scrolled": true
   },
   "outputs": [],
   "source": [
    "arr = np.array([[1, 2, 3, 4, 5], [6, 7, 8, 9, 10]])\n",
    "print(arr[0:2, 1:4]) "
   ]
  },
  {
   "cell_type": "markdown",
   "metadata": {},
   "source": [
    "<a id=dtype></a>\n",
    " [ <= ](#Ind) || [Оглавление](#Ref)|| [=>](#copy_and_view)\n",
    "# 4. Типы данных в массиве\n",
    "```\n",
    "i - integer\n",
    "b - boolean\n",
    "u - unsigned integer\n",
    "f - float\n",
    "c - complex float\n",
    "m - timedelta\n",
    "M - datetime\n",
    "O - object\n",
    "S - string\n",
    "U - unicode string\n",
    "V - fixed chunk of memory for other type ( void )\n",
    "```"
   ]
  },
  {
   "cell_type": "markdown",
   "metadata": {},
   "source": [
    "Объект массива NumPy имеет свойство с именем *dtype*, которое возвращает тип данных массива"
   ]
  },
  {
   "cell_type": "code",
   "execution_count": null,
   "metadata": {},
   "outputs": [],
   "source": [
    "arr = np.array([1, 2, 3, 4])\n",
    "print(arr.dtype) "
   ]
  },
  {
   "cell_type": "code",
   "execution_count": null,
   "metadata": {},
   "outputs": [],
   "source": [
    "arr = np.array(['apple', 'banana', 'cherry'])\n",
    "print(arr.dtype)"
   ]
  },
  {
   "cell_type": "markdown",
   "metadata": {},
   "source": [
    "Функция array() может принимать необязательный аргумент *dtype*, который позволяет определять ожидаемый тип данных элементов массива. Создадим массив с данными текстового типа."
   ]
  },
  {
   "cell_type": "code",
   "execution_count": null,
   "metadata": {},
   "outputs": [],
   "source": [
    "arr = np.array([1, 2, 3, 4], dtype='S')\n",
    "\n",
    "print(arr)\n",
    "print(arr.dtype) "
   ]
  },
  {
   "cell_type": "markdown",
   "metadata": {},
   "source": [
    "Для i, u, f, S и U мы также можем определить размер. Создадим массив с типом данных \"целое число 4 байта\":"
   ]
  },
  {
   "cell_type": "code",
   "execution_count": null,
   "metadata": {},
   "outputs": [],
   "source": [
    "arr = np.array([1, 2, 3, 4], dtype='i4')\n",
    "\n",
    "print(arr)\n",
    "print(arr.dtype) "
   ]
  },
  {
   "cell_type": "markdown",
   "metadata": {},
   "source": [
    "Что происходит, если преобразование типа невозможно? Если указан тип, в который элементы не могут быть преобразованы, NumPy вызовет ValueError. Пример. Строка, отличная от целого числа, например 'a', не может быть преобразована в целое число (вызовет ошибку)\n",
    "```\n",
    "arr = np.array(['a', '2', '3'], dtype='i')\n",
    "---------------------------------------------------------------------------\n",
    "ValueError  \n",
    "```"
   ]
  },
  {
   "cell_type": "markdown",
   "metadata": {},
   "source": [
    "Лучший способ изменить тип данных массива - сделать копию массива с помощью *astype()*.\n",
    "\n",
    "Функция *astype()* создает копию массива и позволяет указать тип данных в качестве параметра.\n",
    "\n",
    "Тип данных может быть указан с помощью строки, например 'f' для вещественного числа, 'i' для целого числа и т. д. Также тип данных может быть указан напрямую, например, *float* для вещественного числа и *int* для целого числа.\n",
    "\n",
    "Изменим тип данных с *float* на *integer*, используя 'i' в качестве значения параметра:"
   ]
  },
  {
   "cell_type": "code",
   "execution_count": null,
   "metadata": {},
   "outputs": [],
   "source": [
    "arr = np.array([1.1, 2.1, 3.1])\n",
    "\n",
    "newarr = arr.astype('i')\n",
    "\n",
    "print(newarr)\n",
    "print(newarr.dtype) "
   ]
  },
  {
   "cell_type": "markdown",
   "metadata": {},
   "source": [
    "Изменим тип данных с целого на логический:"
   ]
  },
  {
   "cell_type": "code",
   "execution_count": null,
   "metadata": {},
   "outputs": [],
   "source": [
    "arr = np.array([1, 0, 3])\n",
    "\n",
    "newarr = arr.astype(bool)\n",
    "\n",
    "print(newarr)\n",
    "print(newarr.dtype) "
   ]
  },
  {
   "cell_type": "markdown",
   "metadata": {},
   "source": [
    "<a id=copy_and_view></a>\n",
    "[ <= ](#dtype) || [Оглавление](#Ref)|| [=>](#shape)\n",
    "# 5. Копия *copy()* и представление *view()*\n",
    "Основное различие между копией и представлением массива в том, что копия - это новый массив, а представление - это просто представление исходного массива.\n",
    "\n",
    "Копии хранит свои данные, и изменения, внесенные в копию, не повлияют на исходный массив, а изменения, внесенные в исходный массив, не повлияют на копию.\n",
    "\n",
    "Представление не владеет данными, и любые изменения, внесенные в представление, повлияют на исходный массив, а любые изменения, внесенные в исходный массив, повлияют на представление.\n",
    "\n",
    "Сделаем копию, изменим исходный массив и отобразим оба массива:"
   ]
  },
  {
   "cell_type": "code",
   "execution_count": null,
   "metadata": {},
   "outputs": [],
   "source": [
    "arr = np.array([1, 2, 3, 4, 5])\n",
    "x = arr.copy()\n",
    "arr[0] = 42\n",
    "\n",
    "print(arr)\n",
    "print(x)"
   ]
  },
  {
   "cell_type": "markdown",
   "metadata": {},
   "source": [
    "Создадим представление, изменим исходный массив и отобразим оба массива:"
   ]
  },
  {
   "cell_type": "code",
   "execution_count": null,
   "metadata": {},
   "outputs": [],
   "source": [
    "arr = np.array([1, 2, 3, 4, 5])\n",
    "x = arr.view()\n",
    "arr[0] = 42\n",
    "\n",
    "print(arr)\n",
    "print(x)"
   ]
  },
  {
   "cell_type": "markdown",
   "metadata": {},
   "source": [
    "Создадим представление, изменим представление и отобразим оба массива:"
   ]
  },
  {
   "cell_type": "code",
   "execution_count": null,
   "metadata": {},
   "outputs": [],
   "source": [
    "arr = np.array([1, 2, 3, 4, 5])\n",
    "x = arr.view()\n",
    "x[0] = 31\n",
    "\n",
    "print(arr)\n",
    "print(x)"
   ]
  },
  {
   "cell_type": "markdown",
   "metadata": {},
   "source": [
    "Копии хранят данные, а представления не хранят данных, но как это проверить?\n",
    "\n",
    "Каждый массив NumPy имеет атрибут *base*, который возвращает None, если массив хранит свои данные. В противном случае атрибут *base* ссылается на исходный объект."
   ]
  },
  {
   "cell_type": "code",
   "execution_count": null,
   "metadata": {},
   "outputs": [],
   "source": [
    "arr = np.array([1, 2, 3, 4, 5])\n",
    "\n",
    "x = arr.copy()\n",
    "y = arr.view()\n",
    "\n",
    "print(x.base)\n",
    "print(y.base)"
   ]
  },
  {
   "cell_type": "markdown",
   "metadata": {},
   "source": [
    "<a id=shape></a>\n",
    "[ <= ](#copy_and_view) || [Оглавление](#Ref)|| [=>](#shape_change)\n",
    "# 6. Форма массива NumPy\n",
    "\n",
    "Форма массива - это количество элементов в каждом измерении. Массивы NumPy имеют атрибут *shape*, который возвращает кортеж, каждое значение которого указывает на длину массива по соотвектствующей оси. В следующем примере массив имеет два измерения и в каждом четыре элемента."
   ]
  },
  {
   "cell_type": "code",
   "execution_count": null,
   "metadata": {},
   "outputs": [],
   "source": [
    "arr = np.array([[1, 2, 3, 4], [5, 6, 7, 8]])\n",
    "print(arr.shape) "
   ]
  },
  {
   "cell_type": "markdown",
   "metadata": {},
   "source": [
    "Пример. Создать массив с 5 измерениями, используя ndmin, используя вектор со значениями 1,2,3,4, и убедиться, что последнее измерение имеет значение 4:"
   ]
  },
  {
   "cell_type": "code",
   "execution_count": null,
   "metadata": {},
   "outputs": [],
   "source": [
    "arr = np.array([1, 2, 3, 4], ndmin=5)\n",
    "\n",
    "print(arr)\n",
    "print('Форма массива :', arr.shape)"
   ]
  },
  {
   "cell_type": "markdown",
   "metadata": {},
   "source": [
    "Что представляет собой кортеж формы? Числа кортежа указывают на число элементов по каждому измерению. В предыдущем примере элемент кортежа с индексом 4 имеет значение 4, поэтому 5-е измерение (4+1) массива содержит 4 элемента."
   ]
  },
  {
   "cell_type": "markdown",
   "metadata": {},
   "source": [
    "<a id=shape_change></a>\n",
    "[ <= ](#shape) || [Оглавление](#Ref)|| [=>](#iterating)\n",
    "# 7. Изменение формы массива NumPy\n",
    "\n",
    "Изменяя форму, мы можем добавлять или удалять размеры или изменять количество элементов в каждом измерении.\n",
    "\n",
    "Пример.<br>\n",
    "Преобразуйте следующий одномерный массив с 12 элементами в двухмерный массив.<br> В результате по самому внешнему измерению получим 4 массива по 3 элемента в каждом:"
   ]
  },
  {
   "cell_type": "code",
   "execution_count": null,
   "metadata": {
    "scrolled": true
   },
   "outputs": [],
   "source": [
    "arr = np.array([1, 2, 3, 4, 5, 6, 7, 8, 9, 10, 11, 12])\n",
    "\n",
    "newarr = arr.reshape(4, 3)\n",
    "print(newarr)"
   ]
  },
  {
   "cell_type": "markdown",
   "metadata": {},
   "source": [
    "Пример<br>\n",
    "Преобразуйте следующий одномерный массив с 12 элементами в трехмерный массив.<br>\n",
    "Самое внешнее измерение будет иметь 2 массива, содержащих 3 массива, каждый с 2 элементами:"
   ]
  },
  {
   "cell_type": "code",
   "execution_count": null,
   "metadata": {},
   "outputs": [],
   "source": [
    "arr = np.array([1, 2, 3, 4, 5, 6, 7, 8, 9, 10, 11, 12])\n",
    "\n",
    "newarr = arr.reshape(2, 3, 2)\n",
    "print(newarr)"
   ]
  },
  {
   "cell_type": "markdown",
   "metadata": {},
   "source": [
    "### Какие допускаются преобразования формы?\n",
    "Любые при условии, что число элементов в обоих формах одинаково.\n",
    "```\n",
    "arr = np.array([1, 2, 3, 4, 5, 6, 7, 8])\n",
    "newarr = arr.reshape(3, 3)\n",
    "-----------------------------------------------------------\n",
    "----> 3 newarr = arr.reshape(3, 3)\n",
    "ValueError: cannot reshape array of size 8 into shape (3,3)\n",
    "```"
   ]
  },
  {
   "cell_type": "markdown",
   "metadata": {},
   "source": [
    "### Копия или представление?"
   ]
  },
  {
   "cell_type": "code",
   "execution_count": null,
   "metadata": {},
   "outputs": [],
   "source": [
    "import numpy as np\n",
    "arr = np.array([1, 2, 3, 4, 5, 6, 7, 8])\n",
    "print(arr.reshape(2, 4).base)"
   ]
  },
  {
   "cell_type": "markdown",
   "metadata": {},
   "source": [
    "В приведенном выше примере возвращается исходный массив, поэтому это представление."
   ]
  },
  {
   "cell_type": "markdown",
   "metadata": {},
   "source": [
    "### Неизвестный размер\n",
    "NumPy разрешает иметь одно «неизвестное» измерение. Это означает, что точное число для одного из размеров можно не указывать. Передайте -1 в качестве значения, и NumPy вычислит это число за вас."
   ]
  },
  {
   "cell_type": "code",
   "execution_count": null,
   "metadata": {},
   "outputs": [],
   "source": [
    "arr = np.array([1, 2, 3, 4, 5, 6, 7, 8])\n",
    "newarr = arr.reshape(2, 2, -1)\n",
    "print(newarr) "
   ]
  },
  {
   "cell_type": "markdown",
   "metadata": {},
   "source": [
    "Примечание. Значение -1 можно указывать только один раз при задании формы."
   ]
  },
  {
   "cell_type": "markdown",
   "metadata": {},
   "source": [
    "### Сглаживание массивов\n",
    "\n",
    "Сглаживание массива означает преобразование многомерного массива в одномерный массив. Для этого мы можем использовать `reshape(-1)`."
   ]
  },
  {
   "cell_type": "code",
   "execution_count": null,
   "metadata": {},
   "outputs": [],
   "source": [
    "arr = np.array([[1, 2, 3], [4, 5, 6]])\n",
    "newarr = arr.reshape(-1)\n",
    "print(newarr)"
   ]
  },
  {
   "cell_type": "markdown",
   "metadata": {},
   "source": [
    "Примечание. Существует множество функций для изменения форм массивов в numpy: *flatten, ravel*, а также для переупорядочивания элементов: *rot90, flip, fliplr, flipud* и т. д."
   ]
  },
  {
   "cell_type": "markdown",
   "metadata": {},
   "source": [
    "<a id=iterating></a>\n",
    "[ <= ](#shape_change) || [Оглавление](#Ref)|| [=>](#con)\n",
    "# 8. Итерация массива NumPy\n",
    "Итерация означает прохождение элементов один за другим. Итерация в Пайтон осуществляется с помощью цикла *for*."
   ]
  },
  {
   "cell_type": "code",
   "execution_count": null,
   "metadata": {},
   "outputs": [],
   "source": [
    "import numpy as np\n",
    "arr = np.array([1, 2, 3])\n",
    "\n",
    "for x in arr:\n",
    "    print(x)"
   ]
  },
  {
   "cell_type": "markdown",
   "metadata": {},
   "source": [
    "### Итерация двумерного массива"
   ]
  },
  {
   "cell_type": "code",
   "execution_count": null,
   "metadata": {},
   "outputs": [],
   "source": [
    "arr = np.array([[1, 2, 3], [4, 5, 6]])\n",
    "\n",
    "for x in arr:\n",
    "    print(x)"
   ]
  },
  {
   "cell_type": "markdown",
   "metadata": {},
   "source": [
    "Итерация n-мерного массива проходит измерению с индексом n-1. Чтобы вернуть фактические значения, скаляры, необходимо перебирать массивы в каждом измерении."
   ]
  },
  {
   "cell_type": "code",
   "execution_count": null,
   "metadata": {},
   "outputs": [],
   "source": [
    "arr = np.array([[1, 2, 3], [4, 5, 6]])\n",
    "\n",
    "for x in arr:\n",
    "    for y in x:\n",
    "        print(y)"
   ]
  },
  {
   "cell_type": "markdown",
   "metadata": {},
   "source": [
    "### Итерация трехмерного массива"
   ]
  },
  {
   "cell_type": "code",
   "execution_count": null,
   "metadata": {},
   "outputs": [],
   "source": [
    "arr = np.array([[[1, 2, 3], [4, 5, 6]], [[7, 8, 9], [10, 11, 12]]])\n",
    "\n",
    "for x in arr:\n",
    "    print(x)"
   ]
  },
  {
   "cell_type": "markdown",
   "metadata": {},
   "source": [
    "Чтобы вернуть фактические значения, скаляры, необходимо перебирать массивы в каждом измерении."
   ]
  },
  {
   "cell_type": "code",
   "execution_count": null,
   "metadata": {
    "scrolled": true
   },
   "outputs": [],
   "source": [
    "arr = np.array([[[1, 2, 3], [4, 5, 6]], [[7, 8, 9], [10, 11, 12]]])\n",
    "\n",
    "for x in arr:\n",
    "    for y in x:\n",
    "        for z in y:\n",
    "            print(z)"
   ]
  },
  {
   "cell_type": "markdown",
   "metadata": {},
   "source": [
    "### Итерация массивов с помощью *nditer ()*\n",
    "Функция *nditer()* - это вспомогательная функция, которую можно использовать от самых простых до очень сложных итераций. Она решает некоторые основные проблемы, с которыми мы сталкиваемся в итерации.\n",
    "\n",
    "Пример. Итерация 3-х мерного массива."
   ]
  },
  {
   "cell_type": "code",
   "execution_count": null,
   "metadata": {},
   "outputs": [],
   "source": [
    "arr = np.array([[[1, 2], [3, 4]], [[5, 6], [7, 8]]])\n",
    "\n",
    "for x in np.nditer(arr):\n",
    "    print(x) "
   ]
  },
  {
   "cell_type": "markdown",
   "metadata": {},
   "source": [
    "### Итерация массива с разными типами данных\n",
    "\n",
    "Мы можем использовать аргумент *op_dtypes* и передать ему ожидаемый тип данных, чтобы изменить тип данных элементов во время итерации.\n",
    "\n",
    "NumPy не изменяет тип данных элемента на месте (где элемент находится в массиве), поэтому для выполнения этого действия требуется какое-то другое пространство, это дополнительное пространство называется буфером, и чтобы включить его в *nditer()*, мы передаем `flags=['buffered']`."
   ]
  },
  {
   "cell_type": "code",
   "execution_count": null,
   "metadata": {},
   "outputs": [],
   "source": [
    "arr = np.array([1, 2, 3])\n",
    "a=[]\n",
    "for x in np.nditer(arr, flags=['buffered'], op_dtypes=['S']):\n",
    "    a.append(x)\n",
    "    print(x)"
   ]
  },
  {
   "cell_type": "markdown",
   "metadata": {},
   "source": [
    "Итерация с разным размером шага. Мы можем использовать фильтрацию с последующей итерацией."
   ]
  },
  {
   "cell_type": "code",
   "execution_count": null,
   "metadata": {},
   "outputs": [],
   "source": [
    "arr = np.array([[1, 2, 3, 4], [5, 6, 7, 8]])\n",
    "\n",
    "for x in np.nditer(arr[:, ::2]):\n",
    "    print(x)"
   ]
  },
  {
   "cell_type": "markdown",
   "metadata": {},
   "source": [
    "Пронумерованная итерация с использованием *ndenumerate()*\n",
    "\n",
    "В ходе пронумерованной итерации возвращается порядковый номер шага итерации. Используется, если необходимо получить индекс элемента во время итерации.\n",
    "\n",
    "Пример 1."
   ]
  },
  {
   "cell_type": "code",
   "execution_count": null,
   "metadata": {},
   "outputs": [],
   "source": [
    "arr = np.array([1, 2, 3])\n",
    "\n",
    "for idx, x in np.ndenumerate(arr):\n",
    "    print(idx, x)"
   ]
  },
  {
   "cell_type": "markdown",
   "metadata": {},
   "source": [
    "Пример 2."
   ]
  },
  {
   "cell_type": "code",
   "execution_count": null,
   "metadata": {},
   "outputs": [],
   "source": [
    "import numpy as np\n",
    "\n",
    "arr = np.array([[1, 2, 3, 4], [5, 6, 7, 8]])\n",
    "\n",
    "for idx, x in np.ndenumerate(arr):\n",
    "    print(idx, x)"
   ]
  },
  {
   "cell_type": "markdown",
   "metadata": {},
   "source": [
    "<a id=con></a>\n",
    "[ <= ](#iterating) || [Оглавление](#Ref)|| [=>](#split)\n",
    "\n",
    "# 9. Объединение массивов\n",
    "\n",
    "### Объединение с помощью *concatenate()*\n",
    "\n",
    "Объединение означает размещение содержимого двух или более массивов в одном массиве.\n",
    "\n",
    "В SQL мы объединяем таблицы на основе ключа, тогда как в NumPy мы объединяем массивы по осям. Мы передаем последовательность массивов, которые хотим присоединить, к функции *concatenate()* вместе с осью. Если ось явно не задана, она принимается равной 0."
   ]
  },
  {
   "cell_type": "code",
   "execution_count": null,
   "metadata": {},
   "outputs": [],
   "source": [
    "import numpy as np\n",
    "\n",
    "arr1 = np.array([1, 2, 3])\n",
    "arr2 = np.array([4, 5, 6])\n",
    "arr = np.concatenate((arr1, arr2))\n",
    "print(arr)"
   ]
  },
  {
   "cell_type": "markdown",
   "metadata": {},
   "source": [
    "Объединение двумерных массивов вдоль строк"
   ]
  },
  {
   "cell_type": "code",
   "execution_count": null,
   "metadata": {},
   "outputs": [],
   "source": [
    "arr1 = np.array([[1, 2], [3, 4]])\n",
    "arr2 = np.array([[5, 6], [7, 8]])\n",
    "arr = np.concatenate((arr1, arr2), axis=1)\n",
    "\n",
    "print(arr) "
   ]
  },
  {
   "cell_type": "markdown",
   "metadata": {},
   "source": [
    "### Объединение массивов с помощью функции укладки *stack()*\n",
    "\n",
    "Объединение с помощью функции укладки такое же, как и конкатенация, с той лишь разницей, что наложение выполняется по новой оси. Мы можем объединить два одномерных массива вдоль второй оси, что приведет к их размещению друг над другом, т.е. штабелирование. Если ось явно не передана, она принимается равной 0."
   ]
  },
  {
   "cell_type": "code",
   "execution_count": null,
   "metadata": {},
   "outputs": [],
   "source": [
    "arr1 = np.array([1, 2, 3])\n",
    "arr2 = np.array([4, 5, 6])\n",
    "arr = np.stack((arr1, arr2), axis=1)\n",
    "\n",
    "print(arr)"
   ]
  },
  {
   "cell_type": "markdown",
   "metadata": {},
   "source": [
    "### Укладка по рядам\n",
    "\n",
    "NumPy предоставляет вспомогательную функцию: hstack () для укладки вдоль строк."
   ]
  },
  {
   "cell_type": "code",
   "execution_count": null,
   "metadata": {},
   "outputs": [],
   "source": [
    "arr1 = np.array([1, 2, 3])\n",
    "arr2 = np.array([4, 5, 6])\n",
    "arr = np.hstack((arr1, arr2))\n",
    "print(arr)"
   ]
  },
  {
   "cell_type": "markdown",
   "metadata": {},
   "source": [
    "### Укладка по столбцам\n",
    "\n",
    "NumPy предоставляет вспомогательную функцию: *vstack()* для укладки по столбцам."
   ]
  },
  {
   "cell_type": "code",
   "execution_count": null,
   "metadata": {},
   "outputs": [],
   "source": [
    "arr1 = np.array([1, 2, 3])\n",
    "\n",
    "arr2 = np.array([4, 5, 6])\n",
    "\n",
    "arr = np.vstack((arr1, arr2))\n",
    "\n",
    "print(arr)"
   ]
  },
  {
   "cell_type": "markdown",
   "metadata": {},
   "source": [
    "### Укладка по высоте (в глубину)\n",
    "NumPy предоставляет вспомогательную функцию: *dstack()* для стека по высоте."
   ]
  },
  {
   "cell_type": "code",
   "execution_count": null,
   "metadata": {},
   "outputs": [],
   "source": [
    "arr1 = np.array([1, 2, 3])\n",
    "arr2 = np.array([4, 5, 6])\n",
    "arr = np.dstack((arr1, arr2))\n",
    "\n",
    "print(arr) "
   ]
  },
  {
   "cell_type": "markdown",
   "metadata": {},
   "source": [
    "<a id=split></a>\n",
    "[ <= ](#con) || [Оглавление](#Ref)|| [=>](#where)\n",
    "\n",
    "\n",
    "# 10. Разделение массивов\n",
    "\n",
    "Разделение - это операция, обратная объединению.\n",
    "\n",
    "Объединение объединяет несколько массивов в один, а разделение разбивает один массив на несколько.\n",
    "\n",
    "Мы используем *array_split()* для разделения массивов, мы передаем ему массив, который мы хотим разделить, и количество разделений."
   ]
  },
  {
   "cell_type": "code",
   "execution_count": null,
   "metadata": {},
   "outputs": [],
   "source": [
    "import numpy as np\n",
    "\n",
    "arr = np.array([1, 2, 3, 4, 5, 6])\n",
    "newarr = np.array_split(arr, 3)\n",
    "print(newarr) "
   ]
  },
  {
   "cell_type": "markdown",
   "metadata": {},
   "source": [
    "Примечание. Результатом является массив, содержащий три массива.\n",
    "\n",
    "Разделим массив на четыре части."
   ]
  },
  {
   "cell_type": "code",
   "execution_count": null,
   "metadata": {},
   "outputs": [],
   "source": [
    "import numpy as np\n",
    "\n",
    "arr = np.array([1, 2, 3, 4, 5, 6])\n",
    "newarr = np.array_split(arr, 4)\n",
    "print(newarr)"
   ]
  },
  {
   "cell_type": "markdown",
   "metadata": {},
   "source": [
    "Примечание: также есть метод *split()*, но он не будет разделять, когда в исходном массиве меньше элементов для разделения, как в примере выше. *array_split()* работет корректно, но *split()* в таком случае возвращает ошибку.\n",
    "\n",
    "Доступ к результатам *array_split()* осуществляется по индексу массива."
   ]
  },
  {
   "cell_type": "code",
   "execution_count": null,
   "metadata": {},
   "outputs": [],
   "source": [
    "arr = np.array([1, 2, 3, 4, 5, 6])\n",
    "\n",
    "newarr = np.array_split(arr, 3)\n",
    "\n",
    "print(newarr[0])\n",
    "print(newarr[1])\n",
    "print(newarr[2])"
   ]
  },
  {
   "cell_type": "markdown",
   "metadata": {},
   "source": [
    "### Разделение двумерных массивов\n",
    "\n",
    "Используйте тот же синтаксис при разделении двумерных массивов. Используйте метод *array_split()*, передайте массив, и количество разделений. В результате выполнения следующей ячейки массив разделяется на три двумерных массива. "
   ]
  },
  {
   "cell_type": "code",
   "execution_count": null,
   "metadata": {},
   "outputs": [],
   "source": [
    "arr = np.array([[1, 2], [3, 4], [5, 6], [7, 8], [9, 10], [11, 12]])\n",
    "\n",
    "newarr = np.array_split(arr, 3)\n",
    "\n",
    "print(newarr)"
   ]
  },
  {
   "cell_type": "markdown",
   "metadata": {},
   "source": [
    "В следующем примере каждый элемент двумерного массива содержит три элемента."
   ]
  },
  {
   "cell_type": "code",
   "execution_count": null,
   "metadata": {},
   "outputs": [],
   "source": [
    "arr = np.array([[1, 2, 3], [4, 5, 6], [7, 8, 9], [10, 11, 12], [13, 14, 15], [16, 17, 18]])\n",
    "\n",
    "newarr = np.array_split(arr, 3)\n",
    "\n",
    "print(newarr)"
   ]
  },
  {
   "cell_type": "markdown",
   "metadata": {},
   "source": [
    "Кроме того, можно указать, по какой оси делать разделение.\n",
    "\n",
    "В приведенном ниже примере также возвращаются три двумерных массива, но они разделены по строке (ось = 1)."
   ]
  },
  {
   "cell_type": "code",
   "execution_count": null,
   "metadata": {},
   "outputs": [],
   "source": [
    "arr = np.array([[1, 2, 3], [4, 5, 6], [7, 8, 9], [10, 11, 12], [13, 14, 15], [16, 17, 18]])\n",
    "\n",
    "newarr = np.array_split(arr, 3, axis=1)\n",
    "\n",
    "print(newarr)"
   ]
  },
  {
   "cell_type": "markdown",
   "metadata": {},
   "source": [
    "Как альтернативу можно применить *hsplit()* - противоположенность *hstack()*. Также существуют методы *vsplit()* и *dsplit()*, выполняющие обратные действия по сравнению с *vstack()* и *dstack()*."
   ]
  },
  {
   "cell_type": "code",
   "execution_count": null,
   "metadata": {},
   "outputs": [],
   "source": [
    "arr = np.array([[1, 2, 3], [4, 5, 6], [7, 8, 9], [10, 11, 12], [13, 14, 15], [16, 17, 18]])\n",
    "\n",
    "newarr = np.hsplit(arr, 3)\n",
    "\n",
    "print(newarr)"
   ]
  },
  {
   "cell_type": "markdown",
   "metadata": {},
   "source": [
    "<a id=where></a>\n",
    "[ <= ](#split) || [Оглавление](#Ref)|| [=>](#sort)\n",
    "\n",
    "# 11. Поиск в массивах\n",
    "\n",
    "### Поиск с помощью *where()*\n",
    "Вы можете искать в массиве определенное значение и возвращать найденные индексы. Для поиска в массиве используется метод *where()*."
   ]
  },
  {
   "cell_type": "code",
   "execution_count": null,
   "metadata": {},
   "outputs": [],
   "source": [
    "import numpy as np\n",
    "\n",
    "arr = np.array([1, 2, 3, 4, 5, 4, 4])\n",
    "\n",
    "x = np.where(arr == 4)\n",
    "\n",
    "print(x)"
   ]
  },
  {
   "cell_type": "markdown",
   "metadata": {},
   "source": [
    "Пример. Найти индексы элементов, принимающих четные значения."
   ]
  },
  {
   "cell_type": "code",
   "execution_count": null,
   "metadata": {},
   "outputs": [],
   "source": [
    "arr = np.array([1, 2, 3, 4, 5, 6, 7, 8])\n",
    "x = np.where(arr%2 == 0)\n",
    "print(x)"
   ]
  },
  {
   "cell_type": "markdown",
   "metadata": {},
   "source": [
    "Пример. Найдите индексы элементов с нечетными значениями."
   ]
  },
  {
   "cell_type": "code",
   "execution_count": null,
   "metadata": {},
   "outputs": [],
   "source": [
    "arr = np.array([1, 2, 3, 4, 5, 6, 7, 8])\n",
    "\n",
    "x = np.where(arr%2 == 1)\n",
    "\n",
    "print(x)"
   ]
  },
  {
   "cell_type": "markdown",
   "metadata": {},
   "source": [
    "### Метод *searchsorted()*"
   ]
  },
  {
   "cell_type": "markdown",
   "metadata": {},
   "source": [
    "Метод *searchsorted()* выполняет двоичный поиск в массиве и возвращает индекс, в который будет вставлено указанное значение для поддержания порядка поиска. Предполагается, что метод *searchsorted()* используется для отсортированных массивов.\n",
    "\n",
    "Пример. Найти индекс элемента, на место которого следует вставить число семь."
   ]
  },
  {
   "cell_type": "code",
   "execution_count": null,
   "metadata": {},
   "outputs": [],
   "source": [
    "arr = np.array([6, 7, 8, 9])\n",
    "x = np.searchsorted(arr, 7)\n",
    "print(x)"
   ]
  },
  {
   "cell_type": "markdown",
   "metadata": {},
   "source": [
    "Метод начинает поиск слева и возвращает первый индекс, в котором число 7 не больше следующего значения.\n",
    "\n",
    "По умолчанию возвращается крайний левый индекс, но вместо этого мы можем указать `side = 'right'`, чтобы вернуть крайний правый индекс.\n",
    "\n",
    "Пример. Найдите индексы, в которые нужно вставить значение 7, начиная справа."
   ]
  },
  {
   "cell_type": "code",
   "execution_count": null,
   "metadata": {},
   "outputs": [],
   "source": [
    "arr = np.array([6, 7, 8, 9])\n",
    "\n",
    "x = np.searchsorted(arr, 7, side='right')\n",
    "\n",
    "print(x)"
   ]
  },
  {
   "cell_type": "markdown",
   "metadata": {},
   "source": [
    "Объяснение примера: число 7 следует вставить с индексом 2, чтобы сохранить порядок сортировки. Метод начинает поиск справа и возвращает первый индекс, начиная с которого число 7 не меньше следующего значения."
   ]
  },
  {
   "cell_type": "markdown",
   "metadata": {},
   "source": [
    "### Поиск нескольких значений\n",
    "\n",
    "Чтобы найти более одного значения, используйте массив с указанными значениями.\n",
    "\n",
    "Пример. Найти индексы, в которые нужно вставить значения 2, 4 и 6."
   ]
  },
  {
   "cell_type": "code",
   "execution_count": null,
   "metadata": {},
   "outputs": [],
   "source": [
    "arr = np.array([1, 3, 5, 7])\n",
    "\n",
    "x = np.searchsorted(arr, [2, 4, 6])\n",
    "\n",
    "print(x)"
   ]
  },
  {
   "cell_type": "markdown",
   "metadata": {},
   "source": [
    "<a id=sort></a>\n",
    "[ <= ](#where) || [Оглавление](#Ref)|| [=>](#filter)\n",
    "\n",
    "# 12. Сортировка массивов\n",
    "\n",
    "Сортировка означает размещение элементов в упорядоченной последовательности.\n",
    "\n",
    "Упорядоченная последовательность - это любая последовательность, которая имеет порядок, соответствующий элементам, например числовой или алфавитный, по возрастанию или по убыванию.\n",
    "\n",
    "В объекте NumPy ndarray есть функция *sort()*, которая сортирует указанный массив."
   ]
  },
  {
   "cell_type": "code",
   "execution_count": null,
   "metadata": {},
   "outputs": [],
   "source": [
    "import numpy as np\n",
    "\n",
    "arr = np.array([3, 2, 0, 1])\n",
    "print(np.sort(arr)) "
   ]
  },
  {
   "cell_type": "markdown",
   "metadata": {},
   "source": [
    "Примечание. Этот метод возвращает копию массива, оставляя исходный массив без изменений.\n",
    "\n",
    "Пример. Сортировка по алфавиту."
   ]
  },
  {
   "cell_type": "code",
   "execution_count": null,
   "metadata": {},
   "outputs": [],
   "source": [
    "arr = np.array(['банан', 'вишня', 'яблоко'])\n",
    "\n",
    "print(np.sort(arr)) "
   ]
  },
  {
   "cell_type": "markdown",
   "metadata": {},
   "source": [
    "Пример. Сортировка логических значений."
   ]
  },
  {
   "cell_type": "code",
   "execution_count": null,
   "metadata": {},
   "outputs": [],
   "source": [
    "arr = np.array([True, False, True])\n",
    "\n",
    "print(np.sort(arr))"
   ]
  },
  {
   "cell_type": "markdown",
   "metadata": {},
   "source": [
    "### Сортировка двумерных массивов\n",
    "При сортирвке двумерного массива методом *sort()*, оба массива сортируются."
   ]
  },
  {
   "cell_type": "code",
   "execution_count": null,
   "metadata": {},
   "outputs": [],
   "source": [
    "arr = np.array([[3, 2, 4], [5, 0, 1]])\n",
    "\n",
    "print(np.sort(arr))"
   ]
  },
  {
   "cell_type": "markdown",
   "metadata": {},
   "source": [
    "<a id=filter></a>\n",
    "[ <= ](#sort) || [Оглавление](#Ref)|| [=>](#random)\n",
    "\n",
    "# 13. Фильтрация массивов\n",
    "\n",
    "### Фильтрация массивов\n",
    "\n",
    "Получение некоторых элементов из существующего массива и создание из них нового массива называется фильтрацией.\n",
    "\n",
    "В NumPy для фильтрации используется список логических индексов. Список логических индексов - это список логических значений, соответствующих индексам в массиве.\n",
    "\n",
    "Если значение логического индекса *True*, элемент содержится в фильтруемом массиве, если значение *False*, этот элемент исключается из фильтруемого массива."
   ]
  },
  {
   "cell_type": "code",
   "execution_count": null,
   "metadata": {},
   "outputs": [],
   "source": [
    "import numpy as np\n",
    "\n",
    "arr = np.array([41, 42, 43, 44])\n",
    "x = [True, False, True, False]\n",
    "newarr = arr[x]\n",
    "print(newarr) "
   ]
  },
  {
   "cell_type": "markdown",
   "metadata": {},
   "source": [
    "### Создание массива фильтров\n",
    "\n",
    "В приведенном выше примере мы жестко запрограммировали значения True и False, но обычно они используются для создания массива фильтров на основе условий.\n",
    "\n",
    "Пример. Создать массив фильтров, который будет возвращать только значения больше 42."
   ]
  },
  {
   "cell_type": "code",
   "execution_count": null,
   "metadata": {},
   "outputs": [],
   "source": [
    "arr = np.array([41, 42, 43, 44])\n",
    "\n",
    "# Создать пустой список\n",
    "filter_arr = []\n",
    "\n",
    "# цикл по всем элемента массива\n",
    "for element in arr:\n",
    "  # если элемент больше 42, добавить значение True, иначе False\n",
    "    if element > 42:\n",
    "        filter_arr.append(True)\n",
    "    else:\n",
    "        filter_arr.append(False)\n",
    "\n",
    "# применить фильтр, результат сохранить в новом массиве\n",
    "newarr = arr[filter_arr]\n",
    "\n",
    "print(filter_arr)\n",
    "print(newarr) "
   ]
  },
  {
   "cell_type": "markdown",
   "metadata": {},
   "source": [
    "Задание. Создать массив фильтров, который будет возвращать только четные элементы из исходного массива."
   ]
  },
  {
   "cell_type": "code",
   "execution_count": null,
   "metadata": {},
   "outputs": [],
   "source": [
    "arr = np.array([1, 2, 3, 4, 5, 6, 7])\n",
    "filter_arr = []\n",
    "\n",
    "# Ваш код здесь\n"
   ]
  },
  {
   "cell_type": "markdown",
   "metadata": {},
   "source": [
    "### Создание фильтра непосредственно из массива\n",
    "\n",
    "Приведенный выше пример - довольно распространенная задача в NumPy, и NumPy предоставляет хороший способ ее решить.\n",
    "\n",
    "Мы можем напрямую подставить массив вместо итерируемой переменной в нашем условии, и оно будет работать так, как мы ожидаем."
   ]
  },
  {
   "cell_type": "markdown",
   "metadata": {},
   "source": [
    "Пример. Создать массив фильтров, который будет возвращать только значения больше 42."
   ]
  },
  {
   "cell_type": "code",
   "execution_count": null,
   "metadata": {},
   "outputs": [],
   "source": [
    "arr = np.array([41, 42, 43, 44])\n",
    "\n",
    "filter_arr = arr > 42\n",
    "\n",
    "newarr = arr[filter_arr]\n",
    "\n",
    "print(filter_arr)\n",
    "print(newarr) "
   ]
  },
  {
   "cell_type": "markdown",
   "metadata": {},
   "source": [
    "Задание. Создать массив фильтров, который будет возвращать только четные элементы из исходного массива."
   ]
  },
  {
   "cell_type": "code",
   "execution_count": null,
   "metadata": {},
   "outputs": [],
   "source": [
    "arr = np.array([1, 2, 3, 4, 5, 6, 7])\n",
    "\n",
    "# Ваш код здесь"
   ]
  },
  {
   "cell_type": "markdown",
   "metadata": {},
   "source": [
    "<a id=random></a>\n",
    "[ <= ](#filter) || [Оглавление](#Ref)|| [=>](#func)\n",
    "\n",
    "# 14. Случайные числа в NumPy\n",
    "\n",
    "Случайность означает то, что нельзя предсказать логически.\n",
    "\n",
    "## 14.1. Введение\n",
    "\n",
    "### Псевдослучайное и истинное случайное\n",
    "\n",
    "Компьютеры работают по программам, а программы представляют собой окончательный набор инструкций. Значит, должен быть какой-то алгоритм для генерации случайного числа.\n",
    "\n",
    "Если есть программа для генерации случайного числа, его можно предсказать, поэтому оно не является действительно случайным.\n",
    "\n",
    "Случайные числа, сгенерированные с помощью алгоритма генерации, называются псевдослучайными.\n",
    "\n",
    "Можем ли мы получить действительно случайные числа?\n",
    "\n",
    "Да. Чтобы сгенерировать действительно случайное число на наших компьютерах, нам нужно получить случайные данные из какого-то внешнего источника. Этим внешним источником обычно являются наши нажатия клавиш, движения мыши, данные в сети и т. д.\n",
    "\n",
    "Нам не нужны действительно случайные числа, если только это не связано с безопасностью (например, ключи шифрования) или основанием для применения является случайность (например, колеса цифровой рулетки).\n",
    "\n",
    "В этой лекции мы будем использовать псевдослучайные числа.\n",
    "\n",
    "### Сгенерировать случайное число\n",
    "\n",
    "NumPy предлагает модуль *random* для работы со случайными числами. Метод *randint()* позволяет сгенерировать случайное целое число.\n",
    "\n",
    "Пример. Сгенерировать случайное целое число от 0 до 100:"
   ]
  },
  {
   "cell_type": "code",
   "execution_count": null,
   "metadata": {},
   "outputs": [],
   "source": [
    "from numpy import random\n",
    "\n",
    "x = random.randint(100)\n",
    "\n",
    "print(x)"
   ]
  },
  {
   "cell_type": "markdown",
   "metadata": {},
   "source": [
    "Метод *rand()* модуля *random* возвращает случайное вещественное число от 0 до 1."
   ]
  },
  {
   "cell_type": "code",
   "execution_count": null,
   "metadata": {},
   "outputs": [],
   "source": [
    "x = random.rand()\n",
    "print(x) "
   ]
  },
  {
   "cell_type": "markdown",
   "metadata": {},
   "source": [
    "### Случайный массив\n",
    "\n",
    "Пример. Сгенерировать одномерный массив, содержащий 5 случайных целых чисел от 0 до 100."
   ]
  },
  {
   "cell_type": "code",
   "execution_count": 43,
   "metadata": {},
   "outputs": [
    {
     "name": "stdout",
     "output_type": "stream",
     "text": [
      "[76 82 40 32 36]\n"
     ]
    }
   ],
   "source": [
    "from numpy import random\n",
    "\n",
    "x = random.randint(100, size=(5))\n",
    "print(x) "
   ]
  },
  {
   "cell_type": "markdown",
   "metadata": {},
   "source": [
    "Пример. Сгенерировать двумерный массив с 3 строками, каждая строка содержит 5 случайных целых чисел от 0 до 100."
   ]
  },
  {
   "cell_type": "code",
   "execution_count": null,
   "metadata": {},
   "outputs": [],
   "source": [
    "x = random.randint(100, size=(3, 5))\n",
    "print(x)"
   ]
  },
  {
   "cell_type": "markdown",
   "metadata": {},
   "source": [
    "Метод *rand()* также позволяет указать форму массива."
   ]
  },
  {
   "cell_type": "code",
   "execution_count": null,
   "metadata": {},
   "outputs": [],
   "source": [
    "x = random.rand(5)\n",
    "print(x)"
   ]
  },
  {
   "cell_type": "code",
   "execution_count": null,
   "metadata": {},
   "outputs": [],
   "source": [
    "x = random.rand(3, 5)\n",
    "print(x)"
   ]
  },
  {
   "cell_type": "markdown",
   "metadata": {},
   "source": [
    "### Случайное число массива\n",
    "Метод *choice()* позволяет генерировать случайное значение на основе массива значений. Метод *choice()* принимает в качестве параметра массив и случайным образом возвращает одно из значений."
   ]
  },
  {
   "cell_type": "code",
   "execution_count": null,
   "metadata": {},
   "outputs": [],
   "source": [
    "from numpy import random\n",
    "\n",
    "x = random.choice([3, 5, 7, 9])\n",
    "\n",
    "print(x)"
   ]
  },
  {
   "cell_type": "markdown",
   "metadata": {},
   "source": [
    "Метод *choice()* также позволяет возвращать массив значений. Добавьте параметр размера, чтобы указать форму массива."
   ]
  },
  {
   "cell_type": "code",
   "execution_count": null,
   "metadata": {},
   "outputs": [],
   "source": [
    "from numpy import random\n",
    "\n",
    "x = random.choice([3, 5, 7, 9], size=(3, 5))\n",
    "\n",
    "print(x) "
   ]
  },
  {
   "cell_type": "markdown",
   "metadata": {},
   "source": [
    "## 14.2. Случайное распределение данных\n",
    "\n",
    "Распределение данных - это список всех возможных значений и того, как часто встречается каждое значение. Такие списки важны при работе со статистикой и наукой о данных.\n",
    "\n",
    "Модуль *random* предлагает методы, которые возвращают случайно сгенерированные распределения данных.\n",
    "\n",
    "### Случайное распределение\n",
    "\n",
    "Случайное распределение - это набор случайных чисел, которые следуют определенной функции плотности вероятности.\n",
    "\n",
    "Функция плотности вероятности: функция, описывающая непрерывную вероятность. т.е. вероятность всех значений в массиве.\n",
    "\n",
    "Мы можем генерировать случайные числа на основе определенных вероятностей, используя метод *choice()* случайного модуля. Метод *choice()* позволяет нам указать вероятность для каждого значения. Вероятность задается числом от нуля до одного.\n",
    "\n",
    "Пример<br>\n",
    "Создайте одномерный массив, содержащий 100 значений, где каждое значение должно быть 3, 5, 7 или 9.<br>\n",
    "Вероятность того, что значение будет равно 3, установлена ​​равной 0,1.<br>\n",
    "Вероятность того, что значение будет 5, установлена ​​равной 0,3.<br>\n",
    "Вероятность того, что значение будет равно 7, составляет 0,6.<br>\n",
    "Вероятность того, что значение будет равно 9, установлена ​​равной 0.<br>"
   ]
  },
  {
   "cell_type": "code",
   "execution_count": null,
   "metadata": {},
   "outputs": [],
   "source": [
    "from numpy import random\n",
    "\n",
    "x = random.choice([3, 5, 7, 9], p=[0.1, 0.3, 0.6, 0.0], size=(100))\n",
    "\n",
    "print(x)"
   ]
  },
  {
   "cell_type": "markdown",
   "metadata": {},
   "source": [
    "Примечание. Сумма вероятностей *p* должна быть равна единице.\n",
    "\n",
    "Пример. Тот же пример, что и выше, но создается двумерный массив с 3 строками, каждая из которых содержит 5 значений."
   ]
  },
  {
   "cell_type": "code",
   "execution_count": null,
   "metadata": {},
   "outputs": [],
   "source": [
    "x = random.choice([3, 5, 7, 9], p=[0.1, 0.3, 0.6, 0.0], size=(3,5))\n",
    "\n",
    "print(x)"
   ]
  },
  {
   "cell_type": "markdown",
   "metadata": {},
   "source": [
    "## 14.3. Случайные перестановки\n",
    "\n",
    "Перестановка относится к расположению элементов. например, [3, 2, 1] - это перестановка [1, 2, 3] и наоборот. Модуль NumPy Random предоставляет для этого два метода: *shuffle()* и *permutation()*.\n",
    "\n",
    "Пример.<br>\n",
    "Случайным образом перемешать элементы массива."
   ]
  },
  {
   "cell_type": "code",
   "execution_count": null,
   "metadata": {},
   "outputs": [],
   "source": [
    "from numpy import random\n",
    "import numpy as np\n",
    "\n",
    "arr = np.array([1, 2, 3, 4, 5])\n",
    "\n",
    "random.shuffle(arr)\n",
    "\n",
    "print(arr)"
   ]
  },
  {
   "cell_type": "markdown",
   "metadata": {},
   "source": [
    "### Генерация перестановок массивов\n",
    "Пример. Сгенерируйте случайную перестановку элементов следующего массива."
   ]
  },
  {
   "cell_type": "code",
   "execution_count": null,
   "metadata": {},
   "outputs": [],
   "source": [
    "from numpy import random\n",
    "import numpy as np\n",
    "\n",
    "arr = np.array([1, 2, 3, 4, 5])\n",
    "\n",
    "print(random.permutation(arr))"
   ]
  },
  {
   "cell_type": "markdown",
   "metadata": {},
   "source": [
    "## 14.4. Нормальное (гауссово) распределение\n",
    "\n",
    "Нормальное распределение - одно из самых важных распределений. Его также называют распределением Гаусса в честь немецкого математика Карла Фридриха Гаусса. Оно соответствует распределению вероятностей многих событий, например показатели IQ, сердцебиение и т. д.\n",
    "\n",
    "Используйте метод *random.normal()*, чтобы получить нормальное распределение данных. У него три параметра:\n",
    "\n",
    "- loc - (среднее) там, где пик колокола.\n",
    "- scale - (стандартное отклонение) - насколько ровным должно быть распределение графа.\n",
    "- size - форма возвращаемого массива.\n",
    "\n",
    "Пример. Сгенерируйте случайное нормальное распределение в массиве размером 2x3:"
   ]
  },
  {
   "cell_type": "code",
   "execution_count": null,
   "metadata": {},
   "outputs": [],
   "source": [
    "from numpy import random\n",
    "\n",
    "x = random.normal(size=(2, 3))\n",
    "\n",
    "print(x)"
   ]
  },
  {
   "cell_type": "markdown",
   "metadata": {},
   "source": [
    "Пример. Сгенерировать случайное нормальное распределение размера 2x3 со средним значением 1 и стандартным отклонением 2."
   ]
  },
  {
   "cell_type": "code",
   "execution_count": null,
   "metadata": {},
   "outputs": [],
   "source": [
    "from numpy import random\n",
    "\n",
    "x = random.normal(loc=1, scale=2, size=(2, 3))\n",
    "\n",
    "print(x) "
   ]
  },
  {
   "cell_type": "markdown",
   "metadata": {},
   "source": [
    "### Визуализация нормального распределения"
   ]
  },
  {
   "cell_type": "code",
   "execution_count": null,
   "metadata": {},
   "outputs": [],
   "source": [
    "from numpy import random\n",
    "import matplotlib.pyplot as plt\n",
    "import seaborn as sns\n",
    "\n",
    "sns.distplot(random.normal(size=1000, loc=11), hist=False)\n",
    "\n",
    "plt.show()"
   ]
  },
  {
   "cell_type": "markdown",
   "metadata": {},
   "source": [
    "<a id=func></a>\n",
    "[ <= ](#random) || [Оглавление](#Ref)|| [=>](#ufunc)\n",
    "\n",
    "# 15. Статистические функции"
   ]
  },
  {
   "cell_type": "markdown",
   "metadata": {},
   "source": [
    "Модуль NumPy содержит множество базовых статистических функций, которые помогают описать имеющиеся данные: среднее арифметическое (mean), медиана (median), стандартное отклонение (std), корреляция (corrcoef) и прочие. Рассмотрим, как они работают, на примере данных об урожае, собранном на частных приусадебных участках. Пусть имеется шесть участков, которым присвоим идентификаторы от 1 до 6. На каждом участке собрано яблок 135, 160, 163, 147, 138, 149 кг.; груш 68, 86, 80, 44, 82, 108 кг.; клубники 8, 11, 8.6, 10, 9.4, 7.8 кг. Поместим эти данные в массив."
   ]
  },
  {
   "cell_type": "code",
   "execution_count": 2,
   "metadata": {
    "scrolled": true
   },
   "outputs": [
    {
     "name": "stdout",
     "output_type": "stream",
     "text": [
      "[[  1.  135.   68.    8. ]\n",
      " [  2.  160.   86.   11. ]\n",
      " [  3.  163.   80.    8.6]\n",
      " [  4.  147.   44.   10. ]\n",
      " [  5.  138.   82.    9.4]\n",
      " [  6.  149.  108.    7.8]]\n"
     ]
    }
   ],
   "source": [
    "id=[1,2,3,4,5,6]\n",
    "apples=[135, 160, 163, 147, 138, 149]\n",
    "pears=[68, 86, 80, 44, 82, 108]\n",
    "strawberries = [8, 11, 8.6, 10, 9.4, 7.8]\n",
    "harvest=np.stack((id, apples, pears, strawberries),axis=1)\n",
    "print(harvest)"
   ]
  },
  {
   "cell_type": "markdown",
   "metadata": {},
   "source": [
    "Рассчитаем статистические характеристики данных об урожае. Средний урожай клубники:"
   ]
  },
  {
   "cell_type": "code",
   "execution_count": 120,
   "metadata": {},
   "outputs": [
    {
     "data": {
      "text/plain": [
       "9.133333333333333"
      ]
     },
     "execution_count": 120,
     "metadata": {},
     "output_type": "execute_result"
    }
   ],
   "source": [
    "np.mean(harvest[:,-1])"
   ]
  },
  {
   "cell_type": "markdown",
   "metadata": {},
   "source": [
    "Медианное значение урожая клубники"
   ]
  },
  {
   "cell_type": "code",
   "execution_count": 122,
   "metadata": {},
   "outputs": [
    {
     "data": {
      "text/plain": [
       "9.0"
      ]
     },
     "execution_count": 122,
     "metadata": {},
     "output_type": "execute_result"
    }
   ],
   "source": [
    "np.median(harvest[:,-1])"
   ]
  },
  {
   "cell_type": "markdown",
   "metadata": {},
   "source": [
    "Корреляция - статистическая взаимосвязь случайных величин. Мерой корреляции служит одноименный коэффициент, который показывает, насколько сильно связаны величины, он может быть положительным или отрицательным, а по модулю принимает значение от 0 до 1. Найдем значение корреляции данных об урожайности груш и яблок."
   ]
  },
  {
   "cell_type": "code",
   "execution_count": 125,
   "metadata": {},
   "outputs": [
    {
     "data": {
      "text/plain": [
       "array([[1.        , 0.23434231],\n",
       "       [0.23434231, 1.        ]])"
      ]
     },
     "execution_count": 125,
     "metadata": {},
     "output_type": "execute_result"
    }
   ],
   "source": [
    "np.corrcoef(harvest[:,1], harvest[:,2])"
   ]
  },
  {
   "cell_type": "markdown",
   "metadata": {},
   "source": [
    "Рассчитаем стандартное отклонение урожая яблок, груш и клубники."
   ]
  },
  {
   "cell_type": "code",
   "execution_count": 134,
   "metadata": {
    "scrolled": true
   },
   "outputs": [
    {
     "name": "stdout",
     "output_type": "stream",
     "text": [
      "10.306416555826871\n",
      "19.32183566158592\n",
      "1.1294049564064945\n"
     ]
    }
   ],
   "source": [
    "for i in range(1,harvest.shape[1]):\n",
    "    print(np.std(harvest[:,i]))"
   ]
  },
  {
   "cell_type": "markdown",
   "metadata": {},
   "source": [
    "Рассчитаем максимальное и минимальное значения урожая по каждой позиции."
   ]
  },
  {
   "cell_type": "code",
   "execution_count": 133,
   "metadata": {},
   "outputs": [
    {
     "name": "stdout",
     "output_type": "stream",
     "text": [
      "мин.: 135.0 \t макс.: 163.0\n",
      "мин.: 44.0 \t макс.: 108.0\n",
      "мин.: 7.8 \t макс.: 11.0\n"
     ]
    }
   ],
   "source": [
    "for i in range(1,harvest.shape[1]):\n",
    "    print(f'мин.: {np.min(harvest[:,i])} \\t макс.: {np.max(harvest[:,i])}')"
   ]
  },
  {
   "cell_type": "markdown",
   "metadata": {},
   "source": [
    "<a id=ufunc></a>\n",
    "[ <= ](#func) || [Оглавление](#Ref)|| [=>](#broadc)\n",
    "\n",
    "# 16. Универсальные функции *ufunc*\n",
    "\n",
    "Универсальные функции используются для реализации векторизации в NumPy. Векторизацией называется преобразование итерационных операторов в векторную операцию.\n",
    "\n",
    "### Функция *add(x, y)*"
   ]
  },
  {
   "cell_type": "code",
   "execution_count": 2,
   "metadata": {},
   "outputs": [],
   "source": [
    "import numpy as np"
   ]
  },
  {
   "cell_type": "code",
   "execution_count": 7,
   "metadata": {},
   "outputs": [
    {
     "name": "stdout",
     "output_type": "stream",
     "text": [
      "[ 5  7  9 11]\n"
     ]
    }
   ],
   "source": [
    "list1 = [1, 2, 3, 4]\n",
    "list2 = [4, 5, 6, 7]\n",
    "z = np.add(list1, list2)\n",
    "print(z)"
   ]
  },
  {
   "cell_type": "markdown",
   "metadata": {},
   "source": [
    "Функция *add()* выполняет операции не только со списками, но и с массивами."
   ]
  },
  {
   "cell_type": "code",
   "execution_count": 9,
   "metadata": {},
   "outputs": [
    {
     "name": "stdout",
     "output_type": "stream",
     "text": [
      "[30 32 34 36 38 40]\n"
     ]
    }
   ],
   "source": [
    "arr1 = np.array([10, 11, 12, 13, 14, 15])\n",
    "arr2 = np.array([20, 21, 22, 23, 24, 25])\n",
    "\n",
    "newarr = np.add(arr1, arr2)\n",
    "print(newarr)"
   ]
  },
  {
   "cell_type": "markdown",
   "metadata": {},
   "source": [
    "### Функция *subtract()*\n",
    "Функция *subtract()* вычитает значения одного массива из  значений из другого массива и возвращает результаты в новом массиве."
   ]
  },
  {
   "cell_type": "code",
   "execution_count": 10,
   "metadata": {},
   "outputs": [
    {
     "name": "stdout",
     "output_type": "stream",
     "text": [
      "[-10  -1   8  17  26  35]\n"
     ]
    }
   ],
   "source": [
    "arr1 = np.array([10, 20, 30, 40, 50, 60])\n",
    "arr2 = np.array([20, 21, 22, 23, 24, 25])\n",
    "\n",
    "newarr = np.subtract(arr1, arr2)\n",
    "\n",
    "print(newarr)"
   ]
  },
  {
   "cell_type": "markdown",
   "metadata": {},
   "source": [
    "### Функция *multiply()*\n",
    "Функция *multiply()* умножает значения одного массива на значения другого массива и возвращает результаты в новом массиве."
   ]
  },
  {
   "cell_type": "code",
   "execution_count": 11,
   "metadata": {},
   "outputs": [
    {
     "name": "stdout",
     "output_type": "stream",
     "text": [
      "[ 200  420  660  920 1200 1500]\n"
     ]
    }
   ],
   "source": [
    "arr1 = np.array([10, 20, 30, 40, 50, 60])\n",
    "arr2 = np.array([20, 21, 22, 23, 24, 25])\n",
    "\n",
    "newarr = np.multiply(arr1, arr2)\n",
    "\n",
    "print(newarr)"
   ]
  },
  {
   "cell_type": "markdown",
   "metadata": {},
   "source": [
    "### Функция *divide()*\n",
    "Функция *div()* делит значения одного массива на значения другого массива и возвращает результаты в новом массиве."
   ]
  },
  {
   "cell_type": "code",
   "execution_count": 12,
   "metadata": {},
   "outputs": [
    {
     "name": "stdout",
     "output_type": "stream",
     "text": [
      "[ 3.33333333  4.          3.          5.         25.          1.81818182]\n"
     ]
    }
   ],
   "source": [
    "import numpy as np\n",
    "\n",
    "arr1 = np.array([10, 20, 30, 40, 50, 60])\n",
    "arr2 = np.array([3, 5, 10, 8, 2, 33])\n",
    "\n",
    "newarr = np.divide(arr1, arr2)\n",
    "\n",
    "print(newarr) "
   ]
  },
  {
   "cell_type": "markdown",
   "metadata": {},
   "source": [
    "### Функция *power()*\n",
    "Функция *power()* возводит значения первого массива в степень значений второго массива и возвращает результаты в новом массиве."
   ]
  },
  {
   "cell_type": "code",
   "execution_count": 20,
   "metadata": {},
   "outputs": [
    {
     "name": "stdout",
     "output_type": "stream",
     "text": [
      "[      1000     160000   24300000 -198967296  312500000   12960000]\n"
     ]
    }
   ],
   "source": [
    "arr1 = np.array([10, 20, 30, 40, 50, 60])\n",
    "arr2 = np.array([3, 4, 5, 6, 5, 4])\n",
    "\n",
    "newarr = np.power(arr1, arr2)\n",
    "\n",
    "print(newarr)"
   ]
  },
  {
   "cell_type": "markdown",
   "metadata": {},
   "source": [
    "### Функции *mod()* и *reminder()*\n",
    "\n",
    "Обе функции *mod()* и *remainder()* находят остаток от деления значений в первом массиве на соответствующие значения во втором массиве и возвращают результаты в новом массиве."
   ]
  },
  {
   "cell_type": "code",
   "execution_count": 21,
   "metadata": {},
   "outputs": [
    {
     "name": "stdout",
     "output_type": "stream",
     "text": [
      "[ 1  6  3  0  0 27]\n"
     ]
    }
   ],
   "source": [
    "arr1 = np.array([10, 20, 30, 40, 50, 60])\n",
    "arr2 = np.array([3, 7, 9, 8, 2, 33])\n",
    "\n",
    "newarr = np.mod(arr1, arr2)\n",
    "\n",
    "print(newarr)"
   ]
  },
  {
   "cell_type": "markdown",
   "metadata": {},
   "source": [
    "### Функции округления\n",
    "Для округления элементов массива используются функции\n",
    "- trunc() и fix()\n",
    "- around()\n",
    "- floor()\n",
    "- ceil()"
   ]
  },
  {
   "cell_type": "markdown",
   "metadata": {},
   "source": [
    "### Логарифмирование\n",
    "NumPy обеспечивает логарифмирование по основаниям $2, e, 10$."
   ]
  },
  {
   "cell_type": "code",
   "execution_count": 23,
   "metadata": {},
   "outputs": [
    {
     "name": "stdout",
     "output_type": "stream",
     "text": [
      "[0.         1.         1.5849625  2.         2.32192809 2.5849625\n",
      " 2.80735492 3.         3.169925  ]\n"
     ]
    }
   ],
   "source": [
    "arr = np.arange(1, 10)\n",
    "print(np.log2(arr)) "
   ]
  },
  {
   "cell_type": "markdown",
   "metadata": {},
   "source": [
    "Функция `arange(1, 10)` возвращает массив с целыми числами от 1 (включено) до 10 (не включено)."
   ]
  },
  {
   "cell_type": "code",
   "execution_count": 24,
   "metadata": {},
   "outputs": [
    {
     "name": "stdout",
     "output_type": "stream",
     "text": [
      "[0.         0.30103    0.47712125 0.60205999 0.69897    0.77815125\n",
      " 0.84509804 0.90308999 0.95424251]\n"
     ]
    }
   ],
   "source": [
    "arr = np.arange(1, 10)\n",
    "print(np.log10(arr)) "
   ]
  },
  {
   "cell_type": "markdown",
   "metadata": {},
   "source": [
    "Натуральный логарифм или логарифм по основанию $e$"
   ]
  },
  {
   "cell_type": "code",
   "execution_count": 25,
   "metadata": {},
   "outputs": [
    {
     "name": "stdout",
     "output_type": "stream",
     "text": [
      "[0.         0.69314718 1.09861229 1.38629436 1.60943791 1.79175947\n",
      " 1.94591015 2.07944154 2.19722458]\n"
     ]
    }
   ],
   "source": [
    "arr = np.arange(1, 10)\n",
    "\n",
    "print(np.log(arr))"
   ]
  },
  {
   "cell_type": "markdown",
   "metadata": {},
   "source": [
    "NumPy не предоставляет функции для логарифмированию по любому основанию, поэтому мы можем использовать функцию *frompyfunc()* вместе со встроенной функцией *math.log()* с двумя входными параметрами и одним выходным параметром"
   ]
  },
  {
   "cell_type": "code",
   "execution_count": 31,
   "metadata": {
    "scrolled": true
   },
   "outputs": [
    {
     "name": "stdout",
     "output_type": "stream",
     "text": [
      "2.0\n"
     ]
    }
   ],
   "source": [
    "from math import log\n",
    "nplog = np.frompyfunc(log, 2, 1)\n",
    "\n",
    "print(nplog(225, 15)) "
   ]
  },
  {
   "cell_type": "markdown",
   "metadata": {},
   "source": [
    "Или воспользоваться свойствами логарифмов. Найдем логарифм 225 по основанию 15."
   ]
  },
  {
   "cell_type": "code",
   "execution_count": 34,
   "metadata": {},
   "outputs": [
    {
     "name": "stdout",
     "output_type": "stream",
     "text": [
      "[2.]\n"
     ]
    }
   ],
   "source": [
    "arr1=np.array([225])\n",
    "arr2=np.array([15])\n",
    "print(np.log(arr1)/np.log(arr2))"
   ]
  },
  {
   "cell_type": "markdown",
   "metadata": {},
   "source": [
    "### Тригонометрические функции *sin(), cos(), tan()*\n",
    "\n",
    "Найти значение $ sin(\\frac{\\pi}{2}) $"
   ]
  },
  {
   "cell_type": "code",
   "execution_count": 38,
   "metadata": {},
   "outputs": [
    {
     "name": "stdout",
     "output_type": "stream",
     "text": [
      "1.0\n"
     ]
    }
   ],
   "source": [
    "x = np.sin(np.pi/2)\n",
    "print(x)"
   ]
  },
  {
   "cell_type": "markdown",
   "metadata": {},
   "source": [
    "Найти значение для всех элементов массива"
   ]
  },
  {
   "cell_type": "code",
   "execution_count": 41,
   "metadata": {
    "scrolled": true
   },
   "outputs": [
    {
     "name": "stdout",
     "output_type": "stream",
     "text": [
      "[1.         0.8660254  0.70710678 0.58778525]\n"
     ]
    }
   ],
   "source": [
    "arr = np.array([np.pi/2, np.pi/3, np.pi/4, np.pi/5])\n",
    "x = np.sin(arr)\n",
    "print(x) "
   ]
  },
  {
   "cell_type": "markdown",
   "metadata": {},
   "source": [
    "Построим график функции\n",
    "$$\n",
    "f(x)=x\\cdot{sin(x)}\n",
    "$$"
   ]
  },
  {
   "cell_type": "code",
   "execution_count": 22,
   "metadata": {},
   "outputs": [
    {
     "data": {
      "text/plain": [
       "[<matplotlib.lines.Line2D at 0x1bd924a2048>]"
      ]
     },
     "execution_count": 22,
     "metadata": {},
     "output_type": "execute_result"
    },
    {
     "data": {
      "image/png": "[encoded data removed]",
      "text/plain": [
       "<Figure size 432x288 with 1 Axes>"
      ]
     },
     "metadata": {
      "needs_background": "light"
     },
     "output_type": "display_data"
    }
   ],
   "source": [
    "import matplotlib.pyplot as plt\n",
    "\n",
    "x=np.linspace(-20,20,100)\n",
    "f=np.multiply(x,np.sin(x))\n",
    "\n",
    "plt.plot(x,f)\n",
    "plt.plot(0, 0, color='red', marker=\"p\")"
   ]
  },
  {
   "cell_type": "markdown",
   "metadata": {},
   "source": [
    "### Тригонометрические функции *arcsin(), arccos(), arctan()*\n",
    "\n",
    "NumPy предоставляет универсальные функции *arcsin(), arccos() arctan()*, которые производят значения в радианах для соответствующих заданных значений *sin, cos, tan*.\n",
    "\n",
    "Пример. Найти угол, синус которого равен 1."
   ]
  },
  {
   "cell_type": "code",
   "execution_count": 8,
   "metadata": {},
   "outputs": [
    {
     "name": "stdout",
     "output_type": "stream",
     "text": [
      "1.5707963267948966\n"
     ]
    }
   ],
   "source": [
    "x = np.arcsin(1.0)\n",
    "\n",
    "print(x)"
   ]
  },
  {
   "cell_type": "markdown",
   "metadata": {},
   "source": [
    "Дан массив синусов. Найти углы."
   ]
  },
  {
   "cell_type": "code",
   "execution_count": 9,
   "metadata": {},
   "outputs": [
    {
     "name": "stdout",
     "output_type": "stream",
     "text": [
      "[ 1.57079633 -1.57079633  0.10016742]\n"
     ]
    }
   ],
   "source": [
    "arr = np.array([1, -1, 0.1])\n",
    "x = np.arcsin(arr)\n",
    "print(x)"
   ]
  },
  {
   "cell_type": "markdown",
   "metadata": {},
   "source": [
    "<a id=broadc></a>\n",
    "[ <= ](#ufunc) || [Оглавление](#Ref)|| [=>](#task)\n",
    "\n",
    "# 17. Распространение *broadcasting*\n",
    "\n",
    "В качестве аргументов универсальных функций могут выступать массивы различной, но сравнимой формы. В этом случае применяется механизм __распространения (broadcsting)__."
   ]
  },
  {
   "cell_type": "markdown",
   "metadata": {},
   "source": [
    "<center>         \n",
    "    <img src=\"./Img/L1_broadcasting.png\" alt=\"Обход элементов массива\" style=\"width: 600px;\"/>\n",
    "    <b>В примере скаляр распространяется до массива размерности (5,)</b>\n",
    "</center>"
   ]
  },
  {
   "cell_type": "code",
   "execution_count": 45,
   "metadata": {},
   "outputs": [
    {
     "name": "stdout",
     "output_type": "stream",
     "text": [
      "[10 11 12 13 14]\n"
     ]
    }
   ],
   "source": [
    "a = np.arange(5)\n",
    "b = 10\n",
    "c = a + b\n",
    "print(c)"
   ]
  },
  {
   "cell_type": "markdown",
   "metadata": {},
   "source": [
    "<center>         \n",
    "    <img src=\"./Img/L1_broadcasting2_.png\" alt=\"Пример распространения\" style=\"width: 600px;\"/>\n",
    "    <b>Пример распространения для двух массивов размерности (3,2) и (3,1)</b>\n",
    "</center>"
   ]
  },
  {
   "cell_type": "code",
   "execution_count": 55,
   "metadata": {},
   "outputs": [
    {
     "name": "stdout",
     "output_type": "stream",
     "text": [
      "[[0 1]\n",
      " [2 3]\n",
      " [4 5]]\n",
      "[[10]\n",
      " [20]\n",
      " [30]]\n",
      "[[10 11]\n",
      " [22 23]\n",
      " [34 35]]\n"
     ]
    }
   ],
   "source": [
    "a = np.arange(6).reshape(3, 2)\n",
    "print(a2)\n",
    "\n",
    "b = np.array([10,20,30]).reshape(3, 1)\n",
    "print(b)\n",
    "\n",
    "c = a + b\n",
    "print(c)"
   ]
  },
  {
   "cell_type": "markdown",
   "metadata": {},
   "source": [
    "Правила выполнения распространения: \n",
    "* соответствующие измерения двух массивов должны либо совпадать,\n",
    "* либо одно из них должно быть равно единице. \n",
    "\n",
    "Если в одном из массивов не хватает измерений, то считается, что недостающее количество измерений - это младшие измерения (измерения с наименьшими номерами), которым приписывается размерность 1.\n",
    "<br><br>\n",
    "<center>         \n",
    "    <img src=\"./Img/L1_broadcasting3.png\" alt=\"Пример работы с размерностями массивов\" style=\"width: 500px;\"/>\n",
    "</center>\n",
    "\n",
    "Примеры"
   ]
  },
  {
   "cell_type": "code",
   "execution_count": 61,
   "metadata": {},
   "outputs": [
    {
     "name": "stdout",
     "output_type": "stream",
     "text": [
      "(3,) (2, 3)\n",
      "[[2 4 6]\n",
      " [5 7 9]]\n"
     ]
    }
   ],
   "source": [
    "A = np.array([1,2,3])\n",
    "B = np.array(([1,2,3], [4,5,6]))\n",
    "print(A.shape, B.shape)\n",
    "C = A + B\n",
    "print(C)"
   ]
  },
  {
   "cell_type": "code",
   "execution_count": 94,
   "metadata": {},
   "outputs": [
    {
     "name": "stdout",
     "output_type": "stream",
     "text": [
      "(6, 1) (1, 6, 4)\n",
      "[[[1. 1. 1. 1.]\n",
      "  [2. 2. 2. 2.]\n",
      "  [3. 3. 3. 3.]\n",
      "  [4. 4. 4. 4.]\n",
      "  [5. 5. 5. 5.]\n",
      "  [6. 6. 6. 6.]]]\n",
      "(1, 6, 4)\n"
     ]
    }
   ],
   "source": [
    "A = np.arange(6).reshape(6,1)\n",
    "B = np.ones(24).reshape(1,6,4)\n",
    "print(A.shape, B.shape)\n",
    "C = A + B\n",
    "print(C)\n",
    "print(C.shape)"
   ]
  },
  {
   "cell_type": "markdown",
   "metadata": {},
   "source": [
    "<a id=task></a>\n",
    "[ <= ](#ufunc) || [Оглавление](#Ref)|| [=>](#task)\n",
    "\n",
    "# Задания"
   ]
  },
  {
   "cell_type": "markdown",
   "metadata": {},
   "source": [
    "1. Дано: списки `a,b=[1,1,1],[3,3,3]`\n",
    "\n",
    "Создать одномерные массивы A и B из списков а и b.\n",
    "\n",
    "Вычислить выражение $-((B-А)*(B/2))$"
   ]
  },
  {
   "cell_type": "code",
   "execution_count": 135,
   "metadata": {},
   "outputs": [],
   "source": [
    "import numpy as np\n",
    "\n",
    "#1\n",
    "\n",
    "a,b=[1,1,1],[3,3,3]\n",
    "\n",
    "# Ваш код здесь\n"
   ]
  },
  {
   "cell_type": "markdown",
   "metadata": {},
   "source": [
    "2. Используя как можно меньше операций в исходном массиве \"шахматная доска\" np.zeros((8,8)), добиться расстановки кодов \"шахматных фигур\".\n",
    "\n",
    "Ожидаемый результат:\n",
    "```\n",
    "[[-4., -3., -2., -6., -5., -2., -3., -4.],\n",
    " [-1., -1., -1., -1., -1., -1., -1., -1.],\n",
    " [0., 0., 0., 0., 0., 0., 0., 0.],\n",
    " [0., 0., 0., 0., 0., 0., 0., 0.],\n",
    " [0., 0., 0., 0., 0., 0., 0., 0.],\n",
    " [0., 0., 0., 0., 0., 0., 0., 0.],\n",
    " [1., 1., 1., 1., 1., 1., 1., 1.],\n",
    " [4., 3., 2., 6., 5., 2., 3., 4.]]\n",
    " ```"
   ]
  },
  {
   "cell_type": "code",
   "execution_count": null,
   "metadata": {},
   "outputs": [],
   "source": [
    "#2. Ваш код здесь\n"
   ]
  },
  {
   "cell_type": "markdown",
   "metadata": {},
   "source": [
    "3. Средствами NumPy рассчитать произведения четных чисел от 2 до 20 на ближайшие к ним бОльшие нечетные числа"
   ]
  },
  {
   "cell_type": "code",
   "execution_count": 33,
   "metadata": {},
   "outputs": [],
   "source": [
    "# 3. Ваш код здесь\n"
   ]
  },
  {
   "cell_type": "markdown",
   "metadata": {},
   "source": [
    "4. Сгенерировать двумерный массив *arr* размерности (4, 7), состоящий из случайных действительных чисел, равномерно распределенных в дипазоне от 0 до 20. Нормализовать значения массива так, что после нормализации максимальный элемент масива будет равен 1.0, минимальный 0.0. Значения округлить (с помощью `np.round()`) до четырех десятичных знаков."
   ]
  },
  {
   "cell_type": "code",
   "execution_count": null,
   "metadata": {},
   "outputs": [],
   "source": [
    "# 4. Ваш код здесь\n"
   ]
  },
  {
   "cell_type": "markdown",
   "metadata": {},
   "source": [
    "5. Имеется массив my_array\n",
    "```\n",
    "my_array = np.array([[1,2,3,4,5],\n",
    "                [6,7,8,9,10],\n",
    "                [11,12,13,14,15],\n",
    "                [16,17,18,19,20],\n",
    "                [21,22,23,24,25]])\n",
    "```\n",
    "Напишите код, с помощью которого можно извлечь из него центральный фрагмент размером 3 х 3, с числами 7, 8, 9, 12, 13, 14, 17, 18, 19."
   ]
  },
  {
   "cell_type": "code",
   "execution_count": 32,
   "metadata": {},
   "outputs": [],
   "source": [
    "# 5. \n",
    "\n",
    "my_array = np.array([[1,2,3,4,5],\n",
    "             [6,7,8,9,10],\n",
    "             [11,12,13,14,15],\n",
    "             [16,17,18,19,20],\n",
    "             [21,22,23,24,25]])\n",
    "\n",
    "# Ваш код здесь\n"
   ]
  },
  {
   "cell_type": "markdown",
   "metadata": {},
   "source": [
    "6. Создайте массив *my_sin*, состоящий из синусов элементов массива *my_array*.\n",
    "Посчитайте, чему равна сумма элементов полученного массива. Ответ округлите до\n",
    "трёх цифр после запятой."
   ]
  },
  {
   "cell_type": "code",
   "execution_count": null,
   "metadata": {},
   "outputs": [],
   "source": [
    "# 6. Ваш код здесь\n"
   ]
  },
  {
   "cell_type": "markdown",
   "metadata": {},
   "source": [
    "7. Создать матрицу из 20 случайных целых чисел от 0 до 100. Получить второе сверху значение в матрице. Определить индекс этого значения."
   ]
  },
  {
   "cell_type": "code",
   "execution_count": null,
   "metadata": {},
   "outputs": [],
   "source": [
    "# 7. Ваш код здесь\n"
   ]
  },
  {
   "cell_type": "markdown",
   "metadata": {},
   "source": [
    "8. Задать два двухмерных массива *ar1* и *ar2* размерности (4, 7), состоящих из случайных целых чисел в пределах от 0 до 10. Построить двухмерный массив размерности (4, 7), каждый элемент которого представляет собой максимум (минимум, среднее) из двух значений, находящихся на аналогичной позиции в массивах *ar1*, *ar2*."
   ]
  },
  {
   "cell_type": "code",
   "execution_count": null,
   "metadata": {},
   "outputs": [],
   "source": [
    "# 8. Ваш код здесь\n"
   ]
  },
  {
   "cell_type": "markdown",
   "metadata": {},
   "source": [
    "9. Имеется массив *great_array*\n",
    "```\n",
    "first = [x**(1/2) for x in range(100)]\n",
    "second = [x**(1/3) for x in range(100, 200)]\n",
    "third = [x/y for x in range(200,300,2) for y in [3,5]]\n",
    "great_array = np.array([first, second, third]).T\n",
    "```\n",
    "Чему равна сумма элементов массива great_array, значение которых больше 50?"
   ]
  },
  {
   "cell_type": "code",
   "execution_count": 28,
   "metadata": {},
   "outputs": [],
   "source": [
    "#9\n",
    "\n",
    "first = [x**(1/2) for x in range(100)]\n",
    "second = [x**(1/3) for x in range(100, 200)]\n",
    "third = [x/y for x in range(200,300,2) for y in [3,5]]\n",
    "great_array = np.array([first, second, third]).T\n",
    "\n",
    "# Ваш код здесь\n"
   ]
  },
  {
   "cell_type": "markdown",
   "metadata": {},
   "source": [
    "10. Переведите массив *great_array* в одномерную форму. Какое значение в получившемся массиве имеет элемент с индексом 150?"
   ]
  },
  {
   "cell_type": "code",
   "execution_count": 29,
   "metadata": {},
   "outputs": [],
   "source": [
    "# 10. Ваш код здесь\n"
   ]
  },
  {
   "cell_type": "markdown",
   "metadata": {},
   "source": [
    "11. Получить индексы, для которых элементы массивов A и B совпадают.\n",
    "```\n",
    "A = np.array([1,2,3,2,3,4,3,4,5,6])\n",
    "B = np.array([7,2,10,2,7,4,9,4,9,8])\n",
    "```\n",
    "Ожидается результат:\n",
    "\n",
    "```\n",
    "array([1, 3, 5, 7])\n",
    "```"
   ]
  },
  {
   "cell_type": "code",
   "execution_count": 12,
   "metadata": {},
   "outputs": [],
   "source": [
    "# 11.\n",
    "\n",
    "A = np.array([1,2,3,2,3,4,3,4,5,6])\n",
    "B = np.array([7,2,10,2,7,4,9,4,9,8])\n",
    "\n",
    "# Ваш код здесь\n"
   ]
  },
  {
   "cell_type": "markdown",
   "metadata": {},
   "source": [
    "### Решения"
   ]
  },
  {
   "cell_type": "code",
   "execution_count": 184,
   "metadata": {},
   "outputs": [
    {
     "name": "stdout",
     "output_type": "stream",
     "text": [
      "[-3. -3. -3.]\n"
     ]
    }
   ],
   "source": [
    "# 1. Значение выражения\n",
    "\n",
    "import numpy as np\n",
    "a,b=[1,1,1],[3,3,3]\n",
    "A,B=np.array(a),np.array(b)\n",
    "print(-((B-A)*(B/2)))"
   ]
  },
  {
   "cell_type": "code",
   "execution_count": 177,
   "metadata": {},
   "outputs": [
    {
     "name": "stdout",
     "output_type": "stream",
     "text": [
      "[[-4. -3. -2. -6. -5. -2. -3. -4.]\n",
      " [ 1.  1.  1.  1.  1.  1.  1.  1.]\n",
      " [ 0.  0.  0.  0.  0.  0.  0.  0.]\n",
      " [ 0.  0.  0.  0.  0.  0.  0.  0.]\n",
      " [ 0.  0.  0.  0.  0.  0.  0.  0.]\n",
      " [ 0.  0.  0.  0.  0.  0.  0.  0.]\n",
      " [ 1.  1.  1.  1.  1.  1.  1.  1.]\n",
      " [ 4.  3.  2.  6.  5.  2.  3.  4.]]\n"
     ]
    }
   ],
   "source": [
    "# 2. Шахматы\n",
    "\n",
    "chess=np.zeros((8,8))\n",
    "chess[6]=np.ones(8)\n",
    "chess[7]=[4,3,2,6,5,2,3,4]\n",
    "chess[1]=np.ones(8)\n",
    "chess[0]=-chess[7]\n",
    "print(chess)"
   ]
  },
  {
   "cell_type": "code",
   "execution_count": 53,
   "metadata": {},
   "outputs": [
    {
     "name": "stdout",
     "output_type": "stream",
     "text": [
      "[  6  20  42  72 110 156 210 272 342 420]\n"
     ]
    }
   ],
   "source": [
    "# 3. Произведение четных чисел на нечетные\n",
    "\n",
    "numbers=np.arange(2,22)\n",
    "neat_numbers=numbers[::2]\n",
    "odd_numbers=numbers[1::2]\n",
    "mult=neat_numbers*odd_numbers\n",
    "print(mult)"
   ]
  },
  {
   "cell_type": "code",
   "execution_count": 185,
   "metadata": {},
   "outputs": [
    {
     "name": "stdout",
     "output_type": "stream",
     "text": [
      "[[0.1857 0.4835 0.8692 0.6685 0.8692 0.8069 0.8971]\n",
      " [0.5371 0.1075 0.2241 0.6207 0.7915 0.5115 0.6179]\n",
      " [0.0761 0.5653 0.4056 0.8124 0.4159 0.2858 1.    ]\n",
      " [0.2164 0.4921 0.9922 0.     0.1017 0.2287 0.4934]]\n"
     ]
    }
   ],
   "source": [
    "# 4. Нормированные значения\n",
    "\n",
    "matrix=np.random.rand(4,7)*20\n",
    "matrix=(matrix-np.min(matrix))/(np.max(matrix)-np.min(matrix))\n",
    "matrix=np.round(matrix,4)\n",
    "print(matrix)"
   ]
  },
  {
   "cell_type": "code",
   "execution_count": 56,
   "metadata": {},
   "outputs": [
    {
     "name": "stdout",
     "output_type": "stream",
     "text": [
      "[[ 7  8  9]\n",
      " [12 13 14]\n",
      " [17 18 19]]\n"
     ]
    }
   ],
   "source": [
    "# 5. Извлечение части данных из массива\n",
    "\n",
    "my_array = np.array([[1,2,3,4,5],\n",
    "             [6,7,8,9,10],\n",
    "             [11,12,13,14,15],\n",
    "             [16,17,18,19,20],\n",
    "             [21,22,23,24,25]])\n",
    "print(my_array[1:4,1:4])"
   ]
  },
  {
   "cell_type": "code",
   "execution_count": 186,
   "metadata": {},
   "outputs": [
    {
     "data": {
      "text/plain": [
       "-0.058"
      ]
     },
     "execution_count": 186,
     "metadata": {},
     "output_type": "execute_result"
    }
   ],
   "source": [
    "# 6. Сумма синусов\n",
    "\n",
    "my_sin=np.sin(my_array)\n",
    "np.round(np.sum(my_sin),3)"
   ]
  },
  {
   "cell_type": "code",
   "execution_count": 157,
   "metadata": {},
   "outputs": [
    {
     "name": "stdout",
     "output_type": "stream",
     "text": [
      "85\n"
     ]
    }
   ],
   "source": [
    "# 7. Второе максимальное значение\n",
    "\n",
    "matrix=np.random.randint(100, size=(4,5))\n",
    "print(np.sort(matrix.flatten())[-2])"
   ]
  },
  {
   "cell_type": "code",
   "execution_count": 156,
   "metadata": {},
   "outputs": [
    {
     "name": "stdout",
     "output_type": "stream",
     "text": [
      "[[10  7  4  2  2 10  5]\n",
      " [ 7  9  4  5  6 10  6]\n",
      " [10  2  8  5  6  6  7]\n",
      " [ 9  0  1  2  8  5  6]]\n",
      "\n",
      "[[ 0  2 10  8  6  5  0]\n",
      " [ 8  3  1  1  9  6  6]\n",
      " [ 8  7  1  8  3 10  9]\n",
      " [10 10  6 10  0  4  4]]\n",
      "\n",
      "[[5.  4.5 7.  5.  4.  7.5 2.5]\n",
      " [7.5 6.  2.5 3.  7.5 8.  6. ]\n",
      " [9.  4.5 4.5 6.5 4.5 8.  8. ]\n",
      " [9.5 5.  3.5 6.  4.  4.5 5. ]]\n"
     ]
    }
   ],
   "source": [
    "# 8a. Матрица средних\n",
    "\n",
    "arr1=np.random.randint(11,size=(4,7))\n",
    "arr2=np.random.randint(11,size=(4,7))\n",
    "print(arr1, end='\\n\\n')\n",
    "print(arr2, end='\\n\\n')\n",
    "\n",
    "R=np.ones((4,7))\n",
    "for i in range(4):\n",
    "    for j in range(7):\n",
    "        R[i,j]=np.mean(np.array([arr1[i,j],arr2[i,j]]))\n",
    "print(R)"
   ]
  },
  {
   "cell_type": "code",
   "execution_count": 175,
   "metadata": {},
   "outputs": [
    {
     "name": "stdout",
     "output_type": "stream",
     "text": [
      "[[10  7 10  8  6 10  5]\n",
      " [ 8  9  4  5  9 10  6]\n",
      " [10  7  8  8  6 10  9]\n",
      " [10 10  6 10  8  5  6]]\n"
     ]
    }
   ],
   "source": [
    "# 8b. Матрица максимальных значений\n",
    "\n",
    "R = np.maximum(arr1,arr2)\n",
    "print(R)"
   ]
  },
  {
   "cell_type": "code",
   "execution_count": 179,
   "metadata": {},
   "outputs": [
    {
     "name": "stdout",
     "output_type": "stream",
     "text": [
      "[[0 2 4 2 2 5 0]\n",
      " [7 3 1 1 6 6 6]\n",
      " [8 2 1 5 3 6 7]\n",
      " [9 0 1 2 0 4 4]]\n"
     ]
    }
   ],
   "source": [
    "# 8c. Матрица минимальных значений\n",
    "\n",
    "R = np.minimum(arr1,arr2)\n",
    "print(R)"
   ]
  },
  {
   "cell_type": "code",
   "execution_count": 183,
   "metadata": {},
   "outputs": [
    {
     "name": "stdout",
     "output_type": "stream",
     "text": [
      "5470.0\n"
     ]
    }
   ],
   "source": [
    "# 9. Сумма элементов большого массива по условию\n",
    "\n",
    "first = [x**(1/2) for x in range(100)]\n",
    "second = [x**(1/3) for x in range(100, 200)]\n",
    "third = [x/y for x in range(200,300,2) for y in [3,5]]\n",
    "great_array = np.array([first, second, third]).T\n",
    "\n",
    "print(np.sum(great_array[great_array>50]))"
   ]
  },
  {
   "cell_type": "code",
   "execution_count": 180,
   "metadata": {
    "scrolled": true
   },
   "outputs": [
    {
     "name": "stdout",
     "output_type": "stream",
     "text": [
      "7.0710678118654755\n"
     ]
    }
   ],
   "source": [
    "# 10. Поиск по индексу\n",
    "\n",
    "print(great_array.reshape(-1)[150])"
   ]
  },
  {
   "cell_type": "code",
   "execution_count": 34,
   "metadata": {},
   "outputs": [
    {
     "data": {
      "text/plain": [
       "array([1, 3, 5, 7])"
      ]
     },
     "execution_count": 34,
     "metadata": {},
     "output_type": "execute_result"
    }
   ],
   "source": [
    "# 11.\n",
    "\n",
    "A = np.array([1,2,3,2,3,4,3,4,5,6])\n",
    "B = np.array([7,2,10,2,7,4,9,4,9,8])\n",
    "\n",
    "# Ваш код здесь\n",
    "Indices=np.arange(0,A.size)\n",
    "Mask=(A==B)\n",
    "Indices[Mask]"
   ]
  }
 ],
 "metadata": {
  "kernelspec": {
   "display_name": "Python 3",
   "language": "python",
   "name": "python3"
  },
  "language_info": {
   "codemirror_mode": {
    "name": "ipython",
    "version": 3
   },
   "file_extension": ".py",
   "mimetype": "text/x-python",
   "name": "python",
   "nbconvert_exporter": "python",
   "pygments_lexer": "ipython3",
   "version": "3.7.6"
  }
 },
 "nbformat": 4,
 "nbformat_minor": 4
}
