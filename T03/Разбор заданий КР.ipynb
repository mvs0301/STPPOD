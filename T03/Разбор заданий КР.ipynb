{
 "cells": [
  {
   "cell_type": "markdown",
   "metadata": {},
   "source": [
    "### Разбор заданий контрольной работы"
   ]
  },
  {
   "cell_type": "code",
   "execution_count": 5,
   "metadata": {},
   "outputs": [],
   "source": [
    "import numpy as np"
   ]
  },
  {
   "cell_type": "markdown",
   "metadata": {},
   "source": [
    "Задание 1"
   ]
  },
  {
   "cell_type": "code",
   "execution_count": 1,
   "metadata": {},
   "outputs": [
    {
     "data": {
      "text/plain": [
       "'Волшебный закат красоты озарил Красноярск'"
      ]
     },
     "execution_count": 1,
     "metadata": {},
     "output_type": "execute_result"
    }
   ],
   "source": [
    "# 1.\n",
    "\n",
    "s=\"Волшебный красоты закат озарил Красноярск\"\n",
    "# Ваш код здесь\n",
    "\n",
    "list1 = [\"Волшебный\", \"красоты\", \"закат\", \"озарил\", \"Красноярск\"]\n",
    "list1[1:3] = [\"закат\", \"красоты\"]\n",
    "\n",
    "p = ''\n",
    "for word in list1:\n",
    "    word=word.strip()+' '\n",
    "    p+=word\n",
    "p[:-1]"
   ]
  },
  {
   "cell_type": "code",
   "execution_count": 4,
   "metadata": {},
   "outputs": [
    {
     "ename": "SyntaxError",
     "evalue": "invalid syntax (<ipython-input-4-3f885af40cff>, line 2)",
     "output_type": "error",
     "traceback": [
      "\u001b[1;36m  File \u001b[1;32m\"<ipython-input-4-3f885af40cff>\"\u001b[1;36m, line \u001b[1;32m2\u001b[0m\n\u001b[1;33m    h = \"script type=\"text\" charset=\"UTF-8\"></script><script id=\"documentation_options\"></script\"\u001b[0m\n\u001b[1;37m                         ^\u001b[0m\n\u001b[1;31mSyntaxError\u001b[0m\u001b[1;31m:\u001b[0m invalid syntax\n"
     ]
    }
   ],
   "source": [
    "# 2.\n",
    "h = \"script type=\"text\" charset=\"UTF-8\"></script><script id=\"documentation_options\"></script\""
   ]
  },
  {
   "cell_type": "code",
   "execution_count": 14,
   "metadata": {},
   "outputs": [
    {
     "name": "stdout",
     "output_type": "stream",
     "text": [
      "[[[ 4.96880138e-01  7.10353272e-01  8.62404227e-01  9.99999683e-01\n",
      "    8.68214583e-01  7.04410766e-01  5.06906852e-01]]\n",
      "\n",
      " [[ 8.67819180e-01  7.03845316e-01  5.06220257e-01  7.96326711e-04\n",
      "   -4.96188913e-01 -7.09792556e-01 -8.62000837e-01]]\n",
      "\n",
      " [[ 5.72561830e-01  1.00924629e+00  1.70361461e+00  1.25576559e+03\n",
      "   -1.74976619e+00 -9.92417798e-01 -5.88058422e-01]]]\n"
     ]
    }
   ],
   "source": [
    "# 11.\n",
    "\n",
    "alfas = np.array(([0.52, 0.79, 1.04, 1.57, 2.09, 2.36, 2.61]))\n",
    "\n",
    "# Ваш код здесь\n",
    "\n",
    "alfas = np.array([[np.sin(alfas)], [np.cos(alfas)], [np.tan(alfas)]])\n",
    "print(alfas)"
   ]
  },
  {
   "cell_type": "code",
   "execution_count": null,
   "metadata": {},
   "outputs": [],
   "source": [
    "# 12.\n",
    "\n",
    "A = np.array([2, 6, 1, 9, 10, 3, 27])\n",
    "# Ваш код здесь\n",
    "\n",
    "A = np.array([2, 6, 1, 9, 10, 3, 27])\n",
    "# Ваш код здесь\n",
    "arr = np.array([2, 6, 1, 9, 10, 3, 27])\n",
    "A = [False, True, False, True, False, False, False]\n",
    "newarr = arr[A]\n",
    "print(newarr)"
   ]
  },
  {
   "cell_type": "code",
   "execution_count": 16,
   "metadata": {},
   "outputs": [
    {
     "data": {
      "text/plain": [
       "0.9999996829318346"
      ]
     },
     "execution_count": 16,
     "metadata": {},
     "output_type": "execute_result"
    }
   ],
   "source": [
    "np.sin(1.57)"
   ]
  },
  {
   "cell_type": "code",
   "execution_count": null,
   "metadata": {},
   "outputs": [],
   "source": [
    "# 12.\n",
    "\n",
    "arr = np.array([2, 6, 1, 9, 10, 3, 27])\n",
    "\n",
    "filter_arr = []\n",
    "\n",
    "\n",
    "for element in arr:\n",
    "  \n",
    "    if element >= 5:\n",
    "        filter_arr.append(True)\n",
    "    else:\n",
    "        filter_arr.append(False)\n",
    "        \n",
    "      \n",
    "                 \n",
    "newarr = arr[filter_arr]\n",
    "\n",
    "print(newarr)\n",
    "\n",
    "filter_newarr = []\n",
    "\n",
    "for element in newarr:\n",
    "    if element <= 10:\n",
    "        #filter_newarrarr.append(True)\n",
    "\n",
    "    else:\n",
    "        #filter_newarrarr.append(False)\n",
    "\n",
    "\n",
    "snewarr = arr[filter_newarr]\n",
    "\n",
    "print(filter_newarr)\n",
    "print(snewarr) "
   ]
  },
  {
   "cell_type": "code",
   "execution_count": 17,
   "metadata": {},
   "outputs": [
    {
     "name": "stdout",
     "output_type": "stream",
     "text": [
      "[6 9]\n"
     ]
    }
   ],
   "source": [
    "A = np.array ([2,6,1,9,10,3,27])\n",
    "import numpy as np\n",
    "arr=np.array([2,6,1,9,10,3,27])\n",
    "A=[False,True,False,True,False,False,False]\n",
    "newarr=arr[A]\n",
    "print(newarr)"
   ]
  },
  {
   "cell_type": "code",
   "execution_count": 18,
   "metadata": {},
   "outputs": [
    {
     "data": {
      "text/plain": [
       "array([False,  True, False,  True,  True, False, False])"
      ]
     },
     "execution_count": 18,
     "metadata": {},
     "output_type": "execute_result"
    }
   ],
   "source": [
    "A = np.array ([2,6,1,9,10,3,27])\n",
    "((A>=6) & (A<=10))"
   ]
  },
  {
   "cell_type": "code",
   "execution_count": 20,
   "metadata": {},
   "outputs": [
    {
     "name": "stdout",
     "output_type": "stream",
     "text": [
      "[[[0 1 2]\n",
      "  [3 4 5]\n",
      "  [6 7 8]]]\n",
      "[[[0 1 2]\n",
      "  [3 4 5]\n",
      "  [6 7 8]]]\n"
     ]
    }
   ],
   "source": [
    "# 13\n",
    "\n",
    "N = np.arange(9).reshape(3,3)\n",
    "import numpy as np\n",
    "arr = N\n",
    "N = np.arange(9).reshape(3,3)\n",
    "N = arr.reshape(1,3,-1)\n",
    "print(np.sort(N))\n",
    "print(N)"
   ]
  }
 ],
 "metadata": {
  "kernelspec": {
   "display_name": "Python 3",
   "language": "python",
   "name": "python3"
  },
  "language_info": {
   "codemirror_mode": {
    "name": "ipython",
    "version": 3
   },
   "file_extension": ".py",
   "mimetype": "text/x-python",
   "name": "python",
   "nbconvert_exporter": "python",
   "pygments_lexer": "ipython3",
   "version": "3.7.6"
  }
 },
 "nbformat": 4,
 "nbformat_minor": 4
}
