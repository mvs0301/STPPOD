{
 "cells": [
  {
   "cell_type": "markdown",
   "metadata": {},
   "source": [
    "<img src=\"../Img/banner-fa-49-2.jpg\">\n",
    "12 апреля 2021 года, ВМ/305-1(кк)\n",
    "\n",
    "# Тема 5. Анализ временных рядов\n",
    "\n",
    "## Анализ цены акции Mail.ru\n",
    "\n",
    "Студенты: Поток У18-7у<br>\n",
    "Преподаватель: Смирнов Михаил Викторович, доцент Департамента Анализа данных и машинного обучения Финансового университета при Правительстве Российской Федерации"
   ]
  },
  {
   "cell_type": "markdown",
   "metadata": {},
   "source": [
    "# 1. Обработка исходных данных"
   ]
  },
  {
   "cell_type": "code",
   "execution_count": 1,
   "metadata": {},
   "outputs": [],
   "source": [
    "import pandas as pd\n",
    "import numpy as np\n",
    "from matplotlib import pyplot as plt\n",
    "from datetime import datetime as dt"
   ]
  },
  {
   "cell_type": "code",
   "execution_count": 2,
   "metadata": {},
   "outputs": [
    {
     "data": {
      "text/html": [
       "<div>\n",
       "<style scoped>\n",
       "    .dataframe tbody tr th:only-of-type {\n",
       "        vertical-align: middle;\n",
       "    }\n",
       "\n",
       "    .dataframe tbody tr th {\n",
       "        vertical-align: top;\n",
       "    }\n",
       "\n",
       "    .dataframe thead th {\n",
       "        text-align: right;\n",
       "    }\n",
       "</style>\n",
       "<table border=\"1\" class=\"dataframe\">\n",
       "  <thead>\n",
       "    <tr style=\"text-align: right;\">\n",
       "      <th></th>\n",
       "      <th>&lt;TICKER&gt;</th>\n",
       "      <th>&lt;PER&gt;</th>\n",
       "      <th>&lt;DATE&gt;</th>\n",
       "      <th>&lt;TIME&gt;</th>\n",
       "      <th>&lt;CLOSE&gt;</th>\n",
       "    </tr>\n",
       "  </thead>\n",
       "  <tbody>\n",
       "    <tr>\n",
       "      <th>0</th>\n",
       "      <td>MAIL</td>\n",
       "      <td>D</td>\n",
       "      <td>20201214</td>\n",
       "      <td>0</td>\n",
       "      <td>2085.2</td>\n",
       "    </tr>\n",
       "    <tr>\n",
       "      <th>1</th>\n",
       "      <td>MAIL</td>\n",
       "      <td>D</td>\n",
       "      <td>20201215</td>\n",
       "      <td>0</td>\n",
       "      <td>2086.0</td>\n",
       "    </tr>\n",
       "    <tr>\n",
       "      <th>2</th>\n",
       "      <td>MAIL</td>\n",
       "      <td>D</td>\n",
       "      <td>20201216</td>\n",
       "      <td>0</td>\n",
       "      <td>2063.8</td>\n",
       "    </tr>\n",
       "    <tr>\n",
       "      <th>3</th>\n",
       "      <td>MAIL</td>\n",
       "      <td>D</td>\n",
       "      <td>20201217</td>\n",
       "      <td>0</td>\n",
       "      <td>2049.6</td>\n",
       "    </tr>\n",
       "    <tr>\n",
       "      <th>4</th>\n",
       "      <td>MAIL</td>\n",
       "      <td>D</td>\n",
       "      <td>20201218</td>\n",
       "      <td>0</td>\n",
       "      <td>2007.4</td>\n",
       "    </tr>\n",
       "    <tr>\n",
       "      <th>...</th>\n",
       "      <td>...</td>\n",
       "      <td>...</td>\n",
       "      <td>...</td>\n",
       "      <td>...</td>\n",
       "      <td>...</td>\n",
       "    </tr>\n",
       "    <tr>\n",
       "      <th>77</th>\n",
       "      <td>MAIL</td>\n",
       "      <td>D</td>\n",
       "      <td>20210406</td>\n",
       "      <td>0</td>\n",
       "      <td>1759.4</td>\n",
       "    </tr>\n",
       "    <tr>\n",
       "      <th>78</th>\n",
       "      <td>MAIL</td>\n",
       "      <td>D</td>\n",
       "      <td>20210407</td>\n",
       "      <td>0</td>\n",
       "      <td>1748.0</td>\n",
       "    </tr>\n",
       "    <tr>\n",
       "      <th>79</th>\n",
       "      <td>MAIL</td>\n",
       "      <td>D</td>\n",
       "      <td>20210408</td>\n",
       "      <td>0</td>\n",
       "      <td>1743.6</td>\n",
       "    </tr>\n",
       "    <tr>\n",
       "      <th>80</th>\n",
       "      <td>MAIL</td>\n",
       "      <td>D</td>\n",
       "      <td>20210409</td>\n",
       "      <td>0</td>\n",
       "      <td>1717.2</td>\n",
       "    </tr>\n",
       "    <tr>\n",
       "      <th>81</th>\n",
       "      <td>MAIL</td>\n",
       "      <td>D</td>\n",
       "      <td>20210412</td>\n",
       "      <td>0</td>\n",
       "      <td>1750.8</td>\n",
       "    </tr>\n",
       "  </tbody>\n",
       "</table>\n",
       "<p>82 rows × 5 columns</p>\n",
       "</div>"
      ],
      "text/plain": [
       "   <TICKER> <PER>    <DATE>  <TIME>  <CLOSE>\n",
       "0      MAIL     D  20201214       0   2085.2\n",
       "1      MAIL     D  20201215       0   2086.0\n",
       "2      MAIL     D  20201216       0   2063.8\n",
       "3      MAIL     D  20201217       0   2049.6\n",
       "4      MAIL     D  20201218       0   2007.4\n",
       "..      ...   ...       ...     ...      ...\n",
       "77     MAIL     D  20210406       0   1759.4\n",
       "78     MAIL     D  20210407       0   1748.0\n",
       "79     MAIL     D  20210408       0   1743.6\n",
       "80     MAIL     D  20210409       0   1717.2\n",
       "81     MAIL     D  20210412       0   1750.8\n",
       "\n",
       "[82 rows x 5 columns]"
      ]
     },
     "execution_count": 2,
     "metadata": {},
     "output_type": "execute_result"
    }
   ],
   "source": [
    "data = pd.read_csv(\"./Data/MAIL_201214_210412.csv\", sep=\";\")\n",
    "data"
   ]
  },
  {
   "cell_type": "code",
   "execution_count": 3,
   "metadata": {},
   "outputs": [
    {
     "name": "stdout",
     "output_type": "stream",
     "text": [
      "<class 'pandas.core.frame.DataFrame'>\n",
      "RangeIndex: 82 entries, 0 to 81\n",
      "Data columns (total 5 columns):\n",
      " #   Column    Non-Null Count  Dtype  \n",
      "---  ------    --------------  -----  \n",
      " 0   <TICKER>  82 non-null     object \n",
      " 1   <PER>     82 non-null     object \n",
      " 2   <DATE>    82 non-null     int64  \n",
      " 3   <TIME>    82 non-null     int64  \n",
      " 4   <CLOSE>   82 non-null     float64\n",
      "dtypes: float64(1), int64(2), object(2)\n",
      "memory usage: 3.3+ KB\n"
     ]
    }
   ],
   "source": [
    "data.info()"
   ]
  },
  {
   "cell_type": "code",
   "execution_count": 4,
   "metadata": {},
   "outputs": [
    {
     "data": {
      "text/html": [
       "<div>\n",
       "<style scoped>\n",
       "    .dataframe tbody tr th:only-of-type {\n",
       "        vertical-align: middle;\n",
       "    }\n",
       "\n",
       "    .dataframe tbody tr th {\n",
       "        vertical-align: top;\n",
       "    }\n",
       "\n",
       "    .dataframe thead th {\n",
       "        text-align: right;\n",
       "    }\n",
       "</style>\n",
       "<table border=\"1\" class=\"dataframe\">\n",
       "  <thead>\n",
       "    <tr style=\"text-align: right;\">\n",
       "      <th></th>\n",
       "      <th>&lt;TICKER&gt;</th>\n",
       "      <th>&lt;PER&gt;</th>\n",
       "      <th>&lt;DATE&gt;</th>\n",
       "      <th>&lt;TIME&gt;</th>\n",
       "      <th>&lt;CLOSE&gt;</th>\n",
       "    </tr>\n",
       "  </thead>\n",
       "  <tbody>\n",
       "    <tr>\n",
       "      <th>0</th>\n",
       "      <td>MAIL</td>\n",
       "      <td>D</td>\n",
       "      <td>2020-12-14</td>\n",
       "      <td>0</td>\n",
       "      <td>2085.2</td>\n",
       "    </tr>\n",
       "    <tr>\n",
       "      <th>1</th>\n",
       "      <td>MAIL</td>\n",
       "      <td>D</td>\n",
       "      <td>2020-12-15</td>\n",
       "      <td>0</td>\n",
       "      <td>2086.0</td>\n",
       "    </tr>\n",
       "    <tr>\n",
       "      <th>2</th>\n",
       "      <td>MAIL</td>\n",
       "      <td>D</td>\n",
       "      <td>2020-12-16</td>\n",
       "      <td>0</td>\n",
       "      <td>2063.8</td>\n",
       "    </tr>\n",
       "    <tr>\n",
       "      <th>3</th>\n",
       "      <td>MAIL</td>\n",
       "      <td>D</td>\n",
       "      <td>2020-12-17</td>\n",
       "      <td>0</td>\n",
       "      <td>2049.6</td>\n",
       "    </tr>\n",
       "    <tr>\n",
       "      <th>4</th>\n",
       "      <td>MAIL</td>\n",
       "      <td>D</td>\n",
       "      <td>2020-12-18</td>\n",
       "      <td>0</td>\n",
       "      <td>2007.4</td>\n",
       "    </tr>\n",
       "    <tr>\n",
       "      <th>...</th>\n",
       "      <td>...</td>\n",
       "      <td>...</td>\n",
       "      <td>...</td>\n",
       "      <td>...</td>\n",
       "      <td>...</td>\n",
       "    </tr>\n",
       "    <tr>\n",
       "      <th>77</th>\n",
       "      <td>MAIL</td>\n",
       "      <td>D</td>\n",
       "      <td>2021-04-06</td>\n",
       "      <td>0</td>\n",
       "      <td>1759.4</td>\n",
       "    </tr>\n",
       "    <tr>\n",
       "      <th>78</th>\n",
       "      <td>MAIL</td>\n",
       "      <td>D</td>\n",
       "      <td>2021-04-07</td>\n",
       "      <td>0</td>\n",
       "      <td>1748.0</td>\n",
       "    </tr>\n",
       "    <tr>\n",
       "      <th>79</th>\n",
       "      <td>MAIL</td>\n",
       "      <td>D</td>\n",
       "      <td>2021-04-08</td>\n",
       "      <td>0</td>\n",
       "      <td>1743.6</td>\n",
       "    </tr>\n",
       "    <tr>\n",
       "      <th>80</th>\n",
       "      <td>MAIL</td>\n",
       "      <td>D</td>\n",
       "      <td>2021-04-09</td>\n",
       "      <td>0</td>\n",
       "      <td>1717.2</td>\n",
       "    </tr>\n",
       "    <tr>\n",
       "      <th>81</th>\n",
       "      <td>MAIL</td>\n",
       "      <td>D</td>\n",
       "      <td>2021-04-12</td>\n",
       "      <td>0</td>\n",
       "      <td>1750.8</td>\n",
       "    </tr>\n",
       "  </tbody>\n",
       "</table>\n",
       "<p>82 rows × 5 columns</p>\n",
       "</div>"
      ],
      "text/plain": [
       "   <TICKER> <PER>     <DATE>  <TIME>  <CLOSE>\n",
       "0      MAIL     D 2020-12-14       0   2085.2\n",
       "1      MAIL     D 2020-12-15       0   2086.0\n",
       "2      MAIL     D 2020-12-16       0   2063.8\n",
       "3      MAIL     D 2020-12-17       0   2049.6\n",
       "4      MAIL     D 2020-12-18       0   2007.4\n",
       "..      ...   ...        ...     ...      ...\n",
       "77     MAIL     D 2021-04-06       0   1759.4\n",
       "78     MAIL     D 2021-04-07       0   1748.0\n",
       "79     MAIL     D 2021-04-08       0   1743.6\n",
       "80     MAIL     D 2021-04-09       0   1717.2\n",
       "81     MAIL     D 2021-04-12       0   1750.8\n",
       "\n",
       "[82 rows x 5 columns]"
      ]
     },
     "execution_count": 4,
     "metadata": {},
     "output_type": "execute_result"
    }
   ],
   "source": [
    "data[\"<DATE>\"]=data[\"<DATE>\"].apply(lambda x : dt.strptime(str(x),\"%Y%m%d\"))\n",
    "data"
   ]
  },
  {
   "cell_type": "code",
   "execution_count": 5,
   "metadata": {},
   "outputs": [
    {
     "name": "stdout",
     "output_type": "stream",
     "text": [
      "<class 'pandas.core.frame.DataFrame'>\n",
      "RangeIndex: 82 entries, 0 to 81\n",
      "Data columns (total 5 columns):\n",
      " #   Column    Non-Null Count  Dtype         \n",
      "---  ------    --------------  -----         \n",
      " 0   <TICKER>  82 non-null     object        \n",
      " 1   <PER>     82 non-null     object        \n",
      " 2   <DATE>    82 non-null     datetime64[ns]\n",
      " 3   <TIME>    82 non-null     int64         \n",
      " 4   <CLOSE>   82 non-null     float64       \n",
      "dtypes: datetime64[ns](1), float64(1), int64(1), object(2)\n",
      "memory usage: 3.3+ KB\n"
     ]
    }
   ],
   "source": [
    "data.info()"
   ]
  },
  {
   "cell_type": "markdown",
   "metadata": {},
   "source": [
    "# 2. Линия тренда\n",
    "\n",
    "## 2.1. Линейная модель\n",
    "\n",
    "Построим модель вида\n",
    "$$\n",
    "\\widehat{y}=a+b\\cdot{x}\n",
    "$$"
   ]
  },
  {
   "cell_type": "code",
   "execution_count": 6,
   "metadata": {},
   "outputs": [
    {
     "name": "stdout",
     "output_type": "stream",
     "text": [
      "a=2091.52, b=-3.78\n"
     ]
    }
   ],
   "source": [
    "y = data[\"<CLOSE>\"]\n",
    "x = np.arange(1, len(data)+1)\n",
    "n = len(data)\n",
    "\n",
    "cov_xy = np.cov(x, y)[0,1]\n",
    "disp_x = np.std(x)**2\n",
    "b = cov_xy / disp_x\n",
    "a = np.mean(y) - b * np.mean(x)\n",
    "y_model = a + b * x\n",
    "print(f'a={round(a,2)}, b={round(b,2)}')"
   ]
  },
  {
   "cell_type": "code",
   "execution_count": 7,
   "metadata": {
    "scrolled": true
   },
   "outputs": [
    {
     "data": {
      "image/png": "[encoded data removed]",
      "text/plain": [
       "<Figure size 792x288 with 1 Axes>"
      ]
     },
     "metadata": {
      "needs_background": "light"
     },
     "output_type": "display_data"
    }
   ],
   "source": [
    "plt.figure(figsize=(11,4))\n",
    "plt.title(\"Динамика цены акций Mail.ru\")\n",
    "plt.plot(x, y, label = \"Цена\")\n",
    "plt.plot(x, y_model, label = \"Линия тренда\")\n",
    "plt.xticks(ticks=np.arange(0,n,10), \n",
    "           labels=data[\"<DATE>\"].apply(lambda x: dt.strftime(x,\"%Y-%m-%d\"))[::10])\n",
    "plt.grid()\n",
    "plt.legend();"
   ]
  },
  {
   "cell_type": "markdown",
   "metadata": {},
   "source": [
    "Рассчитаем $ R^2 $ по формуле\n",
    "$$\n",
    "R^2=\\frac{D_y - D_{\\epsilon}}{D_y}\n",
    "$$\n",
    "\n",
    "где $D_y$ - дисперсия цены акции, $D_{\\epsilon}$ - дисперсия остатков модели."
   ]
  },
  {
   "cell_type": "code",
   "execution_count": 8,
   "metadata": {
    "scrolled": false
   },
   "outputs": [
    {
     "name": "stdout",
     "output_type": "stream",
     "text": [
      "Дисперсия цены 12070.191\n",
      "Дисперсия остатков модели 4275.773\n",
      "R^2 = 0.646\n"
     ]
    }
   ],
   "source": [
    "disp_y = np.sum((y - np.mean(y))**2/n)\n",
    "disp_epsilon = np.sum((y - y_model)**2/n)\n",
    "\n",
    "print(\"Дисперсия цены\", round(disp_y,3))\n",
    "print(\"Дисперсия остатков модели\", round(disp_epsilon,3))\n",
    "\n",
    "R2 = (disp_y - disp_epsilon) / disp_y\n",
    "print(\"R^2 =\", round(R2,3))"
   ]
  },
  {
   "cell_type": "markdown",
   "metadata": {},
   "source": [
    "## 2.2. Нелинейная модель\n",
    "\n",
    "Построим модель вида\n",
    "$$\n",
    "\\widehat{y}=a+b\\cdot{x}+c\\cdot{x^2}\n",
    "$$\n",
    "\n",
    "Найдем вектор параметров $w = (a, b, c)$, применив метод наименьших квадратов. \n",
    "\n",
    "$$\n",
    "\\widehat{y} = \\sum_{i=0}^I w_i x_{i} = X{w}^T\n",
    "$$\n",
    "\n",
    "Решив уравнение в матричном виде, получим соотношение\n",
    "\n",
    "$$ w=({X}^{T} {X})^{-1} {X}^{T}{y} $$\n",
    "\n",
    "где $X$ - матрица признаков, $y$ - вектор значений цены акции.\n",
    "\n",
    "Вектор $y$ известен и содержится в исходных данных. Сформируем матрицу $X$."
   ]
  },
  {
   "cell_type": "code",
   "execution_count": 9,
   "metadata": {},
   "outputs": [
    {
     "name": "stdout",
     "output_type": "stream",
     "text": [
      "[[ 1.  1.  1.]\n",
      " [ 1.  2.  4.]\n",
      " [ 1.  3.  9.]\n",
      " [ 1.  4. 16.]\n",
      " [ 1.  5. 25.]]\n"
     ]
    }
   ],
   "source": [
    "x0=np.ones(len(data))\n",
    "x1=x\n",
    "x2 = x**2\n",
    "X=np.stack((x0,x1,x2),axis=1)\n",
    "print(X[:5])"
   ]
  },
  {
   "cell_type": "code",
   "execution_count": 10,
   "metadata": {
    "scrolled": true
   },
   "outputs": [
    {
     "name": "stdout",
     "output_type": "stream",
     "text": [
      "[ 1.98877724e+03  3.47169367e+00 -8.67699991e-02]\n"
     ]
    }
   ],
   "source": [
    "w = np.dot(np.dot(np.linalg.inv(np.dot(X.T,X)),X.T),y)\n",
    "print(w)"
   ]
  },
  {
   "cell_type": "code",
   "execution_count": 11,
   "metadata": {},
   "outputs": [],
   "source": [
    "y_model = w[0]*X[:,0] + w[1]*X[:,1] + w[2]*X[:,2]"
   ]
  },
  {
   "cell_type": "code",
   "execution_count": 12,
   "metadata": {},
   "outputs": [
    {
     "data": {
      "image/png": "[encoded data removed]",
      "text/plain": [
       "<Figure size 864x288 with 1 Axes>"
      ]
     },
     "metadata": {
      "needs_background": "light"
     },
     "output_type": "display_data"
    }
   ],
   "source": [
    "plt.figure(figsize=(12,4))\n",
    "plt.plot(x, y, label=\"Цена акции\")\n",
    "plt.plot(x, y_model, label=\"Модель цены акции\")\n",
    "plt.grid()\n",
    "plt.xticks(ticks=np.arange(0,n,10), \n",
    "           labels=data[\"<DATE>\"].apply(lambda x: dt.strftime(x,\"%Y-%m-%d\"))[::10])\n",
    "plt.legend();"
   ]
  },
  {
   "cell_type": "markdown",
   "metadata": {},
   "source": [
    "Рассчитаем $R^2$ нелинейной модели"
   ]
  },
  {
   "cell_type": "code",
   "execution_count": 13,
   "metadata": {},
   "outputs": [
    {
     "name": "stdout",
     "output_type": "stream",
     "text": [
      "Дисперсия цены 12070.191\n",
      "Дисперсия цены относительно модели 2384.858\n",
      "R^2 = 0.802\n"
     ]
    }
   ],
   "source": [
    "disp_epsilon = np.sum((y - y_model)**2/n)\n",
    "print(\"Дисперсия цены\", round(disp_y,3))\n",
    "print(\"Дисперсия цены относительно модели\", round(disp_epsilon,3))\n",
    "\n",
    "R2 = (disp_y - disp_epsilon) / disp_y\n",
    "print(\"R^2 =\", round(R2,3))"
   ]
  },
  {
   "cell_type": "markdown",
   "metadata": {},
   "source": [
    "<u>Вывод</u>.\n",
    "\n",
    "$R^2$ нелинейной модели значительно ближе к единице. Исходя из значений $R^2$ для линейной и нелинейной моделей, можно сделать вывод о том, что нелинейная модель лучше интерполирует имеющиеся данные о динамике цены акций."
   ]
  }
 ],
 "metadata": {
  "kernelspec": {
   "display_name": "Python 3",
   "language": "python",
   "name": "python3"
  },
  "language_info": {
   "codemirror_mode": {
    "name": "ipython",
    "version": 3
   },
   "file_extension": ".py",
   "mimetype": "text/x-python",
   "name": "python",
   "nbconvert_exporter": "python",
   "pygments_lexer": "ipython3",
   "version": "3.7.6"
  }
 },
 "nbformat": 4,
 "nbformat_minor": 4
}
