{
 "cells": [
  {
   "cell_type": "markdown",
   "metadata": {
    "id": "lzzjKBePmJ8a"
   },
   "source": [
    "<img src=\"./Img/banner-fa-49-2.jpg\">\n",
    "12 апреля 2021 года, ВМ/305-1(кк)\n",
    "\n",
    "# Тема 5. Анализ временных рядов\n",
    "\n",
    "Студенты: Поток У18-7у<br>\n",
    "Преподаватель: Смирнов Михаил Викторович, доцент Департамента Анализа данных и машинного обучения Финансового университета при Правительстве Российской Федерации"
   ]
  },
  {
   "cell_type": "markdown",
   "metadata": {
    "id": "8tZigpCezdKV"
   },
   "source": [
    "Задание. Имеется файл с информацией об изменении цены акции Apple за период времени. Построить график динамики и линию тренда по значению цены закрытия. Построить гистограмму. В процессе выполнения задания необходимо преобразовать данные к типу даты и числа, где это необходимо."
   ]
  },
  {
   "cell_type": "markdown",
   "metadata": {
    "id": "8ZcmXKePo66-"
   },
   "source": [
    "Файл с данными: *HistoricPricesappleBAE.csv* находится в папке *Data*. Источник: https://www.finanz.ru"
   ]
  },
  {
   "cell_type": "code",
   "execution_count": 2,
   "metadata": {
    "id": "xGPTjc8bvDPa"
   },
   "outputs": [],
   "source": [
    "import pandas as pd\n",
    "import numpy as np\n",
    "import matplotlib.pyplot as plt\n",
    "%matplotlib inline"
   ]
  },
  {
   "cell_type": "markdown",
   "metadata": {
    "id": "Ea122K_0xYdL"
   },
   "source": [
    "Создадим таблицу - объект *DataFrame*"
   ]
  },
  {
   "cell_type": "code",
   "execution_count": 3,
   "metadata": {
    "id": "QHy-qCRexWRZ"
   },
   "outputs": [
    {
     "data": {
      "text/html": [
       "<div>\n",
       "<style scoped>\n",
       "    .dataframe tbody tr th:only-of-type {\n",
       "        vertical-align: middle;\n",
       "    }\n",
       "\n",
       "    .dataframe tbody tr th {\n",
       "        vertical-align: top;\n",
       "    }\n",
       "\n",
       "    .dataframe thead th {\n",
       "        text-align: right;\n",
       "    }\n",
       "</style>\n",
       "<table border=\"1\" class=\"dataframe\">\n",
       "  <thead>\n",
       "    <tr style=\"text-align: right;\">\n",
       "      <th></th>\n",
       "      <th>Date</th>\n",
       "      <th>Open</th>\n",
       "      <th>ClosingPrice</th>\n",
       "      <th>DailyHigh</th>\n",
       "      <th>DailyLow</th>\n",
       "      <th>VolumePcs</th>\n",
       "    </tr>\n",
       "  </thead>\n",
       "  <tbody>\n",
       "    <tr>\n",
       "      <th>0</th>\n",
       "      <td>06.11.2020</td>\n",
       "      <td>NaN</td>\n",
       "      <td>99,91500</td>\n",
       "      <td>100,27000</td>\n",
       "      <td>99,42500</td>\n",
       "      <td>NaN</td>\n",
       "    </tr>\n",
       "    <tr>\n",
       "      <th>1</th>\n",
       "      <td>05.11.2020</td>\n",
       "      <td>NaN</td>\n",
       "      <td>100,60000</td>\n",
       "      <td>100,86000</td>\n",
       "      <td>100,13000</td>\n",
       "      <td>NaN</td>\n",
       "    </tr>\n",
       "    <tr>\n",
       "      <th>2</th>\n",
       "      <td>04.11.2020</td>\n",
       "      <td>NaN</td>\n",
       "      <td>98,09500</td>\n",
       "      <td>98,51500</td>\n",
       "      <td>97,69500</td>\n",
       "      <td>NaN</td>\n",
       "    </tr>\n",
       "    <tr>\n",
       "      <th>3</th>\n",
       "      <td>03.11.2020</td>\n",
       "      <td>NaN</td>\n",
       "      <td>94,35500</td>\n",
       "      <td>95,24000</td>\n",
       "      <td>93,81500</td>\n",
       "      <td>NaN</td>\n",
       "    </tr>\n",
       "    <tr>\n",
       "      <th>4</th>\n",
       "      <td>02.11.2020</td>\n",
       "      <td>NaN</td>\n",
       "      <td>93,39500</td>\n",
       "      <td>93,45000</td>\n",
       "      <td>92,34000</td>\n",
       "      <td>NaN</td>\n",
       "    </tr>\n",
       "    <tr>\n",
       "      <th>...</th>\n",
       "      <td>...</td>\n",
       "      <td>...</td>\n",
       "      <td>...</td>\n",
       "      <td>...</td>\n",
       "      <td>...</td>\n",
       "      <td>...</td>\n",
       "    </tr>\n",
       "    <tr>\n",
       "      <th>208</th>\n",
       "      <td>08.01.2020</td>\n",
       "      <td>NaN</td>\n",
       "      <td>68,20625</td>\n",
       "      <td>68,50625</td>\n",
       "      <td>67,98750</td>\n",
       "      <td>NaN</td>\n",
       "    </tr>\n",
       "    <tr>\n",
       "      <th>209</th>\n",
       "      <td>07.01.2020</td>\n",
       "      <td>NaN</td>\n",
       "      <td>66,93125</td>\n",
       "      <td>67,32500</td>\n",
       "      <td>66,84375</td>\n",
       "      <td>NaN</td>\n",
       "    </tr>\n",
       "    <tr>\n",
       "      <th>210</th>\n",
       "      <td>06.01.2020</td>\n",
       "      <td>NaN</td>\n",
       "      <td>66,95000</td>\n",
       "      <td>67,00625</td>\n",
       "      <td>66,78750</td>\n",
       "      <td>NaN</td>\n",
       "    </tr>\n",
       "    <tr>\n",
       "      <th>211</th>\n",
       "      <td>03.01.2020</td>\n",
       "      <td>NaN</td>\n",
       "      <td>66,61250</td>\n",
       "      <td>67,26250</td>\n",
       "      <td>66,61250</td>\n",
       "      <td>NaN</td>\n",
       "    </tr>\n",
       "    <tr>\n",
       "      <th>212</th>\n",
       "      <td>02.01.2020</td>\n",
       "      <td>NaN</td>\n",
       "      <td>67,28750</td>\n",
       "      <td>67,28750</td>\n",
       "      <td>66,71250</td>\n",
       "      <td>NaN</td>\n",
       "    </tr>\n",
       "  </tbody>\n",
       "</table>\n",
       "<p>213 rows × 6 columns</p>\n",
       "</div>"
      ],
      "text/plain": [
       "           Date  Open ClosingPrice  DailyHigh   DailyLow  VolumePcs\n",
       "0    06.11.2020   NaN     99,91500  100,27000   99,42500        NaN\n",
       "1    05.11.2020   NaN    100,60000  100,86000  100,13000        NaN\n",
       "2    04.11.2020   NaN     98,09500   98,51500   97,69500        NaN\n",
       "3    03.11.2020   NaN     94,35500   95,24000   93,81500        NaN\n",
       "4    02.11.2020   NaN     93,39500   93,45000   92,34000        NaN\n",
       "..          ...   ...          ...        ...        ...        ...\n",
       "208  08.01.2020   NaN     68,20625   68,50625   67,98750        NaN\n",
       "209  07.01.2020   NaN     66,93125   67,32500   66,84375        NaN\n",
       "210  06.01.2020   NaN     66,95000   67,00625   66,78750        NaN\n",
       "211  03.01.2020   NaN     66,61250   67,26250   66,61250        NaN\n",
       "212  02.01.2020   NaN     67,28750   67,28750   66,71250        NaN\n",
       "\n",
       "[213 rows x 6 columns]"
      ]
     },
     "execution_count": 3,
     "metadata": {},
     "output_type": "execute_result"
    }
   ],
   "source": [
    "df = pd.read_csv('Data/HistoricPricesappleBAE.csv', sep=';')\n",
    "df"
   ]
  },
  {
   "cell_type": "markdown",
   "metadata": {
    "id": "7jbL24qDyg_V"
   },
   "source": [
    "Для получения краткой информации о *df* используем метод **_info()_**"
   ]
  },
  {
   "cell_type": "code",
   "execution_count": 3,
   "metadata": {
    "colab": {
     "base_uri": "https://localhost:8080/"
    },
    "id": "hYZEiigGyYY9",
    "outputId": "cd2ce1ee-713a-45b9-c131-4fe8d8ce1e01"
   },
   "outputs": [
    {
     "name": "stdout",
     "output_type": "stream",
     "text": [
      "<class 'pandas.core.frame.DataFrame'>\n",
      "RangeIndex: 213 entries, 0 to 212\n",
      "Data columns (total 6 columns):\n",
      " #   Column        Non-Null Count  Dtype  \n",
      "---  ------        --------------  -----  \n",
      " 0   Date          213 non-null    object \n",
      " 1   Open          0 non-null      float64\n",
      " 2   ClosingPrice  213 non-null    object \n",
      " 3   DailyHigh     209 non-null    object \n",
      " 4   DailyLow      209 non-null    object \n",
      " 5   VolumePcs     0 non-null      float64\n",
      "dtypes: float64(2), object(4)\n",
      "memory usage: 10.1+ KB\n"
     ]
    }
   ],
   "source": [
    "df.info()"
   ]
  },
  {
   "cell_type": "markdown",
   "metadata": {
    "id": "IJt5ZBp57-35"
   },
   "source": [
    "Столбцы *Date* и *ClosingPrice* имеют тип 'object'. Проведем преобразование типов."
   ]
  },
  {
   "cell_type": "code",
   "execution_count": 4,
   "metadata": {
    "colab": {
     "base_uri": "https://localhost:8080/",
     "height": 423
    },
    "id": "Y8TWk0SQ3lUo",
    "outputId": "295248ae-bf1b-4b76-a089-63ee79d35417"
   },
   "outputs": [],
   "source": [
    "df['ClosingPrice'] = df['ClosingPrice'].str.replace(',', '.')\n",
    "df['ClosingPrice'] = pd.to_numeric(df['ClosingPrice'])\n",
    "df['Date'] = pd.to_datetime(df['Date'], dayfirst=True)"
   ]
  },
  {
   "cell_type": "code",
   "execution_count": 5,
   "metadata": {},
   "outputs": [
    {
     "data": {
      "text/html": [
       "<div>\n",
       "<style scoped>\n",
       "    .dataframe tbody tr th:only-of-type {\n",
       "        vertical-align: middle;\n",
       "    }\n",
       "\n",
       "    .dataframe tbody tr th {\n",
       "        vertical-align: top;\n",
       "    }\n",
       "\n",
       "    .dataframe thead th {\n",
       "        text-align: right;\n",
       "    }\n",
       "</style>\n",
       "<table border=\"1\" class=\"dataframe\">\n",
       "  <thead>\n",
       "    <tr style=\"text-align: right;\">\n",
       "      <th></th>\n",
       "      <th>Date</th>\n",
       "      <th>Open</th>\n",
       "      <th>ClosingPrice</th>\n",
       "      <th>DailyHigh</th>\n",
       "      <th>DailyLow</th>\n",
       "      <th>VolumePcs</th>\n",
       "    </tr>\n",
       "  </thead>\n",
       "  <tbody>\n",
       "    <tr>\n",
       "      <th>0</th>\n",
       "      <td>2020-11-06</td>\n",
       "      <td>NaN</td>\n",
       "      <td>99.91500</td>\n",
       "      <td>100,27000</td>\n",
       "      <td>99,42500</td>\n",
       "      <td>NaN</td>\n",
       "    </tr>\n",
       "    <tr>\n",
       "      <th>1</th>\n",
       "      <td>2020-11-05</td>\n",
       "      <td>NaN</td>\n",
       "      <td>100.60000</td>\n",
       "      <td>100,86000</td>\n",
       "      <td>100,13000</td>\n",
       "      <td>NaN</td>\n",
       "    </tr>\n",
       "    <tr>\n",
       "      <th>2</th>\n",
       "      <td>2020-11-04</td>\n",
       "      <td>NaN</td>\n",
       "      <td>98.09500</td>\n",
       "      <td>98,51500</td>\n",
       "      <td>97,69500</td>\n",
       "      <td>NaN</td>\n",
       "    </tr>\n",
       "    <tr>\n",
       "      <th>3</th>\n",
       "      <td>2020-11-03</td>\n",
       "      <td>NaN</td>\n",
       "      <td>94.35500</td>\n",
       "      <td>95,24000</td>\n",
       "      <td>93,81500</td>\n",
       "      <td>NaN</td>\n",
       "    </tr>\n",
       "    <tr>\n",
       "      <th>4</th>\n",
       "      <td>2020-11-02</td>\n",
       "      <td>NaN</td>\n",
       "      <td>93.39500</td>\n",
       "      <td>93,45000</td>\n",
       "      <td>92,34000</td>\n",
       "      <td>NaN</td>\n",
       "    </tr>\n",
       "    <tr>\n",
       "      <th>...</th>\n",
       "      <td>...</td>\n",
       "      <td>...</td>\n",
       "      <td>...</td>\n",
       "      <td>...</td>\n",
       "      <td>...</td>\n",
       "      <td>...</td>\n",
       "    </tr>\n",
       "    <tr>\n",
       "      <th>208</th>\n",
       "      <td>2020-01-08</td>\n",
       "      <td>NaN</td>\n",
       "      <td>68.20625</td>\n",
       "      <td>68,50625</td>\n",
       "      <td>67,98750</td>\n",
       "      <td>NaN</td>\n",
       "    </tr>\n",
       "    <tr>\n",
       "      <th>209</th>\n",
       "      <td>2020-01-07</td>\n",
       "      <td>NaN</td>\n",
       "      <td>66.93125</td>\n",
       "      <td>67,32500</td>\n",
       "      <td>66,84375</td>\n",
       "      <td>NaN</td>\n",
       "    </tr>\n",
       "    <tr>\n",
       "      <th>210</th>\n",
       "      <td>2020-01-06</td>\n",
       "      <td>NaN</td>\n",
       "      <td>66.95000</td>\n",
       "      <td>67,00625</td>\n",
       "      <td>66,78750</td>\n",
       "      <td>NaN</td>\n",
       "    </tr>\n",
       "    <tr>\n",
       "      <th>211</th>\n",
       "      <td>2020-01-03</td>\n",
       "      <td>NaN</td>\n",
       "      <td>66.61250</td>\n",
       "      <td>67,26250</td>\n",
       "      <td>66,61250</td>\n",
       "      <td>NaN</td>\n",
       "    </tr>\n",
       "    <tr>\n",
       "      <th>212</th>\n",
       "      <td>2020-01-02</td>\n",
       "      <td>NaN</td>\n",
       "      <td>67.28750</td>\n",
       "      <td>67,28750</td>\n",
       "      <td>66,71250</td>\n",
       "      <td>NaN</td>\n",
       "    </tr>\n",
       "  </tbody>\n",
       "</table>\n",
       "<p>213 rows × 6 columns</p>\n",
       "</div>"
      ],
      "text/plain": [
       "          Date  Open  ClosingPrice  DailyHigh   DailyLow  VolumePcs\n",
       "0   2020-11-06   NaN      99.91500  100,27000   99,42500        NaN\n",
       "1   2020-11-05   NaN     100.60000  100,86000  100,13000        NaN\n",
       "2   2020-11-04   NaN      98.09500   98,51500   97,69500        NaN\n",
       "3   2020-11-03   NaN      94.35500   95,24000   93,81500        NaN\n",
       "4   2020-11-02   NaN      93.39500   93,45000   92,34000        NaN\n",
       "..         ...   ...           ...        ...        ...        ...\n",
       "208 2020-01-08   NaN      68.20625   68,50625   67,98750        NaN\n",
       "209 2020-01-07   NaN      66.93125   67,32500   66,84375        NaN\n",
       "210 2020-01-06   NaN      66.95000   67,00625   66,78750        NaN\n",
       "211 2020-01-03   NaN      66.61250   67,26250   66,61250        NaN\n",
       "212 2020-01-02   NaN      67.28750   67,28750   66,71250        NaN\n",
       "\n",
       "[213 rows x 6 columns]"
      ]
     },
     "execution_count": 5,
     "metadata": {},
     "output_type": "execute_result"
    }
   ],
   "source": [
    "df"
   ]
  },
  {
   "cell_type": "code",
   "execution_count": 6,
   "metadata": {
    "colab": {
     "base_uri": "https://localhost:8080/"
    },
    "id": "p41ueTQN7LAv",
    "outputId": "80738537-3f07-4acd-cee2-34fa0b0d99a1",
    "scrolled": true
   },
   "outputs": [
    {
     "name": "stdout",
     "output_type": "stream",
     "text": [
      "<class 'pandas.core.frame.DataFrame'>\n",
      "RangeIndex: 213 entries, 0 to 212\n",
      "Data columns (total 6 columns):\n",
      " #   Column        Non-Null Count  Dtype         \n",
      "---  ------        --------------  -----         \n",
      " 0   Date          213 non-null    datetime64[ns]\n",
      " 1   Open          0 non-null      float64       \n",
      " 2   ClosingPrice  213 non-null    float64       \n",
      " 3   DailyHigh     209 non-null    object        \n",
      " 4   DailyLow      209 non-null    object        \n",
      " 5   VolumePcs     0 non-null      float64       \n",
      "dtypes: datetime64[ns](1), float64(3), object(2)\n",
      "memory usage: 10.1+ KB\n"
     ]
    }
   ],
   "source": [
    "df.info()"
   ]
  },
  {
   "cell_type": "markdown",
   "metadata": {
    "id": "qDmnyw-O8n_R"
   },
   "source": [
    "Теперь *Date* - это дата, а *ClosingPrice* - число."
   ]
  },
  {
   "cell_type": "markdown",
   "metadata": {
    "id": "Pdi3EkcwCvfy"
   },
   "source": [
    "Отсортируем по дате"
   ]
  },
  {
   "cell_type": "code",
   "execution_count": 10,
   "metadata": {
    "colab": {
     "base_uri": "https://localhost:8080/",
     "height": 423
    },
    "id": "9lHfwbZkC3Ub",
    "outputId": "534158b2-1d95-4b41-c453-17d6e1c715e4"
   },
   "outputs": [
    {
     "data": {
      "text/html": [
       "<div>\n",
       "<style scoped>\n",
       "    .dataframe tbody tr th:only-of-type {\n",
       "        vertical-align: middle;\n",
       "    }\n",
       "\n",
       "    .dataframe tbody tr th {\n",
       "        vertical-align: top;\n",
       "    }\n",
       "\n",
       "    .dataframe thead th {\n",
       "        text-align: right;\n",
       "    }\n",
       "</style>\n",
       "<table border=\"1\" class=\"dataframe\">\n",
       "  <thead>\n",
       "    <tr style=\"text-align: right;\">\n",
       "      <th></th>\n",
       "      <th>Date</th>\n",
       "      <th>Open</th>\n",
       "      <th>ClosingPrice</th>\n",
       "      <th>DailyHigh</th>\n",
       "      <th>DailyLow</th>\n",
       "      <th>VolumePcs</th>\n",
       "    </tr>\n",
       "  </thead>\n",
       "  <tbody>\n",
       "    <tr>\n",
       "      <th>212</th>\n",
       "      <td>2020-01-02</td>\n",
       "      <td>NaN</td>\n",
       "      <td>67.28750</td>\n",
       "      <td>67,28750</td>\n",
       "      <td>66,71250</td>\n",
       "      <td>NaN</td>\n",
       "    </tr>\n",
       "    <tr>\n",
       "      <th>211</th>\n",
       "      <td>2020-01-03</td>\n",
       "      <td>NaN</td>\n",
       "      <td>66.61250</td>\n",
       "      <td>67,26250</td>\n",
       "      <td>66,61250</td>\n",
       "      <td>NaN</td>\n",
       "    </tr>\n",
       "    <tr>\n",
       "      <th>210</th>\n",
       "      <td>2020-01-06</td>\n",
       "      <td>NaN</td>\n",
       "      <td>66.95000</td>\n",
       "      <td>67,00625</td>\n",
       "      <td>66,78750</td>\n",
       "      <td>NaN</td>\n",
       "    </tr>\n",
       "    <tr>\n",
       "      <th>209</th>\n",
       "      <td>2020-01-07</td>\n",
       "      <td>NaN</td>\n",
       "      <td>66.93125</td>\n",
       "      <td>67,32500</td>\n",
       "      <td>66,84375</td>\n",
       "      <td>NaN</td>\n",
       "    </tr>\n",
       "    <tr>\n",
       "      <th>208</th>\n",
       "      <td>2020-01-08</td>\n",
       "      <td>NaN</td>\n",
       "      <td>68.20625</td>\n",
       "      <td>68,50625</td>\n",
       "      <td>67,98750</td>\n",
       "      <td>NaN</td>\n",
       "    </tr>\n",
       "    <tr>\n",
       "      <th>...</th>\n",
       "      <td>...</td>\n",
       "      <td>...</td>\n",
       "      <td>...</td>\n",
       "      <td>...</td>\n",
       "      <td>...</td>\n",
       "      <td>...</td>\n",
       "    </tr>\n",
       "    <tr>\n",
       "      <th>4</th>\n",
       "      <td>2020-11-02</td>\n",
       "      <td>NaN</td>\n",
       "      <td>93.39500</td>\n",
       "      <td>93,45000</td>\n",
       "      <td>92,34000</td>\n",
       "      <td>NaN</td>\n",
       "    </tr>\n",
       "    <tr>\n",
       "      <th>3</th>\n",
       "      <td>2020-11-03</td>\n",
       "      <td>NaN</td>\n",
       "      <td>94.35500</td>\n",
       "      <td>95,24000</td>\n",
       "      <td>93,81500</td>\n",
       "      <td>NaN</td>\n",
       "    </tr>\n",
       "    <tr>\n",
       "      <th>2</th>\n",
       "      <td>2020-11-04</td>\n",
       "      <td>NaN</td>\n",
       "      <td>98.09500</td>\n",
       "      <td>98,51500</td>\n",
       "      <td>97,69500</td>\n",
       "      <td>NaN</td>\n",
       "    </tr>\n",
       "    <tr>\n",
       "      <th>1</th>\n",
       "      <td>2020-11-05</td>\n",
       "      <td>NaN</td>\n",
       "      <td>100.60000</td>\n",
       "      <td>100,86000</td>\n",
       "      <td>100,13000</td>\n",
       "      <td>NaN</td>\n",
       "    </tr>\n",
       "    <tr>\n",
       "      <th>0</th>\n",
       "      <td>2020-11-06</td>\n",
       "      <td>NaN</td>\n",
       "      <td>99.91500</td>\n",
       "      <td>100,27000</td>\n",
       "      <td>99,42500</td>\n",
       "      <td>NaN</td>\n",
       "    </tr>\n",
       "  </tbody>\n",
       "</table>\n",
       "<p>213 rows × 6 columns</p>\n",
       "</div>"
      ],
      "text/plain": [
       "          Date  Open  ClosingPrice  DailyHigh   DailyLow  VolumePcs\n",
       "212 2020-01-02   NaN      67.28750   67,28750   66,71250        NaN\n",
       "211 2020-01-03   NaN      66.61250   67,26250   66,61250        NaN\n",
       "210 2020-01-06   NaN      66.95000   67,00625   66,78750        NaN\n",
       "209 2020-01-07   NaN      66.93125   67,32500   66,84375        NaN\n",
       "208 2020-01-08   NaN      68.20625   68,50625   67,98750        NaN\n",
       "..         ...   ...           ...        ...        ...        ...\n",
       "4   2020-11-02   NaN      93.39500   93,45000   92,34000        NaN\n",
       "3   2020-11-03   NaN      94.35500   95,24000   93,81500        NaN\n",
       "2   2020-11-04   NaN      98.09500   98,51500   97,69500        NaN\n",
       "1   2020-11-05   NaN     100.60000  100,86000  100,13000        NaN\n",
       "0   2020-11-06   NaN      99.91500  100,27000   99,42500        NaN\n",
       "\n",
       "[213 rows x 6 columns]"
      ]
     },
     "execution_count": 10,
     "metadata": {},
     "output_type": "execute_result"
    }
   ],
   "source": [
    "df.sort_values(by='Date', inplace=True)\n",
    "df"
   ]
  },
  {
   "cell_type": "markdown",
   "metadata": {
    "id": "Vgu8NaxXYmyt"
   },
   "source": [
    "Перестроим индекс"
   ]
  },
  {
   "cell_type": "code",
   "execution_count": 11,
   "metadata": {},
   "outputs": [
    {
     "data": {
      "text/html": [
       "<div>\n",
       "<style scoped>\n",
       "    .dataframe tbody tr th:only-of-type {\n",
       "        vertical-align: middle;\n",
       "    }\n",
       "\n",
       "    .dataframe tbody tr th {\n",
       "        vertical-align: top;\n",
       "    }\n",
       "\n",
       "    .dataframe thead th {\n",
       "        text-align: right;\n",
       "    }\n",
       "</style>\n",
       "<table border=\"1\" class=\"dataframe\">\n",
       "  <thead>\n",
       "    <tr style=\"text-align: right;\">\n",
       "      <th></th>\n",
       "      <th>index</th>\n",
       "      <th>Date</th>\n",
       "      <th>Open</th>\n",
       "      <th>ClosingPrice</th>\n",
       "      <th>DailyHigh</th>\n",
       "      <th>DailyLow</th>\n",
       "      <th>VolumePcs</th>\n",
       "    </tr>\n",
       "  </thead>\n",
       "  <tbody>\n",
       "    <tr>\n",
       "      <th>0</th>\n",
       "      <td>212</td>\n",
       "      <td>2020-01-02</td>\n",
       "      <td>NaN</td>\n",
       "      <td>67.28750</td>\n",
       "      <td>67,28750</td>\n",
       "      <td>66,71250</td>\n",
       "      <td>NaN</td>\n",
       "    </tr>\n",
       "    <tr>\n",
       "      <th>1</th>\n",
       "      <td>211</td>\n",
       "      <td>2020-01-03</td>\n",
       "      <td>NaN</td>\n",
       "      <td>66.61250</td>\n",
       "      <td>67,26250</td>\n",
       "      <td>66,61250</td>\n",
       "      <td>NaN</td>\n",
       "    </tr>\n",
       "    <tr>\n",
       "      <th>2</th>\n",
       "      <td>210</td>\n",
       "      <td>2020-01-06</td>\n",
       "      <td>NaN</td>\n",
       "      <td>66.95000</td>\n",
       "      <td>67,00625</td>\n",
       "      <td>66,78750</td>\n",
       "      <td>NaN</td>\n",
       "    </tr>\n",
       "    <tr>\n",
       "      <th>3</th>\n",
       "      <td>209</td>\n",
       "      <td>2020-01-07</td>\n",
       "      <td>NaN</td>\n",
       "      <td>66.93125</td>\n",
       "      <td>67,32500</td>\n",
       "      <td>66,84375</td>\n",
       "      <td>NaN</td>\n",
       "    </tr>\n",
       "    <tr>\n",
       "      <th>4</th>\n",
       "      <td>208</td>\n",
       "      <td>2020-01-08</td>\n",
       "      <td>NaN</td>\n",
       "      <td>68.20625</td>\n",
       "      <td>68,50625</td>\n",
       "      <td>67,98750</td>\n",
       "      <td>NaN</td>\n",
       "    </tr>\n",
       "  </tbody>\n",
       "</table>\n",
       "</div>"
      ],
      "text/plain": [
       "   index       Date  Open  ClosingPrice DailyHigh  DailyLow  VolumePcs\n",
       "0    212 2020-01-02   NaN      67.28750  67,28750  66,71250        NaN\n",
       "1    211 2020-01-03   NaN      66.61250  67,26250  66,61250        NaN\n",
       "2    210 2020-01-06   NaN      66.95000  67,00625  66,78750        NaN\n",
       "3    209 2020-01-07   NaN      66.93125  67,32500  66,84375        NaN\n",
       "4    208 2020-01-08   NaN      68.20625  68,50625  67,98750        NaN"
      ]
     },
     "execution_count": 11,
     "metadata": {},
     "output_type": "execute_result"
    }
   ],
   "source": [
    "df.reset_index(inplace=True)\n",
    "df.head()"
   ]
  },
  {
   "cell_type": "code",
   "execution_count": 12,
   "metadata": {},
   "outputs": [
    {
     "data": {
      "text/html": [
       "<div>\n",
       "<style scoped>\n",
       "    .dataframe tbody tr th:only-of-type {\n",
       "        vertical-align: middle;\n",
       "    }\n",
       "\n",
       "    .dataframe tbody tr th {\n",
       "        vertical-align: top;\n",
       "    }\n",
       "\n",
       "    .dataframe thead th {\n",
       "        text-align: right;\n",
       "    }\n",
       "</style>\n",
       "<table border=\"1\" class=\"dataframe\">\n",
       "  <thead>\n",
       "    <tr style=\"text-align: right;\">\n",
       "      <th></th>\n",
       "      <th>Date</th>\n",
       "      <th>Open</th>\n",
       "      <th>ClosingPrice</th>\n",
       "      <th>DailyHigh</th>\n",
       "      <th>DailyLow</th>\n",
       "      <th>VolumePcs</th>\n",
       "    </tr>\n",
       "  </thead>\n",
       "  <tbody>\n",
       "    <tr>\n",
       "      <th>0</th>\n",
       "      <td>2020-01-02</td>\n",
       "      <td>NaN</td>\n",
       "      <td>67.28750</td>\n",
       "      <td>67,28750</td>\n",
       "      <td>66,71250</td>\n",
       "      <td>NaN</td>\n",
       "    </tr>\n",
       "    <tr>\n",
       "      <th>1</th>\n",
       "      <td>2020-01-03</td>\n",
       "      <td>NaN</td>\n",
       "      <td>66.61250</td>\n",
       "      <td>67,26250</td>\n",
       "      <td>66,61250</td>\n",
       "      <td>NaN</td>\n",
       "    </tr>\n",
       "    <tr>\n",
       "      <th>2</th>\n",
       "      <td>2020-01-06</td>\n",
       "      <td>NaN</td>\n",
       "      <td>66.95000</td>\n",
       "      <td>67,00625</td>\n",
       "      <td>66,78750</td>\n",
       "      <td>NaN</td>\n",
       "    </tr>\n",
       "    <tr>\n",
       "      <th>3</th>\n",
       "      <td>2020-01-07</td>\n",
       "      <td>NaN</td>\n",
       "      <td>66.93125</td>\n",
       "      <td>67,32500</td>\n",
       "      <td>66,84375</td>\n",
       "      <td>NaN</td>\n",
       "    </tr>\n",
       "    <tr>\n",
       "      <th>4</th>\n",
       "      <td>2020-01-08</td>\n",
       "      <td>NaN</td>\n",
       "      <td>68.20625</td>\n",
       "      <td>68,50625</td>\n",
       "      <td>67,98750</td>\n",
       "      <td>NaN</td>\n",
       "    </tr>\n",
       "  </tbody>\n",
       "</table>\n",
       "</div>"
      ],
      "text/plain": [
       "        Date  Open  ClosingPrice DailyHigh  DailyLow  VolumePcs\n",
       "0 2020-01-02   NaN      67.28750  67,28750  66,71250        NaN\n",
       "1 2020-01-03   NaN      66.61250  67,26250  66,61250        NaN\n",
       "2 2020-01-06   NaN      66.95000  67,00625  66,78750        NaN\n",
       "3 2020-01-07   NaN      66.93125  67,32500  66,84375        NaN\n",
       "4 2020-01-08   NaN      68.20625  68,50625  67,98750        NaN"
      ]
     },
     "execution_count": 12,
     "metadata": {},
     "output_type": "execute_result"
    }
   ],
   "source": [
    "df.drop(\"index\", axis=1, inplace=True)\n",
    "df.head()"
   ]
  },
  {
   "cell_type": "code",
   "execution_count": 47,
   "metadata": {
    "colab": {
     "base_uri": "https://localhost:8080/",
     "height": 339
    },
    "id": "vdTqJlqOEwI-",
    "outputId": "7f62b89e-7540-4878-e551-0347c6096603"
   },
   "outputs": [
    {
     "data": {
      "image/png": "[encoded data removed]",
      "text/plain": [
       "<Figure size 864x360 with 1 Axes>"
      ]
     },
     "metadata": {
      "needs_background": "light"
     },
     "output_type": "display_data"
    }
   ],
   "source": [
    "plt.figure(figsize=(12, 5))\n",
    "x = df['Date']\n",
    "y = df['ClosingPrice']\n",
    "plt.plot(x, y)\n",
    "plt.grid();"
   ]
  },
  {
   "cell_type": "markdown",
   "metadata": {
    "id": "By4mHwYB-CQR"
   },
   "source": [
    "Найдем параметры линии тренда. Создадим стобец с номером измерения, значения которого начинаются от 1"
   ]
  },
  {
   "cell_type": "code",
   "execution_count": 48,
   "metadata": {
    "colab": {
     "base_uri": "https://localhost:8080/",
     "height": 423
    },
    "id": "mi67KszZ9zJC",
    "outputId": "7785a377-451a-43b3-d5f4-c61f9e374d78"
   },
   "outputs": [
    {
     "data": {
      "text/html": [
       "<div>\n",
       "<style scoped>\n",
       "    .dataframe tbody tr th:only-of-type {\n",
       "        vertical-align: middle;\n",
       "    }\n",
       "\n",
       "    .dataframe tbody tr th {\n",
       "        vertical-align: top;\n",
       "    }\n",
       "\n",
       "    .dataframe thead th {\n",
       "        text-align: right;\n",
       "    }\n",
       "</style>\n",
       "<table border=\"1\" class=\"dataframe\">\n",
       "  <thead>\n",
       "    <tr style=\"text-align: right;\">\n",
       "      <th></th>\n",
       "      <th>Date</th>\n",
       "      <th>Open</th>\n",
       "      <th>ClosingPrice</th>\n",
       "      <th>DailyHigh</th>\n",
       "      <th>DailyLow</th>\n",
       "      <th>VolumePcs</th>\n",
       "      <th>No</th>\n",
       "      <th>Trend</th>\n",
       "    </tr>\n",
       "  </thead>\n",
       "  <tbody>\n",
       "    <tr>\n",
       "      <th>208</th>\n",
       "      <td>2020-11-02</td>\n",
       "      <td>NaN</td>\n",
       "      <td>93.395</td>\n",
       "      <td>93,45000</td>\n",
       "      <td>92,34000</td>\n",
       "      <td>NaN</td>\n",
       "      <td>209</td>\n",
       "      <td>1357.148641</td>\n",
       "    </tr>\n",
       "    <tr>\n",
       "      <th>209</th>\n",
       "      <td>2020-11-03</td>\n",
       "      <td>NaN</td>\n",
       "      <td>94.355</td>\n",
       "      <td>95,24000</td>\n",
       "      <td>93,81500</td>\n",
       "      <td>NaN</td>\n",
       "      <td>210</td>\n",
       "      <td>1369.670402</td>\n",
       "    </tr>\n",
       "    <tr>\n",
       "      <th>210</th>\n",
       "      <td>2020-11-04</td>\n",
       "      <td>NaN</td>\n",
       "      <td>98.095</td>\n",
       "      <td>98,51500</td>\n",
       "      <td>97,69500</td>\n",
       "      <td>NaN</td>\n",
       "      <td>211</td>\n",
       "      <td>1382.192162</td>\n",
       "    </tr>\n",
       "    <tr>\n",
       "      <th>211</th>\n",
       "      <td>2020-11-05</td>\n",
       "      <td>NaN</td>\n",
       "      <td>100.600</td>\n",
       "      <td>100,86000</td>\n",
       "      <td>100,13000</td>\n",
       "      <td>NaN</td>\n",
       "      <td>212</td>\n",
       "      <td>1394.713923</td>\n",
       "    </tr>\n",
       "    <tr>\n",
       "      <th>212</th>\n",
       "      <td>2020-11-06</td>\n",
       "      <td>NaN</td>\n",
       "      <td>99.915</td>\n",
       "      <td>100,27000</td>\n",
       "      <td>99,42500</td>\n",
       "      <td>NaN</td>\n",
       "      <td>213</td>\n",
       "      <td>1407.235684</td>\n",
       "    </tr>\n",
       "  </tbody>\n",
       "</table>\n",
       "</div>"
      ],
      "text/plain": [
       "          Date  Open  ClosingPrice  DailyHigh   DailyLow  VolumePcs   No  \\\n",
       "208 2020-11-02   NaN        93.395   93,45000   92,34000        NaN  209   \n",
       "209 2020-11-03   NaN        94.355   95,24000   93,81500        NaN  210   \n",
       "210 2020-11-04   NaN        98.095   98,51500   97,69500        NaN  211   \n",
       "211 2020-11-05   NaN       100.600  100,86000  100,13000        NaN  212   \n",
       "212 2020-11-06   NaN        99.915  100,27000   99,42500        NaN  213   \n",
       "\n",
       "           Trend  \n",
       "208  1357.148641  \n",
       "209  1369.670402  \n",
       "210  1382.192162  \n",
       "211  1394.713923  \n",
       "212  1407.235684  "
      ]
     },
     "execution_count": 48,
     "metadata": {},
     "output_type": "execute_result"
    }
   ],
   "source": [
    "df['No'] = pd.Series(np.arange(1, len(df)+1))\n",
    "df.tail()"
   ]
  },
  {
   "cell_type": "markdown",
   "metadata": {
    "id": "sdvMeyr0GRDq"
   },
   "source": [
    "$$\n",
    "y = a + b \\cdot x\n",
    "$$\n",
    "\n",
    "\n",
    "$$\n",
    "b=\\frac{cov(x,y)}{Disp_x}\n",
    "$$\n",
    "\n",
    "$$\n",
    "a=E(y)- b \\cdot E(x)\n",
    "$$"
   ]
  },
  {
   "cell_type": "code",
   "execution_count": 52,
   "metadata": {
    "colab": {
     "base_uri": "https://localhost:8080/"
    },
    "id": "Hy-XRqeEA1ls",
    "outputId": "663b6c8c-f0de-45fd-f89a-0a949a740be9"
   },
   "outputs": [
    {
     "data": {
      "text/plain": [
       "array([[ 218.22339044,  771.74080778],\n",
       "       [ 771.74080778, 3798.5       ]])"
      ]
     },
     "execution_count": 52,
     "metadata": {},
     "output_type": "execute_result"
    }
   ],
   "source": [
    "cov_matrix = np.cov(df['ClosingPrice'], df['No'])\n",
    "cov_matrix"
   ]
  },
  {
   "cell_type": "code",
   "execution_count": 53,
   "metadata": {
    "scrolled": true
   },
   "outputs": [
    {
     "name": "stdout",
     "output_type": "stream",
     "text": [
      "771.7408077830192\n"
     ]
    }
   ],
   "source": [
    "cov_xy=cov_matrix[1,0]\n",
    "print(cov_xy)"
   ]
  },
  {
   "cell_type": "code",
   "execution_count": 54,
   "metadata": {
    "colab": {
     "base_uri": "https://localhost:8080/"
    },
    "id": "WsNvg3nWIinw",
    "outputId": "bb318bdd-cf76-4e43-8914-40ba69f9483a"
   },
   "outputs": [
    {
     "data": {
      "text/plain": [
       "3798.5"
      ]
     },
     "execution_count": 54,
     "metadata": {},
     "output_type": "execute_result"
    }
   ],
   "source": [
    "disp_x = df['No'].std()**2\n",
    "disp_x"
   ]
  },
  {
   "cell_type": "code",
   "execution_count": 55,
   "metadata": {
    "colab": {
     "base_uri": "https://localhost:8080/"
    },
    "id": "qV4_MSiSIyWQ",
    "outputId": "8f10eb98-da1d-4b73-bf77-ff5e2d0900a5"
   },
   "outputs": [
    {
     "name": "stdout",
     "output_type": "stream",
     "text": [
      "58.18987161174592 0.2031698848974646\n"
     ]
    }
   ],
   "source": [
    "b = cov_xy / disp_x\n",
    "a = df['ClosingPrice'].mean() - b*df['No'].mean()\n",
    "print(a, b)"
   ]
  },
  {
   "cell_type": "code",
   "execution_count": 56,
   "metadata": {
    "colab": {
     "base_uri": "https://localhost:8080/",
     "height": 423
    },
    "id": "gtKtU2t6Bt9H",
    "outputId": "d1310331-04e9-4676-c34f-dce389ed9824"
   },
   "outputs": [
    {
     "data": {
      "text/html": [
       "<div>\n",
       "<style scoped>\n",
       "    .dataframe tbody tr th:only-of-type {\n",
       "        vertical-align: middle;\n",
       "    }\n",
       "\n",
       "    .dataframe tbody tr th {\n",
       "        vertical-align: top;\n",
       "    }\n",
       "\n",
       "    .dataframe thead th {\n",
       "        text-align: right;\n",
       "    }\n",
       "</style>\n",
       "<table border=\"1\" class=\"dataframe\">\n",
       "  <thead>\n",
       "    <tr style=\"text-align: right;\">\n",
       "      <th></th>\n",
       "      <th>Date</th>\n",
       "      <th>Open</th>\n",
       "      <th>ClosingPrice</th>\n",
       "      <th>DailyHigh</th>\n",
       "      <th>DailyLow</th>\n",
       "      <th>VolumePcs</th>\n",
       "      <th>No</th>\n",
       "      <th>Trend</th>\n",
       "    </tr>\n",
       "  </thead>\n",
       "  <tbody>\n",
       "    <tr>\n",
       "      <th>0</th>\n",
       "      <td>2020-01-02</td>\n",
       "      <td>NaN</td>\n",
       "      <td>67.28750</td>\n",
       "      <td>67,28750</td>\n",
       "      <td>66,71250</td>\n",
       "      <td>NaN</td>\n",
       "      <td>1</td>\n",
       "      <td>58.393041</td>\n",
       "    </tr>\n",
       "    <tr>\n",
       "      <th>1</th>\n",
       "      <td>2020-01-03</td>\n",
       "      <td>NaN</td>\n",
       "      <td>66.61250</td>\n",
       "      <td>67,26250</td>\n",
       "      <td>66,61250</td>\n",
       "      <td>NaN</td>\n",
       "      <td>2</td>\n",
       "      <td>58.596211</td>\n",
       "    </tr>\n",
       "    <tr>\n",
       "      <th>2</th>\n",
       "      <td>2020-01-06</td>\n",
       "      <td>NaN</td>\n",
       "      <td>66.95000</td>\n",
       "      <td>67,00625</td>\n",
       "      <td>66,78750</td>\n",
       "      <td>NaN</td>\n",
       "      <td>3</td>\n",
       "      <td>58.799381</td>\n",
       "    </tr>\n",
       "    <tr>\n",
       "      <th>3</th>\n",
       "      <td>2020-01-07</td>\n",
       "      <td>NaN</td>\n",
       "      <td>66.93125</td>\n",
       "      <td>67,32500</td>\n",
       "      <td>66,84375</td>\n",
       "      <td>NaN</td>\n",
       "      <td>4</td>\n",
       "      <td>59.002551</td>\n",
       "    </tr>\n",
       "    <tr>\n",
       "      <th>4</th>\n",
       "      <td>2020-01-08</td>\n",
       "      <td>NaN</td>\n",
       "      <td>68.20625</td>\n",
       "      <td>68,50625</td>\n",
       "      <td>67,98750</td>\n",
       "      <td>NaN</td>\n",
       "      <td>5</td>\n",
       "      <td>59.205721</td>\n",
       "    </tr>\n",
       "    <tr>\n",
       "      <th>...</th>\n",
       "      <td>...</td>\n",
       "      <td>...</td>\n",
       "      <td>...</td>\n",
       "      <td>...</td>\n",
       "      <td>...</td>\n",
       "      <td>...</td>\n",
       "      <td>...</td>\n",
       "      <td>...</td>\n",
       "    </tr>\n",
       "    <tr>\n",
       "      <th>208</th>\n",
       "      <td>2020-11-02</td>\n",
       "      <td>NaN</td>\n",
       "      <td>93.39500</td>\n",
       "      <td>93,45000</td>\n",
       "      <td>92,34000</td>\n",
       "      <td>NaN</td>\n",
       "      <td>209</td>\n",
       "      <td>100.652378</td>\n",
       "    </tr>\n",
       "    <tr>\n",
       "      <th>209</th>\n",
       "      <td>2020-11-03</td>\n",
       "      <td>NaN</td>\n",
       "      <td>94.35500</td>\n",
       "      <td>95,24000</td>\n",
       "      <td>93,81500</td>\n",
       "      <td>NaN</td>\n",
       "      <td>210</td>\n",
       "      <td>100.855547</td>\n",
       "    </tr>\n",
       "    <tr>\n",
       "      <th>210</th>\n",
       "      <td>2020-11-04</td>\n",
       "      <td>NaN</td>\n",
       "      <td>98.09500</td>\n",
       "      <td>98,51500</td>\n",
       "      <td>97,69500</td>\n",
       "      <td>NaN</td>\n",
       "      <td>211</td>\n",
       "      <td>101.058717</td>\n",
       "    </tr>\n",
       "    <tr>\n",
       "      <th>211</th>\n",
       "      <td>2020-11-05</td>\n",
       "      <td>NaN</td>\n",
       "      <td>100.60000</td>\n",
       "      <td>100,86000</td>\n",
       "      <td>100,13000</td>\n",
       "      <td>NaN</td>\n",
       "      <td>212</td>\n",
       "      <td>101.261887</td>\n",
       "    </tr>\n",
       "    <tr>\n",
       "      <th>212</th>\n",
       "      <td>2020-11-06</td>\n",
       "      <td>NaN</td>\n",
       "      <td>99.91500</td>\n",
       "      <td>100,27000</td>\n",
       "      <td>99,42500</td>\n",
       "      <td>NaN</td>\n",
       "      <td>213</td>\n",
       "      <td>101.465057</td>\n",
       "    </tr>\n",
       "  </tbody>\n",
       "</table>\n",
       "<p>213 rows × 8 columns</p>\n",
       "</div>"
      ],
      "text/plain": [
       "          Date  Open  ClosingPrice  DailyHigh   DailyLow  VolumePcs   No  \\\n",
       "0   2020-01-02   NaN      67.28750   67,28750   66,71250        NaN    1   \n",
       "1   2020-01-03   NaN      66.61250   67,26250   66,61250        NaN    2   \n",
       "2   2020-01-06   NaN      66.95000   67,00625   66,78750        NaN    3   \n",
       "3   2020-01-07   NaN      66.93125   67,32500   66,84375        NaN    4   \n",
       "4   2020-01-08   NaN      68.20625   68,50625   67,98750        NaN    5   \n",
       "..         ...   ...           ...        ...        ...        ...  ...   \n",
       "208 2020-11-02   NaN      93.39500   93,45000   92,34000        NaN  209   \n",
       "209 2020-11-03   NaN      94.35500   95,24000   93,81500        NaN  210   \n",
       "210 2020-11-04   NaN      98.09500   98,51500   97,69500        NaN  211   \n",
       "211 2020-11-05   NaN     100.60000  100,86000  100,13000        NaN  212   \n",
       "212 2020-11-06   NaN      99.91500  100,27000   99,42500        NaN  213   \n",
       "\n",
       "          Trend  \n",
       "0     58.393041  \n",
       "1     58.596211  \n",
       "2     58.799381  \n",
       "3     59.002551  \n",
       "4     59.205721  \n",
       "..          ...  \n",
       "208  100.652378  \n",
       "209  100.855547  \n",
       "210  101.058717  \n",
       "211  101.261887  \n",
       "212  101.465057  \n",
       "\n",
       "[213 rows x 8 columns]"
      ]
     },
     "execution_count": 56,
     "metadata": {},
     "output_type": "execute_result"
    }
   ],
   "source": [
    "df['Trend'] = a + b*df['No']\n",
    "df"
   ]
  },
  {
   "cell_type": "code",
   "execution_count": 57,
   "metadata": {
    "colab": {
     "base_uri": "https://localhost:8080/",
     "height": 355
    },
    "id": "Z-Kv_QyqVpiw",
    "outputId": "7e5d3ae2-b514-48d0-e6c0-f33f7b66b0f4"
   },
   "outputs": [
    {
     "data": {
      "text/plain": [
       "<matplotlib.legend.Legend at 0x1e0fdbe9a88>"
      ]
     },
     "execution_count": 57,
     "metadata": {},
     "output_type": "execute_result"
    },
    {
     "data": {
      "image/png": "[encoded data removed]",
      "text/plain": [
       "<Figure size 864x360 with 1 Axes>"
      ]
     },
     "metadata": {
      "needs_background": "light"
     },
     "output_type": "display_data"
    }
   ],
   "source": [
    "plt.figure(figsize=(12, 5))\n",
    "plt.title('Динамика цены акции Apple', loc='center')\n",
    "x = df['Date']\n",
    "y = df['ClosingPrice']\n",
    "plt.plot(x, y, label = 'Цена')\n",
    "plt.plot(x, df['Trend'], label='Линия тренда')\n",
    "plt.legend(loc='lower right')"
   ]
  },
  {
   "cell_type": "code",
   "execution_count": 46,
   "metadata": {
    "colab": {
     "base_uri": "https://localhost:8080/",
     "height": 284
    },
    "id": "t9fPMF48X527",
    "outputId": "28117f07-0ae0-4f74-d58e-f367f78ce7e6"
   },
   "outputs": [
    {
     "data": {
      "text/plain": [
       "<matplotlib.axes._subplots.AxesSubplot at 0x1e0fdab6708>"
      ]
     },
     "execution_count": 46,
     "metadata": {},
     "output_type": "execute_result"
    },
    {
     "data": {
      "image/png": "[encoded data removed]",
      "text/plain": [
       "<Figure size 432x288 with 1 Axes>"
      ]
     },
     "metadata": {
      "needs_background": "light"
     },
     "output_type": "display_data"
    }
   ],
   "source": [
    "df['ClosingPrice'].hist(bins=20)"
   ]
  },
  {
   "cell_type": "markdown",
   "metadata": {},
   "source": [
    "### Экспоненциальное сглаживание"
   ]
  },
  {
   "cell_type": "code",
   "execution_count": 59,
   "metadata": {},
   "outputs": [],
   "source": [
    "alfa = 0.1 # Начальное значение коэффициента сглаживания\n",
    "while alfa < 1: # выполняется цикл до тех пор, пока alfa меньше единицы\n",
    "  ExpColumnName = 'Exp0' + str(alfa)[2] # Формируем имя столбца сглаженных значений: Exp01, Exp02 и т. д. до Exp09\n",
    "  L = [] # Список, в который будем помещать сглаженные значения, сейчас он пуст\n",
    "  for i in range(len(df)): # создаем цикл от нуля до числа, равного числу строк в таблице минус один\n",
    "    if i == 0: # первый день\n",
    "      L.append(np.NaN) # добавляем в список пустое значение, так как сглаженного значения в первый день нет\n",
    "    elif i == 1: # второй день\n",
    "      L.append(df['ClosingPrice'][0]) # добавляем в список значение цены в первый день (строка с индексом [0])\n",
    "    else: # все последующие дни\n",
    "      L.append(alfa * df['ClosingPrice'][i-1] + (1-alfa) * L[i-1]) # добавляем в список сглаженное значение, сформированное из предыдущего значения цены и предыдущего значения списка\n",
    "  df[ExpColumnName] = pd.Series(L) # добавляем в датафрейм столбец, содержащий элементы сформированного списка сглаженных значений\n",
    "  alfa += 0.1 # приращение коэффициента сглаживания"
   ]
  },
  {
   "cell_type": "code",
   "execution_count": 60,
   "metadata": {
    "scrolled": true
   },
   "outputs": [
    {
     "data": {
      "text/html": [
       "<div>\n",
       "<style scoped>\n",
       "    .dataframe tbody tr th:only-of-type {\n",
       "        vertical-align: middle;\n",
       "    }\n",
       "\n",
       "    .dataframe tbody tr th {\n",
       "        vertical-align: top;\n",
       "    }\n",
       "\n",
       "    .dataframe thead th {\n",
       "        text-align: right;\n",
       "    }\n",
       "</style>\n",
       "<table border=\"1\" class=\"dataframe\">\n",
       "  <thead>\n",
       "    <tr style=\"text-align: right;\">\n",
       "      <th></th>\n",
       "      <th>Date</th>\n",
       "      <th>Open</th>\n",
       "      <th>ClosingPrice</th>\n",
       "      <th>DailyHigh</th>\n",
       "      <th>DailyLow</th>\n",
       "      <th>VolumePcs</th>\n",
       "      <th>No</th>\n",
       "      <th>Trend</th>\n",
       "      <th>Exp01</th>\n",
       "      <th>Exp02</th>\n",
       "      <th>Exp03</th>\n",
       "      <th>Exp04</th>\n",
       "      <th>Exp05</th>\n",
       "      <th>Exp06</th>\n",
       "      <th>Exp07</th>\n",
       "      <th>Exp08</th>\n",
       "      <th>Exp09</th>\n",
       "    </tr>\n",
       "  </thead>\n",
       "  <tbody>\n",
       "    <tr>\n",
       "      <th>0</th>\n",
       "      <td>2020-01-02</td>\n",
       "      <td>NaN</td>\n",
       "      <td>67.28750</td>\n",
       "      <td>67,28750</td>\n",
       "      <td>66,71250</td>\n",
       "      <td>NaN</td>\n",
       "      <td>1</td>\n",
       "      <td>58.393041</td>\n",
       "      <td>NaN</td>\n",
       "      <td>NaN</td>\n",
       "      <td>NaN</td>\n",
       "      <td>NaN</td>\n",
       "      <td>NaN</td>\n",
       "      <td>NaN</td>\n",
       "      <td>NaN</td>\n",
       "      <td>NaN</td>\n",
       "      <td>NaN</td>\n",
       "    </tr>\n",
       "    <tr>\n",
       "      <th>1</th>\n",
       "      <td>2020-01-03</td>\n",
       "      <td>NaN</td>\n",
       "      <td>66.61250</td>\n",
       "      <td>67,26250</td>\n",
       "      <td>66,61250</td>\n",
       "      <td>NaN</td>\n",
       "      <td>2</td>\n",
       "      <td>58.596211</td>\n",
       "      <td>67.287500</td>\n",
       "      <td>67.287500</td>\n",
       "      <td>67.287500</td>\n",
       "      <td>67.287500</td>\n",
       "      <td>67.287500</td>\n",
       "      <td>67.287500</td>\n",
       "      <td>67.287500</td>\n",
       "      <td>67.287500</td>\n",
       "      <td>67.28750</td>\n",
       "    </tr>\n",
       "    <tr>\n",
       "      <th>2</th>\n",
       "      <td>2020-01-06</td>\n",
       "      <td>NaN</td>\n",
       "      <td>66.95000</td>\n",
       "      <td>67,00625</td>\n",
       "      <td>66,78750</td>\n",
       "      <td>NaN</td>\n",
       "      <td>3</td>\n",
       "      <td>58.799381</td>\n",
       "      <td>67.220000</td>\n",
       "      <td>67.152500</td>\n",
       "      <td>67.085000</td>\n",
       "      <td>67.017500</td>\n",
       "      <td>66.950000</td>\n",
       "      <td>66.882500</td>\n",
       "      <td>66.747500</td>\n",
       "      <td>66.680000</td>\n",
       "      <td>66.61250</td>\n",
       "    </tr>\n",
       "    <tr>\n",
       "      <th>3</th>\n",
       "      <td>2020-01-07</td>\n",
       "      <td>NaN</td>\n",
       "      <td>66.93125</td>\n",
       "      <td>67,32500</td>\n",
       "      <td>66,84375</td>\n",
       "      <td>NaN</td>\n",
       "      <td>4</td>\n",
       "      <td>59.002551</td>\n",
       "      <td>67.193000</td>\n",
       "      <td>67.112000</td>\n",
       "      <td>67.044500</td>\n",
       "      <td>66.990500</td>\n",
       "      <td>66.950000</td>\n",
       "      <td>66.923000</td>\n",
       "      <td>66.909500</td>\n",
       "      <td>66.923000</td>\n",
       "      <td>66.95000</td>\n",
       "    </tr>\n",
       "    <tr>\n",
       "      <th>4</th>\n",
       "      <td>2020-01-08</td>\n",
       "      <td>NaN</td>\n",
       "      <td>68.20625</td>\n",
       "      <td>68,50625</td>\n",
       "      <td>67,98750</td>\n",
       "      <td>NaN</td>\n",
       "      <td>5</td>\n",
       "      <td>59.205721</td>\n",
       "      <td>67.166825</td>\n",
       "      <td>67.075850</td>\n",
       "      <td>67.010525</td>\n",
       "      <td>66.966800</td>\n",
       "      <td>66.940625</td>\n",
       "      <td>66.927950</td>\n",
       "      <td>66.926900</td>\n",
       "      <td>66.930425</td>\n",
       "      <td>66.93125</td>\n",
       "    </tr>\n",
       "    <tr>\n",
       "      <th>...</th>\n",
       "      <td>...</td>\n",
       "      <td>...</td>\n",
       "      <td>...</td>\n",
       "      <td>...</td>\n",
       "      <td>...</td>\n",
       "      <td>...</td>\n",
       "      <td>...</td>\n",
       "      <td>...</td>\n",
       "      <td>...</td>\n",
       "      <td>...</td>\n",
       "      <td>...</td>\n",
       "      <td>...</td>\n",
       "      <td>...</td>\n",
       "      <td>...</td>\n",
       "      <td>...</td>\n",
       "      <td>...</td>\n",
       "      <td>...</td>\n",
       "    </tr>\n",
       "    <tr>\n",
       "      <th>208</th>\n",
       "      <td>2020-11-02</td>\n",
       "      <td>NaN</td>\n",
       "      <td>93.39500</td>\n",
       "      <td>93,45000</td>\n",
       "      <td>92,34000</td>\n",
       "      <td>NaN</td>\n",
       "      <td>209</td>\n",
       "      <td>100.652378</td>\n",
       "      <td>97.624429</td>\n",
       "      <td>96.507299</td>\n",
       "      <td>95.580692</td>\n",
       "      <td>94.957212</td>\n",
       "      <td>94.528396</td>\n",
       "      <td>94.221541</td>\n",
       "      <td>93.850750</td>\n",
       "      <td>93.752193</td>\n",
       "      <td>93.69000</td>\n",
       "    </tr>\n",
       "    <tr>\n",
       "      <th>209</th>\n",
       "      <td>2020-11-03</td>\n",
       "      <td>NaN</td>\n",
       "      <td>94.35500</td>\n",
       "      <td>95,24000</td>\n",
       "      <td>93,81500</td>\n",
       "      <td>NaN</td>\n",
       "      <td>210</td>\n",
       "      <td>100.855547</td>\n",
       "      <td>97.201486</td>\n",
       "      <td>95.884839</td>\n",
       "      <td>94.924985</td>\n",
       "      <td>94.332327</td>\n",
       "      <td>93.961698</td>\n",
       "      <td>93.725617</td>\n",
       "      <td>93.486150</td>\n",
       "      <td>93.430719</td>\n",
       "      <td>93.39500</td>\n",
       "    </tr>\n",
       "    <tr>\n",
       "      <th>210</th>\n",
       "      <td>2020-11-04</td>\n",
       "      <td>NaN</td>\n",
       "      <td>98.09500</td>\n",
       "      <td>98,51500</td>\n",
       "      <td>97,69500</td>\n",
       "      <td>NaN</td>\n",
       "      <td>211</td>\n",
       "      <td>101.058717</td>\n",
       "      <td>96.916838</td>\n",
       "      <td>95.578871</td>\n",
       "      <td>94.753989</td>\n",
       "      <td>94.341396</td>\n",
       "      <td>94.158349</td>\n",
       "      <td>94.103247</td>\n",
       "      <td>94.181230</td>\n",
       "      <td>94.262572</td>\n",
       "      <td>94.35500</td>\n",
       "    </tr>\n",
       "    <tr>\n",
       "      <th>211</th>\n",
       "      <td>2020-11-05</td>\n",
       "      <td>NaN</td>\n",
       "      <td>100.60000</td>\n",
       "      <td>100,86000</td>\n",
       "      <td>100,13000</td>\n",
       "      <td>NaN</td>\n",
       "      <td>212</td>\n",
       "      <td>101.261887</td>\n",
       "      <td>97.034654</td>\n",
       "      <td>96.082097</td>\n",
       "      <td>95.756292</td>\n",
       "      <td>95.842838</td>\n",
       "      <td>96.126675</td>\n",
       "      <td>96.498299</td>\n",
       "      <td>97.312246</td>\n",
       "      <td>97.711757</td>\n",
       "      <td>98.09500</td>\n",
       "    </tr>\n",
       "    <tr>\n",
       "      <th>212</th>\n",
       "      <td>2020-11-06</td>\n",
       "      <td>NaN</td>\n",
       "      <td>99.91500</td>\n",
       "      <td>100,27000</td>\n",
       "      <td>99,42500</td>\n",
       "      <td>NaN</td>\n",
       "      <td>213</td>\n",
       "      <td>101.465057</td>\n",
       "      <td>97.391189</td>\n",
       "      <td>96.985678</td>\n",
       "      <td>97.209405</td>\n",
       "      <td>97.745703</td>\n",
       "      <td>98.363337</td>\n",
       "      <td>98.959319</td>\n",
       "      <td>99.942449</td>\n",
       "      <td>100.311176</td>\n",
       "      <td>100.60000</td>\n",
       "    </tr>\n",
       "  </tbody>\n",
       "</table>\n",
       "<p>213 rows × 17 columns</p>\n",
       "</div>"
      ],
      "text/plain": [
       "          Date  Open  ClosingPrice  DailyHigh   DailyLow  VolumePcs   No  \\\n",
       "0   2020-01-02   NaN      67.28750   67,28750   66,71250        NaN    1   \n",
       "1   2020-01-03   NaN      66.61250   67,26250   66,61250        NaN    2   \n",
       "2   2020-01-06   NaN      66.95000   67,00625   66,78750        NaN    3   \n",
       "3   2020-01-07   NaN      66.93125   67,32500   66,84375        NaN    4   \n",
       "4   2020-01-08   NaN      68.20625   68,50625   67,98750        NaN    5   \n",
       "..         ...   ...           ...        ...        ...        ...  ...   \n",
       "208 2020-11-02   NaN      93.39500   93,45000   92,34000        NaN  209   \n",
       "209 2020-11-03   NaN      94.35500   95,24000   93,81500        NaN  210   \n",
       "210 2020-11-04   NaN      98.09500   98,51500   97,69500        NaN  211   \n",
       "211 2020-11-05   NaN     100.60000  100,86000  100,13000        NaN  212   \n",
       "212 2020-11-06   NaN      99.91500  100,27000   99,42500        NaN  213   \n",
       "\n",
       "          Trend      Exp01      Exp02      Exp03      Exp04      Exp05  \\\n",
       "0     58.393041        NaN        NaN        NaN        NaN        NaN   \n",
       "1     58.596211  67.287500  67.287500  67.287500  67.287500  67.287500   \n",
       "2     58.799381  67.220000  67.152500  67.085000  67.017500  66.950000   \n",
       "3     59.002551  67.193000  67.112000  67.044500  66.990500  66.950000   \n",
       "4     59.205721  67.166825  67.075850  67.010525  66.966800  66.940625   \n",
       "..          ...        ...        ...        ...        ...        ...   \n",
       "208  100.652378  97.624429  96.507299  95.580692  94.957212  94.528396   \n",
       "209  100.855547  97.201486  95.884839  94.924985  94.332327  93.961698   \n",
       "210  101.058717  96.916838  95.578871  94.753989  94.341396  94.158349   \n",
       "211  101.261887  97.034654  96.082097  95.756292  95.842838  96.126675   \n",
       "212  101.465057  97.391189  96.985678  97.209405  97.745703  98.363337   \n",
       "\n",
       "         Exp06      Exp07       Exp08      Exp09  \n",
       "0          NaN        NaN         NaN        NaN  \n",
       "1    67.287500  67.287500   67.287500   67.28750  \n",
       "2    66.882500  66.747500   66.680000   66.61250  \n",
       "3    66.923000  66.909500   66.923000   66.95000  \n",
       "4    66.927950  66.926900   66.930425   66.93125  \n",
       "..         ...        ...         ...        ...  \n",
       "208  94.221541  93.850750   93.752193   93.69000  \n",
       "209  93.725617  93.486150   93.430719   93.39500  \n",
       "210  94.103247  94.181230   94.262572   94.35500  \n",
       "211  96.498299  97.312246   97.711757   98.09500  \n",
       "212  98.959319  99.942449  100.311176  100.60000  \n",
       "\n",
       "[213 rows x 17 columns]"
      ]
     },
     "execution_count": 60,
     "metadata": {},
     "output_type": "execute_result"
    }
   ],
   "source": [
    "df"
   ]
  },
  {
   "cell_type": "markdown",
   "metadata": {},
   "source": [
    "Построим график"
   ]
  },
  {
   "cell_type": "code",
   "execution_count": 62,
   "metadata": {
    "scrolled": false
   },
   "outputs": [
    {
     "data": {
      "text/plain": [
       "<matplotlib.legend.Legend at 0x1e0fdfadf88>"
      ]
     },
     "execution_count": 62,
     "metadata": {},
     "output_type": "execute_result"
    },
    {
     "data": {
      "image/png": "[encoded data removed]",
      "text/plain": [
       "<Figure size 1008x360 with 1 Axes>"
      ]
     },
     "metadata": {
      "needs_background": "light"
     },
     "output_type": "display_data"
    }
   ],
   "source": [
    "plt.figure(figsize=(14, 5))\n",
    "plt.title('Динамика цены акции Apple', loc='center')\n",
    "x = df['Date']\n",
    "y = df['ClosingPrice']\n",
    "yt = df['Trend']\n",
    "ye = df['Exp03']\n",
    "plt.plot(x, y, label = 'Цена акции Apple')\n",
    "plt.plot(x, yt, label = 'Линия тренда')\n",
    "plt.plot(x, ye, label = 'Экспоненциальное сглаживание')\n",
    "plt.legend(loc='lower right')"
   ]
  },
  {
   "cell_type": "markdown",
   "metadata": {},
   "source": [
    "Второй способ, с помощью функции"
   ]
  },
  {
   "cell_type": "code",
   "execution_count": 65,
   "metadata": {},
   "outputs": [],
   "source": [
    "def exponential_smoothing(series, alpha):\n",
    "    result = [series[0]] # first value is same as series\n",
    "    for n in range(1, len(series)):\n",
    "        result.append(alpha * series[n] + (1 - alpha) * result[n-1])\n",
    "    return result"
   ]
  },
  {
   "cell_type": "code",
   "execution_count": 66,
   "metadata": {},
   "outputs": [
    {
     "data": {
      "text/plain": [
       "<matplotlib.legend.Legend at 0x1e0fdfdcf48>"
      ]
     },
     "execution_count": 66,
     "metadata": {},
     "output_type": "execute_result"
    },
    {
     "data": {
      "image/png": "[encoded data removed]",
      "text/plain": [
       "<Figure size 1008x360 with 1 Axes>"
      ]
     },
     "metadata": {
      "needs_background": "light"
     },
     "output_type": "display_data"
    }
   ],
   "source": [
    "plt.figure(figsize=(14, 5))\n",
    "plt.title('Динамика цены акции Apple', loc='center')\n",
    "x = df['Date']\n",
    "y = df['ClosingPrice']\n",
    "yt = df['Trend']\n",
    "ye = exponential_smoothing(df['ClosingPrice'], 0.3)\n",
    "plt.plot(x, y, label = 'Цена акции Apple')\n",
    "plt.plot(x, yt, label = 'Линия тренда')\n",
    "plt.plot(x, ye, label = 'Экспоненциальное сглаживание')\n",
    "plt.legend(loc='lower right')"
   ]
  },
  {
   "cell_type": "markdown",
   "metadata": {},
   "source": [
    "### Скользящее среднее"
   ]
  },
  {
   "cell_type": "code",
   "execution_count": 67,
   "metadata": {},
   "outputs": [
    {
     "data": {
      "text/plain": [
       "<matplotlib.legend.Legend at 0x1e0fe068e08>"
      ]
     },
     "execution_count": 67,
     "metadata": {},
     "output_type": "execute_result"
    },
    {
     "data": {
      "image/png": "[encoded data removed]",
      "text/plain": [
       "<Figure size 1008x360 with 1 Axes>"
      ]
     },
     "metadata": {
      "needs_background": "light"
     },
     "output_type": "display_data"
    }
   ],
   "source": [
    "plt.figure(figsize=(14, 5))\n",
    "plt.title('Динамика цены акции Apple', loc='center')\n",
    "x = df['Date']\n",
    "y = df['ClosingPrice']\n",
    "yt = df['Trend']\n",
    "ye = df['ClosingPrice'].rolling(4).mean()\n",
    "plt.plot(x, y, label = 'Цена акции Apple')\n",
    "plt.plot(x, yt, label = 'Линия тренда')\n",
    "plt.plot(x, ye, label = 'Скользящее среднее')\n",
    "plt.legend(loc='lower right')"
   ]
  },
  {
   "cell_type": "markdown",
   "metadata": {},
   "source": [
    "# Анализ данных MAIL.RU"
   ]
  },
  {
   "cell_type": "code",
   "execution_count": 8,
   "metadata": {},
   "outputs": [
    {
     "data": {
      "text/html": [
       "<div>\n",
       "<style scoped>\n",
       "    .dataframe tbody tr th:only-of-type {\n",
       "        vertical-align: middle;\n",
       "    }\n",
       "\n",
       "    .dataframe tbody tr th {\n",
       "        vertical-align: top;\n",
       "    }\n",
       "\n",
       "    .dataframe thead th {\n",
       "        text-align: right;\n",
       "    }\n",
       "</style>\n",
       "<table border=\"1\" class=\"dataframe\">\n",
       "  <thead>\n",
       "    <tr style=\"text-align: right;\">\n",
       "      <th></th>\n",
       "      <th>&lt;TICKER&gt;</th>\n",
       "      <th>&lt;PER&gt;</th>\n",
       "      <th>&lt;DATE&gt;</th>\n",
       "      <th>&lt;TIME&gt;</th>\n",
       "      <th>&lt;CLOSE&gt;</th>\n",
       "    </tr>\n",
       "  </thead>\n",
       "  <tbody>\n",
       "    <tr>\n",
       "      <th>0</th>\n",
       "      <td>MAIL</td>\n",
       "      <td>D</td>\n",
       "      <td>20201214</td>\n",
       "      <td>0</td>\n",
       "      <td>2085.2</td>\n",
       "    </tr>\n",
       "    <tr>\n",
       "      <th>1</th>\n",
       "      <td>MAIL</td>\n",
       "      <td>D</td>\n",
       "      <td>20201215</td>\n",
       "      <td>0</td>\n",
       "      <td>2086.0</td>\n",
       "    </tr>\n",
       "    <tr>\n",
       "      <th>2</th>\n",
       "      <td>MAIL</td>\n",
       "      <td>D</td>\n",
       "      <td>20201216</td>\n",
       "      <td>0</td>\n",
       "      <td>2063.8</td>\n",
       "    </tr>\n",
       "    <tr>\n",
       "      <th>3</th>\n",
       "      <td>MAIL</td>\n",
       "      <td>D</td>\n",
       "      <td>20201217</td>\n",
       "      <td>0</td>\n",
       "      <td>2049.6</td>\n",
       "    </tr>\n",
       "    <tr>\n",
       "      <th>4</th>\n",
       "      <td>MAIL</td>\n",
       "      <td>D</td>\n",
       "      <td>20201218</td>\n",
       "      <td>0</td>\n",
       "      <td>2007.4</td>\n",
       "    </tr>\n",
       "    <tr>\n",
       "      <th>...</th>\n",
       "      <td>...</td>\n",
       "      <td>...</td>\n",
       "      <td>...</td>\n",
       "      <td>...</td>\n",
       "      <td>...</td>\n",
       "    </tr>\n",
       "    <tr>\n",
       "      <th>77</th>\n",
       "      <td>MAIL</td>\n",
       "      <td>D</td>\n",
       "      <td>20210406</td>\n",
       "      <td>0</td>\n",
       "      <td>1759.4</td>\n",
       "    </tr>\n",
       "    <tr>\n",
       "      <th>78</th>\n",
       "      <td>MAIL</td>\n",
       "      <td>D</td>\n",
       "      <td>20210407</td>\n",
       "      <td>0</td>\n",
       "      <td>1748.0</td>\n",
       "    </tr>\n",
       "    <tr>\n",
       "      <th>79</th>\n",
       "      <td>MAIL</td>\n",
       "      <td>D</td>\n",
       "      <td>20210408</td>\n",
       "      <td>0</td>\n",
       "      <td>1743.6</td>\n",
       "    </tr>\n",
       "    <tr>\n",
       "      <th>80</th>\n",
       "      <td>MAIL</td>\n",
       "      <td>D</td>\n",
       "      <td>20210409</td>\n",
       "      <td>0</td>\n",
       "      <td>1717.2</td>\n",
       "    </tr>\n",
       "    <tr>\n",
       "      <th>81</th>\n",
       "      <td>MAIL</td>\n",
       "      <td>D</td>\n",
       "      <td>20210412</td>\n",
       "      <td>0</td>\n",
       "      <td>1750.8</td>\n",
       "    </tr>\n",
       "  </tbody>\n",
       "</table>\n",
       "<p>82 rows × 5 columns</p>\n",
       "</div>"
      ],
      "text/plain": [
       "   <TICKER> <PER>    <DATE>  <TIME>  <CLOSE>\n",
       "0      MAIL     D  20201214       0   2085.2\n",
       "1      MAIL     D  20201215       0   2086.0\n",
       "2      MAIL     D  20201216       0   2063.8\n",
       "3      MAIL     D  20201217       0   2049.6\n",
       "4      MAIL     D  20201218       0   2007.4\n",
       "..      ...   ...       ...     ...      ...\n",
       "77     MAIL     D  20210406       0   1759.4\n",
       "78     MAIL     D  20210407       0   1748.0\n",
       "79     MAIL     D  20210408       0   1743.6\n",
       "80     MAIL     D  20210409       0   1717.2\n",
       "81     MAIL     D  20210412       0   1750.8\n",
       "\n",
       "[82 rows x 5 columns]"
      ]
     },
     "execution_count": 8,
     "metadata": {},
     "output_type": "execute_result"
    }
   ],
   "source": [
    "data = pd.read_csv(\"MAIL_201214_210412.csv\", sep=\";\")\n",
    "data"
   ]
  },
  {
   "cell_type": "code",
   "execution_count": 10,
   "metadata": {},
   "outputs": [
    {
     "name": "stdout",
     "output_type": "stream",
     "text": [
      "<class 'pandas.core.frame.DataFrame'>\n",
      "RangeIndex: 82 entries, 0 to 81\n",
      "Data columns (total 5 columns):\n",
      " #   Column    Non-Null Count  Dtype  \n",
      "---  ------    --------------  -----  \n",
      " 0   <TICKER>  82 non-null     object \n",
      " 1   <PER>     82 non-null     object \n",
      " 2   <DATE>    82 non-null     int64  \n",
      " 3   <TIME>    82 non-null     int64  \n",
      " 4   <CLOSE>   82 non-null     float64\n",
      "dtypes: float64(1), int64(2), object(2)\n",
      "memory usage: 3.3+ KB\n"
     ]
    }
   ],
   "source": [
    "data.info()"
   ]
  },
  {
   "cell_type": "code",
   "execution_count": 11,
   "metadata": {},
   "outputs": [],
   "source": [
    "data[\"<DATESTR>\"] = data[\"<DATE>\"].apply(lambda x : str(x))"
   ]
  },
  {
   "cell_type": "code",
   "execution_count": 15,
   "metadata": {},
   "outputs": [],
   "source": [
    "data[\"<DATESTR>\"] = data[\"<DATESTR>\"].apply(lambda x : x[:4]+'.'+x[4:6]+'.'+x[6:])"
   ]
  },
  {
   "cell_type": "code",
   "execution_count": 18,
   "metadata": {},
   "outputs": [
    {
     "data": {
      "text/html": [
       "<div>\n",
       "<style scoped>\n",
       "    .dataframe tbody tr th:only-of-type {\n",
       "        vertical-align: middle;\n",
       "    }\n",
       "\n",
       "    .dataframe tbody tr th {\n",
       "        vertical-align: top;\n",
       "    }\n",
       "\n",
       "    .dataframe thead th {\n",
       "        text-align: right;\n",
       "    }\n",
       "</style>\n",
       "<table border=\"1\" class=\"dataframe\">\n",
       "  <thead>\n",
       "    <tr style=\"text-align: right;\">\n",
       "      <th></th>\n",
       "      <th>&lt;TICKER&gt;</th>\n",
       "      <th>&lt;PER&gt;</th>\n",
       "      <th>&lt;DATE&gt;</th>\n",
       "      <th>&lt;TIME&gt;</th>\n",
       "      <th>&lt;CLOSE&gt;</th>\n",
       "      <th>&lt;DATESTR&gt;</th>\n",
       "    </tr>\n",
       "  </thead>\n",
       "  <tbody>\n",
       "    <tr>\n",
       "      <th>0</th>\n",
       "      <td>MAIL</td>\n",
       "      <td>D</td>\n",
       "      <td>20201214</td>\n",
       "      <td>0</td>\n",
       "      <td>2085.2</td>\n",
       "      <td>2020.12.14</td>\n",
       "    </tr>\n",
       "    <tr>\n",
       "      <th>1</th>\n",
       "      <td>MAIL</td>\n",
       "      <td>D</td>\n",
       "      <td>20201215</td>\n",
       "      <td>0</td>\n",
       "      <td>2086.0</td>\n",
       "      <td>2020.12.15</td>\n",
       "    </tr>\n",
       "    <tr>\n",
       "      <th>2</th>\n",
       "      <td>MAIL</td>\n",
       "      <td>D</td>\n",
       "      <td>20201216</td>\n",
       "      <td>0</td>\n",
       "      <td>2063.8</td>\n",
       "      <td>2020.12.16</td>\n",
       "    </tr>\n",
       "    <tr>\n",
       "      <th>3</th>\n",
       "      <td>MAIL</td>\n",
       "      <td>D</td>\n",
       "      <td>20201217</td>\n",
       "      <td>0</td>\n",
       "      <td>2049.6</td>\n",
       "      <td>2020.12.17</td>\n",
       "    </tr>\n",
       "    <tr>\n",
       "      <th>4</th>\n",
       "      <td>MAIL</td>\n",
       "      <td>D</td>\n",
       "      <td>20201218</td>\n",
       "      <td>0</td>\n",
       "      <td>2007.4</td>\n",
       "      <td>2020.12.18</td>\n",
       "    </tr>\n",
       "  </tbody>\n",
       "</table>\n",
       "</div>"
      ],
      "text/plain": [
       "  <TICKER> <PER>    <DATE>  <TIME>  <CLOSE>   <DATESTR>\n",
       "0     MAIL     D  20201214       0   2085.2  2020.12.14\n",
       "1     MAIL     D  20201215       0   2086.0  2020.12.15\n",
       "2     MAIL     D  20201216       0   2063.8  2020.12.16\n",
       "3     MAIL     D  20201217       0   2049.6  2020.12.17\n",
       "4     MAIL     D  20201218       0   2007.4  2020.12.18"
      ]
     },
     "execution_count": 18,
     "metadata": {},
     "output_type": "execute_result"
    }
   ],
   "source": [
    "data.head()"
   ]
  },
  {
   "cell_type": "code",
   "execution_count": 20,
   "metadata": {},
   "outputs": [
    {
     "name": "stdout",
     "output_type": "stream",
     "text": [
      "<class 'pandas.core.frame.DataFrame'>\n",
      "RangeIndex: 82 entries, 0 to 81\n",
      "Data columns (total 6 columns):\n",
      " #   Column     Non-Null Count  Dtype  \n",
      "---  ------     --------------  -----  \n",
      " 0   <TICKER>   82 non-null     object \n",
      " 1   <PER>      82 non-null     object \n",
      " 2   <DATE>     82 non-null     int64  \n",
      " 3   <TIME>     82 non-null     int64  \n",
      " 4   <CLOSE>    82 non-null     float64\n",
      " 5   <DATESTR>  82 non-null     object \n",
      "dtypes: float64(1), int64(2), object(3)\n",
      "memory usage: 4.0+ KB\n"
     ]
    }
   ],
   "source": [
    "data.info()"
   ]
  },
  {
   "cell_type": "code",
   "execution_count": 22,
   "metadata": {},
   "outputs": [
    {
     "data": {
      "text/html": [
       "<div>\n",
       "<style scoped>\n",
       "    .dataframe tbody tr th:only-of-type {\n",
       "        vertical-align: middle;\n",
       "    }\n",
       "\n",
       "    .dataframe tbody tr th {\n",
       "        vertical-align: top;\n",
       "    }\n",
       "\n",
       "    .dataframe thead th {\n",
       "        text-align: right;\n",
       "    }\n",
       "</style>\n",
       "<table border=\"1\" class=\"dataframe\">\n",
       "  <thead>\n",
       "    <tr style=\"text-align: right;\">\n",
       "      <th></th>\n",
       "      <th>&lt;TICKER&gt;</th>\n",
       "      <th>&lt;PER&gt;</th>\n",
       "      <th>&lt;DATE&gt;</th>\n",
       "      <th>&lt;TIME&gt;</th>\n",
       "      <th>&lt;CLOSE&gt;</th>\n",
       "      <th>&lt;DATESTR&gt;</th>\n",
       "      <th>&lt;DATEDATE&gt;</th>\n",
       "    </tr>\n",
       "  </thead>\n",
       "  <tbody>\n",
       "    <tr>\n",
       "      <th>0</th>\n",
       "      <td>MAIL</td>\n",
       "      <td>D</td>\n",
       "      <td>20201214</td>\n",
       "      <td>0</td>\n",
       "      <td>2085.2</td>\n",
       "      <td>2020.12.14</td>\n",
       "      <td>2020-12-14</td>\n",
       "    </tr>\n",
       "    <tr>\n",
       "      <th>1</th>\n",
       "      <td>MAIL</td>\n",
       "      <td>D</td>\n",
       "      <td>20201215</td>\n",
       "      <td>0</td>\n",
       "      <td>2086.0</td>\n",
       "      <td>2020.12.15</td>\n",
       "      <td>2020-12-15</td>\n",
       "    </tr>\n",
       "    <tr>\n",
       "      <th>2</th>\n",
       "      <td>MAIL</td>\n",
       "      <td>D</td>\n",
       "      <td>20201216</td>\n",
       "      <td>0</td>\n",
       "      <td>2063.8</td>\n",
       "      <td>2020.12.16</td>\n",
       "      <td>2020-12-16</td>\n",
       "    </tr>\n",
       "    <tr>\n",
       "      <th>3</th>\n",
       "      <td>MAIL</td>\n",
       "      <td>D</td>\n",
       "      <td>20201217</td>\n",
       "      <td>0</td>\n",
       "      <td>2049.6</td>\n",
       "      <td>2020.12.17</td>\n",
       "      <td>2020-12-17</td>\n",
       "    </tr>\n",
       "    <tr>\n",
       "      <th>4</th>\n",
       "      <td>MAIL</td>\n",
       "      <td>D</td>\n",
       "      <td>20201218</td>\n",
       "      <td>0</td>\n",
       "      <td>2007.4</td>\n",
       "      <td>2020.12.18</td>\n",
       "      <td>2020-12-18</td>\n",
       "    </tr>\n",
       "    <tr>\n",
       "      <th>...</th>\n",
       "      <td>...</td>\n",
       "      <td>...</td>\n",
       "      <td>...</td>\n",
       "      <td>...</td>\n",
       "      <td>...</td>\n",
       "      <td>...</td>\n",
       "      <td>...</td>\n",
       "    </tr>\n",
       "    <tr>\n",
       "      <th>77</th>\n",
       "      <td>MAIL</td>\n",
       "      <td>D</td>\n",
       "      <td>20210406</td>\n",
       "      <td>0</td>\n",
       "      <td>1759.4</td>\n",
       "      <td>2021.04.06</td>\n",
       "      <td>2021-04-06</td>\n",
       "    </tr>\n",
       "    <tr>\n",
       "      <th>78</th>\n",
       "      <td>MAIL</td>\n",
       "      <td>D</td>\n",
       "      <td>20210407</td>\n",
       "      <td>0</td>\n",
       "      <td>1748.0</td>\n",
       "      <td>2021.04.07</td>\n",
       "      <td>2021-04-07</td>\n",
       "    </tr>\n",
       "    <tr>\n",
       "      <th>79</th>\n",
       "      <td>MAIL</td>\n",
       "      <td>D</td>\n",
       "      <td>20210408</td>\n",
       "      <td>0</td>\n",
       "      <td>1743.6</td>\n",
       "      <td>2021.04.08</td>\n",
       "      <td>2021-04-08</td>\n",
       "    </tr>\n",
       "    <tr>\n",
       "      <th>80</th>\n",
       "      <td>MAIL</td>\n",
       "      <td>D</td>\n",
       "      <td>20210409</td>\n",
       "      <td>0</td>\n",
       "      <td>1717.2</td>\n",
       "      <td>2021.04.09</td>\n",
       "      <td>2021-04-09</td>\n",
       "    </tr>\n",
       "    <tr>\n",
       "      <th>81</th>\n",
       "      <td>MAIL</td>\n",
       "      <td>D</td>\n",
       "      <td>20210412</td>\n",
       "      <td>0</td>\n",
       "      <td>1750.8</td>\n",
       "      <td>2021.04.12</td>\n",
       "      <td>2021-04-12</td>\n",
       "    </tr>\n",
       "  </tbody>\n",
       "</table>\n",
       "<p>82 rows × 7 columns</p>\n",
       "</div>"
      ],
      "text/plain": [
       "   <TICKER> <PER>    <DATE>  <TIME>  <CLOSE>   <DATESTR> <DATEDATE>\n",
       "0      MAIL     D  20201214       0   2085.2  2020.12.14 2020-12-14\n",
       "1      MAIL     D  20201215       0   2086.0  2020.12.15 2020-12-15\n",
       "2      MAIL     D  20201216       0   2063.8  2020.12.16 2020-12-16\n",
       "3      MAIL     D  20201217       0   2049.6  2020.12.17 2020-12-17\n",
       "4      MAIL     D  20201218       0   2007.4  2020.12.18 2020-12-18\n",
       "..      ...   ...       ...     ...      ...         ...        ...\n",
       "77     MAIL     D  20210406       0   1759.4  2021.04.06 2021-04-06\n",
       "78     MAIL     D  20210407       0   1748.0  2021.04.07 2021-04-07\n",
       "79     MAIL     D  20210408       0   1743.6  2021.04.08 2021-04-08\n",
       "80     MAIL     D  20210409       0   1717.2  2021.04.09 2021-04-09\n",
       "81     MAIL     D  20210412       0   1750.8  2021.04.12 2021-04-12\n",
       "\n",
       "[82 rows x 7 columns]"
      ]
     },
     "execution_count": 22,
     "metadata": {},
     "output_type": "execute_result"
    }
   ],
   "source": [
    "data[\"<DATEDATE>\"]=pd.to_datetime(data[\"<DATESTR>\"])\n",
    "data"
   ]
  },
  {
   "cell_type": "code",
   "execution_count": 23,
   "metadata": {},
   "outputs": [
    {
     "name": "stdout",
     "output_type": "stream",
     "text": [
      "<class 'pandas.core.frame.DataFrame'>\n",
      "RangeIndex: 82 entries, 0 to 81\n",
      "Data columns (total 7 columns):\n",
      " #   Column      Non-Null Count  Dtype         \n",
      "---  ------      --------------  -----         \n",
      " 0   <TICKER>    82 non-null     object        \n",
      " 1   <PER>       82 non-null     object        \n",
      " 2   <DATE>      82 non-null     int64         \n",
      " 3   <TIME>      82 non-null     int64         \n",
      " 4   <CLOSE>     82 non-null     float64       \n",
      " 5   <DATESTR>   82 non-null     object        \n",
      " 6   <DATEDATE>  82 non-null     datetime64[ns]\n",
      "dtypes: datetime64[ns](1), float64(1), int64(2), object(3)\n",
      "memory usage: 4.6+ KB\n"
     ]
    }
   ],
   "source": [
    "data.info()"
   ]
  },
  {
   "cell_type": "code",
   "execution_count": 25,
   "metadata": {},
   "outputs": [],
   "source": [
    "data.drop([\"<DATESTR>\", \"<DATE>\" ], axis=1, inplace=True)"
   ]
  },
  {
   "cell_type": "code",
   "execution_count": 29,
   "metadata": {},
   "outputs": [
    {
     "data": {
      "text/html": [
       "<div>\n",
       "<style scoped>\n",
       "    .dataframe tbody tr th:only-of-type {\n",
       "        vertical-align: middle;\n",
       "    }\n",
       "\n",
       "    .dataframe tbody tr th {\n",
       "        vertical-align: top;\n",
       "    }\n",
       "\n",
       "    .dataframe thead th {\n",
       "        text-align: right;\n",
       "    }\n",
       "</style>\n",
       "<table border=\"1\" class=\"dataframe\">\n",
       "  <thead>\n",
       "    <tr style=\"text-align: right;\">\n",
       "      <th></th>\n",
       "      <th>&lt;TICKER&gt;</th>\n",
       "      <th>&lt;PER&gt;</th>\n",
       "      <th>&lt;TIME&gt;</th>\n",
       "      <th>&lt;CLOSE&gt;</th>\n",
       "      <th>&lt;DATEDATE&gt;</th>\n",
       "      <th>No</th>\n",
       "    </tr>\n",
       "  </thead>\n",
       "  <tbody>\n",
       "    <tr>\n",
       "      <th>0</th>\n",
       "      <td>MAIL</td>\n",
       "      <td>D</td>\n",
       "      <td>0</td>\n",
       "      <td>2085.2</td>\n",
       "      <td>2020-12-14</td>\n",
       "      <td>1</td>\n",
       "    </tr>\n",
       "    <tr>\n",
       "      <th>1</th>\n",
       "      <td>MAIL</td>\n",
       "      <td>D</td>\n",
       "      <td>0</td>\n",
       "      <td>2086.0</td>\n",
       "      <td>2020-12-15</td>\n",
       "      <td>2</td>\n",
       "    </tr>\n",
       "    <tr>\n",
       "      <th>2</th>\n",
       "      <td>MAIL</td>\n",
       "      <td>D</td>\n",
       "      <td>0</td>\n",
       "      <td>2063.8</td>\n",
       "      <td>2020-12-16</td>\n",
       "      <td>3</td>\n",
       "    </tr>\n",
       "    <tr>\n",
       "      <th>3</th>\n",
       "      <td>MAIL</td>\n",
       "      <td>D</td>\n",
       "      <td>0</td>\n",
       "      <td>2049.6</td>\n",
       "      <td>2020-12-17</td>\n",
       "      <td>4</td>\n",
       "    </tr>\n",
       "    <tr>\n",
       "      <th>4</th>\n",
       "      <td>MAIL</td>\n",
       "      <td>D</td>\n",
       "      <td>0</td>\n",
       "      <td>2007.4</td>\n",
       "      <td>2020-12-18</td>\n",
       "      <td>5</td>\n",
       "    </tr>\n",
       "  </tbody>\n",
       "</table>\n",
       "</div>"
      ],
      "text/plain": [
       "  <TICKER> <PER>  <TIME>  <CLOSE> <DATEDATE>  No\n",
       "0     MAIL     D       0   2085.2 2020-12-14   1\n",
       "1     MAIL     D       0   2086.0 2020-12-15   2\n",
       "2     MAIL     D       0   2063.8 2020-12-16   3\n",
       "3     MAIL     D       0   2049.6 2020-12-17   4\n",
       "4     MAIL     D       0   2007.4 2020-12-18   5"
      ]
     },
     "execution_count": 29,
     "metadata": {},
     "output_type": "execute_result"
    }
   ],
   "source": [
    "data.head()"
   ]
  },
  {
   "cell_type": "code",
   "execution_count": 28,
   "metadata": {},
   "outputs": [],
   "source": [
    "data[\"No\"] = np.arange(1,len(data)+1)"
   ]
  },
  {
   "cell_type": "code",
   "execution_count": 38,
   "metadata": {},
   "outputs": [
    {
     "data": {
      "text/plain": [
       "-2115.654320987654"
      ]
     },
     "execution_count": 38,
     "metadata": {},
     "output_type": "execute_result"
    }
   ],
   "source": [
    "cov_xy = np.cov(data[\"<CLOSE>\"], data[\"No\"])[0,1]\n",
    "cov_xy"
   ]
  },
  {
   "cell_type": "code",
   "execution_count": 36,
   "metadata": {},
   "outputs": [
    {
     "data": {
      "text/plain": [
       "567.1666666666666"
      ]
     },
     "execution_count": 36,
     "metadata": {},
     "output_type": "execute_result"
    }
   ],
   "source": [
    "disp_x = data[\"No\"].std()**2\n",
    "disp_x"
   ]
  },
  {
   "cell_type": "code",
   "execution_count": 40,
   "metadata": {},
   "outputs": [
    {
     "data": {
      "text/plain": [
       "-3.7302162579858726"
      ]
     },
     "execution_count": 40,
     "metadata": {},
     "output_type": "execute_result"
    }
   ],
   "source": [
    "b = cov_xy / disp_x\n",
    "b"
   ]
  },
  {
   "cell_type": "code",
   "execution_count": 41,
   "metadata": {},
   "outputs": [
    {
     "data": {
      "text/plain": [
       "2089.603974706414"
      ]
     },
     "execution_count": 41,
     "metadata": {},
     "output_type": "execute_result"
    }
   ],
   "source": [
    "a = np.mean(data[\"<CLOSE>\"]) - b * np.mean(data[\"No\"])\n",
    "a"
   ]
  },
  {
   "cell_type": "code",
   "execution_count": 42,
   "metadata": {},
   "outputs": [],
   "source": [
    "data[\"Trend\"] = a + b * data[\"No\"]"
   ]
  },
  {
   "cell_type": "code",
   "execution_count": 43,
   "metadata": {},
   "outputs": [
    {
     "data": {
      "text/html": [
       "<div>\n",
       "<style scoped>\n",
       "    .dataframe tbody tr th:only-of-type {\n",
       "        vertical-align: middle;\n",
       "    }\n",
       "\n",
       "    .dataframe tbody tr th {\n",
       "        vertical-align: top;\n",
       "    }\n",
       "\n",
       "    .dataframe thead th {\n",
       "        text-align: right;\n",
       "    }\n",
       "</style>\n",
       "<table border=\"1\" class=\"dataframe\">\n",
       "  <thead>\n",
       "    <tr style=\"text-align: right;\">\n",
       "      <th></th>\n",
       "      <th>&lt;TICKER&gt;</th>\n",
       "      <th>&lt;PER&gt;</th>\n",
       "      <th>&lt;TIME&gt;</th>\n",
       "      <th>&lt;CLOSE&gt;</th>\n",
       "      <th>&lt;DATEDATE&gt;</th>\n",
       "      <th>No</th>\n",
       "      <th>Trend</th>\n",
       "    </tr>\n",
       "  </thead>\n",
       "  <tbody>\n",
       "    <tr>\n",
       "      <th>0</th>\n",
       "      <td>MAIL</td>\n",
       "      <td>D</td>\n",
       "      <td>0</td>\n",
       "      <td>2085.2</td>\n",
       "      <td>2020-12-14</td>\n",
       "      <td>1</td>\n",
       "      <td>2085.873758</td>\n",
       "    </tr>\n",
       "    <tr>\n",
       "      <th>1</th>\n",
       "      <td>MAIL</td>\n",
       "      <td>D</td>\n",
       "      <td>0</td>\n",
       "      <td>2086.0</td>\n",
       "      <td>2020-12-15</td>\n",
       "      <td>2</td>\n",
       "      <td>2082.143542</td>\n",
       "    </tr>\n",
       "    <tr>\n",
       "      <th>2</th>\n",
       "      <td>MAIL</td>\n",
       "      <td>D</td>\n",
       "      <td>0</td>\n",
       "      <td>2063.8</td>\n",
       "      <td>2020-12-16</td>\n",
       "      <td>3</td>\n",
       "      <td>2078.413326</td>\n",
       "    </tr>\n",
       "    <tr>\n",
       "      <th>3</th>\n",
       "      <td>MAIL</td>\n",
       "      <td>D</td>\n",
       "      <td>0</td>\n",
       "      <td>2049.6</td>\n",
       "      <td>2020-12-17</td>\n",
       "      <td>4</td>\n",
       "      <td>2074.683110</td>\n",
       "    </tr>\n",
       "    <tr>\n",
       "      <th>4</th>\n",
       "      <td>MAIL</td>\n",
       "      <td>D</td>\n",
       "      <td>0</td>\n",
       "      <td>2007.4</td>\n",
       "      <td>2020-12-18</td>\n",
       "      <td>5</td>\n",
       "      <td>2070.952893</td>\n",
       "    </tr>\n",
       "  </tbody>\n",
       "</table>\n",
       "</div>"
      ],
      "text/plain": [
       "  <TICKER> <PER>  <TIME>  <CLOSE> <DATEDATE>  No        Trend\n",
       "0     MAIL     D       0   2085.2 2020-12-14   1  2085.873758\n",
       "1     MAIL     D       0   2086.0 2020-12-15   2  2082.143542\n",
       "2     MAIL     D       0   2063.8 2020-12-16   3  2078.413326\n",
       "3     MAIL     D       0   2049.6 2020-12-17   4  2074.683110\n",
       "4     MAIL     D       0   2007.4 2020-12-18   5  2070.952893"
      ]
     },
     "execution_count": 43,
     "metadata": {},
     "output_type": "execute_result"
    }
   ],
   "source": [
    "data.head()"
   ]
  },
  {
   "cell_type": "code",
   "execution_count": 45,
   "metadata": {},
   "outputs": [
    {
     "data": {
      "text/plain": [
       "[<matplotlib.lines.Line2D at 0x21fdf1ced30>]"
      ]
     },
     "execution_count": 45,
     "metadata": {},
     "output_type": "execute_result"
    },
    {
     "data": {
      "image/png": "[encoded data removed]",
      "text/plain": [
       "<Figure size 1008x360 with 1 Axes>"
      ]
     },
     "metadata": {
      "needs_background": "light"
     },
     "output_type": "display_data"
    }
   ],
   "source": [
    "plt.figure(figsize=(14, 5))\n",
    "plt.plot(data[\"<DATEDATE>\"], data[\"<CLOSE>\"])\n",
    "plt.plot(data[\"<DATEDATE>\"], data[\"Trend\"])"
   ]
  }
 ],
 "metadata": {
  "colab": {
   "collapsed_sections": [],
   "name": "Лек Пайтон",
   "provenance": []
  },
  "kernelspec": {
   "display_name": "Python 3",
   "language": "python",
   "name": "python3"
  },
  "language_info": {
   "codemirror_mode": {
    "name": "ipython",
    "version": 3
   },
   "file_extension": ".py",
   "mimetype": "text/x-python",
   "name": "python",
   "nbconvert_exporter": "python",
   "pygments_lexer": "ipython3",
   "version": "3.8.5"
  }
 },
 "nbformat": 4,
 "nbformat_minor": 1
}
