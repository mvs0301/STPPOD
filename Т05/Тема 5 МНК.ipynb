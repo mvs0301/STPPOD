{
 "cells": [
  {
   "cell_type": "markdown",
   "metadata": {},
   "source": [
    "<img src=\"./Img/banner-fa-49-2.jpg\">\n",
    "12 апреля 2021 года, ВМ/305-1(кк)\n",
    "\n",
    "# Тема 5. Анализ временных рядов\n",
    "\n",
    "Студенты: Поток У18-7у<br>\n",
    "Преподаватель: Смирнов Михаил Викторович, доцент Департамента Анализа данных и машинного обучения Финансового университета при Правительстве Российской Федерации"
   ]
  },
  {
   "cell_type": "markdown",
   "metadata": {},
   "source": [
    "## 1. Регрессионные модели и методы\n",
    "### 1.1. Метод наименьших квадратов"
   ]
  },
  {
   "cell_type": "markdown",
   "metadata": {},
   "source": [
    "Рассмотрим метод наименьших квадратов (МНК) на примере анализа финансово-экономических данных. Имеются данные об изменении цены акции компании \"Роснефть\" в течение одного дня 12 февраля 2021 года в csv-формате. Источник: <a href=\"https://www.finam.ru/\">finam.ru</a>. Измерения проводились через равные промежутки времени в течение дня. Представим эти данные в табличном виде. Добавим столбец ${m\\_id}$ для номера измерения."
   ]
  },
  {
   "cell_type": "code",
   "execution_count": 1,
   "metadata": {},
   "outputs": [],
   "source": [
    "import pandas as pd\n",
    "import numpy as np\n",
    "from matplotlib import pyplot as plt\n",
    "%matplotlib inline"
   ]
  },
  {
   "cell_type": "code",
   "execution_count": 17,
   "metadata": {},
   "outputs": [
    {
     "data": {
      "text/html": [
       "<div>\n",
       "<style scoped>\n",
       "    .dataframe tbody tr th:only-of-type {\n",
       "        vertical-align: middle;\n",
       "    }\n",
       "\n",
       "    .dataframe tbody tr th {\n",
       "        vertical-align: top;\n",
       "    }\n",
       "\n",
       "    .dataframe thead th {\n",
       "        text-align: right;\n",
       "    }\n",
       "</style>\n",
       "<table border=\"1\" class=\"dataframe\">\n",
       "  <thead>\n",
       "    <tr style=\"text-align: right;\">\n",
       "      <th></th>\n",
       "      <th>&lt;TICKER&gt;</th>\n",
       "      <th>&lt;PER&gt;</th>\n",
       "      <th>&lt;DATE&gt;</th>\n",
       "      <th>&lt;TIME&gt;</th>\n",
       "      <th>&lt;CLOSE&gt;</th>\n",
       "      <th>m_id</th>\n",
       "    </tr>\n",
       "  </thead>\n",
       "  <tbody>\n",
       "    <tr>\n",
       "      <th>0</th>\n",
       "      <td>ROSN</td>\n",
       "      <td>60</td>\n",
       "      <td>12/02/21</td>\n",
       "      <td>110000</td>\n",
       "      <td>496.20</td>\n",
       "      <td>1</td>\n",
       "    </tr>\n",
       "    <tr>\n",
       "      <th>1</th>\n",
       "      <td>ROSN</td>\n",
       "      <td>60</td>\n",
       "      <td>12/02/21</td>\n",
       "      <td>120000</td>\n",
       "      <td>489.90</td>\n",
       "      <td>2</td>\n",
       "    </tr>\n",
       "    <tr>\n",
       "      <th>2</th>\n",
       "      <td>ROSN</td>\n",
       "      <td>60</td>\n",
       "      <td>12/02/21</td>\n",
       "      <td>130000</td>\n",
       "      <td>494.05</td>\n",
       "      <td>3</td>\n",
       "    </tr>\n",
       "    <tr>\n",
       "      <th>3</th>\n",
       "      <td>ROSN</td>\n",
       "      <td>60</td>\n",
       "      <td>12/02/21</td>\n",
       "      <td>140000</td>\n",
       "      <td>496.45</td>\n",
       "      <td>4</td>\n",
       "    </tr>\n",
       "    <tr>\n",
       "      <th>4</th>\n",
       "      <td>ROSN</td>\n",
       "      <td>60</td>\n",
       "      <td>12/02/21</td>\n",
       "      <td>150000</td>\n",
       "      <td>498.90</td>\n",
       "      <td>5</td>\n",
       "    </tr>\n",
       "    <tr>\n",
       "      <th>5</th>\n",
       "      <td>ROSN</td>\n",
       "      <td>60</td>\n",
       "      <td>12/02/21</td>\n",
       "      <td>160000</td>\n",
       "      <td>498.80</td>\n",
       "      <td>6</td>\n",
       "    </tr>\n",
       "    <tr>\n",
       "      <th>6</th>\n",
       "      <td>ROSN</td>\n",
       "      <td>60</td>\n",
       "      <td>12/02/21</td>\n",
       "      <td>170000</td>\n",
       "      <td>502.70</td>\n",
       "      <td>7</td>\n",
       "    </tr>\n",
       "    <tr>\n",
       "      <th>7</th>\n",
       "      <td>ROSN</td>\n",
       "      <td>60</td>\n",
       "      <td>12/02/21</td>\n",
       "      <td>180000</td>\n",
       "      <td>502.35</td>\n",
       "      <td>8</td>\n",
       "    </tr>\n",
       "    <tr>\n",
       "      <th>8</th>\n",
       "      <td>ROSN</td>\n",
       "      <td>60</td>\n",
       "      <td>12/02/21</td>\n",
       "      <td>190000</td>\n",
       "      <td>504.15</td>\n",
       "      <td>9</td>\n",
       "    </tr>\n",
       "    <tr>\n",
       "      <th>9</th>\n",
       "      <td>ROSN</td>\n",
       "      <td>60</td>\n",
       "      <td>12/02/21</td>\n",
       "      <td>200000</td>\n",
       "      <td>505.25</td>\n",
       "      <td>10</td>\n",
       "    </tr>\n",
       "    <tr>\n",
       "      <th>10</th>\n",
       "      <td>ROSN</td>\n",
       "      <td>60</td>\n",
       "      <td>12/02/21</td>\n",
       "      <td>210000</td>\n",
       "      <td>506.10</td>\n",
       "      <td>11</td>\n",
       "    </tr>\n",
       "    <tr>\n",
       "      <th>11</th>\n",
       "      <td>ROSN</td>\n",
       "      <td>60</td>\n",
       "      <td>12/02/21</td>\n",
       "      <td>220000</td>\n",
       "      <td>506.10</td>\n",
       "      <td>12</td>\n",
       "    </tr>\n",
       "    <tr>\n",
       "      <th>12</th>\n",
       "      <td>ROSN</td>\n",
       "      <td>60</td>\n",
       "      <td>12/02/21</td>\n",
       "      <td>230000</td>\n",
       "      <td>505.70</td>\n",
       "      <td>13</td>\n",
       "    </tr>\n",
       "    <tr>\n",
       "      <th>13</th>\n",
       "      <td>ROSN</td>\n",
       "      <td>60</td>\n",
       "      <td>13/02/21</td>\n",
       "      <td>0</td>\n",
       "      <td>509.35</td>\n",
       "      <td>14</td>\n",
       "    </tr>\n",
       "  </tbody>\n",
       "</table>\n",
       "</div>"
      ],
      "text/plain": [
       "   <TICKER>  <PER>    <DATE>  <TIME>  <CLOSE>  m_id\n",
       "0      ROSN     60  12/02/21  110000   496.20     1\n",
       "1      ROSN     60  12/02/21  120000   489.90     2\n",
       "2      ROSN     60  12/02/21  130000   494.05     3\n",
       "3      ROSN     60  12/02/21  140000   496.45     4\n",
       "4      ROSN     60  12/02/21  150000   498.90     5\n",
       "5      ROSN     60  12/02/21  160000   498.80     6\n",
       "6      ROSN     60  12/02/21  170000   502.70     7\n",
       "7      ROSN     60  12/02/21  180000   502.35     8\n",
       "8      ROSN     60  12/02/21  190000   504.15     9\n",
       "9      ROSN     60  12/02/21  200000   505.25    10\n",
       "10     ROSN     60  12/02/21  210000   506.10    11\n",
       "11     ROSN     60  12/02/21  220000   506.10    12\n",
       "12     ROSN     60  12/02/21  230000   505.70    13\n",
       "13     ROSN     60  13/02/21       0   509.35    14"
      ]
     },
     "execution_count": 17,
     "metadata": {},
     "output_type": "execute_result"
    }
   ],
   "source": [
    "data = pd.read_csv(\"./Data/ROSN_210212_210212_hour.csv\", sep=';')\n",
    "data['m_id']=np.arange(1,len(data)+1)\n",
    "data"
   ]
  },
  {
   "cell_type": "markdown",
   "metadata": {},
   "source": [
    "Построим график"
   ]
  },
  {
   "cell_type": "code",
   "execution_count": 18,
   "metadata": {
    "scrolled": true
   },
   "outputs": [
    {
     "data": {
      "text/plain": [
       "<AxesSubplot:xlabel='m_id'>"
      ]
     },
     "execution_count": 18,
     "metadata": {},
     "output_type": "execute_result"
    },
    {
     "data": {
      "image/png": "[encoded data removed]",
      "text/plain": [
       "<Figure size 432x288 with 1 Axes>"
      ]
     },
     "metadata": {
      "needs_background": "light"
     },
     "output_type": "display_data"
    }
   ],
   "source": [
    "data.plot(x='m_id', y='<CLOSE>', label='Цена', grid=True)"
   ]
  },
  {
   "cell_type": "markdown",
   "metadata": {},
   "source": [
    "Обозначим цену акции $y$, а момент времени, в который цена измерена $x$. Построим линейную модель имеющихся данных. Линейная модель зависимости $\\widehat{y}$ от одной независимой переменной $x$ выражается уравнением $\\widehat{y}=w_0+wx$, где $w_0, w$ - коэффициенты или параметры модели. С помощью МНК находят такие значения параметров модели, при которых сумма квадратов расстояний значений измеренной величины от значений модели минимально. Для этого минимизируют функцию\n",
    "\n",
    "$$\n",
    "E(w_0, w)=\\sum_{i=0}^I(y_i-w_0-wx_i)^2\n",
    "$$\n",
    "\n",
    "посредством решения системы уравнений\n",
    "\n",
    "$$\n",
    "\\begin {cases} \n",
    "{\\frac{dE(w_0, w)}{dw_0}=0} \\\\ \\\\\n",
    "{\\frac{dE(w_0, w)}{dw}=0}\n",
    "\\end {cases}\n",
    "$$\n",
    "\n",
    "\n",
    "В процессе решения системы уравнений параметры модели могут быть выражены через значения дисперсии и ковариации признаков, что оказывается удобным для их расчета:\n",
    "\n",
    "$$\n",
    "w=\\frac{Cov_{xy}}{Disp_x} \\\\\n",
    "w_0=M(y)- w \\cdot M(x)\n",
    "$$\n",
    "\n",
    "где $M(\\cdot)$ - математическое ожидание.\n",
    "\n",
    "Приведенная система уравнений может быть решена и в матричном виде. Для этого предположим, что имеется фиктивная переменная $x_0=1$. Тогда уравнение модели принимает вид $\\widehat{y}=w_0x_0+wx = {w}^T {x}$, где $w$ - вектор параметров модели, $x$ - вектор независимых переменных.\n",
    " В общем случае, когда имеется $I$ независимых переменных, $x_1, x_2, ... x_I$, уравнение модели принимает вид \n",
    "\n",
    "$$\n",
    "\\widehat{y} = \\sum_{i=0}^I w_i x_{i} = X{w}^T\n",
    "$$\n",
    "\n",
    "</Table>\n",
    "где $X$ - матрица признаков, в которой $n$ строк по числу независимых переменных и $I+1$ столбец, включая единичный столбец фиктивной переменной слева; $w$ - вектор параметров модели.\n",
    "\n",
    "Параметры $w$ находят методом наименьших квадратов, минимизируя отклонение $\\widehat{y}$ от $y$, которое носит случайный характер и обозначается $\\epsilon$. В матричном виде\n",
    "\n",
    "$$ w=({X}^{T} {X})^{-1} {X}^{T}{y} $$"
   ]
  },
  {
   "cell_type": "code",
   "execution_count": 20,
   "metadata": {},
   "outputs": [
    {
     "data": {
      "text/plain": [
       "21.85384615384619"
      ]
     },
     "execution_count": 20,
     "metadata": {},
     "output_type": "execute_result"
    }
   ],
   "source": [
    "cov_xy = np.cov(data[\"m_id\"], data[\"<CLOSE>\"])[0,1]\n",
    "cov_xy"
   ]
  },
  {
   "cell_type": "code",
   "execution_count": 23,
   "metadata": {},
   "outputs": [
    {
     "data": {
      "text/plain": [
       "16.249999999999996"
      ]
     },
     "execution_count": 23,
     "metadata": {},
     "output_type": "execute_result"
    }
   ],
   "source": [
    "disp_x=np.std(data[\"m_id\"])**2\n",
    "disp_x"
   ]
  },
  {
   "cell_type": "code",
   "execution_count": 25,
   "metadata": {},
   "outputs": [
    {
     "data": {
      "text/plain": [
       "1.3448520710059197"
      ]
     },
     "execution_count": 25,
     "metadata": {},
     "output_type": "execute_result"
    }
   ],
   "source": [
    "w=cov_xy/disp_x\n",
    "w"
   ]
  },
  {
   "cell_type": "code",
   "execution_count": 30,
   "metadata": {},
   "outputs": [
    {
     "data": {
      "text/plain": [
       "491.05646661031284"
      ]
     },
     "execution_count": 30,
     "metadata": {},
     "output_type": "execute_result"
    }
   ],
   "source": [
    "w0=np.mean(data[\"<CLOSE>\"])-w*np.mean(data[\"m_id\"])\n",
    "w0"
   ]
  },
  {
   "cell_type": "code",
   "execution_count": 31,
   "metadata": {},
   "outputs": [],
   "source": [
    "data[\"model\"]=w0+w*data[\"m_id\"]"
   ]
  },
  {
   "cell_type": "code",
   "execution_count": 32,
   "metadata": {},
   "outputs": [
    {
     "data": {
      "text/html": [
       "<div>\n",
       "<style scoped>\n",
       "    .dataframe tbody tr th:only-of-type {\n",
       "        vertical-align: middle;\n",
       "    }\n",
       "\n",
       "    .dataframe tbody tr th {\n",
       "        vertical-align: top;\n",
       "    }\n",
       "\n",
       "    .dataframe thead th {\n",
       "        text-align: right;\n",
       "    }\n",
       "</style>\n",
       "<table border=\"1\" class=\"dataframe\">\n",
       "  <thead>\n",
       "    <tr style=\"text-align: right;\">\n",
       "      <th></th>\n",
       "      <th>&lt;TICKER&gt;</th>\n",
       "      <th>&lt;PER&gt;</th>\n",
       "      <th>&lt;DATE&gt;</th>\n",
       "      <th>&lt;TIME&gt;</th>\n",
       "      <th>&lt;CLOSE&gt;</th>\n",
       "      <th>m_id</th>\n",
       "      <th>model</th>\n",
       "    </tr>\n",
       "  </thead>\n",
       "  <tbody>\n",
       "    <tr>\n",
       "      <th>0</th>\n",
       "      <td>ROSN</td>\n",
       "      <td>60</td>\n",
       "      <td>12/02/21</td>\n",
       "      <td>110000</td>\n",
       "      <td>496.20</td>\n",
       "      <td>1</td>\n",
       "      <td>492.401319</td>\n",
       "    </tr>\n",
       "    <tr>\n",
       "      <th>1</th>\n",
       "      <td>ROSN</td>\n",
       "      <td>60</td>\n",
       "      <td>12/02/21</td>\n",
       "      <td>120000</td>\n",
       "      <td>489.90</td>\n",
       "      <td>2</td>\n",
       "      <td>493.746171</td>\n",
       "    </tr>\n",
       "    <tr>\n",
       "      <th>2</th>\n",
       "      <td>ROSN</td>\n",
       "      <td>60</td>\n",
       "      <td>12/02/21</td>\n",
       "      <td>130000</td>\n",
       "      <td>494.05</td>\n",
       "      <td>3</td>\n",
       "      <td>495.091023</td>\n",
       "    </tr>\n",
       "    <tr>\n",
       "      <th>3</th>\n",
       "      <td>ROSN</td>\n",
       "      <td>60</td>\n",
       "      <td>12/02/21</td>\n",
       "      <td>140000</td>\n",
       "      <td>496.45</td>\n",
       "      <td>4</td>\n",
       "      <td>496.435875</td>\n",
       "    </tr>\n",
       "    <tr>\n",
       "      <th>4</th>\n",
       "      <td>ROSN</td>\n",
       "      <td>60</td>\n",
       "      <td>12/02/21</td>\n",
       "      <td>150000</td>\n",
       "      <td>498.90</td>\n",
       "      <td>5</td>\n",
       "      <td>497.780727</td>\n",
       "    </tr>\n",
       "  </tbody>\n",
       "</table>\n",
       "</div>"
      ],
      "text/plain": [
       "  <TICKER>  <PER>    <DATE>  <TIME>  <CLOSE>  m_id       model\n",
       "0     ROSN     60  12/02/21  110000   496.20     1  492.401319\n",
       "1     ROSN     60  12/02/21  120000   489.90     2  493.746171\n",
       "2     ROSN     60  12/02/21  130000   494.05     3  495.091023\n",
       "3     ROSN     60  12/02/21  140000   496.45     4  496.435875\n",
       "4     ROSN     60  12/02/21  150000   498.90     5  497.780727"
      ]
     },
     "execution_count": 32,
     "metadata": {},
     "output_type": "execute_result"
    }
   ],
   "source": [
    "data.head()"
   ]
  },
  {
   "cell_type": "code",
   "execution_count": 36,
   "metadata": {},
   "outputs": [
    {
     "data": {
      "image/png": "[encoded data removed]",
      "text/plain": [
       "<Figure size 432x288 with 1 Axes>"
      ]
     },
     "metadata": {
      "needs_background": "light"
     },
     "output_type": "display_data"
    }
   ],
   "source": [
    "plt.plot(data['m_id'], data['<CLOSE>'])\n",
    "plt.plot(data['m_id'], data['model'])\n",
    "plt.grid()"
   ]
  },
  {
   "cell_type": "markdown",
   "metadata": {},
   "source": [
    "Реализуем решение в матричном виде. Сначала построим матрицу $X$."
   ]
  },
  {
   "cell_type": "code",
   "execution_count": 4,
   "metadata": {},
   "outputs": [
    {
     "name": "stdout",
     "output_type": "stream",
     "text": [
      "[[ 1.  1.]\n",
      " [ 1.  2.]\n",
      " [ 1.  3.]\n",
      " [ 1.  4.]\n",
      " [ 1.  5.]\n",
      " [ 1.  6.]\n",
      " [ 1.  7.]\n",
      " [ 1.  8.]\n",
      " [ 1.  9.]\n",
      " [ 1. 10.]\n",
      " [ 1. 11.]\n",
      " [ 1. 12.]\n",
      " [ 1. 13.]\n",
      " [ 1. 14.]]\n"
     ]
    }
   ],
   "source": [
    "x0=np.ones(len(data))\n",
    "x1=np.array(data['m_id'])\n",
    "X=np.stack((x0,x1),axis=1)\n",
    "print(X)"
   ]
  },
  {
   "cell_type": "markdown",
   "metadata": {},
   "source": [
    "Создадим массив значений $y$."
   ]
  },
  {
   "cell_type": "code",
   "execution_count": 37,
   "metadata": {},
   "outputs": [
    {
     "data": {
      "text/plain": [
       "array([496.2 , 489.9 , 494.05, 496.45, 498.9 , 498.8 , 502.7 , 502.35,\n",
       "       504.15, 505.25, 506.1 , 506.1 , 505.7 , 509.35])"
      ]
     },
     "execution_count": 37,
     "metadata": {},
     "output_type": "execute_result"
    }
   ],
   "source": [
    "y=np.array(data['<CLOSE>'])\n",
    "y"
   ]
  },
  {
   "cell_type": "markdown",
   "metadata": {},
   "source": [
    "Подставим $w$ и $y$ в формулу."
   ]
  },
  {
   "cell_type": "code",
   "execution_count": 6,
   "metadata": {},
   "outputs": [
    {
     "name": "stdout",
     "output_type": "stream",
     "text": [
      "[491.77692308   1.24879121]\n"
     ]
    }
   ],
   "source": [
    "w = np.dot(np.dot(np.linalg.inv(np.dot(X.T,X)),X.T),y)\n",
    "print(w)"
   ]
  },
  {
   "cell_type": "markdown",
   "metadata": {},
   "source": [
    "Мы получили значения $w_0$ и $w_1$. Построим график $\\widehat{y}$."
   ]
  },
  {
   "cell_type": "code",
   "execution_count": 7,
   "metadata": {
    "scrolled": true
   },
   "outputs": [
    {
     "data": {
      "text/plain": [
       "Text(0, 0.5, 'Цена')"
      ]
     },
     "execution_count": 7,
     "metadata": {},
     "output_type": "execute_result"
    },
    {
     "data": {
      "image/png": "[encoded data removed]",
      "text/plain": [
       "<Figure size 432x288 with 1 Axes>"
      ]
     },
     "metadata": {
      "needs_background": "light"
     },
     "output_type": "display_data"
    }
   ],
   "source": [
    "plt.plot(data['m_id'], data['<CLOSE>'], label='Цена')\n",
    "plt.plot(data['m_id'], w[0]+X[:,1]*w[1], label='Линейная модель')\n",
    "plt.legend(loc=4)\n",
    "plt.grid()\n",
    "plt.xlabel('Время')\n",
    "plt.ylabel('Цена')"
   ]
  }
 ],
 "metadata": {
  "kernelspec": {
   "display_name": "Python 3",
   "language": "python",
   "name": "python3"
  },
  "language_info": {
   "codemirror_mode": {
    "name": "ipython",
    "version": 3
   },
   "file_extension": ".py",
   "mimetype": "text/x-python",
   "name": "python",
   "nbconvert_exporter": "python",
   "pygments_lexer": "ipython3",
   "version": "3.8.5"
  }
 },
 "nbformat": 4,
 "nbformat_minor": 4
}
