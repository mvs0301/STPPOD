{
 "cells": [
  {
   "cell_type": "markdown",
   "metadata": {
    "id": "2Yn_cT5q5eWw"
   },
   "source": [
    "<img src=\"../Img/banner-fa-49-2.jpg\">\n",
    "\n",
    "### <center> Финансовый университет\n",
    "## <center>  Современные технологии <br>прикладного программирования и обработки данных\n",
    "## <center> Тема 6. Методы группировки данных\n",
    "\n",
    "20 апреля 2021 года\n",
    "\n",
    "Лекция<br>\n",
    "Студенты: Поток У18-7у<br>\n",
    "Преподаватель: Смирнов Михаил Викторович, доцент Департамента Анализа данных и машинного обучения Финансового университета при Правительстве Российской Федерации"
   ]
  },
  {
   "cell_type": "markdown",
   "metadata": {
    "id": "CrIjkPuaOm4x"
   },
   "source": [
    "# Группировка данных\n",
    "\n",
    "Данные можно представить себе как последовательность каких-то единичных наблюдений. Например, в наборе данных *FinancialSample2.csv* единичное наблюдение — это сделка по продаже конкретного товара."
   ]
  },
  {
   "cell_type": "code",
   "execution_count": 2,
   "metadata": {},
   "outputs": [
    {
     "data": {
      "text/html": [
       "<div>\n",
       "<style scoped>\n",
       "    .dataframe tbody tr th:only-of-type {\n",
       "        vertical-align: middle;\n",
       "    }\n",
       "\n",
       "    .dataframe tbody tr th {\n",
       "        vertical-align: top;\n",
       "    }\n",
       "\n",
       "    .dataframe thead th {\n",
       "        text-align: right;\n",
       "    }\n",
       "</style>\n",
       "<table border=\"1\" class=\"dataframe\">\n",
       "  <thead>\n",
       "    <tr style=\"text-align: right;\">\n",
       "      <th></th>\n",
       "      <th>Id</th>\n",
       "      <th>Segment</th>\n",
       "      <th>Country</th>\n",
       "      <th>Product</th>\n",
       "      <th>DiscountBand</th>\n",
       "      <th>UnitsSold</th>\n",
       "      <th>ManufacturingPrice</th>\n",
       "      <th>SalePrice</th>\n",
       "      <th>GrossSales</th>\n",
       "      <th>Discounts</th>\n",
       "      <th>Sales</th>\n",
       "      <th>COGS</th>\n",
       "      <th>Profit</th>\n",
       "      <th>Date</th>\n",
       "      <th>MonthNumber</th>\n",
       "      <th>MonthName</th>\n",
       "      <th>Year</th>\n",
       "    </tr>\n",
       "  </thead>\n",
       "  <tbody>\n",
       "    <tr>\n",
       "      <th>0</th>\n",
       "      <td>0</td>\n",
       "      <td>Government</td>\n",
       "      <td>Canada</td>\n",
       "      <td>Carretera</td>\n",
       "      <td>None</td>\n",
       "      <td>1618.5</td>\n",
       "      <td>3.0</td>\n",
       "      <td>20.0</td>\n",
       "      <td>32370.0</td>\n",
       "      <td>0.0</td>\n",
       "      <td>32370.0</td>\n",
       "      <td>16185.0</td>\n",
       "      <td>16185.0</td>\n",
       "      <td>2014-01-01</td>\n",
       "      <td>1.0</td>\n",
       "      <td>January</td>\n",
       "      <td>2014.0</td>\n",
       "    </tr>\n",
       "    <tr>\n",
       "      <th>1</th>\n",
       "      <td>1</td>\n",
       "      <td>Government</td>\n",
       "      <td>Germany</td>\n",
       "      <td>Carretera</td>\n",
       "      <td>None</td>\n",
       "      <td>1321.0</td>\n",
       "      <td>3.0</td>\n",
       "      <td>20.0</td>\n",
       "      <td>26420.0</td>\n",
       "      <td>0.0</td>\n",
       "      <td>26420.0</td>\n",
       "      <td>13210.0</td>\n",
       "      <td>13210.0</td>\n",
       "      <td>2014-01-01</td>\n",
       "      <td>1.0</td>\n",
       "      <td>January</td>\n",
       "      <td>2014.0</td>\n",
       "    </tr>\n",
       "    <tr>\n",
       "      <th>2</th>\n",
       "      <td>2</td>\n",
       "      <td>Midmarket</td>\n",
       "      <td>France</td>\n",
       "      <td>Carretera</td>\n",
       "      <td>None</td>\n",
       "      <td>2178.0</td>\n",
       "      <td>3.0</td>\n",
       "      <td>15.0</td>\n",
       "      <td>32670.0</td>\n",
       "      <td>0.0</td>\n",
       "      <td>32670.0</td>\n",
       "      <td>21780.0</td>\n",
       "      <td>10890.0</td>\n",
       "      <td>2014-06-01</td>\n",
       "      <td>6.0</td>\n",
       "      <td>June</td>\n",
       "      <td>2014.0</td>\n",
       "    </tr>\n",
       "    <tr>\n",
       "      <th>3</th>\n",
       "      <td>3</td>\n",
       "      <td>Midmarket</td>\n",
       "      <td>Germany</td>\n",
       "      <td>Carretera</td>\n",
       "      <td>None</td>\n",
       "      <td>888.0</td>\n",
       "      <td>3.0</td>\n",
       "      <td>15.0</td>\n",
       "      <td>13320.0</td>\n",
       "      <td>0.0</td>\n",
       "      <td>13320.0</td>\n",
       "      <td>8880.0</td>\n",
       "      <td>4440.0</td>\n",
       "      <td>2014-06-01</td>\n",
       "      <td>6.0</td>\n",
       "      <td>June</td>\n",
       "      <td>2014.0</td>\n",
       "    </tr>\n",
       "    <tr>\n",
       "      <th>4</th>\n",
       "      <td>4</td>\n",
       "      <td>Midmarket</td>\n",
       "      <td>Mexico</td>\n",
       "      <td>Carretera</td>\n",
       "      <td>None</td>\n",
       "      <td>2470.0</td>\n",
       "      <td>3.0</td>\n",
       "      <td>15.0</td>\n",
       "      <td>37050.0</td>\n",
       "      <td>0.0</td>\n",
       "      <td>37050.0</td>\n",
       "      <td>24700.0</td>\n",
       "      <td>12350.0</td>\n",
       "      <td>2014-06-01</td>\n",
       "      <td>6.0</td>\n",
       "      <td>June</td>\n",
       "      <td>2014.0</td>\n",
       "    </tr>\n",
       "  </tbody>\n",
       "</table>\n",
       "</div>"
      ],
      "text/plain": [
       "   Id     Segment  Country    Product DiscountBand  UnitsSold  \\\n",
       "0   0  Government   Canada  Carretera         None     1618.5   \n",
       "1   1  Government  Germany  Carretera         None     1321.0   \n",
       "2   2   Midmarket   France  Carretera         None     2178.0   \n",
       "3   3   Midmarket  Germany  Carretera         None      888.0   \n",
       "4   4   Midmarket   Mexico  Carretera         None     2470.0   \n",
       "\n",
       "   ManufacturingPrice  SalePrice  GrossSales  Discounts    Sales     COGS  \\\n",
       "0                 3.0       20.0     32370.0        0.0  32370.0  16185.0   \n",
       "1                 3.0       20.0     26420.0        0.0  26420.0  13210.0   \n",
       "2                 3.0       15.0     32670.0        0.0  32670.0  21780.0   \n",
       "3                 3.0       15.0     13320.0        0.0  13320.0   8880.0   \n",
       "4                 3.0       15.0     37050.0        0.0  37050.0  24700.0   \n",
       "\n",
       "    Profit        Date  MonthNumber MonthName    Year  \n",
       "0  16185.0  2014-01-01          1.0   January  2014.0  \n",
       "1  13210.0  2014-01-01          1.0   January  2014.0  \n",
       "2  10890.0  2014-06-01          6.0      June  2014.0  \n",
       "3   4440.0  2014-06-01          6.0      June  2014.0  \n",
       "4  12350.0  2014-06-01          6.0      June  2014.0  "
      ]
     },
     "execution_count": 2,
     "metadata": {},
     "output_type": "execute_result"
    }
   ],
   "source": [
    "import pandas as pd\n",
    "fs=pd.read_csv(\"./Data/FinancialSample2.csv\", sep=';')\n",
    "fs.head()"
   ]
  },
  {
   "cell_type": "markdown",
   "metadata": {},
   "source": [
    "У каждого наблюдения есть какие-то атрибуты. Они могут быть разных типов:\n",
    "\n",
    "- категориальные — например, название фирмы-производителя товара (признак *Product*);\n",
    "- численные — например, размер партии товара в штуках (признак *UnitsSold*).\n",
    "\n",
    "Решение задачи группировки предполагает разделение данных по некоторому признаку (атрибуту), после чего к каждому элементу этих разделенных данных мы можем применить агрегирующую операцию. Это такая операция, которая позволяет вычислить какой-либо показатель.\n",
    "\n",
    "Затем мы можем оценить, как отличаются эти показатели в зависимости от признака, по которому было осуществлено разделение. Такое разделение мы можем назвать группировкой данных.\n",
    "\n",
    "Возьмем информацию о числе единиц проданного товара в пяти первых сделках для стран Пакистан, Германия, Мексика."
   ]
  },
  {
   "cell_type": "code",
   "execution_count": 3,
   "metadata": {},
   "outputs": [],
   "source": [
    "fs_pakistan = fs[fs[\"Country\"]==\"Pakistan\"][[\"Country\", \"UnitsSold\"]].head()\n",
    "fs_germany = fs[fs[\"Country\"]==\"Germany\"][[\"Country\", \"UnitsSold\"]].head()\n",
    "fs_mexico = fs[fs[\"Country\"]==\"Mexico\"][[\"Country\", \"UnitsSold\"]].head()"
   ]
  },
  {
   "cell_type": "markdown",
   "metadata": {},
   "source": [
    "Найдем среднее значение *UnitsSold* в каждой группе"
   ]
  },
  {
   "cell_type": "code",
   "execution_count": 4,
   "metadata": {},
   "outputs": [
    {
     "name": "stdout",
     "output_type": "stream",
     "text": [
      "2485.0\n",
      "1237.6\n",
      "1551.0\n"
     ]
    }
   ],
   "source": [
    "print(fs_pakistan[\"UnitsSold\"].mean())\n",
    "print(fs_germany[\"UnitsSold\"].mean())\n",
    "print(fs_mexico[\"UnitsSold\"].mean())"
   ]
  },
  {
   "cell_type": "markdown",
   "metadata": {},
   "source": [
    "Объединим три этих таблицы в одну"
   ]
  },
  {
   "cell_type": "code",
   "execution_count": 5,
   "metadata": {},
   "outputs": [
    {
     "data": {
      "text/html": [
       "<div>\n",
       "<style scoped>\n",
       "    .dataframe tbody tr th:only-of-type {\n",
       "        vertical-align: middle;\n",
       "    }\n",
       "\n",
       "    .dataframe tbody tr th {\n",
       "        vertical-align: top;\n",
       "    }\n",
       "\n",
       "    .dataframe thead th {\n",
       "        text-align: right;\n",
       "    }\n",
       "</style>\n",
       "<table border=\"1\" class=\"dataframe\">\n",
       "  <thead>\n",
       "    <tr style=\"text-align: right;\">\n",
       "      <th></th>\n",
       "      <th>Country</th>\n",
       "      <th>UnitsSold</th>\n",
       "    </tr>\n",
       "  </thead>\n",
       "  <tbody>\n",
       "    <tr>\n",
       "      <th>0</th>\n",
       "      <td>Pakistan</td>\n",
       "      <td>2911.0</td>\n",
       "    </tr>\n",
       "    <tr>\n",
       "      <th>1</th>\n",
       "      <td>Pakistan</td>\n",
       "      <td>1513.0</td>\n",
       "    </tr>\n",
       "    <tr>\n",
       "      <th>2</th>\n",
       "      <td>Pakistan</td>\n",
       "      <td>2572.0</td>\n",
       "    </tr>\n",
       "    <tr>\n",
       "      <th>3</th>\n",
       "      <td>Pakistan</td>\n",
       "      <td>2552.0</td>\n",
       "    </tr>\n",
       "    <tr>\n",
       "      <th>4</th>\n",
       "      <td>Pakistan</td>\n",
       "      <td>2877.0</td>\n",
       "    </tr>\n",
       "    <tr>\n",
       "      <th>5</th>\n",
       "      <td>Germany</td>\n",
       "      <td>1321.0</td>\n",
       "    </tr>\n",
       "    <tr>\n",
       "      <th>6</th>\n",
       "      <td>Germany</td>\n",
       "      <td>888.0</td>\n",
       "    </tr>\n",
       "    <tr>\n",
       "      <th>7</th>\n",
       "      <td>Germany</td>\n",
       "      <td>1513.0</td>\n",
       "    </tr>\n",
       "    <tr>\n",
       "      <th>8</th>\n",
       "      <td>Germany</td>\n",
       "      <td>921.0</td>\n",
       "    </tr>\n",
       "    <tr>\n",
       "      <th>9</th>\n",
       "      <td>Germany</td>\n",
       "      <td>1545.0</td>\n",
       "    </tr>\n",
       "    <tr>\n",
       "      <th>10</th>\n",
       "      <td>Mexico</td>\n",
       "      <td>2470.0</td>\n",
       "    </tr>\n",
       "    <tr>\n",
       "      <th>11</th>\n",
       "      <td>Mexico</td>\n",
       "      <td>2470.0</td>\n",
       "    </tr>\n",
       "    <tr>\n",
       "      <th>12</th>\n",
       "      <td>Mexico</td>\n",
       "      <td>958.0</td>\n",
       "    </tr>\n",
       "    <tr>\n",
       "      <th>13</th>\n",
       "      <td>Mexico</td>\n",
       "      <td>974.0</td>\n",
       "    </tr>\n",
       "    <tr>\n",
       "      <th>14</th>\n",
       "      <td>Mexico</td>\n",
       "      <td>883.0</td>\n",
       "    </tr>\n",
       "  </tbody>\n",
       "</table>\n",
       "</div>"
      ],
      "text/plain": [
       "     Country  UnitsSold\n",
       "0   Pakistan     2911.0\n",
       "1   Pakistan     1513.0\n",
       "2   Pakistan     2572.0\n",
       "3   Pakistan     2552.0\n",
       "4   Pakistan     2877.0\n",
       "5    Germany     1321.0\n",
       "6    Germany      888.0\n",
       "7    Germany     1513.0\n",
       "8    Germany      921.0\n",
       "9    Germany     1545.0\n",
       "10    Mexico     2470.0\n",
       "11    Mexico     2470.0\n",
       "12    Mexico      958.0\n",
       "13    Mexico      974.0\n",
       "14    Mexico      883.0"
      ]
     },
     "execution_count": 5,
     "metadata": {},
     "output_type": "execute_result"
    }
   ],
   "source": [
    "fs_joined = pd.concat([fs_pakistan, fs_germany, fs_mexico], axis=0, ignore_index=True)\n",
    "fs_joined"
   ]
  },
  {
   "cell_type": "markdown",
   "metadata": {},
   "source": [
    "Применим функцию *groupby()*"
   ]
  },
  {
   "cell_type": "code",
   "execution_count": 6,
   "metadata": {},
   "outputs": [
    {
     "data": {
      "text/plain": [
       "Country\n",
       "Germany     1237.6\n",
       "Mexico      1551.0\n",
       "Pakistan    2485.0\n",
       "Name: UnitsSold, dtype: float64"
      ]
     },
     "execution_count": 6,
     "metadata": {},
     "output_type": "execute_result"
    }
   ],
   "source": [
    "fs_joined.groupby(by=\"Country\")[\"UnitsSold\"].mean()"
   ]
  },
  {
   "cell_type": "markdown",
   "metadata": {
    "id": "Rn1OZhmoOsHF"
   },
   "source": [
    "## Функция *groupby()*\n",
    "\n",
    "Ранее мы уже рассмотрели простейшую группировку с помощью функции *value_counts()*, которая возвращает серию, содержащую количество уникальных значений в группах. Кратко вспомним, как работает *value_counts()* на примере. Пусть имеются сведения об успеваимости студентов: имя студента, учебная группа, оценка в баллах в первом и втором семестрах."
   ]
  },
  {
   "cell_type": "code",
   "execution_count": 7,
   "metadata": {
    "id": "zcMFr52ULCoU"
   },
   "outputs": [],
   "source": [
    "students=pd.DataFrame({'Name':\n",
    "                    ['Иван','Петр','Мария','Василий','Анна','Василиса','Дарья','Николай','Вероника'],\n",
    "                    'Group':['Ф1','Ф1','Ф2','Ф2','Ф1','Ф2','Ф2','Ф2','Ф1'],\n",
    "                    'Mark_1':[19,18,17,21,24,18,22,19,18],\n",
    "                    'Mark_2':[25,30,26,26,21,23,25,29,31]})"
   ]
  },
  {
   "cell_type": "markdown",
   "metadata": {
    "id": "iyFfffgNpaIC"
   },
   "source": [
    "Распечатаем датафрейм с данными о студентах, предварительно добавив столбец - суммарную оценку"
   ]
  },
  {
   "cell_type": "code",
   "execution_count": 8,
   "metadata": {
    "colab": {
     "base_uri": "https://localhost:8080/",
     "height": 331
    },
    "id": "Kuu5YjfGpXP-",
    "outputId": "badf1ce3-6154-4cf1-b1a8-1fcc8f88e1dd"
   },
   "outputs": [
    {
     "data": {
      "text/html": [
       "<div>\n",
       "<style scoped>\n",
       "    .dataframe tbody tr th:only-of-type {\n",
       "        vertical-align: middle;\n",
       "    }\n",
       "\n",
       "    .dataframe tbody tr th {\n",
       "        vertical-align: top;\n",
       "    }\n",
       "\n",
       "    .dataframe thead th {\n",
       "        text-align: right;\n",
       "    }\n",
       "</style>\n",
       "<table border=\"1\" class=\"dataframe\">\n",
       "  <thead>\n",
       "    <tr style=\"text-align: right;\">\n",
       "      <th></th>\n",
       "      <th>Name</th>\n",
       "      <th>Group</th>\n",
       "      <th>Mark_1</th>\n",
       "      <th>Mark_2</th>\n",
       "      <th>Mark_sum</th>\n",
       "    </tr>\n",
       "  </thead>\n",
       "  <tbody>\n",
       "    <tr>\n",
       "      <th>0</th>\n",
       "      <td>Иван</td>\n",
       "      <td>Ф1</td>\n",
       "      <td>19</td>\n",
       "      <td>25</td>\n",
       "      <td>44</td>\n",
       "    </tr>\n",
       "    <tr>\n",
       "      <th>1</th>\n",
       "      <td>Петр</td>\n",
       "      <td>Ф1</td>\n",
       "      <td>18</td>\n",
       "      <td>30</td>\n",
       "      <td>48</td>\n",
       "    </tr>\n",
       "    <tr>\n",
       "      <th>2</th>\n",
       "      <td>Мария</td>\n",
       "      <td>Ф2</td>\n",
       "      <td>17</td>\n",
       "      <td>26</td>\n",
       "      <td>43</td>\n",
       "    </tr>\n",
       "    <tr>\n",
       "      <th>3</th>\n",
       "      <td>Василий</td>\n",
       "      <td>Ф2</td>\n",
       "      <td>21</td>\n",
       "      <td>26</td>\n",
       "      <td>47</td>\n",
       "    </tr>\n",
       "    <tr>\n",
       "      <th>4</th>\n",
       "      <td>Анна</td>\n",
       "      <td>Ф1</td>\n",
       "      <td>24</td>\n",
       "      <td>21</td>\n",
       "      <td>45</td>\n",
       "    </tr>\n",
       "    <tr>\n",
       "      <th>5</th>\n",
       "      <td>Василиса</td>\n",
       "      <td>Ф2</td>\n",
       "      <td>18</td>\n",
       "      <td>23</td>\n",
       "      <td>41</td>\n",
       "    </tr>\n",
       "    <tr>\n",
       "      <th>6</th>\n",
       "      <td>Дарья</td>\n",
       "      <td>Ф2</td>\n",
       "      <td>22</td>\n",
       "      <td>25</td>\n",
       "      <td>47</td>\n",
       "    </tr>\n",
       "    <tr>\n",
       "      <th>7</th>\n",
       "      <td>Николай</td>\n",
       "      <td>Ф2</td>\n",
       "      <td>19</td>\n",
       "      <td>29</td>\n",
       "      <td>48</td>\n",
       "    </tr>\n",
       "    <tr>\n",
       "      <th>8</th>\n",
       "      <td>Вероника</td>\n",
       "      <td>Ф1</td>\n",
       "      <td>18</td>\n",
       "      <td>31</td>\n",
       "      <td>49</td>\n",
       "    </tr>\n",
       "  </tbody>\n",
       "</table>\n",
       "</div>"
      ],
      "text/plain": [
       "       Name Group  Mark_1  Mark_2  Mark_sum\n",
       "0      Иван    Ф1      19      25        44\n",
       "1      Петр    Ф1      18      30        48\n",
       "2     Мария    Ф2      17      26        43\n",
       "3   Василий    Ф2      21      26        47\n",
       "4      Анна    Ф1      24      21        45\n",
       "5  Василиса    Ф2      18      23        41\n",
       "6     Дарья    Ф2      22      25        47\n",
       "7   Николай    Ф2      19      29        48\n",
       "8  Вероника    Ф1      18      31        49"
      ]
     },
     "execution_count": 8,
     "metadata": {},
     "output_type": "execute_result"
    }
   ],
   "source": [
    "students['Mark_sum'] = students['Mark_1'] + students['Mark_2']\n",
    "students"
   ]
  },
  {
   "cell_type": "markdown",
   "metadata": {
    "id": "YNwbyCtsqGR3"
   },
   "source": [
    "Применим *value_counts()* к столбцам *Group* и *Mark_1*"
   ]
  },
  {
   "cell_type": "code",
   "execution_count": 9,
   "metadata": {
    "colab": {
     "base_uri": "https://localhost:8080/"
    },
    "id": "M3FlCmolUVfl",
    "outputId": "bb622732-a34e-4b1a-b5cc-49131c7f5357"
   },
   "outputs": [
    {
     "data": {
      "text/plain": [
       "Ф2    5\n",
       "Ф1    4\n",
       "Name: Group, dtype: int64"
      ]
     },
     "execution_count": 9,
     "metadata": {},
     "output_type": "execute_result"
    }
   ],
   "source": [
    "students['Group'].value_counts()"
   ]
  },
  {
   "cell_type": "markdown",
   "metadata": {},
   "source": [
    "Результат: уникальными значениями столбца *Group* являются Ф1 и Ф2, которые встречаются 4 и 5 раз соответственно. Применим *value_counts()* к численному столбцу *Mark_1*."
   ]
  },
  {
   "cell_type": "code",
   "execution_count": 10,
   "metadata": {
    "colab": {
     "base_uri": "https://localhost:8080/"
    },
    "id": "XR1pzqaZUa4F",
    "outputId": "d5826f60-8525-49e6-dade-b67f8a2f70ed"
   },
   "outputs": [
    {
     "data": {
      "text/plain": [
       "18    3\n",
       "19    2\n",
       "24    1\n",
       "22    1\n",
       "21    1\n",
       "17    1\n",
       "Name: Mark_1, dtype: int64"
      ]
     },
     "execution_count": 10,
     "metadata": {},
     "output_type": "execute_result"
    }
   ],
   "source": [
    "students['Mark_1'].value_counts()"
   ]
  },
  {
   "cell_type": "markdown",
   "metadata": {
    "id": "unNPx45QVYlt"
   },
   "source": [
    "Функция *value_counts()* сгруппировала студентов по группам и по оценкам. Предположим теперь, что нас интересует не количество студентов, а сумма баллов. Это можно сделать с помощью известного нам уже способа отбора по условию и применения статистической функции суммы. Для первого семестра получим:"
   ]
  },
  {
   "cell_type": "code",
   "execution_count": 11,
   "metadata": {
    "colab": {
     "base_uri": "https://localhost:8080/"
    },
    "id": "lDNMgPzCWWkC",
    "outputId": "8eb9bb9c-55b1-4727-a7da-2f8b045f768c"
   },
   "outputs": [
    {
     "name": "stdout",
     "output_type": "stream",
     "text": [
      "79\n",
      "97\n"
     ]
    }
   ],
   "source": [
    "print(students[students['Group']=='Ф1']['Mark_1'].sum())\n",
    "print(students[students['Group']=='Ф2']['Mark_1'].sum())"
   ]
  },
  {
   "cell_type": "markdown",
   "metadata": {
    "id": "_BwTnzYJXWob"
   },
   "source": [
    "Для таких целей удобнее применять функцию *groupby()*"
   ]
  },
  {
   "cell_type": "code",
   "execution_count": 12,
   "metadata": {
    "colab": {
     "base_uri": "https://localhost:8080/"
    },
    "id": "d2Nj826Cgq39",
    "outputId": "6946e6ed-27dd-447c-d348-75e494228bc8"
   },
   "outputs": [
    {
     "data": {
      "text/plain": [
       "Group\n",
       "Ф1    79\n",
       "Ф2    97\n",
       "Name: Mark_1, dtype: int64"
      ]
     },
     "execution_count": 12,
     "metadata": {},
     "output_type": "execute_result"
    }
   ],
   "source": [
    "students.groupby(['Group'])['Mark_1'].sum()"
   ]
  },
  {
   "cell_type": "markdown",
   "metadata": {
    "id": "JkXG42WhZNv0"
   },
   "source": [
    "Рассмотрим более подробно работу функции *groupby()*. Выполним команду `students.groupby(['Group'])`"
   ]
  },
  {
   "cell_type": "code",
   "execution_count": 13,
   "metadata": {
    "colab": {
     "base_uri": "https://localhost:8080/"
    },
    "id": "KylY3k0iYeJV",
    "outputId": "5f32a4d0-0acf-4454-b142-986570541c87"
   },
   "outputs": [
    {
     "data": {
      "text/plain": [
       "<pandas.core.groupby.generic.DataFrameGroupBy object at 0x00000223E2C08F88>"
      ]
     },
     "execution_count": 13,
     "metadata": {},
     "output_type": "execute_result"
    }
   ],
   "source": [
    "students.groupby(['Group'])"
   ]
  },
  {
   "cell_type": "markdown",
   "metadata": {
    "id": "YHInnFHqZsyD"
   },
   "source": [
    "Мы получили объект, который хранит сведения о том, какие строки относятся к каким значениям группируемого столбца. Чтобы распечатать эти сведения выполним эту же команду с атрибутом `.groups`"
   ]
  },
  {
   "cell_type": "code",
   "execution_count": 14,
   "metadata": {
    "colab": {
     "base_uri": "https://localhost:8080/"
    },
    "id": "HV2xhYL3aLft",
    "outputId": "3dfe7b86-bf7c-4273-ef2c-a9632ba0c10c"
   },
   "outputs": [
    {
     "data": {
      "text/plain": [
       "{'Ф1': Int64Index([0, 1, 4, 8], dtype='int64'),\n",
       " 'Ф2': Int64Index([2, 3, 5, 6, 7], dtype='int64')}"
      ]
     },
     "execution_count": 14,
     "metadata": {},
     "output_type": "execute_result"
    }
   ],
   "source": [
    "students.groupby(['Group']).groups"
   ]
  },
  {
   "cell_type": "markdown",
   "metadata": {
    "id": "D__h9rDibPpm"
   },
   "source": [
    "Теперь мы узнали, что к группе Ф1 относятся строки [0, 1, 4, 8], а к Ф2 [2, 3, 5, 6, 7]. Эту информацию использует `pandas` для того, чтобы разбить данные на подгруппы и в каждой подгруппе рассчитать что-либо для нас.\n",
    "\n",
    "Для того, чтобы провести суммирование (или выполнить другую агрегирующую функцию) по нескольким столбцам, их надо явно указать. Проведем суммирование баллов в каждой учебной группе отдельно в первом и во втором семестрах."
   ]
  },
  {
   "cell_type": "code",
   "execution_count": 15,
   "metadata": {
    "colab": {
     "base_uri": "https://localhost:8080/",
     "height": 143
    },
    "id": "fU9oAKlvrL-G",
    "outputId": "186a318e-1066-453d-d8db-8d2f6d63c819"
   },
   "outputs": [
    {
     "data": {
      "text/html": [
       "<div>\n",
       "<style scoped>\n",
       "    .dataframe tbody tr th:only-of-type {\n",
       "        vertical-align: middle;\n",
       "    }\n",
       "\n",
       "    .dataframe tbody tr th {\n",
       "        vertical-align: top;\n",
       "    }\n",
       "\n",
       "    .dataframe thead th {\n",
       "        text-align: right;\n",
       "    }\n",
       "</style>\n",
       "<table border=\"1\" class=\"dataframe\">\n",
       "  <thead>\n",
       "    <tr style=\"text-align: right;\">\n",
       "      <th></th>\n",
       "      <th>Mark_1</th>\n",
       "      <th>Mark_2</th>\n",
       "    </tr>\n",
       "    <tr>\n",
       "      <th>Group</th>\n",
       "      <th></th>\n",
       "      <th></th>\n",
       "    </tr>\n",
       "  </thead>\n",
       "  <tbody>\n",
       "    <tr>\n",
       "      <th>Ф1</th>\n",
       "      <td>79</td>\n",
       "      <td>107</td>\n",
       "    </tr>\n",
       "    <tr>\n",
       "      <th>Ф2</th>\n",
       "      <td>97</td>\n",
       "      <td>129</td>\n",
       "    </tr>\n",
       "  </tbody>\n",
       "</table>\n",
       "</div>"
      ],
      "text/plain": [
       "       Mark_1  Mark_2\n",
       "Group                \n",
       "Ф1         79     107\n",
       "Ф2         97     129"
      ]
     },
     "execution_count": 15,
     "metadata": {},
     "output_type": "execute_result"
    }
   ],
   "source": [
    "students_groupped = students.groupby(['Group'])[['Mark_1','Mark_2']].sum()\n",
    "students_groupped"
   ]
  },
  {
   "cell_type": "markdown",
   "metadata": {
    "id": "6uWHcGoPjqYq"
   },
   "source": [
    "Объект *studens_groupped* - это *DataFrame*."
   ]
  },
  {
   "cell_type": "code",
   "execution_count": 16,
   "metadata": {
    "colab": {
     "base_uri": "https://localhost:8080/"
    },
    "id": "gTMsG4Vrkdei",
    "outputId": "03d75de1-d413-49b2-fd23-726600f33a83"
   },
   "outputs": [
    {
     "data": {
      "text/plain": [
       "pandas.core.frame.DataFrame"
      ]
     },
     "execution_count": 16,
     "metadata": {},
     "output_type": "execute_result"
    }
   ],
   "source": [
    "type(students_groupped)"
   ]
  },
  {
   "cell_type": "markdown",
   "metadata": {
    "id": "Zt7J-x-6kkt6"
   },
   "source": [
    "Как всегда, мы можем получить доступ к его элементам. Например, чтобы получить сумму баллов студентов Ф2 во втором семестре введем команду"
   ]
  },
  {
   "cell_type": "code",
   "execution_count": 17,
   "metadata": {
    "colab": {
     "base_uri": "https://localhost:8080/"
    },
    "id": "xFxv6139j_co",
    "outputId": "ad142924-0506-44a8-8e77-bc54cf7f6c6c"
   },
   "outputs": [
    {
     "data": {
      "text/plain": [
       "129"
      ]
     },
     "execution_count": 17,
     "metadata": {},
     "output_type": "execute_result"
    }
   ],
   "source": [
    "students_groupped.loc['Ф2','Mark_2']"
   ]
  },
  {
   "cell_type": "markdown",
   "metadata": {
    "id": "5B2Mj8JVqec4"
   },
   "source": [
    "Если не уточнять, по какому столбцу проводится суммирование (или другая агрегирующая функция), то получим сумму по всем числовым столбцам"
   ]
  },
  {
   "cell_type": "code",
   "execution_count": 18,
   "metadata": {
    "colab": {
     "base_uri": "https://localhost:8080/",
     "height": 143
    },
    "id": "pmZJ87yhfWQa",
    "outputId": "bc17f6a3-dade-4a52-8d17-4ab587931296"
   },
   "outputs": [
    {
     "data": {
      "text/html": [
       "<div>\n",
       "<style scoped>\n",
       "    .dataframe tbody tr th:only-of-type {\n",
       "        vertical-align: middle;\n",
       "    }\n",
       "\n",
       "    .dataframe tbody tr th {\n",
       "        vertical-align: top;\n",
       "    }\n",
       "\n",
       "    .dataframe thead th {\n",
       "        text-align: right;\n",
       "    }\n",
       "</style>\n",
       "<table border=\"1\" class=\"dataframe\">\n",
       "  <thead>\n",
       "    <tr style=\"text-align: right;\">\n",
       "      <th></th>\n",
       "      <th>Mark_1</th>\n",
       "      <th>Mark_2</th>\n",
       "      <th>Mark_sum</th>\n",
       "    </tr>\n",
       "    <tr>\n",
       "      <th>Group</th>\n",
       "      <th></th>\n",
       "      <th></th>\n",
       "      <th></th>\n",
       "    </tr>\n",
       "  </thead>\n",
       "  <tbody>\n",
       "    <tr>\n",
       "      <th>Ф1</th>\n",
       "      <td>79</td>\n",
       "      <td>107</td>\n",
       "      <td>186</td>\n",
       "    </tr>\n",
       "    <tr>\n",
       "      <th>Ф2</th>\n",
       "      <td>97</td>\n",
       "      <td>129</td>\n",
       "      <td>226</td>\n",
       "    </tr>\n",
       "  </tbody>\n",
       "</table>\n",
       "</div>"
      ],
      "text/plain": [
       "       Mark_1  Mark_2  Mark_sum\n",
       "Group                          \n",
       "Ф1         79     107       186\n",
       "Ф2         97     129       226"
      ]
     },
     "execution_count": 18,
     "metadata": {},
     "output_type": "execute_result"
    }
   ],
   "source": [
    "students_groupped = students.groupby(['Group']).sum()\n",
    "students_groupped"
   ]
  },
  {
   "cell_type": "markdown",
   "metadata": {
    "id": "71nMDp25mmea"
   },
   "source": [
    "Студенты какой группы получили в сумме больше баллов? Для ответа отсортируем с помощью `.sort_values()`  таблицу сгруппированных значений по убыванию суммы баллов. Это группа Ф2."
   ]
  },
  {
   "cell_type": "code",
   "execution_count": 19,
   "metadata": {
    "colab": {
     "base_uri": "https://localhost:8080/",
     "height": 143
    },
    "id": "OD4TCxXvm1qY",
    "outputId": "1aaf05b9-2b8f-4ed9-8d57-55b13f98c869"
   },
   "outputs": [
    {
     "data": {
      "text/html": [
       "<div>\n",
       "<style scoped>\n",
       "    .dataframe tbody tr th:only-of-type {\n",
       "        vertical-align: middle;\n",
       "    }\n",
       "\n",
       "    .dataframe tbody tr th {\n",
       "        vertical-align: top;\n",
       "    }\n",
       "\n",
       "    .dataframe thead th {\n",
       "        text-align: right;\n",
       "    }\n",
       "</style>\n",
       "<table border=\"1\" class=\"dataframe\">\n",
       "  <thead>\n",
       "    <tr style=\"text-align: right;\">\n",
       "      <th></th>\n",
       "      <th>Mark_1</th>\n",
       "      <th>Mark_2</th>\n",
       "      <th>Mark_sum</th>\n",
       "    </tr>\n",
       "    <tr>\n",
       "      <th>Group</th>\n",
       "      <th></th>\n",
       "      <th></th>\n",
       "      <th></th>\n",
       "    </tr>\n",
       "  </thead>\n",
       "  <tbody>\n",
       "    <tr>\n",
       "      <th>Ф2</th>\n",
       "      <td>97</td>\n",
       "      <td>129</td>\n",
       "      <td>226</td>\n",
       "    </tr>\n",
       "    <tr>\n",
       "      <th>Ф1</th>\n",
       "      <td>79</td>\n",
       "      <td>107</td>\n",
       "      <td>186</td>\n",
       "    </tr>\n",
       "  </tbody>\n",
       "</table>\n",
       "</div>"
      ],
      "text/plain": [
       "       Mark_1  Mark_2  Mark_sum\n",
       "Group                          \n",
       "Ф2         97     129       226\n",
       "Ф1         79     107       186"
      ]
     },
     "execution_count": 19,
     "metadata": {},
     "output_type": "execute_result"
    }
   ],
   "source": [
    "students_groupped.sort_values('Mark_sum',ascending=False)"
   ]
  },
  {
   "cell_type": "markdown",
   "metadata": {
    "id": "8FKR5P8r_9pU"
   },
   "source": [
    "## Другие агрегирующие функции\n",
    "\n",
    "Еще раз распечатаем набор данных"
   ]
  },
  {
   "cell_type": "code",
   "execution_count": 20,
   "metadata": {},
   "outputs": [
    {
     "data": {
      "text/html": [
       "<div>\n",
       "<style scoped>\n",
       "    .dataframe tbody tr th:only-of-type {\n",
       "        vertical-align: middle;\n",
       "    }\n",
       "\n",
       "    .dataframe tbody tr th {\n",
       "        vertical-align: top;\n",
       "    }\n",
       "\n",
       "    .dataframe thead th {\n",
       "        text-align: right;\n",
       "    }\n",
       "</style>\n",
       "<table border=\"1\" class=\"dataframe\">\n",
       "  <thead>\n",
       "    <tr style=\"text-align: right;\">\n",
       "      <th></th>\n",
       "      <th>Id</th>\n",
       "      <th>Segment</th>\n",
       "      <th>Country</th>\n",
       "      <th>Product</th>\n",
       "      <th>DiscountBand</th>\n",
       "      <th>UnitsSold</th>\n",
       "      <th>ManufacturingPrice</th>\n",
       "      <th>SalePrice</th>\n",
       "      <th>GrossSales</th>\n",
       "      <th>Discounts</th>\n",
       "      <th>Sales</th>\n",
       "      <th>COGS</th>\n",
       "      <th>Profit</th>\n",
       "      <th>Date</th>\n",
       "      <th>MonthNumber</th>\n",
       "      <th>MonthName</th>\n",
       "      <th>Year</th>\n",
       "    </tr>\n",
       "  </thead>\n",
       "  <tbody>\n",
       "    <tr>\n",
       "      <th>0</th>\n",
       "      <td>0</td>\n",
       "      <td>Government</td>\n",
       "      <td>Canada</td>\n",
       "      <td>Carretera</td>\n",
       "      <td>None</td>\n",
       "      <td>1618.5</td>\n",
       "      <td>3.0</td>\n",
       "      <td>20.0</td>\n",
       "      <td>32370.0</td>\n",
       "      <td>0.0</td>\n",
       "      <td>32370.0</td>\n",
       "      <td>16185.0</td>\n",
       "      <td>16185.0</td>\n",
       "      <td>2014-01-01</td>\n",
       "      <td>1.0</td>\n",
       "      <td>January</td>\n",
       "      <td>2014.0</td>\n",
       "    </tr>\n",
       "    <tr>\n",
       "      <th>1</th>\n",
       "      <td>1</td>\n",
       "      <td>Government</td>\n",
       "      <td>Germany</td>\n",
       "      <td>Carretera</td>\n",
       "      <td>None</td>\n",
       "      <td>1321.0</td>\n",
       "      <td>3.0</td>\n",
       "      <td>20.0</td>\n",
       "      <td>26420.0</td>\n",
       "      <td>0.0</td>\n",
       "      <td>26420.0</td>\n",
       "      <td>13210.0</td>\n",
       "      <td>13210.0</td>\n",
       "      <td>2014-01-01</td>\n",
       "      <td>1.0</td>\n",
       "      <td>January</td>\n",
       "      <td>2014.0</td>\n",
       "    </tr>\n",
       "    <tr>\n",
       "      <th>2</th>\n",
       "      <td>2</td>\n",
       "      <td>Midmarket</td>\n",
       "      <td>France</td>\n",
       "      <td>Carretera</td>\n",
       "      <td>None</td>\n",
       "      <td>2178.0</td>\n",
       "      <td>3.0</td>\n",
       "      <td>15.0</td>\n",
       "      <td>32670.0</td>\n",
       "      <td>0.0</td>\n",
       "      <td>32670.0</td>\n",
       "      <td>21780.0</td>\n",
       "      <td>10890.0</td>\n",
       "      <td>2014-06-01</td>\n",
       "      <td>6.0</td>\n",
       "      <td>June</td>\n",
       "      <td>2014.0</td>\n",
       "    </tr>\n",
       "    <tr>\n",
       "      <th>3</th>\n",
       "      <td>3</td>\n",
       "      <td>Midmarket</td>\n",
       "      <td>Germany</td>\n",
       "      <td>Carretera</td>\n",
       "      <td>None</td>\n",
       "      <td>888.0</td>\n",
       "      <td>3.0</td>\n",
       "      <td>15.0</td>\n",
       "      <td>13320.0</td>\n",
       "      <td>0.0</td>\n",
       "      <td>13320.0</td>\n",
       "      <td>8880.0</td>\n",
       "      <td>4440.0</td>\n",
       "      <td>2014-06-01</td>\n",
       "      <td>6.0</td>\n",
       "      <td>June</td>\n",
       "      <td>2014.0</td>\n",
       "    </tr>\n",
       "    <tr>\n",
       "      <th>4</th>\n",
       "      <td>4</td>\n",
       "      <td>Midmarket</td>\n",
       "      <td>Mexico</td>\n",
       "      <td>Carretera</td>\n",
       "      <td>None</td>\n",
       "      <td>2470.0</td>\n",
       "      <td>3.0</td>\n",
       "      <td>15.0</td>\n",
       "      <td>37050.0</td>\n",
       "      <td>0.0</td>\n",
       "      <td>37050.0</td>\n",
       "      <td>24700.0</td>\n",
       "      <td>12350.0</td>\n",
       "      <td>2014-06-01</td>\n",
       "      <td>6.0</td>\n",
       "      <td>June</td>\n",
       "      <td>2014.0</td>\n",
       "    </tr>\n",
       "  </tbody>\n",
       "</table>\n",
       "</div>"
      ],
      "text/plain": [
       "   Id     Segment  Country    Product DiscountBand  UnitsSold  \\\n",
       "0   0  Government   Canada  Carretera         None     1618.5   \n",
       "1   1  Government  Germany  Carretera         None     1321.0   \n",
       "2   2   Midmarket   France  Carretera         None     2178.0   \n",
       "3   3   Midmarket  Germany  Carretera         None      888.0   \n",
       "4   4   Midmarket   Mexico  Carretera         None     2470.0   \n",
       "\n",
       "   ManufacturingPrice  SalePrice  GrossSales  Discounts    Sales     COGS  \\\n",
       "0                 3.0       20.0     32370.0        0.0  32370.0  16185.0   \n",
       "1                 3.0       20.0     26420.0        0.0  26420.0  13210.0   \n",
       "2                 3.0       15.0     32670.0        0.0  32670.0  21780.0   \n",
       "3                 3.0       15.0     13320.0        0.0  13320.0   8880.0   \n",
       "4                 3.0       15.0     37050.0        0.0  37050.0  24700.0   \n",
       "\n",
       "    Profit        Date  MonthNumber MonthName    Year  \n",
       "0  16185.0  2014-01-01          1.0   January  2014.0  \n",
       "1  13210.0  2014-01-01          1.0   January  2014.0  \n",
       "2  10890.0  2014-06-01          6.0      June  2014.0  \n",
       "3   4440.0  2014-06-01          6.0      June  2014.0  \n",
       "4  12350.0  2014-06-01          6.0      June  2014.0  "
      ]
     },
     "execution_count": 20,
     "metadata": {},
     "output_type": "execute_result"
    }
   ],
   "source": [
    "fs.head()"
   ]
  },
  {
   "cell_type": "markdown",
   "metadata": {},
   "source": [
    "### Функции *max(), min()*\n",
    "\n",
    "Функция *max()* подсчитывает максимальное значение в серии. Найдем максимальную скидку с группировкой по стране."
   ]
  },
  {
   "cell_type": "code",
   "execution_count": 21,
   "metadata": {},
   "outputs": [
    {
     "data": {
      "text/html": [
       "<div>\n",
       "<style scoped>\n",
       "    .dataframe tbody tr th:only-of-type {\n",
       "        vertical-align: middle;\n",
       "    }\n",
       "\n",
       "    .dataframe tbody tr th {\n",
       "        vertical-align: top;\n",
       "    }\n",
       "\n",
       "    .dataframe thead th {\n",
       "        text-align: right;\n",
       "    }\n",
       "</style>\n",
       "<table border=\"1\" class=\"dataframe\">\n",
       "  <thead>\n",
       "    <tr style=\"text-align: right;\">\n",
       "      <th></th>\n",
       "      <th>Discounts</th>\n",
       "    </tr>\n",
       "    <tr>\n",
       "      <th>Country</th>\n",
       "      <th></th>\n",
       "    </tr>\n",
       "  </thead>\n",
       "  <tbody>\n",
       "    <tr>\n",
       "      <th>Albania</th>\n",
       "      <td>22.48</td>\n",
       "    </tr>\n",
       "    <tr>\n",
       "      <th>Canada</th>\n",
       "      <td>119756.00</td>\n",
       "    </tr>\n",
       "    <tr>\n",
       "      <th>Egypt</th>\n",
       "      <td>22.67</td>\n",
       "    </tr>\n",
       "    <tr>\n",
       "      <th>Finland</th>\n",
       "      <td>22.48</td>\n",
       "    </tr>\n",
       "    <tr>\n",
       "      <th>France</th>\n",
       "      <td>111375.00</td>\n",
       "    </tr>\n",
       "    <tr>\n",
       "      <th>Germany</th>\n",
       "      <td>106512.00</td>\n",
       "    </tr>\n",
       "    <tr>\n",
       "      <th>Mexico</th>\n",
       "      <td>149677.50</td>\n",
       "    </tr>\n",
       "    <tr>\n",
       "      <th>Pakistan</th>\n",
       "      <td>22.67</td>\n",
       "    </tr>\n",
       "    <tr>\n",
       "      <th>United States of America</th>\n",
       "      <td>125820.00</td>\n",
       "    </tr>\n",
       "  </tbody>\n",
       "</table>\n",
       "</div>"
      ],
      "text/plain": [
       "                          Discounts\n",
       "Country                            \n",
       "Albania                       22.48\n",
       "Canada                    119756.00\n",
       "Egypt                         22.67\n",
       "Finland                       22.48\n",
       "France                    111375.00\n",
       "Germany                   106512.00\n",
       "Mexico                    149677.50\n",
       "Pakistan                      22.67\n",
       "United States of America  125820.00"
      ]
     },
     "execution_count": 21,
     "metadata": {},
     "output_type": "execute_result"
    }
   ],
   "source": [
    "fs.groupby(\"Country\")[[\"Discounts\"]].max()"
   ]
  },
  {
   "cell_type": "markdown",
   "metadata": {},
   "source": [
    "Функция *min()* подсчитывает минимальное значение в серии. Найдем минимальное число единиц  товара с группировкой по сегменту рынка и отсортируем по убыванию."
   ]
  },
  {
   "cell_type": "code",
   "execution_count": 22,
   "metadata": {},
   "outputs": [
    {
     "data": {
      "text/plain": [
       "Segment\n",
       "Agriculture         1316.0\n",
       "Science             1256.0\n",
       "Household           1255.0\n",
       "Enterprise           330.0\n",
       "Channel Partners     306.0\n",
       "Midmarket            218.0\n",
       "Small Business       214.0\n",
       "Government           200.0\n",
       "Name: UnitsSold, dtype: float64"
      ]
     },
     "execution_count": 22,
     "metadata": {},
     "output_type": "execute_result"
    }
   ],
   "source": [
    "fs.groupby('Segment')['UnitsSold'].min().sort_values(ascending=False)"
   ]
  },
  {
   "cell_type": "markdown",
   "metadata": {
    "id": "m1exbXRwAZjm"
   },
   "source": [
    "### Функция *nunique()*\n",
    "\n",
    "Функция *nunique()* позволяет посчитать количество уникальных значений в серии. Её лучше всего применять к столбцам, в которых хранятся категориальные данные."
   ]
  },
  {
   "cell_type": "code",
   "execution_count": 23,
   "metadata": {
    "scrolled": true
   },
   "outputs": [
    {
     "data": {
      "text/html": [
       "<div>\n",
       "<style scoped>\n",
       "    .dataframe tbody tr th:only-of-type {\n",
       "        vertical-align: middle;\n",
       "    }\n",
       "\n",
       "    .dataframe tbody tr th {\n",
       "        vertical-align: top;\n",
       "    }\n",
       "\n",
       "    .dataframe thead th {\n",
       "        text-align: right;\n",
       "    }\n",
       "</style>\n",
       "<table border=\"1\" class=\"dataframe\">\n",
       "  <thead>\n",
       "    <tr style=\"text-align: right;\">\n",
       "      <th></th>\n",
       "      <th>Segment</th>\n",
       "      <th>Product</th>\n",
       "      <th>DiscountBand</th>\n",
       "    </tr>\n",
       "    <tr>\n",
       "      <th>Country</th>\n",
       "      <th></th>\n",
       "      <th></th>\n",
       "      <th></th>\n",
       "    </tr>\n",
       "  </thead>\n",
       "  <tbody>\n",
       "    <tr>\n",
       "      <th>Albania</th>\n",
       "      <td>8</td>\n",
       "      <td>8</td>\n",
       "      <td>5</td>\n",
       "    </tr>\n",
       "    <tr>\n",
       "      <th>Canada</th>\n",
       "      <td>8</td>\n",
       "      <td>9</td>\n",
       "      <td>6</td>\n",
       "    </tr>\n",
       "    <tr>\n",
       "      <th>Egypt</th>\n",
       "      <td>8</td>\n",
       "      <td>8</td>\n",
       "      <td>5</td>\n",
       "    </tr>\n",
       "    <tr>\n",
       "      <th>Finland</th>\n",
       "      <td>8</td>\n",
       "      <td>8</td>\n",
       "      <td>5</td>\n",
       "    </tr>\n",
       "    <tr>\n",
       "      <th>France</th>\n",
       "      <td>5</td>\n",
       "      <td>6</td>\n",
       "      <td>4</td>\n",
       "    </tr>\n",
       "    <tr>\n",
       "      <th>Germany</th>\n",
       "      <td>8</td>\n",
       "      <td>9</td>\n",
       "      <td>6</td>\n",
       "    </tr>\n",
       "    <tr>\n",
       "      <th>Mexico</th>\n",
       "      <td>8</td>\n",
       "      <td>9</td>\n",
       "      <td>6</td>\n",
       "    </tr>\n",
       "    <tr>\n",
       "      <th>Pakistan</th>\n",
       "      <td>8</td>\n",
       "      <td>8</td>\n",
       "      <td>5</td>\n",
       "    </tr>\n",
       "    <tr>\n",
       "      <th>United States of America</th>\n",
       "      <td>8</td>\n",
       "      <td>9</td>\n",
       "      <td>6</td>\n",
       "    </tr>\n",
       "  </tbody>\n",
       "</table>\n",
       "</div>"
      ],
      "text/plain": [
       "                          Segment  Product  DiscountBand\n",
       "Country                                                 \n",
       "Albania                         8        8             5\n",
       "Canada                          8        9             6\n",
       "Egypt                           8        8             5\n",
       "Finland                         8        8             5\n",
       "France                          5        6             4\n",
       "Germany                         8        9             6\n",
       "Mexico                          8        9             6\n",
       "Pakistan                        8        8             5\n",
       "United States of America        8        9             6"
      ]
     },
     "execution_count": 23,
     "metadata": {},
     "output_type": "execute_result"
    }
   ],
   "source": [
    "fs.groupby(\"Country\")[[\"Segment\", \"Product\", \"DiscountBand\"]].nunique()"
   ]
  },
  {
   "cell_type": "markdown",
   "metadata": {},
   "source": [
    "### Функция *count()*\n",
    "\n",
    "Позволяет посчитать количество непустых элементов в группе. Найдём число сделок в каждом сегменте. Число непустых значений будем подсчитывать по столбцу *Id*. Если конкретный столбец явно не указать, то *pandas* выведет на печать все столбцы таблицы."
   ]
  },
  {
   "cell_type": "code",
   "execution_count": 24,
   "metadata": {},
   "outputs": [
    {
     "data": {
      "text/plain": [
       "Segment\n",
       "Agriculture          85\n",
       "Channel Partners    198\n",
       "Enterprise          190\n",
       "Government          389\n",
       "Household            70\n",
       "Midmarket           178\n",
       "Science              88\n",
       "Small Business      202\n",
       "Name: Id, dtype: int64"
      ]
     },
     "execution_count": 24,
     "metadata": {},
     "output_type": "execute_result"
    }
   ],
   "source": [
    "fs.groupby('Segment')['Id'].count()"
   ]
  },
  {
   "cell_type": "markdown",
   "metadata": {},
   "source": [
    "Аналогичный результат получим с помощью *value_counts()*. Сравните:"
   ]
  },
  {
   "cell_type": "code",
   "execution_count": 25,
   "metadata": {},
   "outputs": [
    {
     "data": {
      "text/plain": [
       "Government          389\n",
       "Small Business      202\n",
       "Channel Partners    198\n",
       "Enterprise          190\n",
       "Midmarket           178\n",
       "Science              88\n",
       "Agriculture          85\n",
       "Household            70\n",
       "Name: Segment, dtype: int64"
      ]
     },
     "execution_count": 25,
     "metadata": {},
     "output_type": "execute_result"
    }
   ],
   "source": [
    "fs['Segment'].value_counts()"
   ]
  },
  {
   "cell_type": "markdown",
   "metadata": {},
   "source": [
    "### Функция *median()*\n",
    "\n",
    "Находит медианное значение. Рассчитаем среднее и медианное значение прибыли по сделкам каждого производителя. Для этого воспользуемся функцией *.agg()*"
   ]
  },
  {
   "cell_type": "code",
   "execution_count": 26,
   "metadata": {},
   "outputs": [
    {
     "data": {
      "text/html": [
       "<div>\n",
       "<style scoped>\n",
       "    .dataframe tbody tr th:only-of-type {\n",
       "        vertical-align: middle;\n",
       "    }\n",
       "\n",
       "    .dataframe tbody tr th {\n",
       "        vertical-align: top;\n",
       "    }\n",
       "\n",
       "    .dataframe thead th {\n",
       "        text-align: right;\n",
       "    }\n",
       "</style>\n",
       "<table border=\"1\" class=\"dataframe\">\n",
       "  <thead>\n",
       "    <tr style=\"text-align: right;\">\n",
       "      <th></th>\n",
       "      <th>mean</th>\n",
       "      <th>median</th>\n",
       "    </tr>\n",
       "    <tr>\n",
       "      <th>Product</th>\n",
       "      <th></th>\n",
       "      <th></th>\n",
       "    </tr>\n",
       "  </thead>\n",
       "  <tbody>\n",
       "    <tr>\n",
       "      <th>Amarilla</th>\n",
       "      <td>29937.277234</td>\n",
       "      <td>10911.9000</td>\n",
       "    </tr>\n",
       "    <tr>\n",
       "      <th>Bal</th>\n",
       "      <td>3177.772562</td>\n",
       "      <td>2937.6000</td>\n",
       "    </tr>\n",
       "    <tr>\n",
       "      <th>Carretera</th>\n",
       "      <td>11700.684866</td>\n",
       "      <td>3785.1180</td>\n",
       "    </tr>\n",
       "    <tr>\n",
       "      <th>Geotrack</th>\n",
       "      <td>3213.240861</td>\n",
       "      <td>3140.4780</td>\n",
       "    </tr>\n",
       "    <tr>\n",
       "      <th>Montana</th>\n",
       "      <td>13375.409455</td>\n",
       "      <td>3669.0080</td>\n",
       "    </tr>\n",
       "    <tr>\n",
       "      <th>Nice</th>\n",
       "      <td>3032.521568</td>\n",
       "      <td>2755.6235</td>\n",
       "    </tr>\n",
       "    <tr>\n",
       "      <th>Paseo</th>\n",
       "      <td>17675.339098</td>\n",
       "      <td>4436.8500</td>\n",
       "    </tr>\n",
       "    <tr>\n",
       "      <th>VTT</th>\n",
       "      <td>16802.487679</td>\n",
       "      <td>3932.9500</td>\n",
       "    </tr>\n",
       "    <tr>\n",
       "      <th>Velo</th>\n",
       "      <td>12792.886549</td>\n",
       "      <td>3560.8795</td>\n",
       "    </tr>\n",
       "  </tbody>\n",
       "</table>\n",
       "</div>"
      ],
      "text/plain": [
       "                   mean      median\n",
       "Product                            \n",
       "Amarilla   29937.277234  10911.9000\n",
       "Bal         3177.772562   2937.6000\n",
       "Carretera  11700.684866   3785.1180\n",
       "Geotrack    3213.240861   3140.4780\n",
       "Montana    13375.409455   3669.0080\n",
       "Nice        3032.521568   2755.6235\n",
       "Paseo      17675.339098   4436.8500\n",
       "VTT        16802.487679   3932.9500\n",
       "Velo       12792.886549   3560.8795"
      ]
     },
     "execution_count": 26,
     "metadata": {},
     "output_type": "execute_result"
    }
   ],
   "source": [
    "fs.groupby('Product')['Profit'].agg(['mean','median'])"
   ]
  },
  {
   "cell_type": "markdown",
   "metadata": {},
   "source": [
    "### Функция *std()*\n",
    "Рассчитывает стандартное отклонение. Найдем среднее, медианное значения и стандартное отклонение себестоимости и прибыли от продажи товара в каждом сегменте."
   ]
  },
  {
   "cell_type": "code",
   "execution_count": 27,
   "metadata": {},
   "outputs": [
    {
     "data": {
      "text/html": [
       "<div>\n",
       "<style scoped>\n",
       "    .dataframe tbody tr th:only-of-type {\n",
       "        vertical-align: middle;\n",
       "    }\n",
       "\n",
       "    .dataframe tbody tr th {\n",
       "        vertical-align: top;\n",
       "    }\n",
       "\n",
       "    .dataframe thead tr th {\n",
       "        text-align: left;\n",
       "    }\n",
       "\n",
       "    .dataframe thead tr:last-of-type th {\n",
       "        text-align: right;\n",
       "    }\n",
       "</style>\n",
       "<table border=\"1\" class=\"dataframe\">\n",
       "  <thead>\n",
       "    <tr>\n",
       "      <th></th>\n",
       "      <th colspan=\"3\" halign=\"left\">COGS</th>\n",
       "      <th colspan=\"3\" halign=\"left\">Profit</th>\n",
       "    </tr>\n",
       "    <tr>\n",
       "      <th></th>\n",
       "      <th>mean</th>\n",
       "      <th>median</th>\n",
       "      <th>std</th>\n",
       "      <th>mean</th>\n",
       "      <th>median</th>\n",
       "      <th>std</th>\n",
       "    </tr>\n",
       "    <tr>\n",
       "      <th>Segment</th>\n",
       "      <th></th>\n",
       "      <th></th>\n",
       "      <th></th>\n",
       "      <th></th>\n",
       "      <th></th>\n",
       "      <th></th>\n",
       "    </tr>\n",
       "  </thead>\n",
       "  <tbody>\n",
       "    <tr>\n",
       "      <th>Agriculture</th>\n",
       "      <td>10600.100000</td>\n",
       "      <td>10623.20</td>\n",
       "      <td>2120.259169</td>\n",
       "      <td>2922.329200</td>\n",
       "      <td>2641.8000</td>\n",
       "      <td>950.974586</td>\n",
       "    </tr>\n",
       "    <tr>\n",
       "      <th>Channel Partners</th>\n",
       "      <td>7566.898485</td>\n",
       "      <td>7578.35</td>\n",
       "      <td>3562.078901</td>\n",
       "      <td>8236.115288</td>\n",
       "      <td>4752.0015</td>\n",
       "      <td>6952.042483</td>\n",
       "    </tr>\n",
       "    <tr>\n",
       "      <th>Enterprise</th>\n",
       "      <td>111395.994211</td>\n",
       "      <td>66360.00</td>\n",
       "      <td>124914.244317</td>\n",
       "      <td>-1769.628926</td>\n",
       "      <td>2293.1640</td>\n",
       "      <td>9780.839737</td>\n",
       "    </tr>\n",
       "    <tr>\n",
       "      <th>Government</th>\n",
       "      <td>108070.419280</td>\n",
       "      <td>12660.00</td>\n",
       "      <td>194388.604173</td>\n",
       "      <td>29995.488933</td>\n",
       "      <td>5166.0960</td>\n",
       "      <td>51387.453473</td>\n",
       "    </tr>\n",
       "    <tr>\n",
       "      <th>Household</th>\n",
       "      <td>10628.760000</td>\n",
       "      <td>10385.90</td>\n",
       "      <td>2056.484196</td>\n",
       "      <td>3146.672071</td>\n",
       "      <td>3080.9780</td>\n",
       "      <td>1140.580805</td>\n",
       "    </tr>\n",
       "    <tr>\n",
       "      <th>Midmarket</th>\n",
       "      <td>14472.774157</td>\n",
       "      <td>12460.00</td>\n",
       "      <td>7509.130571</td>\n",
       "      <td>4983.232983</td>\n",
       "      <td>3874.3850</td>\n",
       "      <td>3296.928288</td>\n",
       "    </tr>\n",
       "    <tr>\n",
       "      <th>Science</th>\n",
       "      <td>10408.586364</td>\n",
       "      <td>10550.40</td>\n",
       "      <td>1902.168898</td>\n",
       "      <td>3223.880773</td>\n",
       "      <td>3166.4285</td>\n",
       "      <td>1103.447176</td>\n",
       "    </tr>\n",
       "    <tr>\n",
       "      <th>Small Business</th>\n",
       "      <td>194919.771782</td>\n",
       "      <td>13902.35</td>\n",
       "      <td>240965.024680</td>\n",
       "      <td>22076.607757</td>\n",
       "      <td>5134.7140</td>\n",
       "      <td>29059.520725</td>\n",
       "    </tr>\n",
       "  </tbody>\n",
       "</table>\n",
       "</div>"
      ],
      "text/plain": [
       "                           COGS                                 Profit  \\\n",
       "                           mean    median            std          mean   \n",
       "Segment                                                                  \n",
       "Agriculture        10600.100000  10623.20    2120.259169   2922.329200   \n",
       "Channel Partners    7566.898485   7578.35    3562.078901   8236.115288   \n",
       "Enterprise        111395.994211  66360.00  124914.244317  -1769.628926   \n",
       "Government        108070.419280  12660.00  194388.604173  29995.488933   \n",
       "Household          10628.760000  10385.90    2056.484196   3146.672071   \n",
       "Midmarket          14472.774157  12460.00    7509.130571   4983.232983   \n",
       "Science            10408.586364  10550.40    1902.168898   3223.880773   \n",
       "Small Business    194919.771782  13902.35  240965.024680  22076.607757   \n",
       "\n",
       "                                           \n",
       "                     median           std  \n",
       "Segment                                    \n",
       "Agriculture       2641.8000    950.974586  \n",
       "Channel Partners  4752.0015   6952.042483  \n",
       "Enterprise        2293.1640   9780.839737  \n",
       "Government        5166.0960  51387.453473  \n",
       "Household         3080.9780   1140.580805  \n",
       "Midmarket         3874.3850   3296.928288  \n",
       "Science           3166.4285   1103.447176  \n",
       "Small Business    5134.7140  29059.520725  "
      ]
     },
     "execution_count": 27,
     "metadata": {},
     "output_type": "execute_result"
    }
   ],
   "source": [
    "fs.groupby('Segment')[['COGS', 'Profit']].agg(['mean','median','std'])"
   ]
  },
  {
   "cell_type": "markdown",
   "metadata": {},
   "source": [
    "## Сводные таблицы\n",
    "\n",
    "Что такое \"сводная таблица\" и  чем она отличается от \"плоской\" таблицы? Как правило, значениями плоской таблицы являются атрибуты параметров объектов, расположенных в строках. Названия параметров расположены в столбцах. Например, каждая строка *Financial Sample* является объектом - сделкой по продаже товара. Параметры сделки указаны в столбцах. на пересечении строки и столбца содержится значение параметра для конкретного объекта. \n",
    "\n",
    "Значениями сводной таблицы является результат вычисления агрегирующей функции - сгруппированные данные. При этом показатели, на основе которых происходит объединение данных, расположены в заголовках строк и столбцов.\n",
    "\n",
    "### Функция *pivot_table()*\n",
    "\n",
    "Функция *pivot_table()* позволяет быстро и просто составлять сводные таблицы\n",
    "Согласно документации https://pandas.pydata.org/docs/reference/api/pandas.pivot_table.html \n",
    "\n",
    "```\n",
    "pandas.pivot_table(data, values=None, index=None, columns=None, aggfunc='mean', fill_value=None, margins=False, dropna=True, margins_name='All', observed=False)\n",
    "```\n",
    "\n",
    "параметрами функции являются:\n",
    "\n",
    "- data - исходная таблица с данными\n",
    "- index - строки\n",
    "- columns - столбцы\n",
    "- values - агрегируемый столбец исходной таблицы\n",
    "- aggfunc - функция агрегации\n",
    "- margins - вывод суммирующих строки и столбца (логическое значение)\n",
    "- fill_value - значение, на которое следует заменять пустые значения\n",
    "- dropna - удалять или нет результаты, в которых все значения пустые (логическое)\n",
    "\n",
    "Составим сводную таблицу, в которой отобразим макимальную скидку, предоставленную каждым производителем в каждом сегменте рынка. Расположим названия сегментов по строкам, а производителей по столбцам. В качестве агрегируемого столбца укажем *Discounts* -  столбец, в котором содержится значение скидки. Функция агрегации \"max\"."
   ]
  },
  {
   "cell_type": "code",
   "execution_count": 59,
   "metadata": {
    "scrolled": true
   },
   "outputs": [
    {
     "data": {
      "text/html": [
       "<div>\n",
       "<style scoped>\n",
       "    .dataframe tbody tr th:only-of-type {\n",
       "        vertical-align: middle;\n",
       "    }\n",
       "\n",
       "    .dataframe tbody tr th {\n",
       "        vertical-align: top;\n",
       "    }\n",
       "\n",
       "    .dataframe thead th {\n",
       "        text-align: right;\n",
       "    }\n",
       "</style>\n",
       "<table border=\"1\" class=\"dataframe\">\n",
       "  <thead>\n",
       "    <tr style=\"text-align: right;\">\n",
       "      <th>Product</th>\n",
       "      <th>Amarilla</th>\n",
       "      <th>Bal</th>\n",
       "      <th>Carretera</th>\n",
       "      <th>Geotrack</th>\n",
       "      <th>Montana</th>\n",
       "      <th>Nice</th>\n",
       "      <th>Paseo</th>\n",
       "      <th>VTT</th>\n",
       "      <th>Velo</th>\n",
       "    </tr>\n",
       "    <tr>\n",
       "      <th>Segment</th>\n",
       "      <th></th>\n",
       "      <th></th>\n",
       "      <th></th>\n",
       "      <th></th>\n",
       "      <th></th>\n",
       "      <th></th>\n",
       "      <th></th>\n",
       "      <th></th>\n",
       "      <th></th>\n",
       "    </tr>\n",
       "  </thead>\n",
       "  <tbody>\n",
       "    <tr>\n",
       "      <th>Agriculture</th>\n",
       "      <td>NaN</td>\n",
       "      <td>22.10</td>\n",
       "      <td>20.21</td>\n",
       "      <td>21.72</td>\n",
       "      <td>21.34</td>\n",
       "      <td>19.08</td>\n",
       "      <td>20.78</td>\n",
       "      <td>22.29</td>\n",
       "      <td>18.320</td>\n",
       "    </tr>\n",
       "    <tr>\n",
       "      <th>Channel Partners</th>\n",
       "      <td>4895.520</td>\n",
       "      <td>22.10</td>\n",
       "      <td>2556.84</td>\n",
       "      <td>22.48</td>\n",
       "      <td>3831.84</td>\n",
       "      <td>19.08</td>\n",
       "      <td>5314.32</td>\n",
       "      <td>3250.80</td>\n",
       "      <td>2124.360</td>\n",
       "    </tr>\n",
       "    <tr>\n",
       "      <th>Enterprise</th>\n",
       "      <td>49770.000</td>\n",
       "      <td>22.48</td>\n",
       "      <td>51881.25</td>\n",
       "      <td>22.48</td>\n",
       "      <td>31466.25</td>\n",
       "      <td>21.72</td>\n",
       "      <td>33563.75</td>\n",
       "      <td>55387.50</td>\n",
       "      <td>45712.500</td>\n",
       "    </tr>\n",
       "    <tr>\n",
       "      <th>Government</th>\n",
       "      <td>78400.000</td>\n",
       "      <td>19.64</td>\n",
       "      <td>81445.00</td>\n",
       "      <td>21.34</td>\n",
       "      <td>109147.50</td>\n",
       "      <td>21.16</td>\n",
       "      <td>149677.50</td>\n",
       "      <td>98245.00</td>\n",
       "      <td>119756.000</td>\n",
       "    </tr>\n",
       "    <tr>\n",
       "      <th>Household</th>\n",
       "      <td>NaN</td>\n",
       "      <td>19.27</td>\n",
       "      <td>22.48</td>\n",
       "      <td>22.29</td>\n",
       "      <td>22.67</td>\n",
       "      <td>22.10</td>\n",
       "      <td>18.70</td>\n",
       "      <td>22.67</td>\n",
       "      <td>21.530</td>\n",
       "    </tr>\n",
       "    <tr>\n",
       "      <th>Midmarket</th>\n",
       "      <td>5279.175</td>\n",
       "      <td>22.48</td>\n",
       "      <td>5005.65</td>\n",
       "      <td>22.29</td>\n",
       "      <td>4830.00</td>\n",
       "      <td>22.67</td>\n",
       "      <td>5757.75</td>\n",
       "      <td>6974.10</td>\n",
       "      <td>7795.125</td>\n",
       "    </tr>\n",
       "    <tr>\n",
       "      <th>Science</th>\n",
       "      <td>NaN</td>\n",
       "      <td>22.67</td>\n",
       "      <td>22.29</td>\n",
       "      <td>22.29</td>\n",
       "      <td>22.29</td>\n",
       "      <td>20.59</td>\n",
       "      <td>22.48</td>\n",
       "      <td>21.72</td>\n",
       "      <td>22.480</td>\n",
       "    </tr>\n",
       "    <tr>\n",
       "      <th>Small Business</th>\n",
       "      <td>111375.000</td>\n",
       "      <td>17.76</td>\n",
       "      <td>92763.00</td>\n",
       "      <td>22.67</td>\n",
       "      <td>102667.50</td>\n",
       "      <td>22.48</td>\n",
       "      <td>125820.00</td>\n",
       "      <td>106722.00</td>\n",
       "      <td>115830.000</td>\n",
       "    </tr>\n",
       "  </tbody>\n",
       "</table>\n",
       "</div>"
      ],
      "text/plain": [
       "Product             Amarilla    Bal  Carretera  Geotrack    Montana   Nice  \\\n",
       "Segment                                                                      \n",
       "Agriculture              NaN  22.10      20.21     21.72      21.34  19.08   \n",
       "Channel Partners    4895.520  22.10    2556.84     22.48    3831.84  19.08   \n",
       "Enterprise         49770.000  22.48   51881.25     22.48   31466.25  21.72   \n",
       "Government         78400.000  19.64   81445.00     21.34  109147.50  21.16   \n",
       "Household                NaN  19.27      22.48     22.29      22.67  22.10   \n",
       "Midmarket           5279.175  22.48    5005.65     22.29    4830.00  22.67   \n",
       "Science                  NaN  22.67      22.29     22.29      22.29  20.59   \n",
       "Small Business    111375.000  17.76   92763.00     22.67  102667.50  22.48   \n",
       "\n",
       "Product               Paseo        VTT        Velo  \n",
       "Segment                                             \n",
       "Agriculture           20.78      22.29      18.320  \n",
       "Channel Partners    5314.32    3250.80    2124.360  \n",
       "Enterprise         33563.75   55387.50   45712.500  \n",
       "Government        149677.50   98245.00  119756.000  \n",
       "Household             18.70      22.67      21.530  \n",
       "Midmarket           5757.75    6974.10    7795.125  \n",
       "Science               22.48      21.72      22.480  \n",
       "Small Business    125820.00  106722.00  115830.000  "
      ]
     },
     "execution_count": 59,
     "metadata": {},
     "output_type": "execute_result"
    }
   ],
   "source": [
    "pd.pivot_table(fs, values='Discounts', index='Segment', columns=['Product'], aggfunc='max')"
   ]
  },
  {
   "cell_type": "markdown",
   "metadata": {},
   "source": [
    "Добавим для производителей уровень группирвки по стране. Для экономии места и большей наглядности ограничимся двумя странами - Германией и Францией."
   ]
  },
  {
   "cell_type": "code",
   "execution_count": 60,
   "metadata": {},
   "outputs": [],
   "source": [
    "fs_GF = fs[fs['Country'].isin(['Germany','France'])]"
   ]
  },
  {
   "cell_type": "code",
   "execution_count": 62,
   "metadata": {},
   "outputs": [
    {
     "data": {
      "text/html": [
       "<div>\n",
       "<style scoped>\n",
       "    .dataframe tbody tr th:only-of-type {\n",
       "        vertical-align: middle;\n",
       "    }\n",
       "\n",
       "    .dataframe tbody tr th {\n",
       "        vertical-align: top;\n",
       "    }\n",
       "\n",
       "    .dataframe thead tr th {\n",
       "        text-align: left;\n",
       "    }\n",
       "\n",
       "    .dataframe thead tr:last-of-type th {\n",
       "        text-align: right;\n",
       "    }\n",
       "</style>\n",
       "<table border=\"1\" class=\"dataframe\">\n",
       "  <thead>\n",
       "    <tr>\n",
       "      <th>Country</th>\n",
       "      <th colspan=\"6\" halign=\"left\">France</th>\n",
       "      <th colspan=\"9\" halign=\"left\">Germany</th>\n",
       "    </tr>\n",
       "    <tr>\n",
       "      <th>Product</th>\n",
       "      <th>Amarilla</th>\n",
       "      <th>Carretera</th>\n",
       "      <th>Montana</th>\n",
       "      <th>Paseo</th>\n",
       "      <th>VTT</th>\n",
       "      <th>Velo</th>\n",
       "      <th>Amarilla</th>\n",
       "      <th>Bal</th>\n",
       "      <th>Carretera</th>\n",
       "      <th>Geotrack</th>\n",
       "      <th>Montana</th>\n",
       "      <th>Nice</th>\n",
       "      <th>Paseo</th>\n",
       "      <th>VTT</th>\n",
       "      <th>Velo</th>\n",
       "    </tr>\n",
       "    <tr>\n",
       "      <th>Segment</th>\n",
       "      <th></th>\n",
       "      <th></th>\n",
       "      <th></th>\n",
       "      <th></th>\n",
       "      <th></th>\n",
       "      <th></th>\n",
       "      <th></th>\n",
       "      <th></th>\n",
       "      <th></th>\n",
       "      <th></th>\n",
       "      <th></th>\n",
       "      <th></th>\n",
       "      <th></th>\n",
       "      <th></th>\n",
       "      <th></th>\n",
       "    </tr>\n",
       "  </thead>\n",
       "  <tbody>\n",
       "    <tr>\n",
       "      <th>Agriculture</th>\n",
       "      <td>NaN</td>\n",
       "      <td>NaN</td>\n",
       "      <td>NaN</td>\n",
       "      <td>NaN</td>\n",
       "      <td>NaN</td>\n",
       "      <td>NaN</td>\n",
       "      <td>NaN</td>\n",
       "      <td>12.66</td>\n",
       "      <td>14.36</td>\n",
       "      <td>21.72</td>\n",
       "      <td>16.24</td>\n",
       "      <td>NaN</td>\n",
       "      <td>NaN</td>\n",
       "      <td>NaN</td>\n",
       "      <td>13.79</td>\n",
       "    </tr>\n",
       "    <tr>\n",
       "      <th>Channel Partners</th>\n",
       "      <td>4158.00</td>\n",
       "      <td>1581.36</td>\n",
       "      <td>1967.28</td>\n",
       "      <td>3201.66</td>\n",
       "      <td>2412.72</td>\n",
       "      <td>2124.360</td>\n",
       "      <td>3088.80</td>\n",
       "      <td>13.22</td>\n",
       "      <td>1706.40</td>\n",
       "      <td>NaN</td>\n",
       "      <td>1405.20</td>\n",
       "      <td>14.92</td>\n",
       "      <td>1917.00</td>\n",
       "      <td>1860.60</td>\n",
       "      <td>1580.28</td>\n",
       "    </tr>\n",
       "    <tr>\n",
       "      <th>Enterprise</th>\n",
       "      <td>19703.75</td>\n",
       "      <td>33563.75</td>\n",
       "      <td>20891.25</td>\n",
       "      <td>33563.75</td>\n",
       "      <td>2180.00</td>\n",
       "      <td>12431.250</td>\n",
       "      <td>43518.75</td>\n",
       "      <td>15.68</td>\n",
       "      <td>51881.25</td>\n",
       "      <td>NaN</td>\n",
       "      <td>21875.00</td>\n",
       "      <td>20.59</td>\n",
       "      <td>30738.75</td>\n",
       "      <td>10350.00</td>\n",
       "      <td>18261.25</td>\n",
       "    </tr>\n",
       "    <tr>\n",
       "      <th>Government</th>\n",
       "      <td>70462.00</td>\n",
       "      <td>81445.00</td>\n",
       "      <td>52479.00</td>\n",
       "      <td>94178.00</td>\n",
       "      <td>62769.00</td>\n",
       "      <td>43596.000</td>\n",
       "      <td>26698.00</td>\n",
       "      <td>19.08</td>\n",
       "      <td>30492.00</td>\n",
       "      <td>14.73</td>\n",
       "      <td>58751.00</td>\n",
       "      <td>14.92</td>\n",
       "      <td>60088.00</td>\n",
       "      <td>65450.00</td>\n",
       "      <td>41170.50</td>\n",
       "    </tr>\n",
       "    <tr>\n",
       "      <th>Household</th>\n",
       "      <td>NaN</td>\n",
       "      <td>NaN</td>\n",
       "      <td>NaN</td>\n",
       "      <td>NaN</td>\n",
       "      <td>NaN</td>\n",
       "      <td>NaN</td>\n",
       "      <td>NaN</td>\n",
       "      <td>11.90</td>\n",
       "      <td>15.87</td>\n",
       "      <td>NaN</td>\n",
       "      <td>22.48</td>\n",
       "      <td>22.10</td>\n",
       "      <td>9.44</td>\n",
       "      <td>NaN</td>\n",
       "      <td>14.36</td>\n",
       "    </tr>\n",
       "    <tr>\n",
       "      <th>Midmarket</th>\n",
       "      <td>3108.00</td>\n",
       "      <td>588.00</td>\n",
       "      <td>3108.00</td>\n",
       "      <td>3420.90</td>\n",
       "      <td>6974.10</td>\n",
       "      <td>7795.125</td>\n",
       "      <td>1309.50</td>\n",
       "      <td>20.02</td>\n",
       "      <td>3177.30</td>\n",
       "      <td>22.29</td>\n",
       "      <td>853.20</td>\n",
       "      <td>22.67</td>\n",
       "      <td>2643.75</td>\n",
       "      <td>2643.75</td>\n",
       "      <td>1377.00</td>\n",
       "    </tr>\n",
       "    <tr>\n",
       "      <th>Science</th>\n",
       "      <td>NaN</td>\n",
       "      <td>NaN</td>\n",
       "      <td>NaN</td>\n",
       "      <td>NaN</td>\n",
       "      <td>NaN</td>\n",
       "      <td>NaN</td>\n",
       "      <td>NaN</td>\n",
       "      <td>NaN</td>\n",
       "      <td>17.94</td>\n",
       "      <td>NaN</td>\n",
       "      <td>22.29</td>\n",
       "      <td>17.57</td>\n",
       "      <td>NaN</td>\n",
       "      <td>12.66</td>\n",
       "      <td>21.72</td>\n",
       "    </tr>\n",
       "    <tr>\n",
       "      <th>Small Business</th>\n",
       "      <td>111375.00</td>\n",
       "      <td>45801.00</td>\n",
       "      <td>63828.00</td>\n",
       "      <td>35748.00</td>\n",
       "      <td>21978.00</td>\n",
       "      <td>34839.000</td>\n",
       "      <td>18750.00</td>\n",
       "      <td>NaN</td>\n",
       "      <td>92763.00</td>\n",
       "      <td>NaN</td>\n",
       "      <td>24252.00</td>\n",
       "      <td>NaN</td>\n",
       "      <td>48924.00</td>\n",
       "      <td>71793.00</td>\n",
       "      <td>106512.00</td>\n",
       "    </tr>\n",
       "  </tbody>\n",
       "</table>\n",
       "</div>"
      ],
      "text/plain": [
       "Country              France                                          \\\n",
       "Product            Amarilla Carretera   Montana     Paseo       VTT   \n",
       "Segment                                                               \n",
       "Agriculture             NaN       NaN       NaN       NaN       NaN   \n",
       "Channel Partners    4158.00   1581.36   1967.28   3201.66   2412.72   \n",
       "Enterprise         19703.75  33563.75  20891.25  33563.75   2180.00   \n",
       "Government         70462.00  81445.00  52479.00  94178.00  62769.00   \n",
       "Household               NaN       NaN       NaN       NaN       NaN   \n",
       "Midmarket           3108.00    588.00   3108.00   3420.90   6974.10   \n",
       "Science                 NaN       NaN       NaN       NaN       NaN   \n",
       "Small Business    111375.00  45801.00  63828.00  35748.00  21978.00   \n",
       "\n",
       "Country                       Germany                                      \\\n",
       "Product                Velo  Amarilla    Bal Carretera Geotrack   Montana   \n",
       "Segment                                                                     \n",
       "Agriculture             NaN       NaN  12.66     14.36    21.72     16.24   \n",
       "Channel Partners   2124.360   3088.80  13.22   1706.40      NaN   1405.20   \n",
       "Enterprise        12431.250  43518.75  15.68  51881.25      NaN  21875.00   \n",
       "Government        43596.000  26698.00  19.08  30492.00    14.73  58751.00   \n",
       "Household               NaN       NaN  11.90     15.87      NaN     22.48   \n",
       "Midmarket          7795.125   1309.50  20.02   3177.30    22.29    853.20   \n",
       "Science                 NaN       NaN    NaN     17.94      NaN     22.29   \n",
       "Small Business    34839.000  18750.00    NaN  92763.00      NaN  24252.00   \n",
       "\n",
       "Country                                                 \n",
       "Product            Nice     Paseo       VTT       Velo  \n",
       "Segment                                                 \n",
       "Agriculture         NaN       NaN       NaN      13.79  \n",
       "Channel Partners  14.92   1917.00   1860.60    1580.28  \n",
       "Enterprise        20.59  30738.75  10350.00   18261.25  \n",
       "Government        14.92  60088.00  65450.00   41170.50  \n",
       "Household         22.10      9.44       NaN      14.36  \n",
       "Midmarket         22.67   2643.75   2643.75    1377.00  \n",
       "Science           17.57       NaN     12.66      21.72  \n",
       "Small Business      NaN  48924.00  71793.00  106512.00  "
      ]
     },
     "execution_count": 62,
     "metadata": {},
     "output_type": "execute_result"
    }
   ],
   "source": [
    "pd.pivot_table(fs_GF, values='Discounts', \n",
    "               index='Segment', columns=['Country','Product'], aggfunc='max')"
   ]
  },
  {
   "cell_type": "markdown",
   "metadata": {
    "id": "DcAsNsE4RXj3"
   },
   "source": [
    "### Доступ к элементам сводной таблицы\n",
    "\n",
    "Как получить доступ к отдельному столбцу или столбцам?"
   ]
  },
  {
   "cell_type": "code",
   "execution_count": 63,
   "metadata": {},
   "outputs": [],
   "source": [
    "pvt=pd.pivot_table(fs_GF, values='Discounts', \n",
    "               index='Segment', columns=['Country','Product'], aggfunc='max')"
   ]
  },
  {
   "cell_type": "code",
   "execution_count": 64,
   "metadata": {},
   "outputs": [
    {
     "data": {
      "text/plain": [
       "pandas.core.frame.DataFrame"
      ]
     },
     "execution_count": 64,
     "metadata": {},
     "output_type": "execute_result"
    }
   ],
   "source": [
    "type(pvt)"
   ]
  },
  {
   "cell_type": "code",
   "execution_count": 66,
   "metadata": {},
   "outputs": [
    {
     "data": {
      "text/plain": [
       "MultiIndex([( 'France',  'Amarilla'),\n",
       "            ( 'France', 'Carretera'),\n",
       "            ( 'France',   'Montana'),\n",
       "            ( 'France',     'Paseo'),\n",
       "            ( 'France',       'VTT'),\n",
       "            ( 'France',      'Velo'),\n",
       "            ('Germany',  'Amarilla'),\n",
       "            ('Germany',       'Bal'),\n",
       "            ('Germany', 'Carretera'),\n",
       "            ('Germany',  'Geotrack'),\n",
       "            ('Germany',   'Montana'),\n",
       "            ('Germany',      'Nice'),\n",
       "            ('Germany',     'Paseo'),\n",
       "            ('Germany',       'VTT'),\n",
       "            ('Germany',      'Velo')],\n",
       "           names=['Country', 'Product'])"
      ]
     },
     "execution_count": 66,
     "metadata": {},
     "output_type": "execute_result"
    }
   ],
   "source": [
    "pvt.columns"
   ]
  },
  {
   "cell_type": "code",
   "execution_count": 67,
   "metadata": {},
   "outputs": [
    {
     "data": {
      "text/plain": [
       "Index(['Agriculture', 'Channel Partners', 'Enterprise', 'Government',\n",
       "       'Household', 'Midmarket', 'Science', 'Small Business'],\n",
       "      dtype='object', name='Segment')"
      ]
     },
     "execution_count": 67,
     "metadata": {},
     "output_type": "execute_result"
    }
   ],
   "source": [
    "pvt.index"
   ]
  },
  {
   "cell_type": "code",
   "execution_count": 68,
   "metadata": {},
   "outputs": [
    {
     "data": {
      "text/plain": [
       "4158.0"
      ]
     },
     "execution_count": 68,
     "metadata": {},
     "output_type": "execute_result"
    }
   ],
   "source": [
    "pvt.loc['Channel Partners', ( 'France',  'Amarilla')]"
   ]
  },
  {
   "cell_type": "markdown",
   "metadata": {
    "id": "C7hrCWw5vatQ"
   },
   "source": [
    "## Консолидация: объединение данных с помощью сводной таблицы\n",
    "\n",
    "Задача.\n",
    "Имеются csv-файлы с информацией об изменении цены акций. \n",
    "\n",
    "\n",
    "\n",
    "1.   [GAZA](https://drive.google.com/file/d/1bw3d01WXw5_N1skmnXwZUHFeT_xTiU1c/view?usp=sharing)\n",
    "2.   [KMAZ](https://drive.google.com/file/d/1JKendyxL4tF4-JrA7DzkHKzgSYjHtVkT/view?usp=sharing)\n",
    "3.   [ROSN](https://drive.google.com/file/d/18ImO_nT9yaghfkLfe3UNkmqfwszZI1Si/view?usp=sharing)\n",
    "\n",
    "*Источник: [finam.ru](https://www.finam.ru/)*\n",
    "\n",
    "Необходимо объединить эти данные в одну таблицу, в строках разместить дату, в столбцах код компании, в ячейках цену акции в соответствующий день."
   ]
  },
  {
   "cell_type": "code",
   "execution_count": 3,
   "metadata": {
    "id": "tLEPIQAix8_q"
   },
   "outputs": [],
   "source": [
    "GAZA=pd.read_csv('./Data/GAZA_200401_201130.csv',sep=';')\n",
    "KMAZ=pd.read_csv('./Data/KMAZ_200401_201130.csv',sep=';')\n",
    "ROSN=pd.read_csv('./Data/ROSN_200401_201130.csv',sep=';')"
   ]
  },
  {
   "cell_type": "markdown",
   "metadata": {},
   "source": [
    "Ознакомимся кратко с этими источниками, отобразив первые пять строк."
   ]
  },
  {
   "cell_type": "code",
   "execution_count": 4,
   "metadata": {
    "colab": {
     "base_uri": "https://localhost:8080/",
     "height": 206
    },
    "id": "aUn4iV47ylAp",
    "outputId": "570c269b-964e-41dc-dbcb-e8b1780cafb8"
   },
   "outputs": [
    {
     "data": {
      "text/html": [
       "<div>\n",
       "<style scoped>\n",
       "    .dataframe tbody tr th:only-of-type {\n",
       "        vertical-align: middle;\n",
       "    }\n",
       "\n",
       "    .dataframe tbody tr th {\n",
       "        vertical-align: top;\n",
       "    }\n",
       "\n",
       "    .dataframe thead th {\n",
       "        text-align: right;\n",
       "    }\n",
       "</style>\n",
       "<table border=\"1\" class=\"dataframe\">\n",
       "  <thead>\n",
       "    <tr style=\"text-align: right;\">\n",
       "      <th></th>\n",
       "      <th>&lt;TICKER&gt;</th>\n",
       "      <th>&lt;PER&gt;</th>\n",
       "      <th>&lt;DATE&gt;</th>\n",
       "      <th>&lt;TIME&gt;</th>\n",
       "      <th>&lt;CLOSE&gt;</th>\n",
       "    </tr>\n",
       "  </thead>\n",
       "  <tbody>\n",
       "    <tr>\n",
       "      <th>0</th>\n",
       "      <td>GAZA</td>\n",
       "      <td>W</td>\n",
       "      <td>06/04/20</td>\n",
       "      <td>0</td>\n",
       "      <td>375.5</td>\n",
       "    </tr>\n",
       "    <tr>\n",
       "      <th>1</th>\n",
       "      <td>GAZA</td>\n",
       "      <td>W</td>\n",
       "      <td>13/04/20</td>\n",
       "      <td>0</td>\n",
       "      <td>386.5</td>\n",
       "    </tr>\n",
       "    <tr>\n",
       "      <th>2</th>\n",
       "      <td>GAZA</td>\n",
       "      <td>W</td>\n",
       "      <td>20/04/20</td>\n",
       "      <td>0</td>\n",
       "      <td>396.5</td>\n",
       "    </tr>\n",
       "    <tr>\n",
       "      <th>3</th>\n",
       "      <td>GAZA</td>\n",
       "      <td>W</td>\n",
       "      <td>27/04/20</td>\n",
       "      <td>0</td>\n",
       "      <td>387.0</td>\n",
       "    </tr>\n",
       "    <tr>\n",
       "      <th>4</th>\n",
       "      <td>GAZA</td>\n",
       "      <td>W</td>\n",
       "      <td>04/05/20</td>\n",
       "      <td>0</td>\n",
       "      <td>382.0</td>\n",
       "    </tr>\n",
       "  </tbody>\n",
       "</table>\n",
       "</div>"
      ],
      "text/plain": [
       "  <TICKER> <PER>    <DATE>  <TIME>  <CLOSE>\n",
       "0     GAZA     W  06/04/20       0    375.5\n",
       "1     GAZA     W  13/04/20       0    386.5\n",
       "2     GAZA     W  20/04/20       0    396.5\n",
       "3     GAZA     W  27/04/20       0    387.0\n",
       "4     GAZA     W  04/05/20       0    382.0"
      ]
     },
     "execution_count": 4,
     "metadata": {},
     "output_type": "execute_result"
    }
   ],
   "source": [
    "GAZA.head()"
   ]
  },
  {
   "cell_type": "code",
   "execution_count": 5,
   "metadata": {
    "colab": {
     "base_uri": "https://localhost:8080/",
     "height": 206
    },
    "id": "Y8d-qXfIyXSm",
    "outputId": "9d1c76a9-8a1e-4582-c560-6e85d1dc761e"
   },
   "outputs": [
    {
     "data": {
      "text/html": [
       "<div>\n",
       "<style scoped>\n",
       "    .dataframe tbody tr th:only-of-type {\n",
       "        vertical-align: middle;\n",
       "    }\n",
       "\n",
       "    .dataframe tbody tr th {\n",
       "        vertical-align: top;\n",
       "    }\n",
       "\n",
       "    .dataframe thead th {\n",
       "        text-align: right;\n",
       "    }\n",
       "</style>\n",
       "<table border=\"1\" class=\"dataframe\">\n",
       "  <thead>\n",
       "    <tr style=\"text-align: right;\">\n",
       "      <th></th>\n",
       "      <th>&lt;TICKER&gt;</th>\n",
       "      <th>&lt;PER&gt;</th>\n",
       "      <th>&lt;DATE&gt;</th>\n",
       "      <th>&lt;TIME&gt;</th>\n",
       "      <th>&lt;CLOSE&gt;</th>\n",
       "    </tr>\n",
       "  </thead>\n",
       "  <tbody>\n",
       "    <tr>\n",
       "      <th>0</th>\n",
       "      <td>KMAZ</td>\n",
       "      <td>W</td>\n",
       "      <td>06/04/20</td>\n",
       "      <td>0</td>\n",
       "      <td>54.1</td>\n",
       "    </tr>\n",
       "    <tr>\n",
       "      <th>1</th>\n",
       "      <td>KMAZ</td>\n",
       "      <td>W</td>\n",
       "      <td>13/04/20</td>\n",
       "      <td>0</td>\n",
       "      <td>53.0</td>\n",
       "    </tr>\n",
       "    <tr>\n",
       "      <th>2</th>\n",
       "      <td>KMAZ</td>\n",
       "      <td>W</td>\n",
       "      <td>20/04/20</td>\n",
       "      <td>0</td>\n",
       "      <td>54.9</td>\n",
       "    </tr>\n",
       "    <tr>\n",
       "      <th>3</th>\n",
       "      <td>KMAZ</td>\n",
       "      <td>W</td>\n",
       "      <td>27/04/20</td>\n",
       "      <td>0</td>\n",
       "      <td>55.5</td>\n",
       "    </tr>\n",
       "    <tr>\n",
       "      <th>4</th>\n",
       "      <td>KMAZ</td>\n",
       "      <td>W</td>\n",
       "      <td>04/05/20</td>\n",
       "      <td>0</td>\n",
       "      <td>56.0</td>\n",
       "    </tr>\n",
       "  </tbody>\n",
       "</table>\n",
       "</div>"
      ],
      "text/plain": [
       "  <TICKER> <PER>    <DATE>  <TIME>  <CLOSE>\n",
       "0     KMAZ     W  06/04/20       0     54.1\n",
       "1     KMAZ     W  13/04/20       0     53.0\n",
       "2     KMAZ     W  20/04/20       0     54.9\n",
       "3     KMAZ     W  27/04/20       0     55.5\n",
       "4     KMAZ     W  04/05/20       0     56.0"
      ]
     },
     "execution_count": 5,
     "metadata": {},
     "output_type": "execute_result"
    }
   ],
   "source": [
    "KMAZ.head()"
   ]
  },
  {
   "cell_type": "code",
   "execution_count": 6,
   "metadata": {
    "colab": {
     "base_uri": "https://localhost:8080/",
     "height": 206
    },
    "id": "pqKVs540DW4Q",
    "outputId": "830171c8-1112-45ef-d9f8-9c2fcef08c1d"
   },
   "outputs": [
    {
     "data": {
      "text/html": [
       "<div>\n",
       "<style scoped>\n",
       "    .dataframe tbody tr th:only-of-type {\n",
       "        vertical-align: middle;\n",
       "    }\n",
       "\n",
       "    .dataframe tbody tr th {\n",
       "        vertical-align: top;\n",
       "    }\n",
       "\n",
       "    .dataframe thead th {\n",
       "        text-align: right;\n",
       "    }\n",
       "</style>\n",
       "<table border=\"1\" class=\"dataframe\">\n",
       "  <thead>\n",
       "    <tr style=\"text-align: right;\">\n",
       "      <th></th>\n",
       "      <th>&lt;TICKER&gt;</th>\n",
       "      <th>&lt;PER&gt;</th>\n",
       "      <th>&lt;DATE&gt;</th>\n",
       "      <th>&lt;TIME&gt;</th>\n",
       "      <th>&lt;CLOSE&gt;</th>\n",
       "    </tr>\n",
       "  </thead>\n",
       "  <tbody>\n",
       "    <tr>\n",
       "      <th>0</th>\n",
       "      <td>ROSN</td>\n",
       "      <td>W</td>\n",
       "      <td>06/04/20</td>\n",
       "      <td>0</td>\n",
       "      <td>344.00</td>\n",
       "    </tr>\n",
       "    <tr>\n",
       "      <th>1</th>\n",
       "      <td>ROSN</td>\n",
       "      <td>W</td>\n",
       "      <td>13/04/20</td>\n",
       "      <td>0</td>\n",
       "      <td>313.90</td>\n",
       "    </tr>\n",
       "    <tr>\n",
       "      <th>2</th>\n",
       "      <td>ROSN</td>\n",
       "      <td>W</td>\n",
       "      <td>20/04/20</td>\n",
       "      <td>0</td>\n",
       "      <td>324.00</td>\n",
       "    </tr>\n",
       "    <tr>\n",
       "      <th>3</th>\n",
       "      <td>ROSN</td>\n",
       "      <td>W</td>\n",
       "      <td>27/04/20</td>\n",
       "      <td>0</td>\n",
       "      <td>335.65</td>\n",
       "    </tr>\n",
       "    <tr>\n",
       "      <th>4</th>\n",
       "      <td>ROSN</td>\n",
       "      <td>W</td>\n",
       "      <td>04/05/20</td>\n",
       "      <td>0</td>\n",
       "      <td>348.00</td>\n",
       "    </tr>\n",
       "  </tbody>\n",
       "</table>\n",
       "</div>"
      ],
      "text/plain": [
       "  <TICKER> <PER>    <DATE>  <TIME>  <CLOSE>\n",
       "0     ROSN     W  06/04/20       0   344.00\n",
       "1     ROSN     W  13/04/20       0   313.90\n",
       "2     ROSN     W  20/04/20       0   324.00\n",
       "3     ROSN     W  27/04/20       0   335.65\n",
       "4     ROSN     W  04/05/20       0   348.00"
      ]
     },
     "execution_count": 6,
     "metadata": {},
     "output_type": "execute_result"
    }
   ],
   "source": [
    "ROSN.head()"
   ]
  },
  {
   "cell_type": "markdown",
   "metadata": {
    "id": "wrCXLqRxVzOF"
   },
   "source": [
    "Объединение таблиц с помощью <TT>.concat()</tt>"
   ]
  },
  {
   "cell_type": "code",
   "execution_count": 9,
   "metadata": {
    "colab": {
     "base_uri": "https://localhost:8080/",
     "height": 423
    },
    "id": "ZxKDOK1D26rS",
    "outputId": "bfbe7125-0b1a-48f4-b653-b451d638f0d9"
   },
   "outputs": [
    {
     "data": {
      "text/html": [
       "<div>\n",
       "<style scoped>\n",
       "    .dataframe tbody tr th:only-of-type {\n",
       "        vertical-align: middle;\n",
       "    }\n",
       "\n",
       "    .dataframe tbody tr th {\n",
       "        vertical-align: top;\n",
       "    }\n",
       "\n",
       "    .dataframe thead th {\n",
       "        text-align: right;\n",
       "    }\n",
       "</style>\n",
       "<table border=\"1\" class=\"dataframe\">\n",
       "  <thead>\n",
       "    <tr style=\"text-align: right;\">\n",
       "      <th></th>\n",
       "      <th>&lt;TICKER&gt;</th>\n",
       "      <th>&lt;PER&gt;</th>\n",
       "      <th>&lt;DATE&gt;</th>\n",
       "      <th>&lt;TIME&gt;</th>\n",
       "      <th>&lt;CLOSE&gt;</th>\n",
       "    </tr>\n",
       "  </thead>\n",
       "  <tbody>\n",
       "    <tr>\n",
       "      <th>0</th>\n",
       "      <td>GAZA</td>\n",
       "      <td>W</td>\n",
       "      <td>2020-04-06</td>\n",
       "      <td>0</td>\n",
       "      <td>375.50</td>\n",
       "    </tr>\n",
       "    <tr>\n",
       "      <th>1</th>\n",
       "      <td>GAZA</td>\n",
       "      <td>W</td>\n",
       "      <td>2020-04-13</td>\n",
       "      <td>0</td>\n",
       "      <td>386.50</td>\n",
       "    </tr>\n",
       "    <tr>\n",
       "      <th>2</th>\n",
       "      <td>GAZA</td>\n",
       "      <td>W</td>\n",
       "      <td>2020-04-20</td>\n",
       "      <td>0</td>\n",
       "      <td>396.50</td>\n",
       "    </tr>\n",
       "    <tr>\n",
       "      <th>3</th>\n",
       "      <td>GAZA</td>\n",
       "      <td>W</td>\n",
       "      <td>2020-04-27</td>\n",
       "      <td>0</td>\n",
       "      <td>387.00</td>\n",
       "    </tr>\n",
       "    <tr>\n",
       "      <th>4</th>\n",
       "      <td>GAZA</td>\n",
       "      <td>W</td>\n",
       "      <td>2020-05-04</td>\n",
       "      <td>0</td>\n",
       "      <td>382.00</td>\n",
       "    </tr>\n",
       "    <tr>\n",
       "      <th>...</th>\n",
       "      <td>...</td>\n",
       "      <td>...</td>\n",
       "      <td>...</td>\n",
       "      <td>...</td>\n",
       "      <td>...</td>\n",
       "    </tr>\n",
       "    <tr>\n",
       "      <th>97</th>\n",
       "      <td>ROSN</td>\n",
       "      <td>W</td>\n",
       "      <td>2020-10-26</td>\n",
       "      <td>0</td>\n",
       "      <td>349.80</td>\n",
       "    </tr>\n",
       "    <tr>\n",
       "      <th>98</th>\n",
       "      <td>ROSN</td>\n",
       "      <td>W</td>\n",
       "      <td>2020-11-02</td>\n",
       "      <td>0</td>\n",
       "      <td>382.35</td>\n",
       "    </tr>\n",
       "    <tr>\n",
       "      <th>99</th>\n",
       "      <td>ROSN</td>\n",
       "      <td>W</td>\n",
       "      <td>2020-11-09</td>\n",
       "      <td>0</td>\n",
       "      <td>419.35</td>\n",
       "    </tr>\n",
       "    <tr>\n",
       "      <th>100</th>\n",
       "      <td>ROSN</td>\n",
       "      <td>W</td>\n",
       "      <td>2020-11-16</td>\n",
       "      <td>0</td>\n",
       "      <td>464.80</td>\n",
       "    </tr>\n",
       "    <tr>\n",
       "      <th>101</th>\n",
       "      <td>ROSN</td>\n",
       "      <td>W</td>\n",
       "      <td>2020-11-23</td>\n",
       "      <td>0</td>\n",
       "      <td>461.20</td>\n",
       "    </tr>\n",
       "  </tbody>\n",
       "</table>\n",
       "<p>102 rows × 5 columns</p>\n",
       "</div>"
      ],
      "text/plain": [
       "    <TICKER> <PER>     <DATE>  <TIME>  <CLOSE>\n",
       "0       GAZA     W 2020-04-06       0   375.50\n",
       "1       GAZA     W 2020-04-13       0   386.50\n",
       "2       GAZA     W 2020-04-20       0   396.50\n",
       "3       GAZA     W 2020-04-27       0   387.00\n",
       "4       GAZA     W 2020-05-04       0   382.00\n",
       "..       ...   ...        ...     ...      ...\n",
       "97      ROSN     W 2020-10-26       0   349.80\n",
       "98      ROSN     W 2020-11-02       0   382.35\n",
       "99      ROSN     W 2020-11-09       0   419.35\n",
       "100     ROSN     W 2020-11-16       0   464.80\n",
       "101     ROSN     W 2020-11-23       0   461.20\n",
       "\n",
       "[102 rows x 5 columns]"
      ]
     },
     "execution_count": 9,
     "metadata": {},
     "output_type": "execute_result"
    }
   ],
   "source": [
    "# \"Объединение\" таблиц проводится с помощью .concat()\n",
    "join=pd.concat([GAZA,KMAZ,ROSN], axis=0)\n",
    "\n",
    "# в объединенной таблице преобразуем дату к типу даты\n",
    "join['<DATE>']=pd.to_datetime(join['<DATE>'],dayfirst=True) \n",
    "\n",
    "# и перестраиваем индекс\n",
    "join.index=range(len(join)) \n",
    "join"
   ]
  },
  {
   "cell_type": "markdown",
   "metadata": {
    "id": "-IWhvgBxWME2"
   },
   "source": [
    "Проверка по числу строк и столбцов."
   ]
  },
  {
   "cell_type": "code",
   "execution_count": 10,
   "metadata": {
    "colab": {
     "base_uri": "https://localhost:8080/"
    },
    "id": "x4LZ_1Dw_c4l",
    "outputId": "375f871b-2e09-4d85-e708-f0ab2e55326a"
   },
   "outputs": [
    {
     "name": "stdout",
     "output_type": "stream",
     "text": [
      "(34, 5)\n",
      "(34, 5)\n",
      "(34, 5)\n",
      "(102, 5)\n"
     ]
    }
   ],
   "source": [
    "# Проверка. В объединенной таблице столько же столбцов, сколько в любой из исходных таблиц \n",
    "# и столько строк, сколько в сумме у всех объединяесыъ таблиц.\n",
    "print(GAZA.shape)\n",
    "print(KMAZ.shape)\n",
    "print(ROSN.shape)\n",
    "print(join.shape)"
   ]
  },
  {
   "cell_type": "markdown",
   "metadata": {},
   "source": [
    "Краткая информация об объединенной таблице"
   ]
  },
  {
   "cell_type": "code",
   "execution_count": 11,
   "metadata": {
    "colab": {
     "base_uri": "https://localhost:8080/"
    },
    "id": "q_iyXenR75R4",
    "outputId": "8e05ad9b-c292-4bb2-8ce0-401927d76ee9",
    "scrolled": true
   },
   "outputs": [
    {
     "name": "stdout",
     "output_type": "stream",
     "text": [
      "<class 'pandas.core.frame.DataFrame'>\n",
      "RangeIndex: 102 entries, 0 to 101\n",
      "Data columns (total 5 columns):\n",
      " #   Column    Non-Null Count  Dtype         \n",
      "---  ------    --------------  -----         \n",
      " 0   <TICKER>  102 non-null    object        \n",
      " 1   <PER>     102 non-null    object        \n",
      " 2   <DATE>    102 non-null    datetime64[ns]\n",
      " 3   <TIME>    102 non-null    int64         \n",
      " 4   <CLOSE>   102 non-null    float64       \n",
      "dtypes: datetime64[ns](1), float64(1), int64(1), object(2)\n",
      "memory usage: 4.1+ KB\n"
     ]
    }
   ],
   "source": [
    "join.info()"
   ]
  },
  {
   "cell_type": "markdown",
   "metadata": {
    "id": "NsDo40rVTzJz"
   },
   "source": [
    "Создадим сводную таблицу"
   ]
  },
  {
   "cell_type": "code",
   "execution_count": 14,
   "metadata": {
    "colab": {
     "base_uri": "https://localhost:8080/",
     "height": 1000
    },
    "id": "-tmW069K7GRM",
    "outputId": "7eebfbfc-451c-493a-904d-746d73b27724"
   },
   "outputs": [
    {
     "data": {
      "text/html": [
       "<div>\n",
       "<style scoped>\n",
       "    .dataframe tbody tr th:only-of-type {\n",
       "        vertical-align: middle;\n",
       "    }\n",
       "\n",
       "    .dataframe tbody tr th {\n",
       "        vertical-align: top;\n",
       "    }\n",
       "\n",
       "    .dataframe thead th {\n",
       "        text-align: right;\n",
       "    }\n",
       "</style>\n",
       "<table border=\"1\" class=\"dataframe\">\n",
       "  <thead>\n",
       "    <tr style=\"text-align: right;\">\n",
       "      <th>&lt;TICKER&gt;</th>\n",
       "      <th>GAZA</th>\n",
       "      <th>KMAZ</th>\n",
       "      <th>ROSN</th>\n",
       "    </tr>\n",
       "    <tr>\n",
       "      <th>&lt;DATE&gt;</th>\n",
       "      <th></th>\n",
       "      <th></th>\n",
       "      <th></th>\n",
       "    </tr>\n",
       "  </thead>\n",
       "  <tbody>\n",
       "    <tr>\n",
       "      <th>2020-04-06</th>\n",
       "      <td>375.5</td>\n",
       "      <td>54.1</td>\n",
       "      <td>344.00</td>\n",
       "    </tr>\n",
       "    <tr>\n",
       "      <th>2020-04-13</th>\n",
       "      <td>386.5</td>\n",
       "      <td>53.0</td>\n",
       "      <td>313.90</td>\n",
       "    </tr>\n",
       "    <tr>\n",
       "      <th>2020-04-20</th>\n",
       "      <td>396.5</td>\n",
       "      <td>54.9</td>\n",
       "      <td>324.00</td>\n",
       "    </tr>\n",
       "    <tr>\n",
       "      <th>2020-04-27</th>\n",
       "      <td>387.0</td>\n",
       "      <td>55.5</td>\n",
       "      <td>335.65</td>\n",
       "    </tr>\n",
       "    <tr>\n",
       "      <th>2020-05-04</th>\n",
       "      <td>382.0</td>\n",
       "      <td>56.0</td>\n",
       "      <td>348.00</td>\n",
       "    </tr>\n",
       "    <tr>\n",
       "      <th>2020-05-11</th>\n",
       "      <td>377.5</td>\n",
       "      <td>54.3</td>\n",
       "      <td>350.05</td>\n",
       "    </tr>\n",
       "    <tr>\n",
       "      <th>2020-05-18</th>\n",
       "      <td>387.0</td>\n",
       "      <td>55.0</td>\n",
       "      <td>364.50</td>\n",
       "    </tr>\n",
       "    <tr>\n",
       "      <th>2020-05-25</th>\n",
       "      <td>381.0</td>\n",
       "      <td>55.9</td>\n",
       "      <td>376.20</td>\n",
       "    </tr>\n",
       "    <tr>\n",
       "      <th>2020-06-01</th>\n",
       "      <td>389.5</td>\n",
       "      <td>60.0</td>\n",
       "      <td>401.95</td>\n",
       "    </tr>\n",
       "    <tr>\n",
       "      <th>2020-06-08</th>\n",
       "      <td>384.5</td>\n",
       "      <td>57.3</td>\n",
       "      <td>376.10</td>\n",
       "    </tr>\n",
       "    <tr>\n",
       "      <th>2020-06-15</th>\n",
       "      <td>386.5</td>\n",
       "      <td>57.6</td>\n",
       "      <td>376.15</td>\n",
       "    </tr>\n",
       "    <tr>\n",
       "      <th>2020-06-22</th>\n",
       "      <td>390.0</td>\n",
       "      <td>57.0</td>\n",
       "      <td>367.05</td>\n",
       "    </tr>\n",
       "    <tr>\n",
       "      <th>2020-06-29</th>\n",
       "      <td>384.0</td>\n",
       "      <td>57.1</td>\n",
       "      <td>365.35</td>\n",
       "    </tr>\n",
       "    <tr>\n",
       "      <th>2020-07-06</th>\n",
       "      <td>390.0</td>\n",
       "      <td>56.2</td>\n",
       "      <td>364.00</td>\n",
       "    </tr>\n",
       "    <tr>\n",
       "      <th>2020-07-13</th>\n",
       "      <td>385.5</td>\n",
       "      <td>58.5</td>\n",
       "      <td>359.85</td>\n",
       "    </tr>\n",
       "    <tr>\n",
       "      <th>2020-07-20</th>\n",
       "      <td>395.0</td>\n",
       "      <td>58.1</td>\n",
       "      <td>359.75</td>\n",
       "    </tr>\n",
       "    <tr>\n",
       "      <th>2020-07-27</th>\n",
       "      <td>389.5</td>\n",
       "      <td>57.7</td>\n",
       "      <td>356.90</td>\n",
       "    </tr>\n",
       "    <tr>\n",
       "      <th>2020-08-03</th>\n",
       "      <td>395.0</td>\n",
       "      <td>65.7</td>\n",
       "      <td>367.15</td>\n",
       "    </tr>\n",
       "    <tr>\n",
       "      <th>2020-08-10</th>\n",
       "      <td>398.0</td>\n",
       "      <td>65.4</td>\n",
       "      <td>387.95</td>\n",
       "    </tr>\n",
       "    <tr>\n",
       "      <th>2020-08-17</th>\n",
       "      <td>412.5</td>\n",
       "      <td>64.4</td>\n",
       "      <td>382.80</td>\n",
       "    </tr>\n",
       "    <tr>\n",
       "      <th>2020-08-24</th>\n",
       "      <td>426.5</td>\n",
       "      <td>63.9</td>\n",
       "      <td>380.65</td>\n",
       "    </tr>\n",
       "    <tr>\n",
       "      <th>2020-08-31</th>\n",
       "      <td>405.5</td>\n",
       "      <td>61.8</td>\n",
       "      <td>372.50</td>\n",
       "    </tr>\n",
       "    <tr>\n",
       "      <th>2020-09-07</th>\n",
       "      <td>407.0</td>\n",
       "      <td>62.6</td>\n",
       "      <td>370.05</td>\n",
       "    </tr>\n",
       "    <tr>\n",
       "      <th>2020-09-14</th>\n",
       "      <td>408.0</td>\n",
       "      <td>63.2</td>\n",
       "      <td>376.50</td>\n",
       "    </tr>\n",
       "    <tr>\n",
       "      <th>2020-09-21</th>\n",
       "      <td>391.0</td>\n",
       "      <td>60.6</td>\n",
       "      <td>381.40</td>\n",
       "    </tr>\n",
       "    <tr>\n",
       "      <th>2020-09-28</th>\n",
       "      <td>389.0</td>\n",
       "      <td>59.3</td>\n",
       "      <td>380.45</td>\n",
       "    </tr>\n",
       "    <tr>\n",
       "      <th>2020-10-05</th>\n",
       "      <td>390.0</td>\n",
       "      <td>59.6</td>\n",
       "      <td>386.55</td>\n",
       "    </tr>\n",
       "    <tr>\n",
       "      <th>2020-10-12</th>\n",
       "      <td>391.5</td>\n",
       "      <td>62.0</td>\n",
       "      <td>382.95</td>\n",
       "    </tr>\n",
       "    <tr>\n",
       "      <th>2020-10-19</th>\n",
       "      <td>399.0</td>\n",
       "      <td>61.4</td>\n",
       "      <td>379.85</td>\n",
       "    </tr>\n",
       "    <tr>\n",
       "      <th>2020-10-26</th>\n",
       "      <td>387.5</td>\n",
       "      <td>57.7</td>\n",
       "      <td>349.80</td>\n",
       "    </tr>\n",
       "    <tr>\n",
       "      <th>2020-11-02</th>\n",
       "      <td>392.5</td>\n",
       "      <td>60.8</td>\n",
       "      <td>382.35</td>\n",
       "    </tr>\n",
       "    <tr>\n",
       "      <th>2020-11-09</th>\n",
       "      <td>390.5</td>\n",
       "      <td>61.2</td>\n",
       "      <td>419.35</td>\n",
       "    </tr>\n",
       "    <tr>\n",
       "      <th>2020-11-16</th>\n",
       "      <td>393.0</td>\n",
       "      <td>61.5</td>\n",
       "      <td>464.80</td>\n",
       "    </tr>\n",
       "    <tr>\n",
       "      <th>2020-11-23</th>\n",
       "      <td>393.0</td>\n",
       "      <td>63.9</td>\n",
       "      <td>461.20</td>\n",
       "    </tr>\n",
       "  </tbody>\n",
       "</table>\n",
       "</div>"
      ],
      "text/plain": [
       "<TICKER>     GAZA  KMAZ    ROSN\n",
       "<DATE>                         \n",
       "2020-04-06  375.5  54.1  344.00\n",
       "2020-04-13  386.5  53.0  313.90\n",
       "2020-04-20  396.5  54.9  324.00\n",
       "2020-04-27  387.0  55.5  335.65\n",
       "2020-05-04  382.0  56.0  348.00\n",
       "2020-05-11  377.5  54.3  350.05\n",
       "2020-05-18  387.0  55.0  364.50\n",
       "2020-05-25  381.0  55.9  376.20\n",
       "2020-06-01  389.5  60.0  401.95\n",
       "2020-06-08  384.5  57.3  376.10\n",
       "2020-06-15  386.5  57.6  376.15\n",
       "2020-06-22  390.0  57.0  367.05\n",
       "2020-06-29  384.0  57.1  365.35\n",
       "2020-07-06  390.0  56.2  364.00\n",
       "2020-07-13  385.5  58.5  359.85\n",
       "2020-07-20  395.0  58.1  359.75\n",
       "2020-07-27  389.5  57.7  356.90\n",
       "2020-08-03  395.0  65.7  367.15\n",
       "2020-08-10  398.0  65.4  387.95\n",
       "2020-08-17  412.5  64.4  382.80\n",
       "2020-08-24  426.5  63.9  380.65\n",
       "2020-08-31  405.5  61.8  372.50\n",
       "2020-09-07  407.0  62.6  370.05\n",
       "2020-09-14  408.0  63.2  376.50\n",
       "2020-09-21  391.0  60.6  381.40\n",
       "2020-09-28  389.0  59.3  380.45\n",
       "2020-10-05  390.0  59.6  386.55\n",
       "2020-10-12  391.5  62.0  382.95\n",
       "2020-10-19  399.0  61.4  379.85\n",
       "2020-10-26  387.5  57.7  349.80\n",
       "2020-11-02  392.5  60.8  382.35\n",
       "2020-11-09  390.5  61.2  419.35\n",
       "2020-11-16  393.0  61.5  464.80\n",
       "2020-11-23  393.0  63.9  461.20"
      ]
     },
     "execution_count": 14,
     "metadata": {},
     "output_type": "execute_result"
    }
   ],
   "source": [
    "pvt=join.pivot_table(index='<DATE>', columns='<TICKER>', values='<CLOSE>')\n",
    "pvt"
   ]
  },
  {
   "cell_type": "markdown",
   "metadata": {
    "id": "3LI3jbd_UtlP"
   },
   "source": [
    "Проведена консолидация данных: объединенная таблица содержит цену акций из всех трех источников и только в одном столбце момент времени.\n",
    "\n",
    "Проверка. Подсчитаем число строк в консолидированной таблице. Оно совпадает с числом строк в любой из исходных таблиц."
   ]
  },
  {
   "cell_type": "code",
   "execution_count": 18,
   "metadata": {
    "colab": {
     "base_uri": "https://localhost:8080/"
    },
    "id": "3VcMSYBRT-LC",
    "outputId": "4faa359c-3315-47cc-bf2e-37b45a4cda81"
   },
   "outputs": [
    {
     "data": {
      "text/plain": [
       "34"
      ]
     },
     "execution_count": 18,
     "metadata": {},
     "output_type": "execute_result"
    }
   ],
   "source": [
    "len(pvt)"
   ]
  },
  {
   "cell_type": "markdown",
   "metadata": {},
   "source": [
    "## Выполните контрольные задания"
   ]
  },
  {
   "cell_type": "markdown",
   "metadata": {},
   "source": [
    "### 1. Исходный набор данных\n",
    "\n",
    "Загрузите в pandas.DataFrame набор данных *ListungAm.csv* из папки *../Data*. Загрузите файл *Description.csv* с описанием полей этого набора данных."
   ]
  },
  {
   "cell_type": "markdown",
   "metadata": {},
   "source": [
    "### 2. Выполните задания\n",
    "1. Найдите среднее число коек в каждом районе Амстердама."
   ]
  },
  {
   "cell_type": "code",
   "execution_count": 20,
   "metadata": {},
   "outputs": [],
   "source": [
    "# Ваш код здесь\n"
   ]
  },
  {
   "cell_type": "markdown",
   "metadata": {},
   "source": [
    "2. Найдите среднюю оценку чистоты (качества уборки) помещения для каждого типа собственности."
   ]
  },
  {
   "cell_type": "code",
   "execution_count": 21,
   "metadata": {},
   "outputs": [],
   "source": [
    "# Ваш код здесь\n"
   ]
  },
  {
   "cell_type": "markdown",
   "metadata": {},
   "source": [
    "3. Найдите среднюю цену размещения в для каждого типа комнаты в районе *Westerpark*."
   ]
  },
  {
   "cell_type": "code",
   "execution_count": 22,
   "metadata": {},
   "outputs": [],
   "source": [
    "# Ваш код здесь\n"
   ]
  },
  {
   "cell_type": "markdown",
   "metadata": {},
   "source": [
    "4. С помощью *groupby()* найдите количество объектов размещения для каждого типа собственности в *Noord-West*."
   ]
  },
  {
   "cell_type": "code",
   "execution_count": null,
   "metadata": {},
   "outputs": [],
   "source": [
    "# Ваш код здесь\n"
   ]
  },
  {
   "cell_type": "markdown",
   "metadata": {},
   "source": [
    "5. Выполните задание 4 с помощью *.value_counts()*"
   ]
  },
  {
   "cell_type": "code",
   "execution_count": null,
   "metadata": {},
   "outputs": [],
   "source": [
    "# Ваш код здесь\n"
   ]
  },
  {
   "cell_type": "markdown",
   "metadata": {},
   "source": [
    "6. Найдите среднее и медианное значения числа спален и коек в разрезе по типу собственности в Noord-West."
   ]
  },
  {
   "cell_type": "code",
   "execution_count": 25,
   "metadata": {},
   "outputs": [],
   "source": [
    "# Ваш код здесь\n"
   ]
  },
  {
   "cell_type": "markdown",
   "metadata": {},
   "source": [
    "7. С помощью сводной таблицы распечатайте среднюю цену размещения каждого типа комнаты а каждом районе."
   ]
  },
  {
   "cell_type": "code",
   "execution_count": 26,
   "metadata": {},
   "outputs": [],
   "source": [
    "# Ваш код здесь\n"
   ]
  }
 ],
 "metadata": {
  "colab": {
   "name": "Тема 9 ГК (группировка).ipynb",
   "provenance": []
  },
  "kernelspec": {
   "display_name": "Python 3",
   "language": "python",
   "name": "python3"
  },
  "language_info": {
   "codemirror_mode": {
    "name": "ipython",
    "version": 3
   },
   "file_extension": ".py",
   "mimetype": "text/x-python",
   "name": "python",
   "nbconvert_exporter": "python",
   "pygments_lexer": "ipython3",
   "version": "3.7.6"
  }
 },
 "nbformat": 4,
 "nbformat_minor": 1
}
