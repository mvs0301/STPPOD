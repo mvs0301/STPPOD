{
 "cells": [
  {
   "cell_type": "markdown",
   "metadata": {
    "id": "2Yn_cT5q5eWw"
   },
   "source": [
    "<img src=\"../Img/banner-fa-49-2.jpg\">\n",
    "\n",
    "### <center> Финансовый университет\n",
    "## <center>  Современные технологии <br>прикладного программирования и обработки данных\n",
    "## <center> Тема 6. Методы группировки данных\n",
    "\n",
    "20 апреля 2021 года\n",
    "\n",
    "Лекция<br>\n",
    "Студенты: Поток У18-7у<br>\n",
    "Преподаватель: Смирнов Михаил Викторович, доцент Департамента Анализа данных и машинного обучения Финансового университета при Правительстве Российской Федерации"
   ]
  },
  {
   "cell_type": "markdown",
   "metadata": {
    "id": "CrIjkPuaOm4x"
   },
   "source": [
    "# Группировка данных\n",
    "\n",
    "Данные можно представить себе как последовательность каких-то единичных наблюдений. Например, в наборе данных *FinancialSample2.csv* единичное наблюдение — это сделка по продаже конкретного товара."
   ]
  },
  {
   "cell_type": "code",
   "execution_count": null,
   "metadata": {},
   "outputs": [],
   "source": [
    "import pandas as pd\n",
    "fs=pd.read_csv(\"../Data/FinancialSample2.csv\", sep=';')\n",
    "fs.head()"
   ]
  },
  {
   "cell_type": "markdown",
   "metadata": {},
   "source": [
    "У каждого наблюдения есть какие-то атрибуты. Они могут быть разных типов:\n",
    "\n",
    "- категориальные — например, название фирмы-производителя товара (признак *Product*);\n",
    "- численные — например, размер партии товара в штуках (признак *UnitsSold*).\n",
    "\n",
    "Решение задачи группировки предполагает разделение данных по некоторому признаку (атрибуту), после чего к каждому элементу этих разделенных данных мы можем применить агрегирующую операцию. Это такая операция, которая позволяет вычислить какой-либо показатель.\n",
    "\n",
    "Затем мы можем оценить, как отличаются эти показатели в зависимости от признака, по которому было осуществлено разделение. Такое разделение мы можем назвать группировкой данных.\n",
    "\n",
    "Возьмем информацию о числе единиц проданного товара в пяти первых сделках для стран Пакистан, Германия, Мексика."
   ]
  },
  {
   "cell_type": "code",
   "execution_count": null,
   "metadata": {},
   "outputs": [],
   "source": [
    "fs_pakistan = fs[fs[\"Country\"]==\"Pakistan\"][[\"Country\", \"UnitsSold\"]].head()\n",
    "fs_germany = fs[fs[\"Country\"]==\"Germany\"][[\"Country\", \"UnitsSold\"]].head()\n",
    "fs_mexico = fs[fs[\"Country\"]==\"Mexico\"][[\"Country\", \"UnitsSold\"]].head()"
   ]
  },
  {
   "cell_type": "markdown",
   "metadata": {},
   "source": [
    "Найдем среднее значение *UnitsSold* в каждой группе"
   ]
  },
  {
   "cell_type": "code",
   "execution_count": null,
   "metadata": {},
   "outputs": [],
   "source": [
    "print(fs_pakistan[\"UnitsSold\"].mean())\n",
    "print(fs_germany[\"UnitsSold\"].mean())\n",
    "print(fs_mexico[\"UnitsSold\"].mean())"
   ]
  },
  {
   "cell_type": "markdown",
   "metadata": {},
   "source": [
    "Объединим три этих таблицы в одну. Параметр `ignore_index=True` означает, что после объединения индекс надо перестроить."
   ]
  },
  {
   "cell_type": "code",
   "execution_count": null,
   "metadata": {},
   "outputs": [],
   "source": [
    "fs_joined = pd.concat([fs_pakistan, fs_germany, fs_mexico], axis=0, ignore_index=True)\n",
    "fs_joined"
   ]
  },
  {
   "cell_type": "markdown",
   "metadata": {},
   "source": [
    "Применим функцию *groupby()*"
   ]
  },
  {
   "cell_type": "code",
   "execution_count": null,
   "metadata": {},
   "outputs": [],
   "source": [
    "fs_joined.groupby(by=\"Country\")[\"UnitsSold\"].mean()"
   ]
  },
  {
   "cell_type": "markdown",
   "metadata": {
    "id": "Rn1OZhmoOsHF"
   },
   "source": [
    "## Функция *groupby()*\n",
    "\n",
    "Ранее мы уже рассмотрели простейшую группировку с помощью функции *value_counts()*, которая возвращает серию, содержащую количество уникальных значений в группах. Кратко вспомним, как работает *value_counts()* на примере. Пусть имеются сведения об успеваимости студентов: имя студента, учебная группа, оценка в баллах в первом и втором семестрах."
   ]
  },
  {
   "cell_type": "code",
   "execution_count": null,
   "metadata": {
    "id": "zcMFr52ULCoU"
   },
   "outputs": [],
   "source": [
    "students=pd.DataFrame({'Name':\n",
    "                    ['Иван','Петр','Мария','Василий','Анна','Василиса','Дарья','Николай','Вероника'],\n",
    "                    'Group':['Ф1','Ф1','Ф2','Ф2','Ф1','Ф2','Ф2','Ф2','Ф1'],\n",
    "                    'Mark_1':[19,18,17,21,24,18,22,19,18],\n",
    "                    'Mark_2':[25,30,26,26,21,23,25,29,31]})"
   ]
  },
  {
   "cell_type": "markdown",
   "metadata": {
    "id": "iyFfffgNpaIC"
   },
   "source": [
    "Распечатаем датафрейм с данными о студентах, предварительно добавив столбец - суммарную оценку"
   ]
  },
  {
   "cell_type": "code",
   "execution_count": null,
   "metadata": {
    "colab": {
     "base_uri": "https://localhost:8080/",
     "height": 331
    },
    "id": "Kuu5YjfGpXP-",
    "outputId": "badf1ce3-6154-4cf1-b1a8-1fcc8f88e1dd"
   },
   "outputs": [],
   "source": [
    "students['Mark_sum'] = students['Mark_1'] + students['Mark_2']\n",
    "students"
   ]
  },
  {
   "cell_type": "markdown",
   "metadata": {
    "id": "YNwbyCtsqGR3"
   },
   "source": [
    "Применим *value_counts()* к столбцам *Group* и *Mark_1*"
   ]
  },
  {
   "cell_type": "code",
   "execution_count": null,
   "metadata": {
    "colab": {
     "base_uri": "https://localhost:8080/"
    },
    "id": "M3FlCmolUVfl",
    "outputId": "bb622732-a34e-4b1a-b5cc-49131c7f5357"
   },
   "outputs": [],
   "source": [
    "students['Group'].value_counts()"
   ]
  },
  {
   "cell_type": "markdown",
   "metadata": {},
   "source": [
    "Результат: уникальными значениями столбца *Group* являются Ф1 и Ф2, которые встречаются 4 и 5 раз соответственно. Применим *value_counts()* к численному столбцу *Mark_1*."
   ]
  },
  {
   "cell_type": "code",
   "execution_count": null,
   "metadata": {
    "colab": {
     "base_uri": "https://localhost:8080/"
    },
    "id": "XR1pzqaZUa4F",
    "outputId": "d5826f60-8525-49e6-dade-b67f8a2f70ed"
   },
   "outputs": [],
   "source": [
    "students['Mark_1'].value_counts()"
   ]
  },
  {
   "cell_type": "markdown",
   "metadata": {
    "id": "unNPx45QVYlt"
   },
   "source": [
    "Функция *value_counts()* сгруппировала студентов по группам и по оценкам. Предположим теперь, что нас интересует не количество студентов, а сумма баллов. Это можно сделать с помощью известного нам уже способа отбора по условию и применения статистической функции суммы. Для первого семестра получим:"
   ]
  },
  {
   "cell_type": "code",
   "execution_count": null,
   "metadata": {
    "colab": {
     "base_uri": "https://localhost:8080/"
    },
    "id": "lDNMgPzCWWkC",
    "outputId": "8eb9bb9c-55b1-4727-a7da-2f8b045f768c"
   },
   "outputs": [],
   "source": [
    "print(students[students['Group']=='Ф1']['Mark_1'].sum())\n",
    "print(students[students['Group']=='Ф2']['Mark_1'].sum())"
   ]
  },
  {
   "cell_type": "markdown",
   "metadata": {
    "id": "_BwTnzYJXWob"
   },
   "source": [
    "Для таких целей удобнее применять функцию *groupby()*"
   ]
  },
  {
   "cell_type": "code",
   "execution_count": null,
   "metadata": {
    "colab": {
     "base_uri": "https://localhost:8080/"
    },
    "id": "d2Nj826Cgq39",
    "outputId": "6946e6ed-27dd-447c-d348-75e494228bc8"
   },
   "outputs": [],
   "source": [
    "students.groupby(['Group'])['Mark_1'].sum()"
   ]
  },
  {
   "cell_type": "markdown",
   "metadata": {
    "id": "JkXG42WhZNv0"
   },
   "source": [
    "Рассмотрим более подробно работу функции *groupby()*. Выполним команду `students.groupby(['Group'])`"
   ]
  },
  {
   "cell_type": "code",
   "execution_count": null,
   "metadata": {
    "colab": {
     "base_uri": "https://localhost:8080/"
    },
    "id": "KylY3k0iYeJV",
    "outputId": "5f32a4d0-0acf-4454-b142-986570541c87"
   },
   "outputs": [],
   "source": [
    "students.groupby(['Group'])"
   ]
  },
  {
   "cell_type": "markdown",
   "metadata": {
    "id": "YHInnFHqZsyD"
   },
   "source": [
    "Мы получили объект, который хранит сведения о том, какие строки относятся к каким значениям группируемого столбца. Чтобы распечатать эти сведения выполним эту же команду с атрибутом `.groups`"
   ]
  },
  {
   "cell_type": "code",
   "execution_count": null,
   "metadata": {
    "colab": {
     "base_uri": "https://localhost:8080/"
    },
    "id": "HV2xhYL3aLft",
    "outputId": "3dfe7b86-bf7c-4273-ef2c-a9632ba0c10c"
   },
   "outputs": [],
   "source": [
    "students.groupby(['Group']).groups"
   ]
  },
  {
   "cell_type": "markdown",
   "metadata": {
    "id": "D__h9rDibPpm"
   },
   "source": [
    "Теперь мы узнали, что к группе Ф1 относятся строки [0, 1, 4, 8], а к Ф2 [2, 3, 5, 6, 7]. Эту информацию использует *pandas* для того, чтобы разбить данные на подгруппы и в каждой подгруппе рассчитать что-либо для нас.\n",
    "\n",
    "Для того, чтобы провести суммирование (или выполнить другую агрегирующую функцию) по нескольким столбцам, их надо явно указать. Проведем суммирование баллов в каждой учебной группе отдельно в первом и во втором семестрах."
   ]
  },
  {
   "cell_type": "code",
   "execution_count": null,
   "metadata": {
    "colab": {
     "base_uri": "https://localhost:8080/",
     "height": 143
    },
    "id": "fU9oAKlvrL-G",
    "outputId": "186a318e-1066-453d-d8db-8d2f6d63c819"
   },
   "outputs": [],
   "source": [
    "students_groupped = students.groupby(['Group'])[['Mark_1','Mark_2']].sum()\n",
    "students_groupped"
   ]
  },
  {
   "cell_type": "markdown",
   "metadata": {
    "id": "6uWHcGoPjqYq"
   },
   "source": [
    "Объект *studens_groupped* - это *DataFrame*."
   ]
  },
  {
   "cell_type": "code",
   "execution_count": null,
   "metadata": {
    "colab": {
     "base_uri": "https://localhost:8080/"
    },
    "id": "gTMsG4Vrkdei",
    "outputId": "03d75de1-d413-49b2-fd23-726600f33a83"
   },
   "outputs": [],
   "source": [
    "type(students_groupped)"
   ]
  },
  {
   "cell_type": "markdown",
   "metadata": {
    "id": "Zt7J-x-6kkt6"
   },
   "source": [
    "Как известно, к элементам таблицы *pandas* можно получить доступ с помощью `.loc[]` и `iloc[]`. Например, чтобы получить сумму баллов студентов Ф2 во втором семестре введем команду"
   ]
  },
  {
   "cell_type": "code",
   "execution_count": null,
   "metadata": {
    "colab": {
     "base_uri": "https://localhost:8080/"
    },
    "id": "xFxv6139j_co",
    "outputId": "ad142924-0506-44a8-8e77-bc54cf7f6c6c"
   },
   "outputs": [],
   "source": [
    "students_groupped.loc['Ф2','Mark_2']"
   ]
  },
  {
   "cell_type": "markdown",
   "metadata": {
    "id": "5B2Mj8JVqec4"
   },
   "source": [
    "Если не уточнять, по какому столбцу проводится суммирование (или другая агрегирующая функция), то получим сумму по всем числовым столбцам"
   ]
  },
  {
   "cell_type": "code",
   "execution_count": null,
   "metadata": {
    "colab": {
     "base_uri": "https://localhost:8080/",
     "height": 143
    },
    "id": "pmZJ87yhfWQa",
    "outputId": "bc17f6a3-dade-4a52-8d17-4ab587931296"
   },
   "outputs": [],
   "source": [
    "students_groupped = students.groupby(['Group']).sum()\n",
    "students_groupped"
   ]
  },
  {
   "cell_type": "markdown",
   "metadata": {
    "id": "71nMDp25mmea"
   },
   "source": [
    "Студенты какой группы получили в сумме больше баллов? Для ответа отсортируем с помощью `.sort_values()`  таблицу сгруппированных значений по убыванию суммы баллов. Это группа Ф2."
   ]
  },
  {
   "cell_type": "code",
   "execution_count": null,
   "metadata": {
    "colab": {
     "base_uri": "https://localhost:8080/",
     "height": 143
    },
    "id": "OD4TCxXvm1qY",
    "outputId": "1aaf05b9-2b8f-4ed9-8d57-55b13f98c869"
   },
   "outputs": [],
   "source": [
    "students_groupped.sort_values('Mark_sum',ascending=False)"
   ]
  },
  {
   "cell_type": "markdown",
   "metadata": {
    "id": "8FKR5P8r_9pU"
   },
   "source": [
    "## Другие агрегирующие функции\n",
    "\n",
    "Еще раз распечатаем набор данных."
   ]
  },
  {
   "cell_type": "code",
   "execution_count": null,
   "metadata": {
    "scrolled": true
   },
   "outputs": [],
   "source": [
    "fs.head()"
   ]
  },
  {
   "cell_type": "markdown",
   "metadata": {},
   "source": [
    "Также распечатаем его описание."
   ]
  },
  {
   "cell_type": "code",
   "execution_count": null,
   "metadata": {},
   "outputs": [],
   "source": [
    "fs_description=pd.read_csv('../Data/FinancialSampleFields.csv', sep=';')\n",
    "fs_description"
   ]
  },
  {
   "cell_type": "markdown",
   "metadata": {},
   "source": [
    "### Функции *max(), min()*\n",
    "\n",
    "Функция *max()* подсчитывает максимальное значение в серии. Найдем максимальную скидку с группировкой по стране."
   ]
  },
  {
   "cell_type": "code",
   "execution_count": null,
   "metadata": {},
   "outputs": [],
   "source": [
    "fs.groupby(\"Country\")[[\"Discounts\"]].max()"
   ]
  },
  {
   "cell_type": "markdown",
   "metadata": {},
   "source": [
    "Функция *min()* подсчитывает минимальное значение в серии. Найдем минимальное число единиц  товара с группировкой по сегменту рынка и отсортируем по убыванию."
   ]
  },
  {
   "cell_type": "code",
   "execution_count": null,
   "metadata": {},
   "outputs": [],
   "source": [
    "fs.groupby('Segment')['UnitsSold'].min().sort_values(ascending=False)"
   ]
  },
  {
   "cell_type": "markdown",
   "metadata": {
    "id": "m1exbXRwAZjm"
   },
   "source": [
    "### Функция *nunique()*\n",
    "\n",
    "Функция *nunique()* позволяет посчитать количество уникальных значений в серии. Её лучше всего применять к столбцам, в которых хранятся категориальные данные."
   ]
  },
  {
   "cell_type": "code",
   "execution_count": null,
   "metadata": {
    "scrolled": true
   },
   "outputs": [],
   "source": [
    "fs.groupby(\"Country\")[[\"Segment\", \"Product\", \"DiscountBand\"]].nunique()"
   ]
  },
  {
   "cell_type": "markdown",
   "metadata": {},
   "source": [
    "### Функция *count()*\n",
    "\n",
    "Позволяет посчитать количество непустых элементов в группе. Найдём число сделок в каждом сегменте. Число непустых значений будем подсчитывать по столбцу *Id*. Если конкретный столбец явно не указать, то *pandas* выведет на печать все столбцы таблицы."
   ]
  },
  {
   "cell_type": "code",
   "execution_count": null,
   "metadata": {},
   "outputs": [],
   "source": [
    "fs.groupby('Segment')['Id'].count()"
   ]
  },
  {
   "cell_type": "markdown",
   "metadata": {},
   "source": [
    "Аналогичный результат получим с помощью *value_counts()*. Сравните:"
   ]
  },
  {
   "cell_type": "code",
   "execution_count": null,
   "metadata": {},
   "outputs": [],
   "source": [
    "fs['Segment'].value_counts()"
   ]
  },
  {
   "cell_type": "markdown",
   "metadata": {},
   "source": [
    "### Функция *median()*\n",
    "\n",
    "Находит медианное значение. Рассчитаем среднее и медианное значение прибыли по сделкам каждого производителя. Для этого воспользуемся функцией *.agg()*"
   ]
  },
  {
   "cell_type": "code",
   "execution_count": null,
   "metadata": {},
   "outputs": [],
   "source": [
    "fs.groupby('Product')['Profit'].agg(['mean','median'])"
   ]
  },
  {
   "cell_type": "markdown",
   "metadata": {},
   "source": [
    "### Функция *std()*\n",
    "Рассчитывает стандартное отклонение. Найдем среднее, медианное значения и стандартное отклонение себестоимости и прибыли от продажи товара в каждом сегменте."
   ]
  },
  {
   "cell_type": "code",
   "execution_count": null,
   "metadata": {},
   "outputs": [],
   "source": [
    "fs.groupby('Segment')[['COGS', 'Profit']].agg(['mean','median','std'])"
   ]
  },
  {
   "cell_type": "markdown",
   "metadata": {},
   "source": [
    "## Сводные таблицы\n",
    "\n",
    "Что такое \"сводная таблица\" и  чем она отличается от \"плоской\" таблицы? Как правило, значениями плоской таблицы являются атрибуты параметров объектов, расположенных в строках. Названия параметров расположены в столбцах. Например, каждая строка *Financial Sample* является объектом - сделкой по продаже товара. Параметры сделки указаны в столбцах. на пересечении строки и столбца содержится значение параметра для конкретного объекта. \n",
    "\n",
    "Значениями сводной таблицы является результат вычисления агрегирующей функции - сгруппированные данные. При этом показатели, на основе которых происходит объединение данных, расположены в заголовках строк и столбцов.\n",
    "\n",
    "### Функция *pivot_table()*\n",
    "\n",
    "Функция *pivot_table()* позволяет быстро и просто составлять сводные таблицы\n",
    "Согласно документации https://pandas.pydata.org/docs/reference/api/pandas.pivot_table.html \n",
    "\n",
    "```\n",
    "pandas.pivot_table(data, values=None, index=None, columns=None, aggfunc='mean', fill_value=None, margins=False, dropna=True, margins_name='All', observed=False)\n",
    "```\n",
    "\n",
    "параметрами функции являются:\n",
    "\n",
    "- data - исходная таблица с данными\n",
    "- index - строки\n",
    "- columns - столбцы\n",
    "- values - агрегируемый столбец исходной таблицы\n",
    "- aggfunc - функция агрегации\n",
    "- margins - вывод суммирующих строки и столбца (логическое значение)\n",
    "- fill_value - значение, на которое следует заменять пустые значения\n",
    "- dropna - удалять или нет результаты, в которых все значения пустые (логическое)\n",
    "\n",
    "Составим сводную таблицу, в которой отобразим макимальную скидку, предоставленную каждым производителем в каждом сегменте рынка. Расположим названия сегментов по строкам, а производителей по столбцам. В качестве агрегируемого столбца укажем *Discounts* -  столбец, в котором содержится значение скидки. Функция агрегации \"max\"."
   ]
  },
  {
   "cell_type": "code",
   "execution_count": null,
   "metadata": {
    "scrolled": true
   },
   "outputs": [],
   "source": [
    "pd.pivot_table(fs, values='Discounts', index='Segment', columns=['Product'], aggfunc='max')"
   ]
  },
  {
   "cell_type": "markdown",
   "metadata": {},
   "source": [
    "Добавим для производителей уровень группирвки по стране. Для экономии места и большей наглядности ограничимся двумя странами - Германией и Францией."
   ]
  },
  {
   "cell_type": "code",
   "execution_count": null,
   "metadata": {},
   "outputs": [],
   "source": [
    "fs_GF = fs[fs['Country'].isin(['Germany','France'])]"
   ]
  },
  {
   "cell_type": "code",
   "execution_count": null,
   "metadata": {},
   "outputs": [],
   "source": [
    "pd.pivot_table(fs_GF, values='Discounts', \n",
    "               index='Segment', columns=['Country','Product'], aggfunc='max')"
   ]
  },
  {
   "cell_type": "markdown",
   "metadata": {
    "id": "DcAsNsE4RXj3"
   },
   "source": [
    "### Доступ к элементам сводной таблицы\n",
    "\n",
    "Как получить доступ к отдельному столбцу или столбцам? Извлечем из сводной таблицы значение максимальной скидки, предоставленной производителем *Amarilla* для правительственного сегмента Франции. Это число находится в строке *Government* и столбце *France Amarilla*.\n",
    "\n",
    "Присвоим результату вычисления сводной таблицы  имя *pvt* и выполним команду `type(pvt)` чтобы узнать, какого типа этот объект."
   ]
  },
  {
   "cell_type": "code",
   "execution_count": null,
   "metadata": {},
   "outputs": [],
   "source": [
    "pvt=pd.pivot_table(fs_GF, values='Discounts', \n",
    "               index='Segment', columns=['Country','Product'], aggfunc='max')"
   ]
  },
  {
   "cell_type": "code",
   "execution_count": null,
   "metadata": {},
   "outputs": [],
   "source": [
    "type(pvt)"
   ]
  },
  {
   "cell_type": "markdown",
   "metadata": {},
   "source": [
    "*pvt* - таблица *pandas*, значит у нее есть атрибуты *columns* и *index*."
   ]
  },
  {
   "cell_type": "code",
   "execution_count": null,
   "metadata": {},
   "outputs": [],
   "source": [
    "pvt.columns"
   ]
  },
  {
   "cell_type": "code",
   "execution_count": null,
   "metadata": {},
   "outputs": [],
   "source": [
    "pvt.index"
   ]
  },
  {
   "cell_type": "markdown",
   "metadata": {},
   "source": [
    "Тогда применим `.loc[]` для доступа к искомому значению скидки "
   ]
  },
  {
   "cell_type": "code",
   "execution_count": null,
   "metadata": {},
   "outputs": [],
   "source": [
    "pvt.loc['Government', ( 'France',  'Amarilla')]"
   ]
  },
  {
   "cell_type": "markdown",
   "metadata": {
    "id": "C7hrCWw5vatQ"
   },
   "source": [
    "## Консолидация: объединение данных с помощью сводной таблицы\n",
    "\n",
    "Задача.\n",
    "Имеются csv-файлы с информацией об изменении цены акций. \n",
    "\n",
    "\n",
    "\n",
    "1.   [GAZA](https://drive.google.com/file/d/1bw3d01WXw5_N1skmnXwZUHFeT_xTiU1c/view?usp=sharing)\n",
    "2.   [KMAZ](https://drive.google.com/file/d/1JKendyxL4tF4-JrA7DzkHKzgSYjHtVkT/view?usp=sharing)\n",
    "3.   [ROSN](https://drive.google.com/file/d/18ImO_nT9yaghfkLfe3UNkmqfwszZI1Si/view?usp=sharing)\n",
    "\n",
    "*Источник: [finam.ru](https://www.finam.ru/)*\n",
    "\n",
    "Задача. Объединить эти данные в одну таблицу, в строках разместить дату, в столбцах код компании, в ячейках цену акции в соответствующий день."
   ]
  },
  {
   "cell_type": "code",
   "execution_count": null,
   "metadata": {
    "id": "tLEPIQAix8_q"
   },
   "outputs": [],
   "source": [
    "GAZA=pd.read_csv('../Data/t_GAZA_200401_201130.csv',sep=';')\n",
    "KMAZ=pd.read_csv('../Data/t_KMAZ_200401_201130.csv',sep=';')\n",
    "ROSN=pd.read_csv('../Data/t_ROSN_200401_201130.csv',sep=';')"
   ]
  },
  {
   "cell_type": "markdown",
   "metadata": {},
   "source": [
    "Ознакомимся кратко с этими источниками, отобразив первые пять строк."
   ]
  },
  {
   "cell_type": "code",
   "execution_count": null,
   "metadata": {
    "colab": {
     "base_uri": "https://localhost:8080/",
     "height": 206
    },
    "id": "aUn4iV47ylAp",
    "outputId": "570c269b-964e-41dc-dbcb-e8b1780cafb8"
   },
   "outputs": [],
   "source": [
    "GAZA.head()"
   ]
  },
  {
   "cell_type": "code",
   "execution_count": null,
   "metadata": {
    "colab": {
     "base_uri": "https://localhost:8080/",
     "height": 206
    },
    "id": "Y8d-qXfIyXSm",
    "outputId": "9d1c76a9-8a1e-4582-c560-6e85d1dc761e",
    "scrolled": true
   },
   "outputs": [],
   "source": [
    "KMAZ.head()"
   ]
  },
  {
   "cell_type": "code",
   "execution_count": null,
   "metadata": {
    "colab": {
     "base_uri": "https://localhost:8080/",
     "height": 206
    },
    "id": "pqKVs540DW4Q",
    "outputId": "830171c8-1112-45ef-d9f8-9c2fcef08c1d",
    "scrolled": true
   },
   "outputs": [],
   "source": [
    "ROSN.head()"
   ]
  },
  {
   "cell_type": "markdown",
   "metadata": {
    "id": "wrCXLqRxVzOF"
   },
   "source": [
    "Объединение таблиц с помощью <TT>.concat()</tt>"
   ]
  },
  {
   "cell_type": "code",
   "execution_count": null,
   "metadata": {
    "colab": {
     "base_uri": "https://localhost:8080/",
     "height": 423
    },
    "id": "ZxKDOK1D26rS",
    "outputId": "bfbe7125-0b1a-48f4-b653-b451d638f0d9"
   },
   "outputs": [],
   "source": [
    "# \"Объединение\" таблиц проводится с помощью .concat()\n",
    "join=pd.concat([GAZA,KMAZ,ROSN], axis=0)\n",
    "\n",
    "# в объединенной таблице преобразуем дату к типу даты\n",
    "join['<DATE>']=pd.to_datetime(join['<DATE>'],dayfirst=True) \n",
    "\n",
    "# и перестроим индекс\n",
    "join.index=range(len(join)) \n",
    "join"
   ]
  },
  {
   "cell_type": "markdown",
   "metadata": {
    "id": "-IWhvgBxWME2"
   },
   "source": [
    "Проверка по числу строк и столбцов."
   ]
  },
  {
   "cell_type": "code",
   "execution_count": null,
   "metadata": {
    "colab": {
     "base_uri": "https://localhost:8080/"
    },
    "id": "x4LZ_1Dw_c4l",
    "outputId": "375f871b-2e09-4d85-e708-f0ab2e55326a"
   },
   "outputs": [],
   "source": [
    "# Проверка. В объединенной таблице столько же столбцов, сколько в любой из исходных таблиц \n",
    "# и столько строк, сколько в сумме у всех объединяесыъ таблиц.\n",
    "print(GAZA.shape)\n",
    "print(KMAZ.shape)\n",
    "print(ROSN.shape)\n",
    "print(join.shape)"
   ]
  },
  {
   "cell_type": "markdown",
   "metadata": {},
   "source": [
    "Краткая информация об объединенной таблице"
   ]
  },
  {
   "cell_type": "code",
   "execution_count": null,
   "metadata": {
    "colab": {
     "base_uri": "https://localhost:8080/"
    },
    "id": "q_iyXenR75R4",
    "outputId": "8e05ad9b-c292-4bb2-8ce0-401927d76ee9",
    "scrolled": true
   },
   "outputs": [],
   "source": [
    "join.info()"
   ]
  },
  {
   "cell_type": "markdown",
   "metadata": {
    "id": "NsDo40rVTzJz"
   },
   "source": [
    "Создадим сводную таблицу"
   ]
  },
  {
   "cell_type": "code",
   "execution_count": null,
   "metadata": {
    "colab": {
     "base_uri": "https://localhost:8080/",
     "height": 1000
    },
    "id": "-tmW069K7GRM",
    "outputId": "7eebfbfc-451c-493a-904d-746d73b27724"
   },
   "outputs": [],
   "source": [
    "pvt=join.pivot_table(index='<DATE>', columns='<TICKER>', values='<CLOSE>')\n",
    "pvt"
   ]
  },
  {
   "cell_type": "markdown",
   "metadata": {
    "id": "3LI3jbd_UtlP"
   },
   "source": [
    "Проведена консолидация данных: объединенная таблица содержит цену акций из всех трех источников и только в одном столбце момент времени.\n",
    "\n",
    "Проверка. Подсчитаем число строк в консолидированной таблице. Оно совпадает с числом строк в любой из исходных таблиц."
   ]
  },
  {
   "cell_type": "code",
   "execution_count": null,
   "metadata": {
    "colab": {
     "base_uri": "https://localhost:8080/"
    },
    "id": "3VcMSYBRT-LC",
    "outputId": "4faa359c-3315-47cc-bf2e-37b45a4cda81"
   },
   "outputs": [],
   "source": [
    "len(pvt)"
   ]
  },
  {
   "cell_type": "markdown",
   "metadata": {},
   "source": [
    "## Выполните контрольные задания"
   ]
  },
  {
   "cell_type": "markdown",
   "metadata": {},
   "source": [
    "### Исходный набор данных\n",
    "\n",
    "Загрузите в pandas.DataFrame набор данных *ListingAm.csv* и файл *ListingAmDescription.csv* с описанием полей этого набора данных."
   ]
  },
  {
   "cell_type": "code",
   "execution_count": null,
   "metadata": {},
   "outputs": [],
   "source": [
    "# Ваш код здесь\n"
   ]
  },
  {
   "cell_type": "markdown",
   "metadata": {},
   "source": [
    "### Выполните задания\n",
    "1. Найдите среднее число коек в каждом районе Амстердама."
   ]
  },
  {
   "cell_type": "code",
   "execution_count": null,
   "metadata": {},
   "outputs": [],
   "source": [
    "# Ваш код здесь\n"
   ]
  },
  {
   "cell_type": "markdown",
   "metadata": {},
   "source": [
    "2. Найдите среднюю оценку чистоты (качества уборки) помещения для каждого типа собственности."
   ]
  },
  {
   "cell_type": "code",
   "execution_count": null,
   "metadata": {},
   "outputs": [],
   "source": [
    "# Ваш код здесь\n"
   ]
  },
  {
   "cell_type": "markdown",
   "metadata": {},
   "source": [
    "3. Найдите среднюю цену размещения в для каждого типа комнаты в районе *Westerpark*."
   ]
  },
  {
   "cell_type": "code",
   "execution_count": null,
   "metadata": {},
   "outputs": [],
   "source": [
    "# Ваш код здесь\n"
   ]
  },
  {
   "cell_type": "markdown",
   "metadata": {},
   "source": [
    "4. С помощью *groupby()* найдите количество объектов размещения для каждого типа комнаты в *Noord-West*."
   ]
  },
  {
   "cell_type": "code",
   "execution_count": null,
   "metadata": {},
   "outputs": [],
   "source": [
    "# Ваш код здесь\n"
   ]
  },
  {
   "cell_type": "markdown",
   "metadata": {},
   "source": [
    "5. Выполните задание 4 с помощью *.value_counts()*"
   ]
  },
  {
   "cell_type": "code",
   "execution_count": null,
   "metadata": {},
   "outputs": [],
   "source": [
    "# Ваш код здесь\n"
   ]
  },
  {
   "cell_type": "markdown",
   "metadata": {},
   "source": [
    "6. Найдите среднее и медианное значения числа спален и коек в разрезе по типу собственности в *Bos en Lommer*."
   ]
  },
  {
   "cell_type": "code",
   "execution_count": null,
   "metadata": {},
   "outputs": [],
   "source": [
    "# Ваш код здесь\n"
   ]
  },
  {
   "cell_type": "markdown",
   "metadata": {},
   "source": [
    "7. Используя результат предыдущего задания, определите:\n",
    "\n",
    "    а) для каких типов собственности средние и медианные значения числа коек равны?<br>\n",
    "    б) для каких типов собственности медианное значение числа спален превышает среднее значение?"
   ]
  },
  {
   "cell_type": "code",
   "execution_count": null,
   "metadata": {},
   "outputs": [],
   "source": [
    "# Ваш код здесь\n"
   ]
  },
  {
   "cell_type": "markdown",
   "metadata": {},
   "source": [
    "8. С помощью сводной таблицы найдите минимальную цену размещения каждого типа комнаты а каждом районе."
   ]
  },
  {
   "cell_type": "code",
   "execution_count": null,
   "metadata": {},
   "outputs": [],
   "source": [
    "# Ваш код здесь\n"
   ]
  },
  {
   "cell_type": "markdown",
   "metadata": {},
   "source": [
    "9. Какие владельцы владеют пятью и более объектами недвижимости? Распечатайте их идентификаторы  вместе с именами и числом объектов в порядке убывания числа объектов."
   ]
  },
  {
   "cell_type": "code",
   "execution_count": null,
   "metadata": {},
   "outputs": [],
   "source": [
    "# Ваш код здесь\n"
   ]
  },
  {
   "cell_type": "markdown",
   "metadata": {},
   "source": [
    "## Решение"
   ]
  },
  {
   "cell_type": "code",
   "execution_count": 51,
   "metadata": {},
   "outputs": [],
   "source": [
    "am = pd.read_csv('../Data/ListingsAm.csv', sep=';')\n",
    "am_desc = pd.read_csv('../Data/ListingsAmDescription.csv', sep=',')"
   ]
  },
  {
   "cell_type": "code",
   "execution_count": 54,
   "metadata": {},
   "outputs": [
    {
     "data": {
      "text/html": [
       "<div>\n",
       "<style scoped>\n",
       "    .dataframe tbody tr th:only-of-type {\n",
       "        vertical-align: middle;\n",
       "    }\n",
       "\n",
       "    .dataframe tbody tr th {\n",
       "        vertical-align: top;\n",
       "    }\n",
       "\n",
       "    .dataframe thead th {\n",
       "        text-align: right;\n",
       "    }\n",
       "</style>\n",
       "<table border=\"1\" class=\"dataframe\">\n",
       "  <thead>\n",
       "    <tr style=\"text-align: right;\">\n",
       "      <th></th>\n",
       "      <th>id</th>\n",
       "      <th>listing_url</th>\n",
       "      <th>name</th>\n",
       "      <th>host_id</th>\n",
       "      <th>host_name</th>\n",
       "      <th>host_is_superhost</th>\n",
       "      <th>neighbourhood_cleansed</th>\n",
       "      <th>property_type</th>\n",
       "      <th>room_type</th>\n",
       "      <th>bathrooms_text</th>\n",
       "      <th>...</th>\n",
       "      <th>first_review</th>\n",
       "      <th>last_review</th>\n",
       "      <th>review_scores_rating</th>\n",
       "      <th>review_scores_accuracy</th>\n",
       "      <th>review_scores_cleanliness</th>\n",
       "      <th>review_scores_checkin</th>\n",
       "      <th>review_scores_communication</th>\n",
       "      <th>review_scores_location</th>\n",
       "      <th>review_scores_value</th>\n",
       "      <th>reviews_per_month</th>\n",
       "    </tr>\n",
       "  </thead>\n",
       "  <tbody>\n",
       "    <tr>\n",
       "      <th>0</th>\n",
       "      <td>20168</td>\n",
       "      <td>https://www.airbnb.com/rooms/20168</td>\n",
       "      <td>Studio with private bathroom in the centre 1</td>\n",
       "      <td>59484</td>\n",
       "      <td>Alexander</td>\n",
       "      <td>f</td>\n",
       "      <td>Centrum-Oost</td>\n",
       "      <td>Private room in townhouse</td>\n",
       "      <td>Private room</td>\n",
       "      <td>1 private bath</td>\n",
       "      <td>...</td>\n",
       "      <td>2010-03-02</td>\n",
       "      <td>2020-04-09</td>\n",
       "      <td>89</td>\n",
       "      <td>10.0</td>\n",
       "      <td>10.0</td>\n",
       "      <td>10.0</td>\n",
       "      <td>10.0</td>\n",
       "      <td>10.0</td>\n",
       "      <td>9.0</td>\n",
       "      <td>2.58</td>\n",
       "    </tr>\n",
       "    <tr>\n",
       "      <th>1</th>\n",
       "      <td>27886</td>\n",
       "      <td>https://www.airbnb.com/rooms/27886</td>\n",
       "      <td>Romantic, stylish B&amp;B houseboat in canal district</td>\n",
       "      <td>97647</td>\n",
       "      <td>Flip</td>\n",
       "      <td>t</td>\n",
       "      <td>Centrum-West</td>\n",
       "      <td>Private room in houseboat</td>\n",
       "      <td>Private room</td>\n",
       "      <td>1.5 baths</td>\n",
       "      <td>...</td>\n",
       "      <td>2012-01-09</td>\n",
       "      <td>2020-07-25</td>\n",
       "      <td>99</td>\n",
       "      <td>10.0</td>\n",
       "      <td>10.0</td>\n",
       "      <td>10.0</td>\n",
       "      <td>10.0</td>\n",
       "      <td>10.0</td>\n",
       "      <td>10.0</td>\n",
       "      <td>2.01</td>\n",
       "    </tr>\n",
       "    <tr>\n",
       "      <th>2</th>\n",
       "      <td>28871</td>\n",
       "      <td>https://www.airbnb.com/rooms/28871</td>\n",
       "      <td>Comfortable double room</td>\n",
       "      <td>124245</td>\n",
       "      <td>Edwin</td>\n",
       "      <td>t</td>\n",
       "      <td>Centrum-Oost</td>\n",
       "      <td>Private room in apartment</td>\n",
       "      <td>Private room</td>\n",
       "      <td>1 shared bath</td>\n",
       "      <td>...</td>\n",
       "      <td>2010-08-22</td>\n",
       "      <td>2020-09-20</td>\n",
       "      <td>97</td>\n",
       "      <td>10.0</td>\n",
       "      <td>10.0</td>\n",
       "      <td>10.0</td>\n",
       "      <td>10.0</td>\n",
       "      <td>10.0</td>\n",
       "      <td>10.0</td>\n",
       "      <td>2.68</td>\n",
       "    </tr>\n",
       "    <tr>\n",
       "      <th>3</th>\n",
       "      <td>29051</td>\n",
       "      <td>https://www.airbnb.com/rooms/29051</td>\n",
       "      <td>Comfortable single room</td>\n",
       "      <td>124245</td>\n",
       "      <td>Edwin</td>\n",
       "      <td>t</td>\n",
       "      <td>Centrum-Oost</td>\n",
       "      <td>Private room in apartment</td>\n",
       "      <td>Private room</td>\n",
       "      <td>1 shared bath</td>\n",
       "      <td>...</td>\n",
       "      <td>2011-03-16</td>\n",
       "      <td>2020-08-28</td>\n",
       "      <td>95</td>\n",
       "      <td>10.0</td>\n",
       "      <td>10.0</td>\n",
       "      <td>10.0</td>\n",
       "      <td>10.0</td>\n",
       "      <td>10.0</td>\n",
       "      <td>9.0</td>\n",
       "      <td>4.05</td>\n",
       "    </tr>\n",
       "    <tr>\n",
       "      <th>4</th>\n",
       "      <td>31080</td>\n",
       "      <td>https://www.airbnb.com/rooms/31080</td>\n",
       "      <td>2-story apartment + rooftop terrace</td>\n",
       "      <td>133488</td>\n",
       "      <td>Nienke</td>\n",
       "      <td>f</td>\n",
       "      <td>Zuid</td>\n",
       "      <td>Entire apartment</td>\n",
       "      <td>Entire home/apt</td>\n",
       "      <td>1 bath</td>\n",
       "      <td>...</td>\n",
       "      <td>2011-08-06</td>\n",
       "      <td>2017-10-16</td>\n",
       "      <td>95</td>\n",
       "      <td>9.0</td>\n",
       "      <td>10.0</td>\n",
       "      <td>10.0</td>\n",
       "      <td>10.0</td>\n",
       "      <td>9.0</td>\n",
       "      <td>9.0</td>\n",
       "      <td>0.28</td>\n",
       "    </tr>\n",
       "    <tr>\n",
       "      <th>...</th>\n",
       "      <td>...</td>\n",
       "      <td>...</td>\n",
       "      <td>...</td>\n",
       "      <td>...</td>\n",
       "      <td>...</td>\n",
       "      <td>...</td>\n",
       "      <td>...</td>\n",
       "      <td>...</td>\n",
       "      <td>...</td>\n",
       "      <td>...</td>\n",
       "      <td>...</td>\n",
       "      <td>...</td>\n",
       "      <td>...</td>\n",
       "      <td>...</td>\n",
       "      <td>...</td>\n",
       "      <td>...</td>\n",
       "      <td>...</td>\n",
       "      <td>...</td>\n",
       "      <td>...</td>\n",
       "      <td>...</td>\n",
       "      <td>...</td>\n",
       "    </tr>\n",
       "    <tr>\n",
       "      <th>3530</th>\n",
       "      <td>45168887</td>\n",
       "      <td>https://www.airbnb.com/rooms/45168887</td>\n",
       "      <td>The Weber Collection - Luxurieus Design Studio...</td>\n",
       "      <td>178187873</td>\n",
       "      <td>Marcel And Pauline</td>\n",
       "      <td>f</td>\n",
       "      <td>Centrum-Oost</td>\n",
       "      <td>Entire serviced apartment</td>\n",
       "      <td>Entire home/apt</td>\n",
       "      <td>1 bath</td>\n",
       "      <td>...</td>\n",
       "      <td>2020-09-11</td>\n",
       "      <td>2020-11-01</td>\n",
       "      <td>76</td>\n",
       "      <td>7.0</td>\n",
       "      <td>7.0</td>\n",
       "      <td>7.0</td>\n",
       "      <td>8.0</td>\n",
       "      <td>9.0</td>\n",
       "      <td>8.0</td>\n",
       "      <td>1.61</td>\n",
       "    </tr>\n",
       "    <tr>\n",
       "      <th>3531</th>\n",
       "      <td>45169008</td>\n",
       "      <td>https://www.airbnb.com/rooms/45169008</td>\n",
       "      <td>The Weber Collection - Luxurieus Design Studio...</td>\n",
       "      <td>178187873</td>\n",
       "      <td>Marcel And Pauline</td>\n",
       "      <td>f</td>\n",
       "      <td>Centrum-Oost</td>\n",
       "      <td>Entire serviced apartment</td>\n",
       "      <td>Entire home/apt</td>\n",
       "      <td>1 bath</td>\n",
       "      <td>...</td>\n",
       "      <td>2020-09-02</td>\n",
       "      <td>2020-09-28</td>\n",
       "      <td>87</td>\n",
       "      <td>10.0</td>\n",
       "      <td>9.0</td>\n",
       "      <td>10.0</td>\n",
       "      <td>8.0</td>\n",
       "      <td>10.0</td>\n",
       "      <td>10.0</td>\n",
       "      <td>0.88</td>\n",
       "    </tr>\n",
       "    <tr>\n",
       "      <th>3532</th>\n",
       "      <td>45836338</td>\n",
       "      <td>https://www.airbnb.com/rooms/45836338</td>\n",
       "      <td>The Weber Collection - Luxurieus Design Studio...</td>\n",
       "      <td>178187873</td>\n",
       "      <td>Marcel And Pauline</td>\n",
       "      <td>f</td>\n",
       "      <td>Centrum-Oost</td>\n",
       "      <td>Entire apartment</td>\n",
       "      <td>Entire home/apt</td>\n",
       "      <td>1 bath</td>\n",
       "      <td>...</td>\n",
       "      <td>2020-10-18</td>\n",
       "      <td>2020-11-17</td>\n",
       "      <td>70</td>\n",
       "      <td>7.0</td>\n",
       "      <td>8.0</td>\n",
       "      <td>7.0</td>\n",
       "      <td>8.0</td>\n",
       "      <td>9.0</td>\n",
       "      <td>8.0</td>\n",
       "      <td>3.21</td>\n",
       "    </tr>\n",
       "    <tr>\n",
       "      <th>3533</th>\n",
       "      <td>45854688</td>\n",
       "      <td>https://www.airbnb.com/rooms/45854688</td>\n",
       "      <td>The Weber Collection - Luxurieus Design Studio...</td>\n",
       "      <td>178187873</td>\n",
       "      <td>Marcel And Pauline</td>\n",
       "      <td>f</td>\n",
       "      <td>Centrum-Oost</td>\n",
       "      <td>Entire serviced apartment</td>\n",
       "      <td>Entire home/apt</td>\n",
       "      <td>1 bath</td>\n",
       "      <td>...</td>\n",
       "      <td>2020-10-24</td>\n",
       "      <td>2020-11-04</td>\n",
       "      <td>100</td>\n",
       "      <td>10.0</td>\n",
       "      <td>10.0</td>\n",
       "      <td>10.0</td>\n",
       "      <td>9.0</td>\n",
       "      <td>10.0</td>\n",
       "      <td>10.0</td>\n",
       "      <td>1.80</td>\n",
       "    </tr>\n",
       "    <tr>\n",
       "      <th>3534</th>\n",
       "      <td>45854789</td>\n",
       "      <td>https://www.airbnb.com/rooms/45854789</td>\n",
       "      <td>The Weber Collection - Luxurieus Design Studio...</td>\n",
       "      <td>178187873</td>\n",
       "      <td>Marcel And Pauline</td>\n",
       "      <td>f</td>\n",
       "      <td>Centrum-Oost</td>\n",
       "      <td>Entire serviced apartment</td>\n",
       "      <td>Entire home/apt</td>\n",
       "      <td>1 bath</td>\n",
       "      <td>...</td>\n",
       "      <td>2020-10-21</td>\n",
       "      <td>2020-11-16</td>\n",
       "      <td>88</td>\n",
       "      <td>9.0</td>\n",
       "      <td>9.0</td>\n",
       "      <td>9.0</td>\n",
       "      <td>9.0</td>\n",
       "      <td>10.0</td>\n",
       "      <td>9.0</td>\n",
       "      <td>4.53</td>\n",
       "    </tr>\n",
       "  </tbody>\n",
       "</table>\n",
       "<p>3535 rows × 25 columns</p>\n",
       "</div>"
      ],
      "text/plain": [
       "            id                            listing_url  \\\n",
       "0        20168     https://www.airbnb.com/rooms/20168   \n",
       "1        27886     https://www.airbnb.com/rooms/27886   \n",
       "2        28871     https://www.airbnb.com/rooms/28871   \n",
       "3        29051     https://www.airbnb.com/rooms/29051   \n",
       "4        31080     https://www.airbnb.com/rooms/31080   \n",
       "...        ...                                    ...   \n",
       "3530  45168887  https://www.airbnb.com/rooms/45168887   \n",
       "3531  45169008  https://www.airbnb.com/rooms/45169008   \n",
       "3532  45836338  https://www.airbnb.com/rooms/45836338   \n",
       "3533  45854688  https://www.airbnb.com/rooms/45854688   \n",
       "3534  45854789  https://www.airbnb.com/rooms/45854789   \n",
       "\n",
       "                                                   name    host_id  \\\n",
       "0          Studio with private bathroom in the centre 1      59484   \n",
       "1     Romantic, stylish B&B houseboat in canal district      97647   \n",
       "2                               Comfortable double room     124245   \n",
       "3                               Comfortable single room     124245   \n",
       "4                   2-story apartment + rooftop terrace     133488   \n",
       "...                                                 ...        ...   \n",
       "3530  The Weber Collection - Luxurieus Design Studio...  178187873   \n",
       "3531  The Weber Collection - Luxurieus Design Studio...  178187873   \n",
       "3532  The Weber Collection - Luxurieus Design Studio...  178187873   \n",
       "3533  The Weber Collection - Luxurieus Design Studio...  178187873   \n",
       "3534  The Weber Collection - Luxurieus Design Studio...  178187873   \n",
       "\n",
       "               host_name host_is_superhost neighbourhood_cleansed  \\\n",
       "0              Alexander                 f           Centrum-Oost   \n",
       "1                   Flip                 t           Centrum-West   \n",
       "2                  Edwin                 t           Centrum-Oost   \n",
       "3                  Edwin                 t           Centrum-Oost   \n",
       "4                 Nienke                 f                   Zuid   \n",
       "...                  ...               ...                    ...   \n",
       "3530  Marcel And Pauline                 f           Centrum-Oost   \n",
       "3531  Marcel And Pauline                 f           Centrum-Oost   \n",
       "3532  Marcel And Pauline                 f           Centrum-Oost   \n",
       "3533  Marcel And Pauline                 f           Centrum-Oost   \n",
       "3534  Marcel And Pauline                 f           Centrum-Oost   \n",
       "\n",
       "                  property_type        room_type  bathrooms_text  ...  \\\n",
       "0     Private room in townhouse     Private room  1 private bath  ...   \n",
       "1     Private room in houseboat     Private room       1.5 baths  ...   \n",
       "2     Private room in apartment     Private room   1 shared bath  ...   \n",
       "3     Private room in apartment     Private room   1 shared bath  ...   \n",
       "4              Entire apartment  Entire home/apt          1 bath  ...   \n",
       "...                         ...              ...             ...  ...   \n",
       "3530  Entire serviced apartment  Entire home/apt          1 bath  ...   \n",
       "3531  Entire serviced apartment  Entire home/apt          1 bath  ...   \n",
       "3532           Entire apartment  Entire home/apt          1 bath  ...   \n",
       "3533  Entire serviced apartment  Entire home/apt          1 bath  ...   \n",
       "3534  Entire serviced apartment  Entire home/apt          1 bath  ...   \n",
       "\n",
       "      first_review  last_review review_scores_rating  review_scores_accuracy  \\\n",
       "0       2010-03-02   2020-04-09                   89                    10.0   \n",
       "1       2012-01-09   2020-07-25                   99                    10.0   \n",
       "2       2010-08-22   2020-09-20                   97                    10.0   \n",
       "3       2011-03-16   2020-08-28                   95                    10.0   \n",
       "4       2011-08-06   2017-10-16                   95                     9.0   \n",
       "...            ...          ...                  ...                     ...   \n",
       "3530    2020-09-11   2020-11-01                   76                     7.0   \n",
       "3531    2020-09-02   2020-09-28                   87                    10.0   \n",
       "3532    2020-10-18   2020-11-17                   70                     7.0   \n",
       "3533    2020-10-24   2020-11-04                  100                    10.0   \n",
       "3534    2020-10-21   2020-11-16                   88                     9.0   \n",
       "\n",
       "      review_scores_cleanliness review_scores_checkin  \\\n",
       "0                          10.0                  10.0   \n",
       "1                          10.0                  10.0   \n",
       "2                          10.0                  10.0   \n",
       "3                          10.0                  10.0   \n",
       "4                          10.0                  10.0   \n",
       "...                         ...                   ...   \n",
       "3530                        7.0                   7.0   \n",
       "3531                        9.0                  10.0   \n",
       "3532                        8.0                   7.0   \n",
       "3533                       10.0                  10.0   \n",
       "3534                        9.0                   9.0   \n",
       "\n",
       "     review_scores_communication  review_scores_location  review_scores_value  \\\n",
       "0                           10.0                    10.0                  9.0   \n",
       "1                           10.0                    10.0                 10.0   \n",
       "2                           10.0                    10.0                 10.0   \n",
       "3                           10.0                    10.0                  9.0   \n",
       "4                           10.0                     9.0                  9.0   \n",
       "...                          ...                     ...                  ...   \n",
       "3530                         8.0                     9.0                  8.0   \n",
       "3531                         8.0                    10.0                 10.0   \n",
       "3532                         8.0                     9.0                  8.0   \n",
       "3533                         9.0                    10.0                 10.0   \n",
       "3534                         9.0                    10.0                  9.0   \n",
       "\n",
       "      reviews_per_month  \n",
       "0                  2.58  \n",
       "1                  2.01  \n",
       "2                  2.68  \n",
       "3                  4.05  \n",
       "4                  0.28  \n",
       "...                 ...  \n",
       "3530               1.61  \n",
       "3531               0.88  \n",
       "3532               3.21  \n",
       "3533               1.80  \n",
       "3534               4.53  \n",
       "\n",
       "[3535 rows x 25 columns]"
      ]
     },
     "execution_count": 54,
     "metadata": {},
     "output_type": "execute_result"
    }
   ],
   "source": [
    "am"
   ]
  },
  {
   "cell_type": "code",
   "execution_count": 53,
   "metadata": {
    "scrolled": true
   },
   "outputs": [
    {
     "data": {
      "text/html": [
       "<div>\n",
       "<style scoped>\n",
       "    .dataframe tbody tr th:only-of-type {\n",
       "        vertical-align: middle;\n",
       "    }\n",
       "\n",
       "    .dataframe tbody tr th {\n",
       "        vertical-align: top;\n",
       "    }\n",
       "\n",
       "    .dataframe thead th {\n",
       "        text-align: right;\n",
       "    }\n",
       "</style>\n",
       "<table border=\"1\" class=\"dataframe\">\n",
       "  <thead>\n",
       "    <tr style=\"text-align: right;\">\n",
       "      <th></th>\n",
       "      <th>Атрибут</th>\n",
       "      <th>Значение</th>\n",
       "    </tr>\n",
       "  </thead>\n",
       "  <tbody>\n",
       "    <tr>\n",
       "      <th>0</th>\n",
       "      <td>id</td>\n",
       "      <td>идентификатор размещения</td>\n",
       "    </tr>\n",
       "    <tr>\n",
       "      <th>1</th>\n",
       "      <td>listing_url</td>\n",
       "      <td>адрес веб-страницы</td>\n",
       "    </tr>\n",
       "    <tr>\n",
       "      <th>2</th>\n",
       "      <td>name</td>\n",
       "      <td>название размещения</td>\n",
       "    </tr>\n",
       "    <tr>\n",
       "      <th>3</th>\n",
       "      <td>host_id</td>\n",
       "      <td>идентификатор владельца</td>\n",
       "    </tr>\n",
       "    <tr>\n",
       "      <th>4</th>\n",
       "      <td>host_name</td>\n",
       "      <td>имя владельца</td>\n",
       "    </tr>\n",
       "    <tr>\n",
       "      <th>5</th>\n",
       "      <td>host_is_superhost</td>\n",
       "      <td>супервладелец</td>\n",
       "    </tr>\n",
       "    <tr>\n",
       "      <th>6</th>\n",
       "      <td>neighbourhood_cleansed</td>\n",
       "      <td>местоположение</td>\n",
       "    </tr>\n",
       "    <tr>\n",
       "      <th>7</th>\n",
       "      <td>property_type</td>\n",
       "      <td>тип собственности</td>\n",
       "    </tr>\n",
       "    <tr>\n",
       "      <th>8</th>\n",
       "      <td>room_type</td>\n",
       "      <td>тип комнаты</td>\n",
       "    </tr>\n",
       "    <tr>\n",
       "      <th>9</th>\n",
       "      <td>bathrooms_text</td>\n",
       "      <td>текстовое описание ванной</td>\n",
       "    </tr>\n",
       "    <tr>\n",
       "      <th>10</th>\n",
       "      <td>bedrooms</td>\n",
       "      <td>спален</td>\n",
       "    </tr>\n",
       "    <tr>\n",
       "      <th>11</th>\n",
       "      <td>beds</td>\n",
       "      <td>коек</td>\n",
       "    </tr>\n",
       "    <tr>\n",
       "      <th>12</th>\n",
       "      <td>amenities</td>\n",
       "      <td>удобства</td>\n",
       "    </tr>\n",
       "    <tr>\n",
       "      <th>13</th>\n",
       "      <td>price</td>\n",
       "      <td>цена</td>\n",
       "    </tr>\n",
       "    <tr>\n",
       "      <th>14</th>\n",
       "      <td>number_of_reviews</td>\n",
       "      <td>число обзоров</td>\n",
       "    </tr>\n",
       "    <tr>\n",
       "      <th>15</th>\n",
       "      <td>first_review</td>\n",
       "      <td>дата первого обзора</td>\n",
       "    </tr>\n",
       "    <tr>\n",
       "      <th>16</th>\n",
       "      <td>last_review</td>\n",
       "      <td>дата последнего обзора</td>\n",
       "    </tr>\n",
       "    <tr>\n",
       "      <th>17</th>\n",
       "      <td>review_scores_rating</td>\n",
       "      <td>рейтинг размещения</td>\n",
       "    </tr>\n",
       "    <tr>\n",
       "      <th>18</th>\n",
       "      <td>review_scores_accuracy</td>\n",
       "      <td>оценка аккуратности</td>\n",
       "    </tr>\n",
       "    <tr>\n",
       "      <th>19</th>\n",
       "      <td>review_scores_cleanliness</td>\n",
       "      <td>оценка чистоты помещения</td>\n",
       "    </tr>\n",
       "    <tr>\n",
       "      <th>20</th>\n",
       "      <td>review_scores_checkin</td>\n",
       "      <td>оценка процедуры заселения</td>\n",
       "    </tr>\n",
       "    <tr>\n",
       "      <th>21</th>\n",
       "      <td>review_scores_communication</td>\n",
       "      <td>оценка наличия и работы средств связи</td>\n",
       "    </tr>\n",
       "    <tr>\n",
       "      <th>22</th>\n",
       "      <td>review_scores_location</td>\n",
       "      <td>оценка местоположения</td>\n",
       "    </tr>\n",
       "    <tr>\n",
       "      <th>23</th>\n",
       "      <td>review_scores_value</td>\n",
       "      <td>оценка по отзывам</td>\n",
       "    </tr>\n",
       "    <tr>\n",
       "      <th>24</th>\n",
       "      <td>reviews_per_month</td>\n",
       "      <td>оценок в месяц</td>\n",
       "    </tr>\n",
       "  </tbody>\n",
       "</table>\n",
       "</div>"
      ],
      "text/plain": [
       "                        Атрибут                               Значение\n",
       "0                            id               идентификатор размещения\n",
       "1                   listing_url                     адрес веб-страницы\n",
       "2                          name                    название размещения\n",
       "3                       host_id                идентификатор владельца\n",
       "4                     host_name                          имя владельца\n",
       "5             host_is_superhost                          супервладелец\n",
       "6        neighbourhood_cleansed                         местоположение\n",
       "7                 property_type                      тип собственности\n",
       "8                     room_type                            тип комнаты\n",
       "9                bathrooms_text              текстовое описание ванной\n",
       "10                     bedrooms                                 спален\n",
       "11                         beds                                   коек\n",
       "12                    amenities                               удобства\n",
       "13                        price                                   цена\n",
       "14            number_of_reviews                          число обзоров\n",
       "15                 first_review                    дата первого обзора\n",
       "16                  last_review                 дата последнего обзора\n",
       "17         review_scores_rating                     рейтинг размещения\n",
       "18       review_scores_accuracy                    оценка аккуратности\n",
       "19    review_scores_cleanliness               оценка чистоты помещения\n",
       "20        review_scores_checkin             оценка процедуры заселения\n",
       "21  review_scores_communication  оценка наличия и работы средств связи\n",
       "22       review_scores_location                  оценка местоположения\n",
       "23          review_scores_value                      оценка по отзывам\n",
       "24            reviews_per_month                         оценок в месяц"
      ]
     },
     "execution_count": 53,
     "metadata": {},
     "output_type": "execute_result"
    }
   ],
   "source": [
    "am_desc"
   ]
  },
  {
   "cell_type": "code",
   "execution_count": 55,
   "metadata": {},
   "outputs": [
    {
     "data": {
      "text/plain": [
       "neighbourhood_cleansed\n",
       "Bijlmer-Centrum                           2.000000\n",
       "Bos en Lommer                             1.497487\n",
       "Buitenveldert - Zuidas                    2.108108\n",
       "Centrum-Oost                              1.752874\n",
       "Centrum-West                              1.814583\n",
       "De Aker - Nieuw Sloten                    1.888889\n",
       "De Baarsjes - Oud-West                    1.627512\n",
       "De Pijp - Rivierenbuurt                   1.686275\n",
       "Geuzenveld - Slotermeer                   1.750000\n",
       "IJburg - Zeeburgereiland                  2.975000\n",
       "Noord-Oost                                2.230769\n",
       "Noord-West                                2.106667\n",
       "Oostelijk Havengebied - Indische Buurt    1.767123\n",
       "Osdorp                                    1.526316\n",
       "Oud-Noord                                 2.747967\n",
       "Oud-Oost                                  1.560748\n",
       "Slotervaart                               1.712329\n",
       "Watergraafsmeer                           2.142857\n",
       "Westerpark                                1.555985\n",
       "Zuid                                      1.989362\n",
       "Name: beds, dtype: float64"
      ]
     },
     "execution_count": 55,
     "metadata": {},
     "output_type": "execute_result"
    }
   ],
   "source": [
    "#1\n",
    "\n",
    "am.groupby('neighbourhood_cleansed')['beds'].mean()"
   ]
  },
  {
   "cell_type": "code",
   "execution_count": 56,
   "metadata": {},
   "outputs": [
    {
     "data": {
      "text/plain": [
       "property_type\n",
       "Boat                                   9.611111\n",
       "Entire apartment                       9.511542\n",
       "Entire bed and breakfast              10.000000\n",
       "Entire condominium                     9.553191\n",
       "Entire cottage                        10.000000\n",
       "Entire guest suite                     9.571429\n",
       "Entire guesthouse                     10.000000\n",
       "Entire house                           9.465241\n",
       "Entire loft                            9.476923\n",
       "Entire place                           9.500000\n",
       "Entire serviced apartment              9.285714\n",
       "Entire townhouse                       9.561905\n",
       "Entire villa                           9.500000\n",
       "Houseboat                              9.543478\n",
       "Private room                          10.000000\n",
       "Private room in apartment              9.491841\n",
       "Private room in bed and breakfast      9.474227\n",
       "Private room in boat                   9.666667\n",
       "Private room in bungalow              10.000000\n",
       "Private room in cabin                  9.000000\n",
       "Private room in condominium            9.461538\n",
       "Private room in guest suite            9.868421\n",
       "Private room in guesthouse            10.000000\n",
       "Private room in hostel                 8.000000\n",
       "Private room in house                  9.527778\n",
       "Private room in houseboat              9.714286\n",
       "Private room in island                 9.000000\n",
       "Private room in loft                   9.545455\n",
       "Private room in serviced apartment    10.000000\n",
       "Private room in tiny house            10.000000\n",
       "Private room in townhouse              9.600000\n",
       "Private room in villa                 10.000000\n",
       "Room in aparthotel                    10.000000\n",
       "Room in bed and breakfast              9.750000\n",
       "Room in boutique hotel                 9.272727\n",
       "Room in hostel                         9.000000\n",
       "Room in hotel                          9.357143\n",
       "Room in serviced apartment             9.642857\n",
       "Shared room in apartment               9.833333\n",
       "Shared room in hostel                  9.400000\n",
       "Shared room in house                  10.000000\n",
       "Tiny house                             9.000000\n",
       "Name: review_scores_cleanliness, dtype: float64"
      ]
     },
     "execution_count": 56,
     "metadata": {},
     "output_type": "execute_result"
    }
   ],
   "source": [
    "#2\n",
    "\n",
    "am.groupby('property_type')['review_scores_cleanliness'].mean()"
   ]
  },
  {
   "cell_type": "code",
   "execution_count": 57,
   "metadata": {},
   "outputs": [
    {
     "data": {
      "text/plain": [
       "room_type\n",
       "Entire home/apt    155.139013\n",
       "Hotel room         157.000000\n",
       "Private room        84.666667\n",
       "Name: price, dtype: float64"
      ]
     },
     "execution_count": 57,
     "metadata": {},
     "output_type": "execute_result"
    }
   ],
   "source": [
    "#3\n",
    "\n",
    "am[am['neighbourhood_cleansed']=='Westerpark'].groupby('room_type')['price'].mean()"
   ]
  },
  {
   "cell_type": "code",
   "execution_count": 58,
   "metadata": {},
   "outputs": [
    {
     "data": {
      "text/plain": [
       "room_type\n",
       "Entire home/apt    45\n",
       "Hotel room          1\n",
       "Private room       28\n",
       "Shared room         1\n",
       "Name: id, dtype: int64"
      ]
     },
     "execution_count": 58,
     "metadata": {},
     "output_type": "execute_result"
    }
   ],
   "source": [
    "#4\n",
    "\n",
    "am[am['neighbourhood_cleansed']=='Noord-West'].groupby('room_type')['id'].count()"
   ]
  },
  {
   "cell_type": "code",
   "execution_count": 59,
   "metadata": {},
   "outputs": [
    {
     "data": {
      "text/plain": [
       "Entire home/apt    45\n",
       "Private room       28\n",
       "Shared room         1\n",
       "Hotel room          1\n",
       "Name: room_type, dtype: int64"
      ]
     },
     "execution_count": 59,
     "metadata": {},
     "output_type": "execute_result"
    }
   ],
   "source": [
    "#5\n",
    "\n",
    "am[am['neighbourhood_cleansed']=='Noord-West']['room_type'].value_counts()"
   ]
  },
  {
   "cell_type": "code",
   "execution_count": 60,
   "metadata": {
    "scrolled": false
   },
   "outputs": [
    {
     "data": {
      "text/html": [
       "<div>\n",
       "<style scoped>\n",
       "    .dataframe tbody tr th:only-of-type {\n",
       "        vertical-align: middle;\n",
       "    }\n",
       "\n",
       "    .dataframe tbody tr th {\n",
       "        vertical-align: top;\n",
       "    }\n",
       "\n",
       "    .dataframe thead tr th {\n",
       "        text-align: left;\n",
       "    }\n",
       "\n",
       "    .dataframe thead tr:last-of-type th {\n",
       "        text-align: right;\n",
       "    }\n",
       "</style>\n",
       "<table border=\"1\" class=\"dataframe\">\n",
       "  <thead>\n",
       "    <tr>\n",
       "      <th></th>\n",
       "      <th colspan=\"2\" halign=\"left\">bedrooms</th>\n",
       "      <th colspan=\"2\" halign=\"left\">beds</th>\n",
       "    </tr>\n",
       "    <tr>\n",
       "      <th></th>\n",
       "      <th>mean</th>\n",
       "      <th>median</th>\n",
       "      <th>mean</th>\n",
       "      <th>median</th>\n",
       "    </tr>\n",
       "    <tr>\n",
       "      <th>property_type</th>\n",
       "      <th></th>\n",
       "      <th></th>\n",
       "      <th></th>\n",
       "      <th></th>\n",
       "    </tr>\n",
       "  </thead>\n",
       "  <tbody>\n",
       "    <tr>\n",
       "      <th>Entire apartment</th>\n",
       "      <td>1.391026</td>\n",
       "      <td>1.0</td>\n",
       "      <td>1.484472</td>\n",
       "      <td>1.0</td>\n",
       "    </tr>\n",
       "    <tr>\n",
       "      <th>Entire condominium</th>\n",
       "      <td>1.000000</td>\n",
       "      <td>1.0</td>\n",
       "      <td>1.000000</td>\n",
       "      <td>1.0</td>\n",
       "    </tr>\n",
       "    <tr>\n",
       "      <th>Entire house</th>\n",
       "      <td>1.800000</td>\n",
       "      <td>2.0</td>\n",
       "      <td>2.200000</td>\n",
       "      <td>2.0</td>\n",
       "    </tr>\n",
       "    <tr>\n",
       "      <th>Entire loft</th>\n",
       "      <td>2.000000</td>\n",
       "      <td>2.0</td>\n",
       "      <td>2.000000</td>\n",
       "      <td>2.0</td>\n",
       "    </tr>\n",
       "    <tr>\n",
       "      <th>Entire townhouse</th>\n",
       "      <td>3.000000</td>\n",
       "      <td>3.0</td>\n",
       "      <td>3.000000</td>\n",
       "      <td>3.0</td>\n",
       "    </tr>\n",
       "    <tr>\n",
       "      <th>Houseboat</th>\n",
       "      <td>1.000000</td>\n",
       "      <td>1.0</td>\n",
       "      <td>2.000000</td>\n",
       "      <td>2.0</td>\n",
       "    </tr>\n",
       "    <tr>\n",
       "      <th>Private room in apartment</th>\n",
       "      <td>1.076923</td>\n",
       "      <td>1.0</td>\n",
       "      <td>1.269231</td>\n",
       "      <td>1.0</td>\n",
       "    </tr>\n",
       "    <tr>\n",
       "      <th>Private room in bed and breakfast</th>\n",
       "      <td>1.000000</td>\n",
       "      <td>1.0</td>\n",
       "      <td>3.000000</td>\n",
       "      <td>3.0</td>\n",
       "    </tr>\n",
       "    <tr>\n",
       "      <th>Private room in guest suite</th>\n",
       "      <td>1.000000</td>\n",
       "      <td>1.0</td>\n",
       "      <td>1.000000</td>\n",
       "      <td>1.0</td>\n",
       "    </tr>\n",
       "  </tbody>\n",
       "</table>\n",
       "</div>"
      ],
      "text/plain": [
       "                                   bedrooms             beds       \n",
       "                                       mean median      mean median\n",
       "property_type                                                      \n",
       "Entire apartment                   1.391026    1.0  1.484472    1.0\n",
       "Entire condominium                 1.000000    1.0  1.000000    1.0\n",
       "Entire house                       1.800000    2.0  2.200000    2.0\n",
       "Entire loft                        2.000000    2.0  2.000000    2.0\n",
       "Entire townhouse                   3.000000    3.0  3.000000    3.0\n",
       "Houseboat                          1.000000    1.0  2.000000    2.0\n",
       "Private room in apartment          1.076923    1.0  1.269231    1.0\n",
       "Private room in bed and breakfast  1.000000    1.0  3.000000    3.0\n",
       "Private room in guest suite        1.000000    1.0  1.000000    1.0"
      ]
     },
     "execution_count": 60,
     "metadata": {},
     "output_type": "execute_result"
    }
   ],
   "source": [
    "#6\n",
    "\n",
    "BB = am[am['neighbourhood_cleansed']=='Bos en Lommer'].groupby('property_type')[['bedrooms','beds']].agg(['mean','median'])\n",
    "BB"
   ]
  },
  {
   "cell_type": "code",
   "execution_count": 61,
   "metadata": {},
   "outputs": [
    {
     "data": {
      "text/html": [
       "<div>\n",
       "<style scoped>\n",
       "    .dataframe tbody tr th:only-of-type {\n",
       "        vertical-align: middle;\n",
       "    }\n",
       "\n",
       "    .dataframe tbody tr th {\n",
       "        vertical-align: top;\n",
       "    }\n",
       "\n",
       "    .dataframe thead tr th {\n",
       "        text-align: left;\n",
       "    }\n",
       "\n",
       "    .dataframe thead tr:last-of-type th {\n",
       "        text-align: right;\n",
       "    }\n",
       "</style>\n",
       "<table border=\"1\" class=\"dataframe\">\n",
       "  <thead>\n",
       "    <tr>\n",
       "      <th></th>\n",
       "      <th colspan=\"2\" halign=\"left\">bedrooms</th>\n",
       "      <th colspan=\"2\" halign=\"left\">beds</th>\n",
       "    </tr>\n",
       "    <tr>\n",
       "      <th></th>\n",
       "      <th>mean</th>\n",
       "      <th>median</th>\n",
       "      <th>mean</th>\n",
       "      <th>median</th>\n",
       "    </tr>\n",
       "    <tr>\n",
       "      <th>property_type</th>\n",
       "      <th></th>\n",
       "      <th></th>\n",
       "      <th></th>\n",
       "      <th></th>\n",
       "    </tr>\n",
       "  </thead>\n",
       "  <tbody>\n",
       "    <tr>\n",
       "      <th>Entire condominium</th>\n",
       "      <td>1.0</td>\n",
       "      <td>1.0</td>\n",
       "      <td>1.0</td>\n",
       "      <td>1.0</td>\n",
       "    </tr>\n",
       "    <tr>\n",
       "      <th>Entire loft</th>\n",
       "      <td>2.0</td>\n",
       "      <td>2.0</td>\n",
       "      <td>2.0</td>\n",
       "      <td>2.0</td>\n",
       "    </tr>\n",
       "    <tr>\n",
       "      <th>Entire townhouse</th>\n",
       "      <td>3.0</td>\n",
       "      <td>3.0</td>\n",
       "      <td>3.0</td>\n",
       "      <td>3.0</td>\n",
       "    </tr>\n",
       "    <tr>\n",
       "      <th>Houseboat</th>\n",
       "      <td>1.0</td>\n",
       "      <td>1.0</td>\n",
       "      <td>2.0</td>\n",
       "      <td>2.0</td>\n",
       "    </tr>\n",
       "    <tr>\n",
       "      <th>Private room in bed and breakfast</th>\n",
       "      <td>1.0</td>\n",
       "      <td>1.0</td>\n",
       "      <td>3.0</td>\n",
       "      <td>3.0</td>\n",
       "    </tr>\n",
       "    <tr>\n",
       "      <th>Private room in guest suite</th>\n",
       "      <td>1.0</td>\n",
       "      <td>1.0</td>\n",
       "      <td>1.0</td>\n",
       "      <td>1.0</td>\n",
       "    </tr>\n",
       "  </tbody>\n",
       "</table>\n",
       "</div>"
      ],
      "text/plain": [
       "                                  bedrooms        beds       \n",
       "                                      mean median mean median\n",
       "property_type                                                \n",
       "Entire condominium                     1.0    1.0  1.0    1.0\n",
       "Entire loft                            2.0    2.0  2.0    2.0\n",
       "Entire townhouse                       3.0    3.0  3.0    3.0\n",
       "Houseboat                              1.0    1.0  2.0    2.0\n",
       "Private room in bed and breakfast      1.0    1.0  3.0    3.0\n",
       "Private room in guest suite            1.0    1.0  1.0    1.0"
      ]
     },
     "execution_count": 61,
     "metadata": {},
     "output_type": "execute_result"
    }
   ],
   "source": [
    "#7а\n",
    "\n",
    "BB[BB[('beds', 'mean')]==BB[('beds', 'median')]]"
   ]
  },
  {
   "cell_type": "code",
   "execution_count": 62,
   "metadata": {},
   "outputs": [
    {
     "data": {
      "text/html": [
       "<div>\n",
       "<style scoped>\n",
       "    .dataframe tbody tr th:only-of-type {\n",
       "        vertical-align: middle;\n",
       "    }\n",
       "\n",
       "    .dataframe tbody tr th {\n",
       "        vertical-align: top;\n",
       "    }\n",
       "\n",
       "    .dataframe thead tr th {\n",
       "        text-align: left;\n",
       "    }\n",
       "\n",
       "    .dataframe thead tr:last-of-type th {\n",
       "        text-align: right;\n",
       "    }\n",
       "</style>\n",
       "<table border=\"1\" class=\"dataframe\">\n",
       "  <thead>\n",
       "    <tr>\n",
       "      <th></th>\n",
       "      <th colspan=\"2\" halign=\"left\">bedrooms</th>\n",
       "      <th colspan=\"2\" halign=\"left\">beds</th>\n",
       "    </tr>\n",
       "    <tr>\n",
       "      <th></th>\n",
       "      <th>mean</th>\n",
       "      <th>median</th>\n",
       "      <th>mean</th>\n",
       "      <th>median</th>\n",
       "    </tr>\n",
       "    <tr>\n",
       "      <th>property_type</th>\n",
       "      <th></th>\n",
       "      <th></th>\n",
       "      <th></th>\n",
       "      <th></th>\n",
       "    </tr>\n",
       "  </thead>\n",
       "  <tbody>\n",
       "    <tr>\n",
       "      <th>Entire house</th>\n",
       "      <td>1.8</td>\n",
       "      <td>2.0</td>\n",
       "      <td>2.2</td>\n",
       "      <td>2.0</td>\n",
       "    </tr>\n",
       "  </tbody>\n",
       "</table>\n",
       "</div>"
      ],
      "text/plain": [
       "              bedrooms        beds       \n",
       "                  mean median mean median\n",
       "property_type                            \n",
       "Entire house       1.8    2.0  2.2    2.0"
      ]
     },
     "execution_count": 62,
     "metadata": {},
     "output_type": "execute_result"
    }
   ],
   "source": [
    "#7б\n",
    "\n",
    "BB[BB[('bedrooms', 'median')]>BB[('bedrooms', 'mean')]]"
   ]
  },
  {
   "cell_type": "code",
   "execution_count": 63,
   "metadata": {
    "scrolled": true
   },
   "outputs": [
    {
     "data": {
      "text/html": [
       "<div>\n",
       "<style scoped>\n",
       "    .dataframe tbody tr th:only-of-type {\n",
       "        vertical-align: middle;\n",
       "    }\n",
       "\n",
       "    .dataframe tbody tr th {\n",
       "        vertical-align: top;\n",
       "    }\n",
       "\n",
       "    .dataframe thead th {\n",
       "        text-align: right;\n",
       "    }\n",
       "</style>\n",
       "<table border=\"1\" class=\"dataframe\">\n",
       "  <thead>\n",
       "    <tr style=\"text-align: right;\">\n",
       "      <th>room_type</th>\n",
       "      <th>Entire home/apt</th>\n",
       "      <th>Hotel room</th>\n",
       "      <th>Private room</th>\n",
       "      <th>Shared room</th>\n",
       "    </tr>\n",
       "    <tr>\n",
       "      <th>neighbourhood_cleansed</th>\n",
       "      <th></th>\n",
       "      <th></th>\n",
       "      <th></th>\n",
       "      <th></th>\n",
       "    </tr>\n",
       "  </thead>\n",
       "  <tbody>\n",
       "    <tr>\n",
       "      <th>Bijlmer-Centrum</th>\n",
       "      <td>78.0</td>\n",
       "      <td>NaN</td>\n",
       "      <td>NaN</td>\n",
       "      <td>NaN</td>\n",
       "    </tr>\n",
       "    <tr>\n",
       "      <th>Bos en Lommer</th>\n",
       "      <td>37.0</td>\n",
       "      <td>NaN</td>\n",
       "      <td>28.0</td>\n",
       "      <td>NaN</td>\n",
       "    </tr>\n",
       "    <tr>\n",
       "      <th>Buitenveldert - Zuidas</th>\n",
       "      <td>74.0</td>\n",
       "      <td>NaN</td>\n",
       "      <td>45.0</td>\n",
       "      <td>NaN</td>\n",
       "    </tr>\n",
       "    <tr>\n",
       "      <th>Centrum-Oost</th>\n",
       "      <td>56.0</td>\n",
       "      <td>96.0</td>\n",
       "      <td>22.0</td>\n",
       "      <td>NaN</td>\n",
       "    </tr>\n",
       "    <tr>\n",
       "      <th>Centrum-West</th>\n",
       "      <td>51.0</td>\n",
       "      <td>46.0</td>\n",
       "      <td>38.0</td>\n",
       "      <td>35.0</td>\n",
       "    </tr>\n",
       "    <tr>\n",
       "      <th>De Aker - Nieuw Sloten</th>\n",
       "      <td>65.0</td>\n",
       "      <td>NaN</td>\n",
       "      <td>29.0</td>\n",
       "      <td>NaN</td>\n",
       "    </tr>\n",
       "    <tr>\n",
       "      <th>De Baarsjes - Oud-West</th>\n",
       "      <td>40.0</td>\n",
       "      <td>41.0</td>\n",
       "      <td>19.0</td>\n",
       "      <td>51.0</td>\n",
       "    </tr>\n",
       "    <tr>\n",
       "      <th>De Pijp - Rivierenbuurt</th>\n",
       "      <td>35.0</td>\n",
       "      <td>55.0</td>\n",
       "      <td>26.0</td>\n",
       "      <td>45.0</td>\n",
       "    </tr>\n",
       "    <tr>\n",
       "      <th>Geuzenveld - Slotermeer</th>\n",
       "      <td>79.0</td>\n",
       "      <td>NaN</td>\n",
       "      <td>25.0</td>\n",
       "      <td>60.0</td>\n",
       "    </tr>\n",
       "    <tr>\n",
       "      <th>IJburg - Zeeburgereiland</th>\n",
       "      <td>55.0</td>\n",
       "      <td>NaN</td>\n",
       "      <td>29.0</td>\n",
       "      <td>NaN</td>\n",
       "    </tr>\n",
       "    <tr>\n",
       "      <th>Noord-Oost</th>\n",
       "      <td>35.0</td>\n",
       "      <td>NaN</td>\n",
       "      <td>29.0</td>\n",
       "      <td>NaN</td>\n",
       "    </tr>\n",
       "    <tr>\n",
       "      <th>Noord-West</th>\n",
       "      <td>60.0</td>\n",
       "      <td>147.0</td>\n",
       "      <td>30.0</td>\n",
       "      <td>112.0</td>\n",
       "    </tr>\n",
       "    <tr>\n",
       "      <th>Oostelijk Havengebied - Indische Buurt</th>\n",
       "      <td>49.0</td>\n",
       "      <td>NaN</td>\n",
       "      <td>40.0</td>\n",
       "      <td>NaN</td>\n",
       "    </tr>\n",
       "    <tr>\n",
       "      <th>Osdorp</th>\n",
       "      <td>70.0</td>\n",
       "      <td>NaN</td>\n",
       "      <td>25.0</td>\n",
       "      <td>NaN</td>\n",
       "    </tr>\n",
       "    <tr>\n",
       "      <th>Oud-Noord</th>\n",
       "      <td>67.0</td>\n",
       "      <td>602.0</td>\n",
       "      <td>28.0</td>\n",
       "      <td>NaN</td>\n",
       "    </tr>\n",
       "    <tr>\n",
       "      <th>Oud-Oost</th>\n",
       "      <td>50.0</td>\n",
       "      <td>80.0</td>\n",
       "      <td>40.0</td>\n",
       "      <td>20.0</td>\n",
       "    </tr>\n",
       "    <tr>\n",
       "      <th>Slotervaart</th>\n",
       "      <td>60.0</td>\n",
       "      <td>NaN</td>\n",
       "      <td>20.0</td>\n",
       "      <td>NaN</td>\n",
       "    </tr>\n",
       "    <tr>\n",
       "      <th>Watergraafsmeer</th>\n",
       "      <td>45.0</td>\n",
       "      <td>166.0</td>\n",
       "      <td>40.0</td>\n",
       "      <td>NaN</td>\n",
       "    </tr>\n",
       "    <tr>\n",
       "      <th>Westerpark</th>\n",
       "      <td>59.0</td>\n",
       "      <td>146.0</td>\n",
       "      <td>12.0</td>\n",
       "      <td>NaN</td>\n",
       "    </tr>\n",
       "    <tr>\n",
       "      <th>Zuid</th>\n",
       "      <td>56.0</td>\n",
       "      <td>45.0</td>\n",
       "      <td>35.0</td>\n",
       "      <td>NaN</td>\n",
       "    </tr>\n",
       "  </tbody>\n",
       "</table>\n",
       "</div>"
      ],
      "text/plain": [
       "room_type                               Entire home/apt  Hotel room  \\\n",
       "neighbourhood_cleansed                                                \n",
       "Bijlmer-Centrum                                    78.0         NaN   \n",
       "Bos en Lommer                                      37.0         NaN   \n",
       "Buitenveldert - Zuidas                             74.0         NaN   \n",
       "Centrum-Oost                                       56.0        96.0   \n",
       "Centrum-West                                       51.0        46.0   \n",
       "De Aker - Nieuw Sloten                             65.0         NaN   \n",
       "De Baarsjes - Oud-West                             40.0        41.0   \n",
       "De Pijp - Rivierenbuurt                            35.0        55.0   \n",
       "Geuzenveld - Slotermeer                            79.0         NaN   \n",
       "IJburg - Zeeburgereiland                           55.0         NaN   \n",
       "Noord-Oost                                         35.0         NaN   \n",
       "Noord-West                                         60.0       147.0   \n",
       "Oostelijk Havengebied - Indische Buurt             49.0         NaN   \n",
       "Osdorp                                             70.0         NaN   \n",
       "Oud-Noord                                          67.0       602.0   \n",
       "Oud-Oost                                           50.0        80.0   \n",
       "Slotervaart                                        60.0         NaN   \n",
       "Watergraafsmeer                                    45.0       166.0   \n",
       "Westerpark                                         59.0       146.0   \n",
       "Zuid                                               56.0        45.0   \n",
       "\n",
       "room_type                               Private room  Shared room  \n",
       "neighbourhood_cleansed                                             \n",
       "Bijlmer-Centrum                                  NaN          NaN  \n",
       "Bos en Lommer                                   28.0          NaN  \n",
       "Buitenveldert - Zuidas                          45.0          NaN  \n",
       "Centrum-Oost                                    22.0          NaN  \n",
       "Centrum-West                                    38.0         35.0  \n",
       "De Aker - Nieuw Sloten                          29.0          NaN  \n",
       "De Baarsjes - Oud-West                          19.0         51.0  \n",
       "De Pijp - Rivierenbuurt                         26.0         45.0  \n",
       "Geuzenveld - Slotermeer                         25.0         60.0  \n",
       "IJburg - Zeeburgereiland                        29.0          NaN  \n",
       "Noord-Oost                                      29.0          NaN  \n",
       "Noord-West                                      30.0        112.0  \n",
       "Oostelijk Havengebied - Indische Buurt          40.0          NaN  \n",
       "Osdorp                                          25.0          NaN  \n",
       "Oud-Noord                                       28.0          NaN  \n",
       "Oud-Oost                                        40.0         20.0  \n",
       "Slotervaart                                     20.0          NaN  \n",
       "Watergraafsmeer                                 40.0          NaN  \n",
       "Westerpark                                      12.0          NaN  \n",
       "Zuid                                            35.0          NaN  "
      ]
     },
     "execution_count": 63,
     "metadata": {},
     "output_type": "execute_result"
    }
   ],
   "source": [
    "#8\n",
    "\n",
    "pvt=pd.pivot_table(am, values='price', \n",
    "                   index='neighbourhood_cleansed', columns='room_type', aggfunc='min')\n",
    "pvt"
   ]
  },
  {
   "cell_type": "code",
   "execution_count": 64,
   "metadata": {},
   "outputs": [
    {
     "data": {
      "text/plain": [
       "host_id    host_name                     \n",
       "65859990   Martijn                           34\n",
       "1464510    Wendy And Bram                    28\n",
       "7594884    Ruben, Sarah & Lindy              15\n",
       "113977564  Willem                            10\n",
       "178187873  Marcel And Pauline                 9\n",
       "13405827   Cap Homes                          9\n",
       "203731852  SWEETS Hotel                       8\n",
       "21167882   Pauline                            8\n",
       "3899684    City Apartments Amsterdam          7\n",
       "67005410   Feliciano                          7\n",
       "5833627    Greg                               7\n",
       "10076897   Geraldine                          6\n",
       "273266448  Vlad                               6\n",
       "5796250    Remco                              6\n",
       "11969034   Raul                               6\n",
       "16419683   Laurent                            5\n",
       "198405490  Suzanne                            5\n",
       "8558897    Alex                               5\n",
       "237150996  St Christophers At The Winston     5\n",
       "300888539  Cosimo                             5\n",
       "268276788  Jj                                 5\n",
       "39113987   BnB-Beheer                         5\n",
       "Name: host_id, dtype: int64"
      ]
     },
     "execution_count": 64,
     "metadata": {},
     "output_type": "execute_result"
    }
   ],
   "source": [
    "#9\n",
    "\n",
    "H = am.groupby(['host_id', 'host_name'])['host_id'].count().sort_values(ascending=False)\n",
    "H[H>4]"
   ]
  }
 ],
 "metadata": {
  "colab": {
   "name": "Тема 9 ГК (группировка).ipynb",
   "provenance": []
  },
  "kernelspec": {
   "display_name": "Python 3",
   "language": "python",
   "name": "python3"
  },
  "language_info": {
   "codemirror_mode": {
    "name": "ipython",
    "version": 3
   },
   "file_extension": ".py",
   "mimetype": "text/x-python",
   "name": "python",
   "nbconvert_exporter": "python",
   "pygments_lexer": "ipython3",
   "version": "3.7.6"
  }
 },
 "nbformat": 4,
 "nbformat_minor": 1
}
