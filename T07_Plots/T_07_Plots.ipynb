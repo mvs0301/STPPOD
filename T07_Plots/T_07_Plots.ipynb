{
 "cells": [
  {
   "cell_type": "markdown",
   "metadata": {},
   "source": [
    "<img src=\"../Img/banner-fa-49-2.jpg\">\n",
    "\n",
    "### <center> Финансовый университет\n",
    "## <center>  Современные технологии <br>прикладного программирования и обработки данных\n",
    "## <center> Тема 7. Методы визуализации данных\n",
    "\n",
    "27 апреля 2021 года\n",
    "\n",
    "Семинар<br>\n",
    "Студенты: Поток У18-7у<br>\n",
    "Преподаватель: Смирнов Михаил Викторович, доцент Департамента Анализа данных и машинного обучения Финансового университета при Правительстве Российской Федерации"
   ]
  },
  {
   "cell_type": "markdown",
   "metadata": {},
   "source": [
    "### Документация, справочные и учебные материалы:\n",
    "\n",
    "### Pandas.DataFrame.plot()\n",
    "<a href=\"https://pandas.pydata.org/docs/reference/api/pandas.DataFrame.plot.html\">Документация</a>\n",
    "\n",
    "### Matplotlib\n",
    "\n",
    "<a href=\"https://matplotlib.org/stable/index.html\">Документация matplotlib</a> <br>\n",
    "<a href=\"https://matplotlib.org/stable/api/_as_gen/matplotlib.figure.Figure.html\">subplots</a><br>\n",
    "<a href=\"https://matplotlib.org/3.1.0/tutorials/colors/colormaps.html\">Сочетания цветов</a><br>\n",
    "<a href=\"https://matplotlib.org/stable/tutorials/index.html\">Tutorials</a><br>\n",
    "<a href=\"https://matplotlib.org/stable/gallery/index.html\">Галерея</a> <br>\n",
    "<a href=\"https://matplotlib.org/stable/api/_as_gen/matplotlib.pyplot.plot.html\">Функция matplotlib.pyplot.plot</a>\n",
    "\n",
    "\n",
    "### Seaborn\n",
    "https://seaborn.pydata.org/ <br>\n",
    "Пошаговые инструкции https://seaborn.pydata.org/tutorial.html <br>\n",
    "Галерея https://seaborn.pydata.org/examples/index.html\n",
    "\n",
    "### Plotly\n",
    "https://plot.ly/python/\n",
    "\n",
    "### Источники на русском языке\n",
    "Обзор https://pythonworld.ru/novosti-mira-python/scientific-graphics-in-python.html <br>\n",
    "Обзор https://pyprog.pro/mpl/mpl_short_guide.html <br>\n",
    "<a href=\"https://pyprog.pro/mpl/mpl_install.html\"> Дополнительно </a><br>\n",
    "\n",
    "### Данные\n",
    "Учебный набор данных <a href=\"https://docs.microsoft.com/en-us/power-bi/create-reports/sample-datasets\"> Financial data sample workbook </a> от Microsoft<br>\n",
    "Учебная база данных <a href=\"https://www.sqlitetutorial.net/sqlite-sample-database/\">Chinook</a>"
   ]
  },
  {
   "cell_type": "markdown",
   "metadata": {},
   "source": [
    "# Введение\n",
    "\n",
    "На этом семинаре мы будем учиться строить разные виды графиков. Исходным учебным набором данных является таблица <a href=\"./Data/FinancialSample2.csv\">Financial Sample 2</a>. Еще нам понадобится вспомогательная таблица <a href=\"./Data/Financial Sample Fields.csv\">Financial Sample Fields</a>, содержащая описание полей таблицы Financial Sample. Оба файла в CSV формате, будьте острожны, при их открытии. Если Вы хотите предварительно с ними ознакомиться, рекомендуется открывать эти файлы в Блокноте Windows и не вносить в них никаких изменений, не сохранять их снова из интерфейса программ, в которых Вы их открываете."
   ]
  },
  {
   "cell_type": "markdown",
   "metadata": {},
   "source": [
    "# 1. Графические возможности Pandas\n",
    "\n",
    "Импортируем библиотеку *Pandas* и загрузим в память компьютера учебный набор данных *Financial Sample 2*. Также загрузим таблицу *Financial Sample Fields*."
   ]
  },
  {
   "cell_type": "code",
   "execution_count": null,
   "metadata": {},
   "outputs": [],
   "source": [
    "import pandas as pd"
   ]
  },
  {
   "cell_type": "code",
   "execution_count": null,
   "metadata": {},
   "outputs": [],
   "source": [
    "fs=pd.read_csv('../Data/FinancialSample3.csv',sep=';')\n",
    "de=pd.read_csv('../Data/FinancialSampleFields.csv',sep=';')\n",
    "fs.head()"
   ]
  },
  {
   "cell_type": "code",
   "execution_count": null,
   "metadata": {},
   "outputs": [],
   "source": [
    "fs.info()"
   ]
  },
  {
   "cell_type": "markdown",
   "metadata": {},
   "source": [
    "# 1.1. Метод *plot*\n",
    "\n",
    "Для быстрого и корректного отображения графиков запустите на работу магическую команду. Эта команда позволяет автоматически выводить на экран все графики и диаграммы без использования дополнительных функций."
   ]
  },
  {
   "cell_type": "code",
   "execution_count": null,
   "metadata": {},
   "outputs": [],
   "source": [
    "%matplotlib inline"
   ]
  },
  {
   "cell_type": "markdown",
   "metadata": {},
   "source": [
    "Функционал для создания всех известных типов графиков включен в Pandas и устанавливается на компьютер вместе с пакетом Anaconda по умолчанию. Если применить метод *plot()* к таблице, то будут выведены графики всех числовых столбцов."
   ]
  },
  {
   "cell_type": "code",
   "execution_count": null,
   "metadata": {},
   "outputs": [],
   "source": [
    "fs.plot()"
   ]
  },
  {
   "cell_type": "markdown",
   "metadata": {},
   "source": [
    "Применим метод _plot_ не ко всему набору данных, а к одному столбцу, в качестве одного из параметров укажем тип диаграммы _hist_. Дополним параметрами _grid_ и _title_. Параметр *bins* позволяет изменять число интервалов гистограммы, откладываемых по горизонтальной оси."
   ]
  },
  {
   "cell_type": "code",
   "execution_count": null,
   "metadata": {
    "scrolled": true
   },
   "outputs": [],
   "source": [
    "fs['UnitsSold'].plot(kind='hist',grid='True',title='Объем партии товара (шт.)', bins=10)"
   ]
  },
  {
   "cell_type": "markdown",
   "metadata": {},
   "source": [
    "Для работы с нечисловыми (категориальными) переменными их надо сначала обработать. С помощью _value_counts()_ сгруппируем по производителю, найдем число сделок в каждой группе. Используем тип графика _bar_."
   ]
  },
  {
   "cell_type": "code",
   "execution_count": null,
   "metadata": {},
   "outputs": [],
   "source": [
    "fs['Product'].value_counts().plot(kind='bar',\n",
    "                                  grid=True,colormap='coolwarm',\n",
    "                                  title='Число сделок по производителям')"
   ]
  },
  {
   "cell_type": "markdown",
   "metadata": {},
   "source": [
    "### Задание 1.1.1.\n",
    "Постройте столбчатую диаграмму, отражающую средний размер скидки в разрезе по группе скидок для каждого производителя. Для горизонтального расположения столбцов диаграммы используйте `kind=barh`. Ожидается результат:\n",
    "\n",
    "<img src=\"./Img/img_sem_02.png\">"
   ]
  },
  {
   "cell_type": "code",
   "execution_count": null,
   "metadata": {},
   "outputs": [],
   "source": [
    "# Ваш код здесь\n"
   ]
  },
  {
   "cell_type": "markdown",
   "metadata": {},
   "source": [
    "### Задание 1.1.2.\n",
    "\n",
    "Напишите названия параметров, с помощью которых можно:\n",
    "\n",
    "1. Добавить на график заголовок.\n",
    "\n",
    "2. Добавить на график сетку.\n",
    "\n",
    "3. Настроить цветовую гамму графика.\n",
    "\n"
   ]
  },
  {
   "cell_type": "markdown",
   "metadata": {},
   "source": [
    "## Отображение двух показателей на графике\n",
    "\n",
    "Метод _plot_ позволяет использовать параметр _subplots,_ принимающий значения _True_ и _False_."
   ]
  },
  {
   "cell_type": "code",
   "execution_count": null,
   "metadata": {},
   "outputs": [],
   "source": [
    "# Несколько графиков в одной рабочей области:\n",
    "fs[['COGS', 'Sales']].plot(kind = 'hist', \n",
    "                               grid = True,\n",
    "                               subplots = True, \n",
    "                               title = ['Себестоимость', 'Продажи'], \n",
    "                               legend = False);"
   ]
  },
  {
   "cell_type": "markdown",
   "metadata": {},
   "source": [
    "Такой результат показывает, в каких пределах меняются показатели, но ничего не говорит о том, есть ли между ними связь. Для получения такой информации используется значение _'scatter'_ параметра _kind_."
   ]
  },
  {
   "cell_type": "code",
   "execution_count": null,
   "metadata": {},
   "outputs": [],
   "source": [
    "# Есть ли связь между показателями?\n",
    "fs.plot(x = 'COGS', \n",
    "        y = 'Sales', \n",
    "        kind = 'scatter', \n",
    "        grid = True, \n",
    "        title = 'Себестоимость Vs Продажи');"
   ]
  },
  {
   "cell_type": "markdown",
   "metadata": {},
   "source": [
    "Совместим на графике несколько количественных и качественных показателей. Отобразим средние значения цены производства и цены единицы товара в разрезе по виду скидки."
   ]
  },
  {
   "cell_type": "code",
   "execution_count": null,
   "metadata": {
    "scrolled": true
   },
   "outputs": [],
   "source": [
    "pvt=pd.pivot_table(fs, index=['DiscountBand'],\n",
    "                   values=['SalePrice','ManufacturingPrice'],aggfunc='mean')\n",
    "pvt"
   ]
  },
  {
   "cell_type": "markdown",
   "metadata": {},
   "source": [
    "Такой же результат можно получить, если использовать *groupby()*"
   ]
  },
  {
   "cell_type": "code",
   "execution_count": null,
   "metadata": {},
   "outputs": [],
   "source": [
    "fs[\n",
    "    ['SalePrice','ManufacturingPrice','DiscountBand']\n",
    "].groupby('DiscountBand')[['SalePrice','ManufacturingPrice']].mean()"
   ]
  },
  {
   "cell_type": "code",
   "execution_count": null,
   "metadata": {
    "scrolled": true
   },
   "outputs": [],
   "source": [
    "pvt.plot(kind='bar',title='Средняя цена производства и продажи', ylim=(0,195));"
   ]
  },
  {
   "cell_type": "markdown",
   "metadata": {},
   "source": [
    "Использован параметр *ylim* для задания диапазона значений вертикальной оси.\n",
    "\n",
    "### Задание 3\n",
    "Постройте столбчатую диаграмму числа сделок с группировкой по странам и производителям для стран Албании, Египта, Финляндии, Пакистана."
   ]
  },
  {
   "cell_type": "code",
   "execution_count": null,
   "metadata": {},
   "outputs": [],
   "source": [
    "# Ваш код здесь\n"
   ]
  },
  {
   "cell_type": "markdown",
   "metadata": {},
   "source": [
    "### Задание 4 \n",
    "Постройте график распределения средней стоимости партии товара (Sales) в странах Албании и Египта и всем сегментам рынка. Страны разместите по горизонтальной оси."
   ]
  },
  {
   "cell_type": "code",
   "execution_count": null,
   "metadata": {},
   "outputs": [],
   "source": [
    "# Ваш код здесь\n"
   ]
  },
  {
   "cell_type": "markdown",
   "metadata": {},
   "source": [
    "# 2.2. Объектно-ориентированный подход к созданию графиков\n",
    "\n",
    "Полный список методов объекта *axes* в официальной документации <br>\n",
    "https://matplotlib.org/stable/api/axes_api.html\n",
    "\n",
    "Варианты форм маркеров <br>\n",
    "https://matplotlib.org/stable/api/markers_api.html\n",
    "\n",
    "*Matplotlib* - библиотека Python, обладающая широкими возможностями по созданию и отображению графической информации. Ее необходимо импортировать, включая модуль *pyplot*. Для корректного отображения графиков в ноутбуке выполним команду `%matplotlib inline`\n",
    "\n",
    "Используем данные о посетителях ресторана в США. Источник: https://www.kaggle.com/ranjeetjain3/seaborn-tips-dataset\n",
    "\n"
   ]
  },
  {
   "cell_type": "code",
   "execution_count": null,
   "metadata": {},
   "outputs": [],
   "source": [
    "import pandas as pd\n",
    "import matplotlib.pyplot as plt\n",
    "%matplotlib inline\n",
    "\n",
    "df = pd.read_csv('../Data/tips.csv')\n",
    "df.head()"
   ]
  },
  {
   "cell_type": "code",
   "execution_count": null,
   "metadata": {},
   "outputs": [],
   "source": [
    "pd.DataFrame([['total_bill', 'Общая сумма, уплаченная за заказ'],\n",
    "             ['tip', 'размер чаевых'],\n",
    "             ['sex', 'пол клиента'],\n",
    "             ['smoker','является ли клиент курильщиком (в 90-е годы в ресторанах США были зоны для курящих)'],\n",
    "             ['day','день недели'],\n",
    "             ['time','время (обед или ужин)'],\n",
    "             ['size','количество посетителей, обедавших за столом']],\n",
    "             columns=['Fileld','Description']\n",
    ")"
   ]
  },
  {
   "cell_type": "markdown",
   "metadata": {},
   "source": [
    "Для реализации объектно-ориентированного подхода создадим объект *fig*. Во второй строке создается координатная плоскость от левого нижнего угла (координаты 0,0). Плоскость занимет все отведенное место (ширина и высота равны единице)."
   ]
  },
  {
   "cell_type": "code",
   "execution_count": null,
   "metadata": {},
   "outputs": [],
   "source": [
    "fig = plt.figure()\n",
    "axes = fig.add_axes([0, 0, 1, 1])"
   ]
  },
  {
   "cell_type": "markdown",
   "metadata": {},
   "source": [
    "Теперь в координатной плоскости можно разместить любую графическую информацию. Разместим гистограмму распределения суммы продаж. Добавим подписи осей абсцисс и ординат, заголовок диаграммы."
   ]
  },
  {
   "cell_type": "code",
   "execution_count": null,
   "metadata": {},
   "outputs": [],
   "source": [
    "fig=plt.figure()\n",
    "axes=fig.add_axes([0,0,1,1])\n",
    "axes.hist(df['total_bill'],bins=20,color='grey')\n",
    "axes.set_title('Сумма продаж')\n",
    "axes.set_xlabel('Сумма продаж')\n",
    "axes.set_ylabel('Число сделок');"
   ]
  },
  {
   "cell_type": "markdown",
   "metadata": {},
   "source": [
    "Вызов других методов объекта *axes* позволяет размещать на координатной плоскости другие типы диаграмм. Построим диаграмму разброса, отражающую связь между суммой счета и размером чаевых."
   ]
  },
  {
   "cell_type": "code",
   "execution_count": null,
   "metadata": {},
   "outputs": [],
   "source": [
    "fig=plt.figure()\n",
    "axes=fig.add_axes([0,0,1,1])\n",
    "axes.scatter(x=df['total_bill'],y=df['tip'],marker='o',color='black')\n",
    "axes.set_title('Общая сумма счёта Vs Cумма чаевых')\n",
    "axes.set_xlabel('Сумма счета')\n",
    "axes.set_ylabel('Размер чаевых')"
   ]
  },
  {
   "cell_type": "markdown",
   "metadata": {},
   "source": [
    "### Задание 5\n",
    "\n",
    "Отметьте все варианты кода, в которых создаётся прямоугольная координатная плоскость, в которой высота больше ширины:\n",
    "- axes = fig.add_axes([0.2, 0.2, 0.5, 0.9])\n",
    "- axes = fig.add_axes([0, 0, 0.9, 0.5])\n",
    "- axes = fig.add_axes([0.1,0.1,1,2])\n",
    "- axes = fig.add_axes([2,0,0,2])"
   ]
  },
  {
   "cell_type": "markdown",
   "metadata": {},
   "source": [
    "### Задание 6\n",
    "\n",
    "<img src=\"./Img/img_sem_03.png\">\n",
    "\n",
    "По какому параметру отличаются два графика?\n",
    "- источник данных в датафрейме df\n",
    "- xlim\n",
    "- bins"
   ]
  },
  {
   "cell_type": "markdown",
   "metadata": {},
   "source": [
    "### Задание 7\n",
    "Какой метод следует использовать для создания датафрейма, содержащего информацию о минимальной и максимальной сумме (Sales, источник FinancialSample) продаж по годам?\n",
    "- groupby()\n",
    "- value_counts()\n",
    "- sort_values()\n",
    "\n",
    "Напишите код, который выводит на экран эту информацию."
   ]
  },
  {
   "cell_type": "markdown",
   "metadata": {},
   "source": [
    "# 2.3. Несколько систем координат"
   ]
  },
  {
   "cell_type": "code",
   "execution_count": null,
   "metadata": {},
   "outputs": [],
   "source": [
    "fig=plt.figure()\n",
    "main_axes=fig.add_axes([0,0,1,1])\n",
    "insert_axes=fig.add_axes([0.6,0.6,0.38,0.38])"
   ]
  },
  {
   "cell_type": "markdown",
   "metadata": {},
   "source": [
    "## Вспомогательный график\n",
    "\n",
    "Разместим два графика в одной области построения. Создадим основной и вспомогательный графики. На основном отобразим гистограмму суммы счета, на дополнительном графике информацию о минимальной и максимальной сумме счёта по дням недели. Начнём с создания датафрейма с данными для дополнительного графика."
   ]
  },
  {
   "cell_type": "code",
   "execution_count": null,
   "metadata": {
    "scrolled": true
   },
   "outputs": [],
   "source": [
    "bill_per_day = df.groupby(by = 'day')['total_bill'].agg(['min','max']).reset_index()\n",
    "bill_per_day"
   ]
  },
  {
   "cell_type": "markdown",
   "metadata": {},
   "source": [
    "К объекту *main_axes* применим метод *hist*, для объекта *insert_axes* используем метод *bar*."
   ]
  },
  {
   "cell_type": "code",
   "execution_count": null,
   "metadata": {
    "scrolled": true
   },
   "outputs": [],
   "source": [
    "fig=plt.figure()\n",
    "\n",
    "main_axes=fig.add_axes([0,0,1,1])\n",
    "main_axes.hist(df['total_bill'])\n",
    "\n",
    "insert_axes=fig.add_axes([0.6,0.6,0.38,0.38])\n",
    "insert_axes.bar(x=bill_per_day['day'],height=bill_per_day['max'])\n",
    "insert_axes.bar(x=bill_per_day['day'],height=bill_per_day['min'])"
   ]
  },
  {
   "cell_type": "markdown",
   "metadata": {},
   "source": [
    "Столбцы вспомогательного графика накладываются друг на друга"
   ]
  },
  {
   "cell_type": "code",
   "execution_count": null,
   "metadata": {
    "scrolled": true
   },
   "outputs": [],
   "source": [
    "fig=plt.figure()\n",
    "main_axes=fig.add_axes([0,0,1,1])\n",
    "insert_axes=fig.add_axes([0.6,0.5,0.38,0.38])\n",
    "\n",
    "main_axes.hist(df['total_bill'])\n",
    "main_axes.set_xlabel('Размер счета')\n",
    "main_axes.set_ylabel('Число заказов')\n",
    "\n",
    "insert_axes.bar(x=bill_per_day['day'],height=bill_per_day['min'],align='edge',width=-0.4,color='lightblue')\n",
    "insert_axes.bar(x=bill_per_day['day'],height=bill_per_day['max'],align='edge',width=0.4,color='orange')\n",
    "insert_axes.set_xlabel('День')\n",
    "insert_axes.set_ylabel('USD')\n",
    "insert_axes.set_title('Мин., макс. размер счета');"
   ]
  },
  {
   "cell_type": "markdown",
   "metadata": {},
   "source": [
    "### Задание 8\n",
    "Построейте на одной координатной плоскости два графика - основной и вспомогательный. На основном отобразите гистограмму продаж (Sales), на вспомогательном столбчатую диаграмму продаж по месяцам."
   ]
  },
  {
   "cell_type": "markdown",
   "metadata": {},
   "source": [
    "### Задание 9\n",
    "Выберите правильный набор параметров, позволяющий разместить вспомогательную координатную плоскость так, как на рисунке:\n",
    "\n",
    "- insert_axes = fig.add_axes([0.5, 0.5, 0.5, 0.5])\n",
    "- insert_axes = fig.add_axes([0.2, 0.2, 0.6, 0.6])\n",
    "- insert_axes = fig.add_axes([0.6, 0.6, 0.2, 0.2])\n",
    "\n",
    "<img src=\"./Img/img_sem_04.png\">"
   ]
  },
  {
   "cell_type": "markdown",
   "metadata": {},
   "source": [
    "## Добавление легенды\n",
    "Легенда добавляется с помощью метода _legend_ объекта _axes_. Для корректного отображения легенды требуется парметр _label_. Место размещения легенды на координатной плоскости задается параметром _loc_.\n",
    "\n",
    "Чтобы легенда не перекрывала часть данных, устанавливаем максимальное значение оси ординат с помощью метода *set_ylim* объекта *axes*."
   ]
  },
  {
   "cell_type": "code",
   "execution_count": null,
   "metadata": {},
   "outputs": [],
   "source": [
    "fig=plt.figure()\n",
    "axes=fig.add_axes([0,0,1,1])\n",
    "axes.bar(x=bill_per_day['day'],height=bill_per_day['min'], align='edge', width=-0.4, label='Минимальный размер счета')\n",
    "axes.bar(x=bill_per_day['day'],height=bill_per_day['max'], align='edge', width=0.4, label='Максимальный размер счета')\n",
    "axes.legend(loc=2)\n",
    "axes.set_ylim(0,70);"
   ]
  },
  {
   "cell_type": "markdown",
   "metadata": {},
   "source": [
    "# 2.4. Метод *subplots*\n",
    "\n",
    "Метод *subplots* позволяет разместить в одной области построения несколько графиков. Размер области построения (в дюймах) можно задать с помощью параметра *figsize*."
   ]
  },
  {
   "cell_type": "code",
   "execution_count": null,
   "metadata": {
    "scrolled": true
   },
   "outputs": [],
   "source": [
    "fig,axes=plt.subplots(1,5,figsize=(12,4))"
   ]
  },
  {
   "cell_type": "code",
   "execution_count": null,
   "metadata": {
    "scrolled": true
   },
   "outputs": [],
   "source": [
    "fig, axes = plt.subplots(1,3,figsize=(12,4))\n",
    "axes[0].hist(df['total_bill'])\n",
    "axes[0].set_title('Сумма счета')\n",
    "axes[1].hist(df['tip'])\n",
    "axes[1].set_title('Чаевые')\n",
    "axes[2].scatter(x=df['total_bill'],y=df['tip'],marker='o')\n",
    "axes[2].set_title('Сумма счета Vs Чаевые');"
   ]
  },
  {
   "cell_type": "markdown",
   "metadata": {},
   "source": [
    "### Задание 10\n",
    "С помощью какого кода можно вывести гистограмму распределения признака в позицию, которую она занимает на риснуке?\n",
    "- axes[1][2].hist(df['tip'])\n",
    "- axes[2][1].hist(df['tip'])\n",
    "- axes[2][3].hist(df['tip'])\n",
    "\n",
    "<img src=\"./Img/img_sem_05.png\">"
   ]
  },
  {
   "cell_type": "markdown",
   "metadata": {},
   "source": [
    "# 2.5. Линейные графики\n",
    "\n",
    "\n",
    "<a href=\"https://matplotlib.org/stable/api/_as_gen/matplotlib.pyplot.plot.html\">Документация по линейным графикам<a>"
   ]
  },
  {
   "cell_type": "code",
   "execution_count": null,
   "metadata": {},
   "outputs": [],
   "source": [
    "import numpy as np"
   ]
  },
  {
   "cell_type": "markdown",
   "metadata": {},
   "source": [
    "Сгенерируем массив из 100 чисел в интервале от -3 до 3. Создадим переменную, содержащую $exp(x)$ в интервале. "
   ]
  },
  {
   "cell_type": "code",
   "execution_count": null,
   "metadata": {},
   "outputs": [],
   "source": [
    "x = np.linspace(start=-3., stop=3., num=100)\n",
    "y1 = np.exp(x)\n",
    "\n",
    "fig=plt.figure()\n",
    "axes=fig.add_axes([0,0,0.5,0.5])\n",
    "axes.plot(x, y1)\n",
    "axes.grid()"
   ]
  },
  {
   "cell_type": "markdown",
   "metadata": {},
   "source": [
    "Функцию *plot* можно вызвать несколько раз. В этом случае отрисовка выполняется в той же области построения."
   ]
  },
  {
   "cell_type": "code",
   "execution_count": null,
   "metadata": {},
   "outputs": [],
   "source": [
    "y2 = 10 + 0.4*x - 0.3*x**2 + 0.1*x**3\n",
    "\n",
    "fig=plt.figure()\n",
    "axes=fig.add_axes([0,0,0.5,0.5])\n",
    "axes.plot(x,y1)\n",
    "axes.plot(x,y2)\n",
    "axes.grid()"
   ]
  },
  {
   "cell_type": "markdown",
   "metadata": {},
   "source": [
    "Используем разные стили линий. Отрисуем линию в стиле \"dashed line\"."
   ]
  },
  {
   "cell_type": "code",
   "execution_count": null,
   "metadata": {},
   "outputs": [],
   "source": [
    "fig = plt.figure()\n",
    "axes = fig.add_axes([0,0,0.5,0.5])\n",
    "axes.plot(x[::5], y2[::5], 'mD');"
   ]
  },
  {
   "cell_type": "markdown",
   "metadata": {},
   "source": [
    "### Задание 11\n",
    "\n",
    "Верно ли утверждение, что два первых аргумента функции matplotlib.pyplot.plot принимают списки одинаковой длины?"
   ]
  },
  {
   "cell_type": "markdown",
   "metadata": {},
   "source": [
    "### Задание 12\n",
    "Дан треугольник с вершинами $ A=(-1,1), B=(0,5), C=(4,1)$. Постройте в координатной плоскости данный треугольник и биссектрису угла $ \\angle{BAC}$."
   ]
  },
  {
   "cell_type": "markdown",
   "metadata": {},
   "source": [
    "# 2.6. Гистограммы распределения признаков\n",
    "\n",
    "Seaborn - графическая библиотека с большими функциональными возможностями. Многие функции Seaborn интегрируются с библиотекой Matplotlib.\n",
    "\n",
    "метод distplot http://seaborn.pydata.org/generated/seaborn.distplot.html?highlight=distplot#seaborn.distplot\n",
    "\n",
    "стандартные параметры отображения графиков с помощью команды sns.set() http://seaborn.pydata.org/generated/seaborn.set.html?highlight=set#seaborn.set"
   ]
  },
  {
   "cell_type": "code",
   "execution_count": null,
   "metadata": {},
   "outputs": [],
   "source": [
    "import pandas as pd\n",
    "import matplotlib.pyplot as plt\n",
    "import seaborn as sns\n",
    "%matplotlib inline"
   ]
  },
  {
   "cell_type": "markdown",
   "metadata": {},
   "source": [
    "При использовании некоторых методов Seaborn система может выдавать предупреждающие сообщения."
   ]
  },
  {
   "cell_type": "code",
   "execution_count": null,
   "metadata": {},
   "outputs": [],
   "source": [
    "import warnings; warnings.simplefilter('ignore')"
   ]
  },
  {
   "cell_type": "code",
   "execution_count": null,
   "metadata": {},
   "outputs": [],
   "source": [
    "df = pd.read_csv('../Data/tips.csv')"
   ]
  },
  {
   "cell_type": "markdown",
   "metadata": {},
   "source": [
    "Для построения гистограммы распределения количественных признаков в *Seaborn* используется метод *distplot*. Перед применением метода установим стандартные параметры отображения графиков с помощью команды *sns.set()*"
   ]
  },
  {
   "cell_type": "code",
   "execution_count": null,
   "metadata": {},
   "outputs": [],
   "source": [
    "sns.set()\n",
    "sns.distplot(df['total_bill']);"
   ]
  },
  {
   "cell_type": "markdown",
   "metadata": {},
   "source": [
    "*Seaborn* поволяет разместить на одном графике гистограммы распределения двух признаков и показать связь между ними. Такой тип графика называется *jointplot*."
   ]
  },
  {
   "cell_type": "code",
   "execution_count": null,
   "metadata": {},
   "outputs": [],
   "source": [
    "sns.jointplot(x = 'total_bill', y = 'tip', data = df);"
   ]
  },
  {
   "cell_type": "markdown",
   "metadata": {},
   "source": [
    "Вид центральной части графика можно регулировать с помощью параметра *kind*. Установим `kind='reg'`."
   ]
  },
  {
   "cell_type": "code",
   "execution_count": null,
   "metadata": {},
   "outputs": [],
   "source": [
    "sns.jointplot(x = 'total_bill', y = 'tip', data = df, kind = 'reg');"
   ]
  },
  {
   "cell_type": "markdown",
   "metadata": {},
   "source": [
    "Другой способ отобразить графики признаков попарно - построить график *pairplot*."
   ]
  },
  {
   "cell_type": "code",
   "execution_count": null,
   "metadata": {},
   "outputs": [],
   "source": [
    "sns.pairplot(df);"
   ]
  },
  {
   "cell_type": "markdown",
   "metadata": {},
   "source": [
    "Еще пример"
   ]
  },
  {
   "cell_type": "code",
   "execution_count": null,
   "metadata": {},
   "outputs": [],
   "source": [
    "sns.jointplot(x = 'total_bill', y = 'tip', data = df, kind = 'hex');"
   ]
  },
  {
   "cell_type": "markdown",
   "metadata": {},
   "source": [
    "Другие возможные значения *kind: resid, kde.*"
   ]
  },
  {
   "cell_type": "markdown",
   "metadata": {},
   "source": [
    "# 2.7. Работа с категориальными признаками"
   ]
  },
  {
   "cell_type": "code",
   "execution_count": null,
   "metadata": {},
   "outputs": [],
   "source": [
    "sns.countplot(x = 'day', data = df);"
   ]
  },
  {
   "cell_type": "code",
   "execution_count": null,
   "metadata": {},
   "outputs": [],
   "source": [
    "sns.barplot(x = 'sex', y = 'total_bill', data = df, ci=None);"
   ]
  },
  {
   "cell_type": "markdown",
   "metadata": {},
   "source": [
    "По умолчанию используется функция среднего *mean()*, но можно использовать и другие функции, например медиану, для этого применяется параметр *estimator:*\n",
    "\n",
    "```\n",
    "from numpy import median\n",
    "estimator=median\n",
    "```"
   ]
  },
  {
   "cell_type": "code",
   "execution_count": null,
   "metadata": {},
   "outputs": [],
   "source": [
    "from numpy import median\n",
    "sns.barplot(x = 'day', y = 'total_bill', data = df, estimator=median, ci=None);"
   ]
  },
  {
   "cell_type": "markdown",
   "metadata": {},
   "source": [
    "# 2.8. Ящик с усами: график *boxplot*\n",
    "\n",
    "<img src=\"./Img/img_sem_06.png\">"
   ]
  },
  {
   "cell_type": "code",
   "execution_count": null,
   "metadata": {},
   "outputs": [],
   "source": [
    "sns.boxplot(x = 'day', y = 'tip', data = df);"
   ]
  },
  {
   "cell_type": "code",
   "execution_count": null,
   "metadata": {},
   "outputs": [],
   "source": [
    "sns.boxplot(x = 'day', y = 'tip', data = df, hue = 'smoker');"
   ]
  }
 ],
 "metadata": {
  "kernelspec": {
   "display_name": "Python 3",
   "language": "python",
   "name": "python3"
  },
  "language_info": {
   "codemirror_mode": {
    "name": "ipython",
    "version": 3
   },
   "file_extension": ".py",
   "mimetype": "text/x-python",
   "name": "python",
   "nbconvert_exporter": "python",
   "pygments_lexer": "ipython3",
   "version": "3.7.6"
  }
 },
 "nbformat": 4,
 "nbformat_minor": 4
}
