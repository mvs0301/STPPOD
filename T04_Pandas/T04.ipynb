{
 "cells": [
  {
   "cell_type": "markdown",
   "metadata": {
    "id": "2Yn_cT5q5eWw"
   },
   "source": [
    "<img src=\"../Img/banner-fa-49-2.jpg\">\n",
    "30 марта 2021 года, ВМ/305-1(кк)\n",
    "\n",
    "# Лекция 4. Библиотека Pandas\n",
    "\n",
    "Студенты: Поток У18-7у<br>\n",
    "Преподаватель: Смирнов Михаил Викторович, доцент Департамента Анализа данных и машинного обучения Финансового университета при Правительстве Российской Федерации"
   ]
  },
  {
   "cell_type": "markdown",
   "metadata": {
    "id": "639oFyYlksbc"
   },
   "source": [
    "## Основы работы с Pandas\n",
    "\n",
    "*Pandas* - библиотека для работы с данными. Имеется подробная [документация](http://pandas.pydata.org/pandas-docs/stable/) с множеством примеров. *Pandas* не встроен в Python по умолчанию, его необходимо импортировать. Чаще всего *pandas* импортируют c псевдонимом `pd`."
   ]
  },
  {
   "cell_type": "code",
   "execution_count": 1,
   "metadata": {
    "id": "O3_eV5N1mBsX"
   },
   "outputs": [],
   "source": [
    "import pandas as pd"
   ]
  },
  {
   "cell_type": "markdown",
   "metadata": {
    "id": "rjrEN6RnaB21"
   },
   "source": [
    "### Учебный пример\n",
    "\n",
    "Для изучения технологии работы с этой библиотекой будем использовать [учебный пример финансовой информации](../Data/FinancialSample2.csv)."
   ]
  },
  {
   "cell_type": "markdown",
   "metadata": {
    "id": "N7fqF-u0qchG"
   },
   "source": [
    "Прежде, чем переходить к учебному примеру, рассмотрим основные объекты Pandas - *Series* и *DataFrame*"
   ]
  },
  {
   "cell_type": "markdown",
   "metadata": {
    "id": "EY93hs1T5tW2"
   },
   "source": [
    "### Series"
   ]
  },
  {
   "cell_type": "markdown",
   "metadata": {
    "id": "42SQxEa5q2gh"
   },
   "source": [
    "*Series* - это структура данных, которую можно рассматривать, как одну колонку таблицы, это одномерный массив. Ранее мы изучили похожий одномерный массив - список, доступ к элементам которого осуществлялся по индексу, представляющему собой порядковый номер. В *Series* индексами могут быть не только порядковые номера, но и другие данные: даты, имена, идентификаторы различных объектов и т.д.\n",
    "\n",
    "Создать *Series* можно с помощью команды `pd.Series()` (или `pandas.Series()`, если библиотека pandas импортирована без псевдонима). Создадим *Series* с данными об автомобилях - лидерах продаж в России в 2020 году."
   ]
  },
  {
   "cell_type": "code",
   "execution_count": 2,
   "metadata": {
    "id": "iZmIIuA2uFxM"
   },
   "outputs": [
    {
     "data": {
      "text/plain": [
       "Первое         Лада Гранта\n",
       "Второе          Лада Веста\n",
       "Третье             Kia Rio\n",
       "Четвертое    Hyundai Creta\n",
       "dtype: object"
      ]
     },
     "execution_count": 2,
     "metadata": {},
     "output_type": "execute_result"
    }
   ],
   "source": [
    "leaders = pd.Series(['Лада Гранта', 'Лада Веста', 'Kia Rio', 'Hyundai Creta'], index=['Первое','Второе','Третье','Четвертое'])\n",
    "leaders"
   ]
  },
  {
   "cell_type": "markdown",
   "metadata": {
    "id": "GqNyaNAtv3Cc"
   },
   "source": [
    "Индекс можно не указывать, тогда он будет создан автоматически и содержать порядковые номера элементов, начиная с нуля. Доступ к элементам Series осуществляется с использованием методов `.loc[]` и `.iloc[]`. В чем разница между ними? Параметром `.loc[]` является метка индекса, параметром `.iloc[]` является целочисленный порядковый номер элемента."
   ]
  },
  {
   "cell_type": "code",
   "execution_count": 3,
   "metadata": {
    "id": "vqvDYdMNwyQt"
   },
   "outputs": [
    {
     "name": "stdout",
     "output_type": "stream",
     "text": [
      "Лада Гранта\n",
      "Первое         Лада Гранта\n",
      "Четвертое    Hyundai Creta\n",
      "dtype: object\n",
      "\n",
      "Лада Гранта\n",
      "Первое         Лада Гранта\n",
      "Четвертое    Hyundai Creta\n",
      "dtype: object\n"
     ]
    }
   ],
   "source": [
    "#Примеры использования .loc\n",
    "print(leaders.loc['Первое']) # Доступ к одному элементу\n",
    "print(leaders.loc[['Первое','Четвертое']]) # Доступ к нескольким элементам\n",
    "print()\n",
    "\n",
    "#Примеры использования .iloc\n",
    "print(leaders.iloc[0]) # Доступ к одному элементу\n",
    "print(leaders.iloc[[0,3]]) # Доступ к нескольким элементам"
   ]
  },
  {
   "cell_type": "markdown",
   "metadata": {
    "id": "5lpvxhPt14Rz"
   },
   "source": [
    "<u>Задание</u>. Имеется *серия*, содержащая числа от 10 до 1000. Какое число содержит элемент с индексом 175? Вычислите разность элементов с индексами 900 и 16."
   ]
  },
  {
   "cell_type": "code",
   "execution_count": 4,
   "metadata": {
    "id": "dwKG6XBG2aGI"
   },
   "outputs": [],
   "source": [
    "s = pd.Series(range(10,1001))\n",
    "# Ваш код здесь"
   ]
  },
  {
   "cell_type": "markdown",
   "metadata": {
    "id": "-jtGzxZX6RbC"
   },
   "source": [
    "### DataFrame\n",
    "\n",
    "Объект *DataFrame* представляет собой таблицу, столбцами которой выступают объекты *Series*. Строки *Series* являются элементами *DataFrame*. Рассмотрим основные способы создания датафрейма: из словаря, из списка, с помощью функции `read_csv()`."
   ]
  },
  {
   "cell_type": "markdown",
   "metadata": {
    "id": "Sr1RL-6mzO_v"
   },
   "source": [
    "#### Из словаря\n",
    "\n",
    "Создавать датафрейм удобно из словаря. Словарь представляет собой заключенные в квадратные скобки пары `{ключ:значение}`. Такие парыстоновятся столбцами датафрейма, при этом имена ключей становятся названиями стобцов, значения становятся элементами столбцов."
   ]
  },
  {
   "cell_type": "code",
   "execution_count": 5,
   "metadata": {
    "colab": {
     "base_uri": "https://localhost:8080/",
     "height": 174
    },
    "id": "OtFwc_8W9QMm",
    "outputId": "9dc2b450-a204-464d-96f0-3e64f0f7aedb"
   },
   "outputs": [
    {
     "data": {
      "text/html": [
       "<div>\n",
       "<style scoped>\n",
       "    .dataframe tbody tr th:only-of-type {\n",
       "        vertical-align: middle;\n",
       "    }\n",
       "\n",
       "    .dataframe tbody tr th {\n",
       "        vertical-align: top;\n",
       "    }\n",
       "\n",
       "    .dataframe thead th {\n",
       "        text-align: right;\n",
       "    }\n",
       "</style>\n",
       "<table border=\"1\" class=\"dataframe\">\n",
       "  <thead>\n",
       "    <tr style=\"text-align: right;\">\n",
       "      <th></th>\n",
       "      <th>car</th>\n",
       "      <th>year</th>\n",
       "      <th>condition</th>\n",
       "      <th>km</th>\n",
       "    </tr>\n",
       "  </thead>\n",
       "  <tbody>\n",
       "    <tr>\n",
       "      <th>0</th>\n",
       "      <td>Lada Granta</td>\n",
       "      <td>2019</td>\n",
       "      <td>75</td>\n",
       "      <td>130000</td>\n",
       "    </tr>\n",
       "    <tr>\n",
       "      <th>1</th>\n",
       "      <td>Lada Vesta</td>\n",
       "      <td>2018</td>\n",
       "      <td>104</td>\n",
       "      <td>210000</td>\n",
       "    </tr>\n",
       "    <tr>\n",
       "      <th>2</th>\n",
       "      <td>Kia Rio</td>\n",
       "      <td>2010</td>\n",
       "      <td>20</td>\n",
       "      <td>75000</td>\n",
       "    </tr>\n",
       "    <tr>\n",
       "      <th>3</th>\n",
       "      <td>Hyunday Creta</td>\n",
       "      <td>2015</td>\n",
       "      <td>90</td>\n",
       "      <td>94000</td>\n",
       "    </tr>\n",
       "  </tbody>\n",
       "</table>\n",
       "</div>"
      ],
      "text/plain": [
       "             car  year  condition      km\n",
       "0    Lada Granta  2019         75  130000\n",
       "1     Lada Vesta  2018        104  210000\n",
       "2        Kia Rio  2010         20   75000\n",
       "3  Hyunday Creta  2015         90   94000"
      ]
     },
     "execution_count": 5,
     "metadata": {},
     "output_type": "execute_result"
    }
   ],
   "source": [
    "market = pd.DataFrame({'car':['Lada Granta','Lada Vesta','Kia Rio','Hyunday Creta'], 'year':[2019,2018,2010,2015], 'condition':[75,104,20,90], 'km':[130000,210000,75000,94000]})\n",
    "market"
   ]
  },
  {
   "cell_type": "markdown",
   "metadata": {
    "id": "Wo9dhl2F_Vsx"
   },
   "source": [
    "#### Из списка\n",
    "\n",
    "*DataFrame* можно создать из списка списков или списка кортежей. Необязательными параметрами являются `columns` и `index`. Рассмотрим пример создания датафрейма из списка списков. Пусть имеются сведения о результатах торгов за два дня. Создадим список из двух вложенных списков, каждый из которых содержит четыре элемента: цена открытия, минимальная и максимальная цены в течение дня, цена закрытия. Число вложенных списков равно числу строк, число их элементов равно числу столбцов."
   ]
  },
  {
   "cell_type": "code",
   "execution_count": 6,
   "metadata": {
    "id": "-UHFOlCw4Md3"
   },
   "outputs": [
    {
     "data": {
      "text/html": [
       "<div>\n",
       "<style scoped>\n",
       "    .dataframe tbody tr th:only-of-type {\n",
       "        vertical-align: middle;\n",
       "    }\n",
       "\n",
       "    .dataframe tbody tr th {\n",
       "        vertical-align: top;\n",
       "    }\n",
       "\n",
       "    .dataframe thead th {\n",
       "        text-align: right;\n",
       "    }\n",
       "</style>\n",
       "<table border=\"1\" class=\"dataframe\">\n",
       "  <thead>\n",
       "    <tr style=\"text-align: right;\">\n",
       "      <th></th>\n",
       "      <th>Open</th>\n",
       "      <th>Low</th>\n",
       "      <th>High</th>\n",
       "      <th>Close</th>\n",
       "    </tr>\n",
       "  </thead>\n",
       "  <tbody>\n",
       "    <tr>\n",
       "      <th>2020-12-07</th>\n",
       "      <td>150</td>\n",
       "      <td>20</td>\n",
       "      <td>140</td>\n",
       "      <td>140</td>\n",
       "    </tr>\n",
       "    <tr>\n",
       "      <th>2020-12-08</th>\n",
       "      <td>140</td>\n",
       "      <td>94</td>\n",
       "      <td>152</td>\n",
       "      <td>150</td>\n",
       "    </tr>\n",
       "  </tbody>\n",
       "</table>\n",
       "</div>"
      ],
      "text/plain": [
       "            Open  Low  High  Close\n",
       "2020-12-07   150   20   140    140\n",
       "2020-12-08   140   94   152    150"
      ]
     },
     "execution_count": 6,
     "metadata": {},
     "output_type": "execute_result"
    }
   ],
   "source": [
    "history=pd.DataFrame([[150, 20, 140, 140],[140,94,152,150]],columns=['Open','Low','High','Close'],index=['2020-12-07', '2020-12-08'])\n",
    "history"
   ]
  },
  {
   "cell_type": "markdown",
   "metadata": {
    "id": "bcdFHAWg62x1"
   },
   "source": [
    "Следующий пример демонстрирует возможность создания датафрейма из кортежа. Пусть имеются данные о температуре и давлении в три первых дня мая. Оформим пары (температура, давление) в виде списка кортежей и передадим такой список в качестве параметра `pd.DataFrame()`"
   ]
  },
  {
   "cell_type": "code",
   "execution_count": 7,
   "metadata": {
    "colab": {
     "base_uri": "https://localhost:8080/",
     "height": 143
    },
    "id": "GCtqWdii48Gc",
    "outputId": "7ae79428-7234-40ba-a3f2-9b2ec076894d"
   },
   "outputs": [
    {
     "data": {
      "text/html": [
       "<div>\n",
       "<style scoped>\n",
       "    .dataframe tbody tr th:only-of-type {\n",
       "        vertical-align: middle;\n",
       "    }\n",
       "\n",
       "    .dataframe tbody tr th {\n",
       "        vertical-align: top;\n",
       "    }\n",
       "\n",
       "    .dataframe thead th {\n",
       "        text-align: right;\n",
       "    }\n",
       "</style>\n",
       "<table border=\"1\" class=\"dataframe\">\n",
       "  <thead>\n",
       "    <tr style=\"text-align: right;\">\n",
       "      <th></th>\n",
       "      <th>Temperature</th>\n",
       "      <th>Pressure</th>\n",
       "    </tr>\n",
       "  </thead>\n",
       "  <tbody>\n",
       "    <tr>\n",
       "      <th>1</th>\n",
       "      <td>15</td>\n",
       "      <td>750.0</td>\n",
       "    </tr>\n",
       "    <tr>\n",
       "      <th>2</th>\n",
       "      <td>17</td>\n",
       "      <td>752.0</td>\n",
       "    </tr>\n",
       "    <tr>\n",
       "      <th>3</th>\n",
       "      <td>22</td>\n",
       "      <td>NaN</td>\n",
       "    </tr>\n",
       "  </tbody>\n",
       "</table>\n",
       "</div>"
      ],
      "text/plain": [
       "   Temperature  Pressure\n",
       "1           15     750.0\n",
       "2           17     752.0\n",
       "3           22       NaN"
      ]
     },
     "execution_count": 7,
     "metadata": {},
     "output_type": "execute_result"
    }
   ],
   "source": [
    "may=pd.DataFrame([(15,750),(17,752),(22,)], index=[1,2,3], columns=['Temperature','Pressure'])\n",
    "may"
   ]
  },
  {
   "cell_type": "markdown",
   "metadata": {
    "id": "KxLDOxlXHcnw"
   },
   "source": [
    "<u>Задание</u>. Мебельная фабрика выпускает продукцию  наименований: диваны, кровати, трюмо. Создайте таблицу *DatаFrame*, содержащую: количество призведенной продукции каждого наименования, остаток на складе фабрики. Наименования разместите в строках, а количество и остаток в столбцах."
   ]
  },
  {
   "cell_type": "markdown",
   "metadata": {
    "id": "4-VMbARUiXxB"
   },
   "source": [
    "<u>Задание</u>. Разделите столбец **car** таблицы **market** на два столбца: **mark** (марка) и **model** (модель)."
   ]
  },
  {
   "cell_type": "markdown",
   "metadata": {
    "id": "98Jzd_jrNrZU"
   },
   "source": [
    "#### С помощью функции read_csv()\n"
   ]
  },
  {
   "cell_type": "markdown",
   "metadata": {
    "id": "8tFIdxTgN9CY"
   },
   "source": [
    "Файл `.csv` - это текстовый файл с разделителями. Функция `read_csv()` позволяет получить данные, хранящиеся в формате `csv`. Обязательным параметром является имя файла.\n",
    "\n",
    "`pd.read_csv('Полный_путь_к_файлу/название_файла.csv')`\n",
    "\n",
    "Функция возвращает таблицу DataFrame. Важными параметрами функции являются: \n",
    "<PRE>\n",
    "`sep` - разделитель, по умолчанию запятая;\n",
    "`decimal` - разделитель числа на целую и дробную часть, по умолчанию точка;\n",
    "`names` — список с названиями колонок, необязательный параметр;\n",
    "`skiprows` - позволяет не загружать верхние строки файла.\n",
    "</Pre>\n",
    "\n",
    "Используем функцию read_csv() для создания датафрейма из csv-файла учебного примера `Financial Sample.csv`."
   ]
  },
  {
   "cell_type": "code",
   "execution_count": 8,
   "metadata": {
    "colab": {
     "base_uri": "https://localhost:8080/",
     "height": 513
    },
    "id": "ARnErsVfcXxc",
    "outputId": "edb709db-e9ea-4f2f-f489-624aa56790f7"
   },
   "outputs": [
    {
     "data": {
      "text/html": [
       "<div>\n",
       "<style scoped>\n",
       "    .dataframe tbody tr th:only-of-type {\n",
       "        vertical-align: middle;\n",
       "    }\n",
       "\n",
       "    .dataframe tbody tr th {\n",
       "        vertical-align: top;\n",
       "    }\n",
       "\n",
       "    .dataframe thead th {\n",
       "        text-align: right;\n",
       "    }\n",
       "</style>\n",
       "<table border=\"1\" class=\"dataframe\">\n",
       "  <thead>\n",
       "    <tr style=\"text-align: right;\">\n",
       "      <th></th>\n",
       "      <th>Id</th>\n",
       "      <th>Segment</th>\n",
       "      <th>Country</th>\n",
       "      <th>Product</th>\n",
       "      <th>DiscountBand</th>\n",
       "      <th>UnitsSold</th>\n",
       "      <th>ManufacturingPrice</th>\n",
       "      <th>SalePrice</th>\n",
       "      <th>GrossSales</th>\n",
       "      <th>Discounts</th>\n",
       "      <th>Sales</th>\n",
       "      <th>COGS</th>\n",
       "      <th>Profit</th>\n",
       "      <th>Date</th>\n",
       "      <th>MonthNumber</th>\n",
       "      <th>MonthName</th>\n",
       "      <th>Year</th>\n",
       "    </tr>\n",
       "  </thead>\n",
       "  <tbody>\n",
       "    <tr>\n",
       "      <th>0</th>\n",
       "      <td>0</td>\n",
       "      <td>Government</td>\n",
       "      <td>Canada</td>\n",
       "      <td>Carretera</td>\n",
       "      <td>None</td>\n",
       "      <td>1618.5</td>\n",
       "      <td>3.0</td>\n",
       "      <td>20.0</td>\n",
       "      <td>32370.0</td>\n",
       "      <td>0.00</td>\n",
       "      <td>32370.0</td>\n",
       "      <td>16185.0</td>\n",
       "      <td>16185.000</td>\n",
       "      <td>2014-01-01</td>\n",
       "      <td>1.0</td>\n",
       "      <td>January</td>\n",
       "      <td>2014.0</td>\n",
       "    </tr>\n",
       "    <tr>\n",
       "      <th>1</th>\n",
       "      <td>1</td>\n",
       "      <td>Government</td>\n",
       "      <td>Germany</td>\n",
       "      <td>Carretera</td>\n",
       "      <td>None</td>\n",
       "      <td>1321.0</td>\n",
       "      <td>3.0</td>\n",
       "      <td>20.0</td>\n",
       "      <td>26420.0</td>\n",
       "      <td>0.00</td>\n",
       "      <td>26420.0</td>\n",
       "      <td>13210.0</td>\n",
       "      <td>13210.000</td>\n",
       "      <td>2014-01-01</td>\n",
       "      <td>1.0</td>\n",
       "      <td>January</td>\n",
       "      <td>2014.0</td>\n",
       "    </tr>\n",
       "    <tr>\n",
       "      <th>2</th>\n",
       "      <td>2</td>\n",
       "      <td>Midmarket</td>\n",
       "      <td>France</td>\n",
       "      <td>Carretera</td>\n",
       "      <td>None</td>\n",
       "      <td>2178.0</td>\n",
       "      <td>3.0</td>\n",
       "      <td>15.0</td>\n",
       "      <td>32670.0</td>\n",
       "      <td>0.00</td>\n",
       "      <td>32670.0</td>\n",
       "      <td>21780.0</td>\n",
       "      <td>10890.000</td>\n",
       "      <td>2014-06-01</td>\n",
       "      <td>6.0</td>\n",
       "      <td>June</td>\n",
       "      <td>2014.0</td>\n",
       "    </tr>\n",
       "    <tr>\n",
       "      <th>3</th>\n",
       "      <td>3</td>\n",
       "      <td>Midmarket</td>\n",
       "      <td>Germany</td>\n",
       "      <td>Carretera</td>\n",
       "      <td>None</td>\n",
       "      <td>888.0</td>\n",
       "      <td>3.0</td>\n",
       "      <td>15.0</td>\n",
       "      <td>13320.0</td>\n",
       "      <td>0.00</td>\n",
       "      <td>13320.0</td>\n",
       "      <td>8880.0</td>\n",
       "      <td>4440.000</td>\n",
       "      <td>2014-06-01</td>\n",
       "      <td>6.0</td>\n",
       "      <td>June</td>\n",
       "      <td>2014.0</td>\n",
       "    </tr>\n",
       "    <tr>\n",
       "      <th>4</th>\n",
       "      <td>4</td>\n",
       "      <td>Midmarket</td>\n",
       "      <td>Mexico</td>\n",
       "      <td>Carretera</td>\n",
       "      <td>None</td>\n",
       "      <td>2470.0</td>\n",
       "      <td>3.0</td>\n",
       "      <td>15.0</td>\n",
       "      <td>37050.0</td>\n",
       "      <td>0.00</td>\n",
       "      <td>37050.0</td>\n",
       "      <td>24700.0</td>\n",
       "      <td>12350.000</td>\n",
       "      <td>2014-06-01</td>\n",
       "      <td>6.0</td>\n",
       "      <td>June</td>\n",
       "      <td>2014.0</td>\n",
       "    </tr>\n",
       "    <tr>\n",
       "      <th>...</th>\n",
       "      <td>...</td>\n",
       "      <td>...</td>\n",
       "      <td>...</td>\n",
       "      <td>...</td>\n",
       "      <td>...</td>\n",
       "      <td>...</td>\n",
       "      <td>...</td>\n",
       "      <td>...</td>\n",
       "      <td>...</td>\n",
       "      <td>...</td>\n",
       "      <td>...</td>\n",
       "      <td>...</td>\n",
       "      <td>...</td>\n",
       "      <td>...</td>\n",
       "      <td>...</td>\n",
       "      <td>...</td>\n",
       "      <td>...</td>\n",
       "    </tr>\n",
       "    <tr>\n",
       "      <th>1395</th>\n",
       "      <td>1395</td>\n",
       "      <td>Small Business</td>\n",
       "      <td>Albania</td>\n",
       "      <td>Carretera</td>\n",
       "      <td>Green</td>\n",
       "      <td>2348.0</td>\n",
       "      <td>97.0</td>\n",
       "      <td>164.9</td>\n",
       "      <td>10772.0</td>\n",
       "      <td>18.32</td>\n",
       "      <td>10666.0</td>\n",
       "      <td>7540.4</td>\n",
       "      <td>3871.852</td>\n",
       "      <td>2014-12-13</td>\n",
       "      <td>12.0</td>\n",
       "      <td>December</td>\n",
       "      <td>2014.0</td>\n",
       "    </tr>\n",
       "    <tr>\n",
       "      <th>1396</th>\n",
       "      <td>1396</td>\n",
       "      <td>Government</td>\n",
       "      <td>Finland</td>\n",
       "      <td>Montana</td>\n",
       "      <td>Green</td>\n",
       "      <td>2184.0</td>\n",
       "      <td>115.0</td>\n",
       "      <td>195.5</td>\n",
       "      <td>19337.0</td>\n",
       "      <td>21.72</td>\n",
       "      <td>16125.0</td>\n",
       "      <td>13535.9</td>\n",
       "      <td>4269.720</td>\n",
       "      <td>2014-11-24</td>\n",
       "      <td>11.0</td>\n",
       "      <td>November</td>\n",
       "      <td>2014.0</td>\n",
       "    </tr>\n",
       "    <tr>\n",
       "      <th>1397</th>\n",
       "      <td>1397</td>\n",
       "      <td>Enterprise</td>\n",
       "      <td>Albania</td>\n",
       "      <td>Velo</td>\n",
       "      <td>Medium</td>\n",
       "      <td>2756.0</td>\n",
       "      <td>73.0</td>\n",
       "      <td>124.1</td>\n",
       "      <td>17624.0</td>\n",
       "      <td>13.79</td>\n",
       "      <td>15757.0</td>\n",
       "      <td>12336.8</td>\n",
       "      <td>3420.196</td>\n",
       "      <td>2014-04-20</td>\n",
       "      <td>4.0</td>\n",
       "      <td>April</td>\n",
       "      <td>2014.0</td>\n",
       "    </tr>\n",
       "    <tr>\n",
       "      <th>1398</th>\n",
       "      <td>1398</td>\n",
       "      <td>Enterprise</td>\n",
       "      <td>Mexico</td>\n",
       "      <td>Nice</td>\n",
       "      <td>Green</td>\n",
       "      <td>2060.0</td>\n",
       "      <td>64.0</td>\n",
       "      <td>108.8</td>\n",
       "      <td>19143.0</td>\n",
       "      <td>12.09</td>\n",
       "      <td>21038.0</td>\n",
       "      <td>13400.1</td>\n",
       "      <td>2241.280</td>\n",
       "      <td>2014-11-10</td>\n",
       "      <td>11.0</td>\n",
       "      <td>November</td>\n",
       "      <td>2014.0</td>\n",
       "    </tr>\n",
       "    <tr>\n",
       "      <th>1399</th>\n",
       "      <td>1399</td>\n",
       "      <td>Enterprise</td>\n",
       "      <td>Mexico</td>\n",
       "      <td>Paseo</td>\n",
       "      <td>Green</td>\n",
       "      <td>2922.0</td>\n",
       "      <td>58.0</td>\n",
       "      <td>98.6</td>\n",
       "      <td>19885.0</td>\n",
       "      <td>10.96</td>\n",
       "      <td>1793.0</td>\n",
       "      <td>13919.5</td>\n",
       "      <td>2881.092</td>\n",
       "      <td>2014-10-16</td>\n",
       "      <td>10.0</td>\n",
       "      <td>October</td>\n",
       "      <td>2014.0</td>\n",
       "    </tr>\n",
       "  </tbody>\n",
       "</table>\n",
       "<p>1400 rows × 17 columns</p>\n",
       "</div>"
      ],
      "text/plain": [
       "        Id         Segment  Country    Product DiscountBand  UnitsSold  \\\n",
       "0        0      Government   Canada  Carretera         None     1618.5   \n",
       "1        1      Government  Germany  Carretera         None     1321.0   \n",
       "2        2       Midmarket   France  Carretera         None     2178.0   \n",
       "3        3       Midmarket  Germany  Carretera         None      888.0   \n",
       "4        4       Midmarket   Mexico  Carretera         None     2470.0   \n",
       "...    ...             ...      ...        ...          ...        ...   \n",
       "1395  1395  Small Business  Albania  Carretera        Green     2348.0   \n",
       "1396  1396      Government  Finland    Montana        Green     2184.0   \n",
       "1397  1397      Enterprise  Albania       Velo       Medium     2756.0   \n",
       "1398  1398      Enterprise   Mexico       Nice        Green     2060.0   \n",
       "1399  1399      Enterprise   Mexico      Paseo        Green     2922.0   \n",
       "\n",
       "      ManufacturingPrice  SalePrice  GrossSales  Discounts    Sales     COGS  \\\n",
       "0                    3.0       20.0     32370.0       0.00  32370.0  16185.0   \n",
       "1                    3.0       20.0     26420.0       0.00  26420.0  13210.0   \n",
       "2                    3.0       15.0     32670.0       0.00  32670.0  21780.0   \n",
       "3                    3.0       15.0     13320.0       0.00  13320.0   8880.0   \n",
       "4                    3.0       15.0     37050.0       0.00  37050.0  24700.0   \n",
       "...                  ...        ...         ...        ...      ...      ...   \n",
       "1395                97.0      164.9     10772.0      18.32  10666.0   7540.4   \n",
       "1396               115.0      195.5     19337.0      21.72  16125.0  13535.9   \n",
       "1397                73.0      124.1     17624.0      13.79  15757.0  12336.8   \n",
       "1398                64.0      108.8     19143.0      12.09  21038.0  13400.1   \n",
       "1399                58.0       98.6     19885.0      10.96   1793.0  13919.5   \n",
       "\n",
       "         Profit        Date  MonthNumber MonthName    Year  \n",
       "0     16185.000  2014-01-01          1.0   January  2014.0  \n",
       "1     13210.000  2014-01-01          1.0   January  2014.0  \n",
       "2     10890.000  2014-06-01          6.0      June  2014.0  \n",
       "3      4440.000  2014-06-01          6.0      June  2014.0  \n",
       "4     12350.000  2014-06-01          6.0      June  2014.0  \n",
       "...         ...         ...          ...       ...     ...  \n",
       "1395   3871.852  2014-12-13         12.0  December  2014.0  \n",
       "1396   4269.720  2014-11-24         11.0  November  2014.0  \n",
       "1397   3420.196  2014-04-20          4.0     April  2014.0  \n",
       "1398   2241.280  2014-11-10         11.0  November  2014.0  \n",
       "1399   2881.092  2014-10-16         10.0   October  2014.0  \n",
       "\n",
       "[1400 rows x 17 columns]"
      ]
     },
     "execution_count": 8,
     "metadata": {},
     "output_type": "execute_result"
    }
   ],
   "source": [
    "fs = pd.read_csv('../Data/FinancialSample2.csv', sep=';')\n",
    "fs"
   ]
  },
  {
   "cell_type": "markdown",
   "metadata": {
    "id": "BJgb5zUgcY6l"
   },
   "source": [
    "### Методы *head(), tail(), sample()*\n",
    "\n",
    "Выводят на печать первые, последние или случайные строки таблицы. Например, метод `.head()` выводит пять первых строк. Число строк можно явно указывать в качестве параметра метода."
   ]
  },
  {
   "cell_type": "code",
   "execution_count": 9,
   "metadata": {
    "colab": {
     "base_uri": "https://localhost:8080/",
     "height": 226
    },
    "id": "jEy4MKk_99G8",
    "outputId": "9eb1c8fc-1ddd-4261-9530-fa32dc4ab9b4"
   },
   "outputs": [
    {
     "data": {
      "text/html": [
       "<div>\n",
       "<style scoped>\n",
       "    .dataframe tbody tr th:only-of-type {\n",
       "        vertical-align: middle;\n",
       "    }\n",
       "\n",
       "    .dataframe tbody tr th {\n",
       "        vertical-align: top;\n",
       "    }\n",
       "\n",
       "    .dataframe thead th {\n",
       "        text-align: right;\n",
       "    }\n",
       "</style>\n",
       "<table border=\"1\" class=\"dataframe\">\n",
       "  <thead>\n",
       "    <tr style=\"text-align: right;\">\n",
       "      <th></th>\n",
       "      <th>Id</th>\n",
       "      <th>Segment</th>\n",
       "      <th>Country</th>\n",
       "      <th>Product</th>\n",
       "      <th>DiscountBand</th>\n",
       "      <th>UnitsSold</th>\n",
       "      <th>ManufacturingPrice</th>\n",
       "      <th>SalePrice</th>\n",
       "      <th>GrossSales</th>\n",
       "      <th>Discounts</th>\n",
       "      <th>Sales</th>\n",
       "      <th>COGS</th>\n",
       "      <th>Profit</th>\n",
       "      <th>Date</th>\n",
       "      <th>MonthNumber</th>\n",
       "      <th>MonthName</th>\n",
       "      <th>Year</th>\n",
       "    </tr>\n",
       "  </thead>\n",
       "  <tbody>\n",
       "    <tr>\n",
       "      <th>0</th>\n",
       "      <td>0</td>\n",
       "      <td>Government</td>\n",
       "      <td>Canada</td>\n",
       "      <td>Carretera</td>\n",
       "      <td>None</td>\n",
       "      <td>1618.5</td>\n",
       "      <td>3.0</td>\n",
       "      <td>20.0</td>\n",
       "      <td>32370.0</td>\n",
       "      <td>0.0</td>\n",
       "      <td>32370.0</td>\n",
       "      <td>16185.0</td>\n",
       "      <td>16185.0</td>\n",
       "      <td>2014-01-01</td>\n",
       "      <td>1.0</td>\n",
       "      <td>January</td>\n",
       "      <td>2014.0</td>\n",
       "    </tr>\n",
       "    <tr>\n",
       "      <th>1</th>\n",
       "      <td>1</td>\n",
       "      <td>Government</td>\n",
       "      <td>Germany</td>\n",
       "      <td>Carretera</td>\n",
       "      <td>None</td>\n",
       "      <td>1321.0</td>\n",
       "      <td>3.0</td>\n",
       "      <td>20.0</td>\n",
       "      <td>26420.0</td>\n",
       "      <td>0.0</td>\n",
       "      <td>26420.0</td>\n",
       "      <td>13210.0</td>\n",
       "      <td>13210.0</td>\n",
       "      <td>2014-01-01</td>\n",
       "      <td>1.0</td>\n",
       "      <td>January</td>\n",
       "      <td>2014.0</td>\n",
       "    </tr>\n",
       "    <tr>\n",
       "      <th>2</th>\n",
       "      <td>2</td>\n",
       "      <td>Midmarket</td>\n",
       "      <td>France</td>\n",
       "      <td>Carretera</td>\n",
       "      <td>None</td>\n",
       "      <td>2178.0</td>\n",
       "      <td>3.0</td>\n",
       "      <td>15.0</td>\n",
       "      <td>32670.0</td>\n",
       "      <td>0.0</td>\n",
       "      <td>32670.0</td>\n",
       "      <td>21780.0</td>\n",
       "      <td>10890.0</td>\n",
       "      <td>2014-06-01</td>\n",
       "      <td>6.0</td>\n",
       "      <td>June</td>\n",
       "      <td>2014.0</td>\n",
       "    </tr>\n",
       "    <tr>\n",
       "      <th>3</th>\n",
       "      <td>3</td>\n",
       "      <td>Midmarket</td>\n",
       "      <td>Germany</td>\n",
       "      <td>Carretera</td>\n",
       "      <td>None</td>\n",
       "      <td>888.0</td>\n",
       "      <td>3.0</td>\n",
       "      <td>15.0</td>\n",
       "      <td>13320.0</td>\n",
       "      <td>0.0</td>\n",
       "      <td>13320.0</td>\n",
       "      <td>8880.0</td>\n",
       "      <td>4440.0</td>\n",
       "      <td>2014-06-01</td>\n",
       "      <td>6.0</td>\n",
       "      <td>June</td>\n",
       "      <td>2014.0</td>\n",
       "    </tr>\n",
       "    <tr>\n",
       "      <th>4</th>\n",
       "      <td>4</td>\n",
       "      <td>Midmarket</td>\n",
       "      <td>Mexico</td>\n",
       "      <td>Carretera</td>\n",
       "      <td>None</td>\n",
       "      <td>2470.0</td>\n",
       "      <td>3.0</td>\n",
       "      <td>15.0</td>\n",
       "      <td>37050.0</td>\n",
       "      <td>0.0</td>\n",
       "      <td>37050.0</td>\n",
       "      <td>24700.0</td>\n",
       "      <td>12350.0</td>\n",
       "      <td>2014-06-01</td>\n",
       "      <td>6.0</td>\n",
       "      <td>June</td>\n",
       "      <td>2014.0</td>\n",
       "    </tr>\n",
       "  </tbody>\n",
       "</table>\n",
       "</div>"
      ],
      "text/plain": [
       "   Id     Segment  Country    Product DiscountBand  UnitsSold  \\\n",
       "0   0  Government   Canada  Carretera         None     1618.5   \n",
       "1   1  Government  Germany  Carretera         None     1321.0   \n",
       "2   2   Midmarket   France  Carretera         None     2178.0   \n",
       "3   3   Midmarket  Germany  Carretera         None      888.0   \n",
       "4   4   Midmarket   Mexico  Carretera         None     2470.0   \n",
       "\n",
       "   ManufacturingPrice  SalePrice  GrossSales  Discounts    Sales     COGS  \\\n",
       "0                 3.0       20.0     32370.0        0.0  32370.0  16185.0   \n",
       "1                 3.0       20.0     26420.0        0.0  26420.0  13210.0   \n",
       "2                 3.0       15.0     32670.0        0.0  32670.0  21780.0   \n",
       "3                 3.0       15.0     13320.0        0.0  13320.0   8880.0   \n",
       "4                 3.0       15.0     37050.0        0.0  37050.0  24700.0   \n",
       "\n",
       "    Profit        Date  MonthNumber MonthName    Year  \n",
       "0  16185.0  2014-01-01          1.0   January  2014.0  \n",
       "1  13210.0  2014-01-01          1.0   January  2014.0  \n",
       "2  10890.0  2014-06-01          6.0      June  2014.0  \n",
       "3   4440.0  2014-06-01          6.0      June  2014.0  \n",
       "4  12350.0  2014-06-01          6.0      June  2014.0  "
      ]
     },
     "execution_count": 9,
     "metadata": {},
     "output_type": "execute_result"
    }
   ],
   "source": [
    "fs.head()"
   ]
  },
  {
   "cell_type": "markdown",
   "metadata": {
    "id": "5AQKhYXXEWbS"
   },
   "source": [
    "### Чтение и запись в файл\n",
    "\n",
    "При работе с `csv` файлами в *pandas* всегда надо стремиться использовать функцию `read_csv()`. Но если, по каким-то причинам, это нецелесообразно, то можно применить следующий алгоритм:\n",
    "\n",
    "1. Открыть файл\n",
    "2. Прочитать его построчно\n",
    "3. Каждую строку разбить на элементы и включить в список уровня строки\n",
    "4. Создать список уровня файла, содержащий в себе построчные списки\n",
    "5. Создать DataFtame\n",
    "\n",
    "\n",
    "<u>Пример</u>. Применим этот алгоритм для создадания датафрейма из csv-файла `Financial Sample Fields.csv`."
   ]
  },
  {
   "cell_type": "code",
   "execution_count": 10,
   "metadata": {
    "colab": {
     "base_uri": "https://localhost:8080/",
     "height": 551
    },
    "id": "8Hl-6lf3E8dD",
    "outputId": "9ff88d94-3574-4302-956b-f36bc38510e1"
   },
   "outputs": [
    {
     "data": {
      "text/html": [
       "<div>\n",
       "<style scoped>\n",
       "    .dataframe tbody tr th:only-of-type {\n",
       "        vertical-align: middle;\n",
       "    }\n",
       "\n",
       "    .dataframe tbody tr th {\n",
       "        vertical-align: top;\n",
       "    }\n",
       "\n",
       "    .dataframe thead th {\n",
       "        text-align: right;\n",
       "    }\n",
       "</style>\n",
       "<table border=\"1\" class=\"dataframe\">\n",
       "  <thead>\n",
       "    <tr style=\"text-align: right;\">\n",
       "      <th></th>\n",
       "      <th>Name</th>\n",
       "      <th>Meaning</th>\n",
       "    </tr>\n",
       "  </thead>\n",
       "  <tbody>\n",
       "    <tr>\n",
       "      <th>0</th>\n",
       "      <td>Segment</td>\n",
       "      <td>Сегмент рынка</td>\n",
       "    </tr>\n",
       "    <tr>\n",
       "      <th>1</th>\n",
       "      <td>Country</td>\n",
       "      <td>Страна</td>\n",
       "    </tr>\n",
       "    <tr>\n",
       "      <th>2</th>\n",
       "      <td>Product</td>\n",
       "      <td>Сделано в</td>\n",
       "    </tr>\n",
       "    <tr>\n",
       "      <th>3</th>\n",
       "      <td>DiscountBand</td>\n",
       "      <td>Группа скидок</td>\n",
       "    </tr>\n",
       "    <tr>\n",
       "      <th>4</th>\n",
       "      <td>UnitsSold</td>\n",
       "      <td>Продано штук</td>\n",
       "    </tr>\n",
       "    <tr>\n",
       "      <th>5</th>\n",
       "      <td>ManufacturingPrice</td>\n",
       "      <td>Цена производства</td>\n",
       "    </tr>\n",
       "    <tr>\n",
       "      <th>6</th>\n",
       "      <td>SalePrice</td>\n",
       "      <td>Цена единицы товара</td>\n",
       "    </tr>\n",
       "    <tr>\n",
       "      <th>7</th>\n",
       "      <td>GrossSales</td>\n",
       "      <td>Валовая продажа</td>\n",
       "    </tr>\n",
       "    <tr>\n",
       "      <th>8</th>\n",
       "      <td>Discounts</td>\n",
       "      <td>Скидка</td>\n",
       "    </tr>\n",
       "    <tr>\n",
       "      <th>9</th>\n",
       "      <td>Sales</td>\n",
       "      <td>Стоимость партии товара</td>\n",
       "    </tr>\n",
       "    <tr>\n",
       "      <th>10</th>\n",
       "      <td>COGS</td>\n",
       "      <td>Себестоимость проданных товаров</td>\n",
       "    </tr>\n",
       "    <tr>\n",
       "      <th>11</th>\n",
       "      <td>Profit</td>\n",
       "      <td>Прибыль</td>\n",
       "    </tr>\n",
       "    <tr>\n",
       "      <th>12</th>\n",
       "      <td>Date</td>\n",
       "      <td>Дата</td>\n",
       "    </tr>\n",
       "    <tr>\n",
       "      <th>13</th>\n",
       "      <td>MonthNumber</td>\n",
       "      <td>Месяц номер</td>\n",
       "    </tr>\n",
       "    <tr>\n",
       "      <th>14</th>\n",
       "      <td>MonthName</td>\n",
       "      <td>Месяц</td>\n",
       "    </tr>\n",
       "    <tr>\n",
       "      <th>15</th>\n",
       "      <td>Year</td>\n",
       "      <td>Год</td>\n",
       "    </tr>\n",
       "  </tbody>\n",
       "</table>\n",
       "</div>"
      ],
      "text/plain": [
       "                  Name                          Meaning\n",
       "0              Segment                    Сегмент рынка\n",
       "1              Country                           Страна\n",
       "2              Product                        Сделано в\n",
       "3         DiscountBand                    Группа скидок\n",
       "4            UnitsSold                     Продано штук\n",
       "5   ManufacturingPrice                Цена производства\n",
       "6            SalePrice              Цена единицы товара\n",
       "7           GrossSales                  Валовая продажа\n",
       "8            Discounts                           Скидка\n",
       "9                Sales          Стоимость партии товара\n",
       "10                COGS  Себестоимость проданных товаров\n",
       "11              Profit                          Прибыль\n",
       "12                Date                             Дата\n",
       "13         MonthNumber                      Месяц номер\n",
       "14           MonthName                            Месяц\n",
       "15                Year                              Год"
      ]
     },
     "execution_count": 10,
     "metadata": {},
     "output_type": "execute_result"
    }
   ],
   "source": [
    "with open('../Data/FinancialSampleFields.csv', encoding='utf-8') as f:\n",
    "  content = f.readlines()\n",
    "  content = [x.replace('\\n','').split(';') for x in content]\n",
    "\n",
    "pd.DataFrame(content[1:],columns = content[0])"
   ]
  },
  {
   "cell_type": "markdown",
   "metadata": {
    "id": "NJByWmpXhQAI"
   },
   "source": [
    "### Метод *info()*\n",
    "\n",
    "Метод *info()* предоставляет информацию о колонках *DataFrame*."
   ]
  },
  {
   "cell_type": "code",
   "execution_count": 11,
   "metadata": {
    "colab": {
     "base_uri": "https://localhost:8080/"
    },
    "id": "TyPXGx6dhmEB",
    "outputId": "e11eb432-232a-4bfd-dad3-73ead8d11f95"
   },
   "outputs": [
    {
     "name": "stdout",
     "output_type": "stream",
     "text": [
      "<class 'pandas.core.frame.DataFrame'>\n",
      "RangeIndex: 1400 entries, 0 to 1399\n",
      "Data columns (total 17 columns):\n",
      " #   Column              Non-Null Count  Dtype  \n",
      "---  ------              --------------  -----  \n",
      " 0   Id                  1400 non-null   int64  \n",
      " 1   Segment             1400 non-null   object \n",
      " 2   Country             1400 non-null   object \n",
      " 3   Product             1400 non-null   object \n",
      " 4   DiscountBand        1400 non-null   object \n",
      " 5   UnitsSold           1400 non-null   float64\n",
      " 6   ManufacturingPrice  1400 non-null   float64\n",
      " 7   SalePrice           1400 non-null   float64\n",
      " 8   GrossSales          1400 non-null   float64\n",
      " 9   Discounts           1400 non-null   float64\n",
      " 10  Sales               1400 non-null   float64\n",
      " 11  COGS                1400 non-null   float64\n",
      " 12  Profit              1400 non-null   float64\n",
      " 13  Date                1400 non-null   object \n",
      " 14  MonthNumber         1400 non-null   float64\n",
      " 15  MonthName           1400 non-null   object \n",
      " 16  Year                1400 non-null   float64\n",
      "dtypes: float64(10), int64(1), object(6)\n",
      "memory usage: 186.1+ KB\n"
     ]
    }
   ],
   "source": [
    "fs.info()"
   ]
  },
  {
   "cell_type": "markdown",
   "metadata": {
    "id": "fAJn1rt2fGlQ"
   },
   "source": [
    "### Метод *describe()*\n",
    "\n",
    "Метод describe показывает основные статистические характеристики данных по каждому числовому признаку (типы int64 и float64): \n",
    "<PRE>\n",
    "count - число непропущенных значений,\n",
    "mean - среднее, \n",
    "std - стандартное отклонение, \n",
    "min, max - диапазон,\n",
    "50% - медиану,\n",
    "25%, 75% - первый и третий квартили.\n",
    "</Pre>"
   ]
  },
  {
   "cell_type": "code",
   "execution_count": 12,
   "metadata": {
    "colab": {
     "base_uri": "https://localhost:8080/",
     "height": 320
    },
    "id": "OcRcl3uMfb3Q",
    "outputId": "4f1dff84-772f-4b8c-a146-a48271678fa1",
    "scrolled": true
   },
   "outputs": [
    {
     "data": {
      "text/html": [
       "<div>\n",
       "<style scoped>\n",
       "    .dataframe tbody tr th:only-of-type {\n",
       "        vertical-align: middle;\n",
       "    }\n",
       "\n",
       "    .dataframe tbody tr th {\n",
       "        vertical-align: top;\n",
       "    }\n",
       "\n",
       "    .dataframe thead th {\n",
       "        text-align: right;\n",
       "    }\n",
       "</style>\n",
       "<table border=\"1\" class=\"dataframe\">\n",
       "  <thead>\n",
       "    <tr style=\"text-align: right;\">\n",
       "      <th></th>\n",
       "      <th>Id</th>\n",
       "      <th>UnitsSold</th>\n",
       "      <th>ManufacturingPrice</th>\n",
       "      <th>SalePrice</th>\n",
       "      <th>GrossSales</th>\n",
       "      <th>Discounts</th>\n",
       "      <th>Sales</th>\n",
       "      <th>COGS</th>\n",
       "      <th>Profit</th>\n",
       "      <th>MonthNumber</th>\n",
       "      <th>Year</th>\n",
       "    </tr>\n",
       "  </thead>\n",
       "  <tbody>\n",
       "    <tr>\n",
       "      <th>count</th>\n",
       "      <td>1400.0000</td>\n",
       "      <td>1400.000000</td>\n",
       "      <td>1400.000000</td>\n",
       "      <td>1400.000000</td>\n",
       "      <td>1.400000e+03</td>\n",
       "      <td>1400.000000</td>\n",
       "      <td>1.400000e+03</td>\n",
       "      <td>1400.000000</td>\n",
       "      <td>1400.000000</td>\n",
       "      <td>1400.000000</td>\n",
       "      <td>1400.000000</td>\n",
       "    </tr>\n",
       "    <tr>\n",
       "      <th>mean</th>\n",
       "      <td>699.5000</td>\n",
       "      <td>1876.230000</td>\n",
       "      <td>90.720714</td>\n",
       "      <td>131.433929</td>\n",
       "      <td>9.891150e+04</td>\n",
       "      <td>6583.201779</td>\n",
       "      <td>9.105943e+04</td>\n",
       "      <td>78009.859214</td>\n",
       "      <td>13615.445214</td>\n",
       "      <td>7.194286</td>\n",
       "      <td>2013.875000</td>\n",
       "    </tr>\n",
       "    <tr>\n",
       "      <th>std</th>\n",
       "      <td>404.2895</td>\n",
       "      <td>771.770374</td>\n",
       "      <td>78.260912</td>\n",
       "      <td>100.449932</td>\n",
       "      <td>1.983462e+05</td>\n",
       "      <td>17510.508997</td>\n",
       "      <td>1.849289e+05</td>\n",
       "      <td>159130.700169</td>\n",
       "      <td>32013.727239</td>\n",
       "      <td>3.533881</td>\n",
       "      <td>0.330837</td>\n",
       "    </tr>\n",
       "    <tr>\n",
       "      <th>min</th>\n",
       "      <td>0.0000</td>\n",
       "      <td>200.000000</td>\n",
       "      <td>3.000000</td>\n",
       "      <td>7.000000</td>\n",
       "      <td>1.799000e+03</td>\n",
       "      <td>0.000000</td>\n",
       "      <td>3.030000e+02</td>\n",
       "      <td>918.000000</td>\n",
       "      <td>-40617.500000</td>\n",
       "      <td>1.000000</td>\n",
       "      <td>2013.000000</td>\n",
       "    </tr>\n",
       "    <tr>\n",
       "      <th>25%</th>\n",
       "      <td>349.7500</td>\n",
       "      <td>1361.250000</td>\n",
       "      <td>10.000000</td>\n",
       "      <td>20.000000</td>\n",
       "      <td>1.322950e+04</td>\n",
       "      <td>15.062500</td>\n",
       "      <td>9.242435e+03</td>\n",
       "      <td>8653.550000</td>\n",
       "      <td>2381.953500</td>\n",
       "      <td>4.000000</td>\n",
       "      <td>2014.000000</td>\n",
       "    </tr>\n",
       "    <tr>\n",
       "      <th>50%</th>\n",
       "      <td>699.5000</td>\n",
       "      <td>1897.000000</td>\n",
       "      <td>81.000000</td>\n",
       "      <td>125.000000</td>\n",
       "      <td>1.762450e+04</td>\n",
       "      <td>21.720000</td>\n",
       "      <td>1.786350e+04</td>\n",
       "      <td>11580.400000</td>\n",
       "      <td>3599.240000</td>\n",
       "      <td>8.000000</td>\n",
       "      <td>2014.000000</td>\n",
       "    </tr>\n",
       "    <tr>\n",
       "      <th>75%</th>\n",
       "      <td>1049.2500</td>\n",
       "      <td>2469.250000</td>\n",
       "      <td>116.000000</td>\n",
       "      <td>178.500000</td>\n",
       "      <td>3.798000e+04</td>\n",
       "      <td>2579.625000</td>\n",
       "      <td>3.551750e+04</td>\n",
       "      <td>22484.375000</td>\n",
       "      <td>9242.000000</td>\n",
       "      <td>10.000000</td>\n",
       "      <td>2014.000000</td>\n",
       "    </tr>\n",
       "    <tr>\n",
       "      <th>max</th>\n",
       "      <td>1399.0000</td>\n",
       "      <td>4492.500000</td>\n",
       "      <td>260.000000</td>\n",
       "      <td>350.000000</td>\n",
       "      <td>1.207500e+06</td>\n",
       "      <td>149677.500000</td>\n",
       "      <td>1.159200e+06</td>\n",
       "      <td>950625.000000</td>\n",
       "      <td>262200.000000</td>\n",
       "      <td>12.000000</td>\n",
       "      <td>2014.000000</td>\n",
       "    </tr>\n",
       "  </tbody>\n",
       "</table>\n",
       "</div>"
      ],
      "text/plain": [
       "              Id    UnitsSold  ManufacturingPrice    SalePrice    GrossSales  \\\n",
       "count  1400.0000  1400.000000         1400.000000  1400.000000  1.400000e+03   \n",
       "mean    699.5000  1876.230000           90.720714   131.433929  9.891150e+04   \n",
       "std     404.2895   771.770374           78.260912   100.449932  1.983462e+05   \n",
       "min       0.0000   200.000000            3.000000     7.000000  1.799000e+03   \n",
       "25%     349.7500  1361.250000           10.000000    20.000000  1.322950e+04   \n",
       "50%     699.5000  1897.000000           81.000000   125.000000  1.762450e+04   \n",
       "75%    1049.2500  2469.250000          116.000000   178.500000  3.798000e+04   \n",
       "max    1399.0000  4492.500000          260.000000   350.000000  1.207500e+06   \n",
       "\n",
       "           Discounts         Sales           COGS         Profit  MonthNumber  \\\n",
       "count    1400.000000  1.400000e+03    1400.000000    1400.000000  1400.000000   \n",
       "mean     6583.201779  9.105943e+04   78009.859214   13615.445214     7.194286   \n",
       "std     17510.508997  1.849289e+05  159130.700169   32013.727239     3.533881   \n",
       "min         0.000000  3.030000e+02     918.000000  -40617.500000     1.000000   \n",
       "25%        15.062500  9.242435e+03    8653.550000    2381.953500     4.000000   \n",
       "50%        21.720000  1.786350e+04   11580.400000    3599.240000     8.000000   \n",
       "75%      2579.625000  3.551750e+04   22484.375000    9242.000000    10.000000   \n",
       "max    149677.500000  1.159200e+06  950625.000000  262200.000000    12.000000   \n",
       "\n",
       "              Year  \n",
       "count  1400.000000  \n",
       "mean   2013.875000  \n",
       "std       0.330837  \n",
       "min    2013.000000  \n",
       "25%    2014.000000  \n",
       "50%    2014.000000  \n",
       "75%    2014.000000  \n",
       "max    2014.000000  "
      ]
     },
     "execution_count": 12,
     "metadata": {},
     "output_type": "execute_result"
    }
   ],
   "source": [
    "fs.describe()"
   ]
  },
  {
   "cell_type": "markdown",
   "metadata": {
    "id": "GcWmGKwggv7d"
   },
   "source": [
    "Чтобы посмотреть статистику по нечисловым данным (например, по строчным `object` или логическим `bool`), нужно явно указать интересующие типы в параметре `include`. Для каждой колонки с типом `object` (строчные данные) выводится количество непустых строк, уникальных значений, самое частое значение `top` и частота этого значения `freq`."
   ]
  },
  {
   "cell_type": "code",
   "execution_count": 13,
   "metadata": {
    "colab": {
     "base_uri": "https://localhost:8080/",
     "height": 175
    },
    "id": "fNl2WZmRhBEO",
    "outputId": "913f955e-6ec2-4bc7-ef7f-ded2b7d2447c",
    "scrolled": true
   },
   "outputs": [
    {
     "data": {
      "text/html": [
       "<div>\n",
       "<style scoped>\n",
       "    .dataframe tbody tr th:only-of-type {\n",
       "        vertical-align: middle;\n",
       "    }\n",
       "\n",
       "    .dataframe tbody tr th {\n",
       "        vertical-align: top;\n",
       "    }\n",
       "\n",
       "    .dataframe thead th {\n",
       "        text-align: right;\n",
       "    }\n",
       "</style>\n",
       "<table border=\"1\" class=\"dataframe\">\n",
       "  <thead>\n",
       "    <tr style=\"text-align: right;\">\n",
       "      <th></th>\n",
       "      <th>Segment</th>\n",
       "      <th>Country</th>\n",
       "      <th>Product</th>\n",
       "      <th>DiscountBand</th>\n",
       "      <th>Date</th>\n",
       "      <th>MonthName</th>\n",
       "    </tr>\n",
       "  </thead>\n",
       "  <tbody>\n",
       "    <tr>\n",
       "      <th>count</th>\n",
       "      <td>1400</td>\n",
       "      <td>1400</td>\n",
       "      <td>1400</td>\n",
       "      <td>1400</td>\n",
       "      <td>1400</td>\n",
       "      <td>1400</td>\n",
       "    </tr>\n",
       "    <tr>\n",
       "      <th>unique</th>\n",
       "      <td>8</td>\n",
       "      <td>9</td>\n",
       "      <td>9</td>\n",
       "      <td>6</td>\n",
       "      <td>314</td>\n",
       "      <td>12</td>\n",
       "    </tr>\n",
       "    <tr>\n",
       "      <th>top</th>\n",
       "      <td>Government</td>\n",
       "      <td>Mexico</td>\n",
       "      <td>Paseo</td>\n",
       "      <td>High</td>\n",
       "      <td>2014-12-01</td>\n",
       "      <td>October</td>\n",
       "    </tr>\n",
       "    <tr>\n",
       "      <th>freq</th>\n",
       "      <td>389</td>\n",
       "      <td>233</td>\n",
       "      <td>285</td>\n",
       "      <td>384</td>\n",
       "      <td>74</td>\n",
       "      <td>192</td>\n",
       "    </tr>\n",
       "  </tbody>\n",
       "</table>\n",
       "</div>"
      ],
      "text/plain": [
       "           Segment Country Product DiscountBand        Date MonthName\n",
       "count         1400    1400    1400         1400        1400      1400\n",
       "unique           8       9       9            6         314        12\n",
       "top     Government  Mexico   Paseo         High  2014-12-01   October\n",
       "freq           389     233     285          384          74       192"
      ]
     },
     "execution_count": 13,
     "metadata": {},
     "output_type": "execute_result"
    }
   ],
   "source": [
    "fs.describe(include=['object'])"
   ]
  },
  {
   "cell_type": "markdown",
   "metadata": {
    "id": "pR6zutg-hk5w"
   },
   "source": [
    "Задание.\n",
    "Ответьте на вопросы.\n",
    "\n",
    "1. Какова максимальная сумма скидок?\n",
    "2. Какова самая распространенная система скидок?\n",
    "3. Сколько разных систем скидок применяется?\n",
    "4. Какова средняя прибыль?\n",
    "5. Каково стандартное отклонение значений себестоимости проданных товаров?\n",
    "6. Сколько раз встречается самая частая страна Mexico?\n",
    "7. Какое значение у первого квартиля цены продажи?\n"
   ]
  },
  {
   "cell_type": "markdown",
   "metadata": {
    "id": "Z90Io3GKoeZu"
   },
   "source": [
    "### Статистические параметры.\n",
    "\n",
    "Для вычисления отдельных статистических параметров DataFrame можно использовать методы:\n",
    "<Table>\n",
    "<tr><th bgcolor='aqua'>Метод<th bgcolor='aqua' align=left>Статистический параметр\n",
    "<tr><td>.max()<td>Максимум\n",
    "<tr><td>.min()<td>Минимум\n",
    "<tr><td>.mean()<td>Среднее значение\n",
    "<tr><td>.median()<td>Медиана\n",
    "<tr><td>.sum()<td>Сумма\n",
    "<tr><td>.count()<td>Количество непустых элементов\n",
    "<tr><td>.std()<td>Стандартное отклонение\n",
    "<tr><td>.quantile(q)<td>квантиль, 0&ltq&lt1\n",
    "</Table>\n",
    "\n",
    "Если один из этих методов применить ко всему DataFrame, то в результате его работы будет получен объект типа Series. В случае применения метода к отдельному столбцу, результатом вычислений станет число (среднее значение элементов столбца, минимум, максимум и т.п.).\n",
    "\n",
    "Параметры методов:\n",
    "**axis** — определяет, подсчитывать максимум по строкам (1) или по столбцам (0) (по умолчанию 0);\n",
    "\n",
    "**numeric_only** — определяет, вычислять параметры только по числовым столбцам/строкам или нет (True/False). Если передать False в методы .mean() или .std(), компилятор выдаст ошибку.\n",
    "\n",
    "Пример: Рассчитать среднее значение по столбцам таблицы автомобилей на вторичном рынке (market)."
   ]
  },
  {
   "cell_type": "code",
   "execution_count": 14,
   "metadata": {
    "colab": {
     "base_uri": "https://localhost:8080/"
    },
    "id": "Y7HMASvbsub7",
    "outputId": "3c101984-b703-48dc-9d2b-d5d45f190066",
    "scrolled": true
   },
   "outputs": [
    {
     "data": {
      "text/plain": [
       "year           2015.50\n",
       "condition        72.25\n",
       "km           127250.00\n",
       "dtype: float64"
      ]
     },
     "execution_count": 14,
     "metadata": {},
     "output_type": "execute_result"
    }
   ],
   "source": [
    "market.mean()"
   ]
  },
  {
   "cell_type": "markdown",
   "metadata": {
    "id": "-6TwE9fxu58D"
   },
   "source": [
    "<u>Задание</u>. Ответьте на вопросы.\n",
    "1. Каково стандартное отклонение цены производства?\n",
    "2. Какова сумма всех скидок?\n",
    "3. Сколько непустых элементов в категории \"Сегмент\"?\n"
   ]
  },
  {
   "cell_type": "markdown",
   "metadata": {
    "id": "O19QRQijxc8j"
   },
   "source": [
    "### Извлечение данных по условию\n",
    "\n",
    "Использование условий позволяет выбирать только отвечающие условиям данные.\n",
    "\n",
    "Примеры:\n",
    "\n",
    "`fs[fs['SalePrice']>90] # отобрать результаты, для которых цена продажи больше 90`\n",
    "\n",
    "В результате операции сравнения в квадратных скобках создается список из *True* и *False*, который показывает, какие строки *DataFrame* нужно оставить, а какие убрать.\n",
    "\n",
    "`fs[fs['Discounts']>fs['Discounts'].mean()] # результаты, для которых сумма скидок превышает среднюю сумму скидок`\n",
    "\n",
    "Условия можно комбинировать, используя операторы **&** (логическое И) и | (логическое ИЛИ).\n",
    "\n",
    "`fs[(fs['Discounts']>fs['Discounts'].mean()) & (fs['UnitsSold']<fs['UnitsSold'].mean())].sort_values('Country') # сумма скидок выше среднего, продано товара ниже среднего по выборке`\n",
    "\n",
    "`fs[fs['Segment']=='Enterprise']['COGS'].mean() # найти среднюю себестоимость товаров промышленного (Enterprise) сегмента`\n",
    "\n",
    "Проверьте приведенные примеры в своих ноутбуках."
   ]
  },
  {
   "cell_type": "markdown",
   "metadata": {
    "id": "-eCyUerbHb7s"
   },
   "source": [
    "<u>Задание</u>.\n",
    "1. Какова сумма валовых продаж (GrossSales) товаров, произведеных Amarilla для малого бизнеса?\n",
    "2. Определите среднюю стоимость производства (ManufacturingPrice) товаров, выпущенных для Мексики стоимостью (SalePrice) выше, чем стоимость 70% товаров.\n",
    "3. Найдите минимальную цену производства товара правительственого сегмента, для которого цена продажи ниже цены производства.\n",
    "4. Какова средняя цена товара, стоимость производства которого ниже среднего?\n",
    "5. Во сколько раз средняя себестоимость (COGS) товаров промышленного сегмента отличается от средней себестоимости товаров малого бизнеса?"
   ]
  },
  {
   "cell_type": "code",
   "execution_count": 15,
   "metadata": {
    "colab": {
     "base_uri": "https://localhost:8080/"
    },
    "id": "ijcgc65wtBls",
    "outputId": "db56a48e-91f9-49fd-c5d6-d8ba714f46ae"
   },
   "outputs": [
    {
     "data": {
      "text/plain": [
       "5024400.0"
      ]
     },
     "execution_count": 15,
     "metadata": {},
     "output_type": "execute_result"
    }
   ],
   "source": [
    "#1\n",
    "fs[(fs['Product']=='Amarilla') & (fs['Segment']=='Small Business')]['GrossSales'].sum()"
   ]
  },
  {
   "cell_type": "code",
   "execution_count": 16,
   "metadata": {
    "colab": {
     "base_uri": "https://localhost:8080/"
    },
    "id": "XE29H5Mmt3n6",
    "outputId": "132b9a93-89c8-486f-cf50-c8c237e324d5"
   },
   "outputs": [
    {
     "data": {
      "text/plain": [
       "103.23188405797102"
      ]
     },
     "execution_count": 16,
     "metadata": {},
     "output_type": "execute_result"
    }
   ],
   "source": [
    "#2\n",
    "fs[(fs['Country']=='Mexico') & (fs['SalePrice']>fs['SalePrice'].quantile(0.7))]['ManufacturingPrice'].mean()"
   ]
  },
  {
   "cell_type": "code",
   "execution_count": 17,
   "metadata": {
    "colab": {
     "base_uri": "https://localhost:8080/"
    },
    "id": "x8BkVFnMvybb",
    "outputId": "fd0e7b5c-e3b4-4d22-c862-ef53851f5cc9"
   },
   "outputs": [
    {
     "data": {
      "text/plain": [
       "10.0"
      ]
     },
     "execution_count": 17,
     "metadata": {},
     "output_type": "execute_result"
    }
   ],
   "source": [
    "#3\n",
    "fs[(fs['Segment']=='Government') & (fs['SalePrice']<fs['ManufacturingPrice'])]['ManufacturingPrice'].min()"
   ]
  },
  {
   "cell_type": "code",
   "execution_count": 18,
   "metadata": {
    "colab": {
     "base_uri": "https://localhost:8080/"
    },
    "id": "5OHTCVh2xaMU",
    "outputId": "9c343dfd-1b59-4ecf-8f3a-528288f07482"
   },
   "outputs": [
    {
     "data": {
      "text/plain": [
       "115.94744069912616"
      ]
     },
     "execution_count": 18,
     "metadata": {},
     "output_type": "execute_result"
    }
   ],
   "source": [
    "#4\n",
    "fs[(fs['ManufacturingPrice']<fs['ManufacturingPrice'].mean())]['SalePrice'].mean()"
   ]
  },
  {
   "cell_type": "code",
   "execution_count": 19,
   "metadata": {
    "colab": {
     "base_uri": "https://localhost:8080/"
    },
    "id": "jfLgMOVGiR2R",
    "outputId": "a455db3c-39dc-415d-82c1-9352392d7815"
   },
   "outputs": [
    {
     "data": {
      "text/plain": [
       "0.5714966377808542"
      ]
     },
     "execution_count": 19,
     "metadata": {},
     "output_type": "execute_result"
    }
   ],
   "source": [
    "#5\n",
    "fs[fs['Segment']=='Enterprise']['COGS'].mean()/fs[fs['Segment']=='Small Business']['COGS'].mean()"
   ]
  },
  {
   "cell_type": "markdown",
   "metadata": {
    "id": "mLSdzFG55hyA"
   },
   "source": [
    "## Группировка данных\n",
    "\n",
    "Данные можно представить себе как последовательность каких-то единичных наблюдений, например, в нашем датасете единичное наблюдение — это информация о производстве конкретного товара для конкретного потребителя. У каждого наблюдения есть какие-то атрибуты. Они могут быть разных типов:\n",
    "- категориальные — например, система скидок;\n",
    "- численные — например, размер скидки.\n",
    "\n",
    "Решение задачи группировки предполагает разделение данных по некоторому признаку (атрибуту), после чего к каждому элементу этих разделенных данных мы можем применить агрегирующую операцию. Это такая операция, которая позволяет вычислить какой-либо показатель. Затем мы можем оценить, как отличаются эти показатели в зависимости от признака, по которому было осуществлено разделение. Такое разделение мы можем назвать группировкой данных.\n",
    "\n",
    "Умение группировать данные по нужным признакам и быстро высчитывать необходимые параметры — основа, без которых грамотная аналитика невозможна."
   ]
  },
  {
   "cell_type": "markdown",
   "metadata": {
    "id": "emMhVgIr7NAf"
   },
   "source": [
    "### Функция value_counts()\n",
    "\n",
    "Пусть перед нами поставлена задача оценить, сколько раз в выборке присутствуют разные производители"
   ]
  },
  {
   "cell_type": "code",
   "execution_count": 20,
   "metadata": {
    "colab": {
     "base_uri": "https://localhost:8080/"
    },
    "id": "UAgcXQiL9Cco",
    "outputId": "ab793d8b-01ef-4d2d-baa4-dd755361fbb5"
   },
   "outputs": [
    {
     "data": {
      "text/plain": [
       "Paseo        285\n",
       "Velo         204\n",
       "VTT          196\n",
       "Carretera    179\n",
       "Montana      178\n",
       "Geotrack     101\n",
       "Amarilla      94\n",
       "Bal           89\n",
       "Nice          74\n",
       "Name: Product, dtype: int64"
      ]
     },
     "execution_count": 20,
     "metadata": {},
     "output_type": "execute_result"
    }
   ],
   "source": [
    "s=fs['Product'].value_counts()\n",
    "s"
   ]
  },
  {
   "cell_type": "markdown",
   "metadata": {
    "id": "2DBB5mcF9ZA5"
   },
   "source": [
    "Функция `value_counts()` подсчитывает для каждого значения в столбце количество раз, которое это значение встречается.\n",
    "\n",
    "Функция `value_counts()` возвращает серию. В примере выше мы записали её как переменную s. Индекс серии s — это уникальные значения, встречающиеся в исходной серии (столбце).\n",
    "\n",
    "Использование функции `value_counts()` позволяет сделать несколько важных выводов о содержимом столбца."
   ]
  },
  {
   "cell_type": "code",
   "execution_count": 21,
   "metadata": {
    "colab": {
     "base_uri": "https://localhost:8080/"
    },
    "id": "eBqBJGMY-qF6",
    "outputId": "ab154bc6-731c-4769-db60-bcac3ef6fdac"
   },
   "outputs": [
    {
     "data": {
      "text/plain": [
       "Index(['Paseo', 'Velo', 'VTT', 'Carretera', 'Montana', 'Geotrack', 'Amarilla',\n",
       "       'Bal', 'Nice'],\n",
       "      dtype='object')"
      ]
     },
     "execution_count": 21,
     "metadata": {},
     "output_type": "execute_result"
    }
   ],
   "source": [
    "s.index"
   ]
  },
  {
   "cell_type": "markdown",
   "metadata": {
    "id": "NjyLnr30_M52"
   },
   "source": [
    "Обратите внимание, что в индексе названия производителей идут так же, как в серии, то есть по убыванию частоты присутствия в выборке"
   ]
  },
  {
   "cell_type": "code",
   "execution_count": 22,
   "metadata": {
    "colab": {
     "base_uri": "https://localhost:8080/",
     "height": 36
    },
    "id": "2TcaBXds_fEp",
    "outputId": "a554e7d3-d587-4089-b2bd-1053bd7a5bd8"
   },
   "outputs": [
    {
     "data": {
      "text/plain": [
       "'Paseo'"
      ]
     },
     "execution_count": 22,
     "metadata": {},
     "output_type": "execute_result"
    }
   ],
   "source": [
    "s.index[0] # Производитель, наиболее часто встречающийся в выборке"
   ]
  },
  {
   "cell_type": "code",
   "execution_count": 23,
   "metadata": {
    "colab": {
     "base_uri": "https://localhost:8080/"
    },
    "id": "xO-gv_eC_tia",
    "outputId": "73ceec0f-c0cb-49a8-a569-543b15eed993"
   },
   "outputs": [
    {
     "data": {
      "text/plain": [
       "9"
      ]
     },
     "execution_count": 23,
     "metadata": {},
     "output_type": "execute_result"
    }
   ],
   "source": [
    "len(s.index) # Сколько уникальных наименований производителей"
   ]
  },
  {
   "cell_type": "markdown",
   "metadata": {
    "id": "rlVgzOlWA5cz"
   },
   "source": [
    "К значениям серии **s** можно обратиться по индексу"
   ]
  },
  {
   "cell_type": "code",
   "execution_count": 24,
   "metadata": {
    "colab": {
     "base_uri": "https://localhost:8080/"
    },
    "id": "3p6GNw3yBEWq",
    "outputId": "a39b67f5-be82-4b59-e630-01321196bd15"
   },
   "outputs": [
    {
     "data": {
      "text/plain": [
       "204"
      ]
     },
     "execution_count": 24,
     "metadata": {},
     "output_type": "execute_result"
    }
   ],
   "source": [
    "s.loc['Velo']"
   ]
  },
  {
   "cell_type": "markdown",
   "metadata": {
    "id": "nsKf0kA5BPCY"
   },
   "source": [
    "Можно установить фильтр"
   ]
  },
  {
   "cell_type": "code",
   "execution_count": 25,
   "metadata": {
    "colab": {
     "base_uri": "https://localhost:8080/"
    },
    "id": "Z7AwkXhSBN30",
    "outputId": "b4af3d1c-c3d8-43d0-9ddb-cacbfb0abcdf"
   },
   "outputs": [
    {
     "data": {
      "text/plain": [
       "Amarilla    94\n",
       "Bal         89\n",
       "Nice        74\n",
       "Name: Product, dtype: int64"
      ]
     },
     "execution_count": 25,
     "metadata": {},
     "output_type": "execute_result"
    }
   ],
   "source": [
    "s.loc[s<100]"
   ]
  },
  {
   "cell_type": "markdown",
   "metadata": {
    "id": "xNPY8yCOBkEf"
   },
   "source": [
    "<u>Задание</u>.\n",
    "1. Сколько разных систем скидок представлено в таблице?\n",
    "2. Какая из систем скидок применяется реже всего?\n",
    "3. Сколько раз представлены в выборке разные страны?\n"
   ]
  },
  {
   "cell_type": "code",
   "execution_count": 26,
   "metadata": {
    "colab": {
     "base_uri": "https://localhost:8080/"
    },
    "id": "mF0UTDMpBxmw",
    "outputId": "c57b5efe-b60d-4ffa-eff4-bc6a5d6d53c7"
   },
   "outputs": [
    {
     "data": {
      "text/plain": [
       "High          384\n",
       "Medium        371\n",
       "Low           311\n",
       "New Client    144\n",
       "Green         137\n",
       "None           53\n",
       "Name: DiscountBand, dtype: int64"
      ]
     },
     "execution_count": 26,
     "metadata": {},
     "output_type": "execute_result"
    }
   ],
   "source": [
    "fs['DiscountBand'].value_counts()"
   ]
  },
  {
   "cell_type": "code",
   "execution_count": 27,
   "metadata": {
    "colab": {
     "base_uri": "https://localhost:8080/"
    },
    "id": "2FUEF547CdB-",
    "outputId": "c5774315-a88c-4315-fc05-72d2522bcad1"
   },
   "outputs": [
    {
     "data": {
      "text/plain": [
       "Mexico                      233\n",
       "Germany                     233\n",
       "United States of America    226\n",
       "Canada                      213\n",
       "France                      140\n",
       "Egypt                        97\n",
       "Pakistan                     92\n",
       "Finland                      88\n",
       "Albania                      78\n",
       "Name: Country, dtype: int64"
      ]
     },
     "execution_count": 27,
     "metadata": {},
     "output_type": "execute_result"
    }
   ],
   "source": [
    "fs['Country'].value_counts()"
   ]
  },
  {
   "cell_type": "markdown",
   "metadata": {
    "id": "2ZRBCtQIDiIU"
   },
   "source": [
    "#### Подсчет количества значений в процентах"
   ]
  },
  {
   "cell_type": "code",
   "execution_count": 28,
   "metadata": {
    "colab": {
     "base_uri": "https://localhost:8080/"
    },
    "id": "kFl-xYEgDvX0",
    "outputId": "5053355a-7e00-449f-de33-50a8d3982119"
   },
   "outputs": [
    {
     "data": {
      "text/plain": [
       "High          0.274286\n",
       "Medium        0.265000\n",
       "Low           0.222143\n",
       "New Client    0.102857\n",
       "Green         0.097857\n",
       "None          0.037857\n",
       "Name: DiscountBand, dtype: float64"
      ]
     },
     "execution_count": 28,
     "metadata": {},
     "output_type": "execute_result"
    }
   ],
   "source": [
    "fs['DiscountBand'].value_counts(normalize=True)"
   ]
  },
  {
   "cell_type": "markdown",
   "metadata": {
    "id": "P87-I6fGEQG4"
   },
   "source": [
    "#### Подсчет количества значений по численным признакам\n",
    "\n",
    "До сих пор мы группировали значения по категориальным признакам. Но это можно делать и по численным признакам."
   ]
  },
  {
   "cell_type": "code",
   "execution_count": 29,
   "metadata": {
    "colab": {
     "base_uri": "https://localhost:8080/"
    },
    "id": "aYYs5hYoEdFt",
    "outputId": "309fd10a-e405-4fb0-87b5-5ceefe8c77b9"
   },
   "outputs": [
    {
     "data": {
      "text/plain": [
       "10.0    192\n",
       "12.0    173\n",
       "11.0    129\n",
       "9.0     123\n",
       "6.0     122\n",
       "1.0     104\n",
       "8.0      97\n",
       "7.0      94\n",
       "2.0      93\n",
       "5.0      92\n",
       "4.0      91\n",
       "3.0      90\n",
       "Name: MonthNumber, dtype: int64"
      ]
     },
     "execution_count": 29,
     "metadata": {},
     "output_type": "execute_result"
    }
   ],
   "source": [
    "fs['MonthNumber'].value_counts()"
   ]
  },
  {
   "cell_type": "markdown",
   "metadata": {
    "id": "bPBDz9J4Es_a"
   },
   "source": [
    "Чаще всего продажи совершались в октябре, реже всего в начале года. Месяцев не так много, поэтому визуально можно оценить динамику продаж. Однако, если выполнить `.value_counts()` по другому численному столбцу, где много разных значений, результат не будет наглядным."
   ]
  },
  {
   "cell_type": "code",
   "execution_count": 30,
   "metadata": {
    "colab": {
     "base_uri": "https://localhost:8080/"
    },
    "id": "g7suVjaIFn-z",
    "outputId": "7da21d6c-7f82-48fe-e581-2a43161c4571"
   },
   "outputs": [
    {
     "data": {
      "text/plain": [
       "0.00        53\n",
       "13.79       20\n",
       "12.47       16\n",
       "20.40       15\n",
       "10.77       15\n",
       "            ..\n",
       "890.76       1\n",
       "3036.96      1\n",
       "1180.20      1\n",
       "3732.96      1\n",
       "23583.00     1\n",
       "Name: Discounts, Length: 586, dtype: int64"
      ]
     },
     "execution_count": 30,
     "metadata": {},
     "output_type": "execute_result"
    }
   ],
   "source": [
    "fs['Discounts'].value_counts()"
   ]
  },
  {
   "cell_type": "markdown",
   "metadata": {
    "id": "M54FaNh-Fy-J"
   },
   "source": [
    "Мы получили более пятисот разных значений. Поэтому применим функцию *value_counts()* с параметром *bins*."
   ]
  },
  {
   "cell_type": "code",
   "execution_count": 31,
   "metadata": {
    "colab": {
     "base_uri": "https://localhost:8080/"
    },
    "id": "8A1C4HfbFyOq",
    "outputId": "ec316f66-268c-460f-c0b0-03a14d4b9229"
   },
   "outputs": [
    {
     "data": {
      "text/plain": [
       "(-149.679, 14967.75]     1219\n",
       "(14967.75, 29935.5]        75\n",
       "(29935.5, 44903.25]        48\n",
       "(44903.25, 59871.0]        20\n",
       "(59871.0, 74838.75]        13\n",
       "(104774.25, 119742.0]       7\n",
       "(89806.5, 104774.25]        7\n",
       "(74838.75, 89806.5]         7\n",
       "(119742.0, 134709.75]       3\n",
       "(134709.75, 149677.5]       1\n",
       "Name: Discounts, dtype: int64"
      ]
     },
     "execution_count": 31,
     "metadata": {},
     "output_type": "execute_result"
    }
   ],
   "source": [
    "s = fs['Discounts'].value_counts(bins=10)\n",
    "s"
   ]
  },
  {
   "cell_type": "markdown",
   "metadata": {
    "id": "vmETkQwkHKPx"
   },
   "source": [
    "<u>Задание</u>.\n",
    "\n",
    "1. Разбейте значения столбца себестоимости (COGS) для Канады на шесть интервалов.\n",
    "2. В каких пределах находятся значения наименьших 25% количества товара (в штуках) для Германии?"
   ]
  },
  {
   "cell_type": "markdown",
   "metadata": {
    "id": "L3y2o32Y5j3T"
   },
   "source": [
    "#### Перевод результатов `value_counts()` в датафрейм\n",
    "Иногда полезно преобразовать серию, являющуюся результатом работы `.value_counts()` в датафрейм. Для этого используется метод `.reset_index()."
   ]
  },
  {
   "cell_type": "code",
   "execution_count": 32,
   "metadata": {},
   "outputs": [
    {
     "data": {
      "text/plain": [
       "<matplotlib.axes._subplots.AxesSubplot at 0x219f30b9108>"
      ]
     },
     "execution_count": 32,
     "metadata": {},
     "output_type": "execute_result"
    },
    {
     "data": {
      "image/png": "[encoded data removed]",
      "text/plain": [
       "<Figure size 432x288 with 1 Axes>"
      ]
     },
     "metadata": {
      "needs_background": "light"
     },
     "output_type": "display_data"
    }
   ],
   "source": [
    "U = fs['UnitsSold'].value_counts(bins=7)\n",
    "U = U.reset_index()\n",
    "U.columns=['Interval', 'Number_of_records']\n",
    "U.sort_values('Interval').plot(kind='bar', )"
   ]
  }
 ],
 "metadata": {
  "colab": {
   "collapsed_sections": [],
   "name": "Тема 8 ГК (запросы) Лекция",
   "provenance": []
  },
  "kernelspec": {
   "display_name": "Python 3",
   "language": "python",
   "name": "python3"
  },
  "language_info": {
   "codemirror_mode": {
    "name": "ipython",
    "version": 3
   },
   "file_extension": ".py",
   "mimetype": "text/x-python",
   "name": "python",
   "nbconvert_exporter": "python",
   "pygments_lexer": "ipython3",
   "version": "3.7.6"
  }
 },
 "nbformat": 4,
 "nbformat_minor": 4
}
