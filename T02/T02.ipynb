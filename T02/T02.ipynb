{
 "cells": [
  {
   "cell_type": "markdown",
   "metadata": {},
   "source": [
    "<img src=\"../Img/banner-fa-49-2.jpg\">"
   ]
  },
  {
   "cell_type": "markdown",
   "metadata": {},
   "source": [
    "16 марта 2021 года, ВМ/305-1(кк),<br>\n",
    "\n",
    "# Лекция 2. Структуры данных языка Python. Строки, списки, словари\n",
    "\n",
    "Студенты: Поток У18-7у<br>\n",
    "Преподаватель: Смирнов Михаил Викторович, доцент Департамента Анализа данных и машинного обучения Финансового университета при Правительстве Российской Федерации"
   ]
  },
  {
   "cell_type": "markdown",
   "metadata": {},
   "source": [
    "# 1. Функции и методы для работы со строками\n",
    "На этой лекции продолжим изучение свойств строковых переменных и приемов работы с ними.\n",
    "\n",
    "Строковая величина в Python - это неизменяемый набор символов в формате Unicode. \n",
    "\n",
    "Минимальная строка - пустая:"
   ]
  },
  {
   "cell_type": "code",
   "execution_count": null,
   "metadata": {},
   "outputs": [],
   "source": [
    "the_string = ''\n",
    "print(the_string)"
   ]
  },
  {
   "cell_type": "markdown",
   "metadata": {},
   "source": [
    "Допустимое количество элементов в строке зависит от технических характеристик компьютера. В  Python можно обрабатывать строки, объемом в несколько десятков гигабайт.\n",
    "\n",
    "Нам уже известно, что:\n",
    "- строки можно складывать друг с другом.\n"
   ]
  },
  {
   "cell_type": "code",
   "execution_count": null,
   "metadata": {},
   "outputs": [],
   "source": [
    "'Строка 1' + ', ' + 'Строка 2'"
   ]
  },
  {
   "cell_type": "markdown",
   "metadata": {},
   "source": [
    "- можно умножать на число."
   ]
  },
  {
   "cell_type": "code",
   "execution_count": null,
   "metadata": {},
   "outputs": [],
   "source": [
    "'@fa.ru, '*10"
   ]
  },
  {
   "cell_type": "markdown",
   "metadata": {},
   "source": [
    "- переводить в верхний и нижний регистры"
   ]
  },
  {
   "cell_type": "code",
   "execution_count": null,
   "metadata": {},
   "outputs": [],
   "source": [
    "'строка'.upper() + 'ПОДСТРОКА'.lower()"
   ]
  },
  {
   "cell_type": "markdown",
   "metadata": {},
   "source": [
    "- функция `len()` позволяет узнать, сколько символов в строке."
   ]
  },
  {
   "cell_type": "code",
   "execution_count": null,
   "metadata": {},
   "outputs": [],
   "source": [
    "len('Сколько символов в этой строке')"
   ]
  },
  {
   "cell_type": "markdown",
   "metadata": {},
   "source": [
    "Рассмотрим другие возможности для работы со строками.\n",
    "### Опреатор _in_\n",
    "Позволяет ответить на вопрос, содержит ли строка подстроку: да или нет."
   ]
  },
  {
   "cell_type": "code",
   "execution_count": null,
   "metadata": {},
   "outputs": [],
   "source": [
    "'просп.' in 'г. Москва, Ленинградский просп., 49'"
   ]
  },
  {
   "cell_type": "markdown",
   "metadata": {},
   "source": [
    "По символам строки можно пройти в цикле. Строка - итерируемый объект. Итерируемый объект - это объект, позволяющий поочередно перебирать составляющие его элементы."
   ]
  },
  {
   "cell_type": "code",
   "execution_count": null,
   "metadata": {},
   "outputs": [],
   "source": [
    "s = 'г. Москва, Ленинградский просп., 49'\n",
    "for symbol in s:\n",
    "    print(symbol, end=',')"
   ]
  },
  {
   "cell_type": "markdown",
   "metadata": {},
   "source": [
    "Найдем, сколько знаков препинания в строке _s._"
   ]
  },
  {
   "cell_type": "code",
   "execution_count": null,
   "metadata": {},
   "outputs": [],
   "source": [
    "s = 'г. Москва, Ленинградский просп., 49'\n",
    "k = 0 # счетчик\n",
    "for symbol in s:\n",
    "    if symbol in '.,':\n",
    "        k+=1\n",
    "print(k)"
   ]
  },
  {
   "cell_type": "markdown",
   "metadata": {},
   "source": [
    "### Метод _find()_\n",
    "Иногда важно не только установить факт наличия подстроки в составе строки, но и определить индекс, с которого начинается искомая подстрока. В этом случае можно воспользоваться методом _.find()._ Могут быть указаны необязательные параметры _start_ и _end_ - индексы символов начала и конца поиска. Если эти параметры не указаны, то поиск ведется по всей строке. \n",
    "```\n",
    "number=search_here.find(find_me, sart, end)\n",
    "```\n",
    "Метод _find_ возвращает индекс позиции, с которой начинается искомая подстрока. Если подстрока не найдена, метод возвращает -1.\n",
    "\n",
    "Найдем позицию первой и второй запятых в строке _s._"
   ]
  },
  {
   "cell_type": "code",
   "execution_count": null,
   "metadata": {},
   "outputs": [],
   "source": [
    "s = 'г. Москва, Ленинградский просп., 49'\n",
    "c1 = s.find(',')\n",
    "c2 = s.find(',',c1+1)\n",
    "print(c1, c2)"
   ]
  },
  {
   "cell_type": "markdown",
   "metadata": {},
   "source": [
    "### Метод _count()_"
   ]
  },
  {
   "cell_type": "markdown",
   "metadata": {},
   "source": [
    "Для подсчёта количества вхождений подстроки в строку используется метод _count._\n",
    "```\n",
    "number=search_here.count(find_me, sart, end)\n",
    "```\n",
    "Cколько раз без учета регистра встречается подстрока \"толк\" в скороговорке \"Толком толковать, да без толку расперетолковывать\"?"
   ]
  },
  {
   "cell_type": "code",
   "execution_count": null,
   "metadata": {},
   "outputs": [],
   "source": [
    "\"Толком толковать, да без толку расперетолковывать\".lower().count(\"толк\")"
   ]
  },
  {
   "cell_type": "markdown",
   "metadata": {},
   "source": [
    "### Метод _strip()_\n",
    "Удаляет начальные и конечные пробелы."
   ]
  },
  {
   "cell_type": "code",
   "execution_count": null,
   "metadata": {},
   "outputs": [],
   "source": [
    "b = \"   Здравствуй, мир!\"\n",
    "b.strip()"
   ]
  },
  {
   "cell_type": "markdown",
   "metadata": {},
   "source": [
    "### Метод _replace()_"
   ]
  },
  {
   "cell_type": "markdown",
   "metadata": {},
   "source": [
    "Часто случается так, что числовые данные поступают в текстовом формате, и при этом у дробных чисел в качестве десятичного разделителя используется не точка, а запятая. Перевести такое «число» в формат _float_ на Python невозможно: интерпретатор прервёт выполнение программы и выдаст сообщение об ошибке. Для корректного преобразования такой строки в вещественное число мы должны сначала заменить использующуюся в качестве разделителя запятую на точку. Это можно сделать с помощью метода _replace()._"
   ]
  },
  {
   "cell_type": "code",
   "execution_count": null,
   "metadata": {},
   "outputs": [],
   "source": [
    "b = \"Здравствуй, мир!\"\n",
    "b.replace(\"Здравствуй\", \"Привет\")"
   ]
  },
  {
   "cell_type": "markdown",
   "metadata": {},
   "source": [
    "Задание.<br>\n",
    "Имеется строка \"На берегу моря был камень\". С помощью метода _replace()_ напишите код, который преобразует ее в строку \"На берегу океана был дом\"."
   ]
  },
  {
   "cell_type": "markdown",
   "metadata": {},
   "source": [
    "### Индексы и срезы"
   ]
  },
  {
   "cell_type": "markdown",
   "metadata": {},
   "source": [
    "- Первый элемент строки имеет индекс 0.\n",
    "- Возможно использование отрицательных индексов.\n",
    "- Элементы строки можно отбирать с помощью среза: `string[start:end:step]`\n",
    "- Шаг может быть отрицательным."
   ]
  },
  {
   "cell_type": "code",
   "execution_count": null,
   "metadata": {},
   "outputs": [],
   "source": [
    "b = \"Здравствуй, мир!\"\n",
    "b[2:5]"
   ]
  },
  {
   "cell_type": "code",
   "execution_count": null,
   "metadata": {},
   "outputs": [],
   "source": [
    "b = 'abcdefghij'\n",
    "b[1::2]"
   ]
  },
  {
   "cell_type": "code",
   "execution_count": null,
   "metadata": {},
   "outputs": [],
   "source": [
    "b[-1:3:-1]"
   ]
  },
  {
   "cell_type": "markdown",
   "metadata": {},
   "source": [
    "### Построчное чтение файла"
   ]
  },
  {
   "cell_type": "code",
   "execution_count": null,
   "metadata": {},
   "outputs": [],
   "source": [
    "f=open('Студенты.csv',encoding='utf-8')\n",
    "k=0\n",
    "for line in f:\n",
    "    k+=1\n",
    "    print(line, end='')\n",
    "print('Всего', k, 'студентов')"
   ]
  },
  {
   "cell_type": "markdown",
   "metadata": {},
   "source": [
    "### Поиск с помощью регулярных выражений\n",
    "\n",
    "Документация по модулю re для работы с регулярными выражениями<br>\n",
    "https://docs.python.org/3.7/library/re.html<br>\n",
    "Дополнительно: статья о регулярных выражениях https://habr.com/ru/post/349860/"
   ]
  },
  {
   "cell_type": "markdown",
   "metadata": {},
   "source": [
    "Импорт модуля регулярных выражений"
   ]
  },
  {
   "cell_type": "code",
   "execution_count": null,
   "metadata": {},
   "outputs": [],
   "source": [
    "import re"
   ]
  },
  {
   "cell_type": "markdown",
   "metadata": {},
   "source": [
    "Создание шаблона"
   ]
  },
  {
   "cell_type": "code",
   "execution_count": null,
   "metadata": {},
   "outputs": [],
   "source": [
    "pattern=re.compile('[А-Я][а-я]*на')"
   ]
  },
  {
   "cell_type": "markdown",
   "metadata": {},
   "source": [
    "Методы регулярных выражений\n",
    "```\n",
    "match - ищет символы по шаблону в начале строки\n",
    "search - ищет символы по шаблону во всей строке, возвращает объект\n",
    "findall - ищет символы по шаблону во всей строке, возвращает список значений\n",
    "```"
   ]
  },
  {
   "cell_type": "markdown",
   "metadata": {},
   "source": [
    "Применим шаблон"
   ]
  },
  {
   "cell_type": "code",
   "execution_count": null,
   "metadata": {},
   "outputs": [],
   "source": [
    "s = 'Лисицына Юлия Александровна'"
   ]
  },
  {
   "cell_type": "code",
   "execution_count": null,
   "metadata": {},
   "outputs": [],
   "source": [
    "pattern.match(s)"
   ]
  },
  {
   "cell_type": "code",
   "execution_count": null,
   "metadata": {},
   "outputs": [],
   "source": [
    "pattern.search(s)"
   ]
  },
  {
   "cell_type": "code",
   "execution_count": null,
   "metadata": {},
   "outputs": [],
   "source": [
    "pattern.findall(s)"
   ]
  },
  {
   "cell_type": "code",
   "execution_count": null,
   "metadata": {},
   "outputs": [],
   "source": [
    "s = 'Доронкин Павел Дмитриевич'\n",
    "print(pattern.findall(s))\n",
    "print(len(pattern.findall(s)))"
   ]
  },
  {
   "cell_type": "markdown",
   "metadata": {},
   "source": [
    "Распечатаем только имена девушек, заодно посчитаем сколько их."
   ]
  },
  {
   "cell_type": "code",
   "execution_count": null,
   "metadata": {},
   "outputs": [],
   "source": [
    "f = open('Студенты.csv', encoding='utf-8')\n",
    "n, fe = 0, 0 # Счетчики: n - всех студентов, fe - девушек\n",
    "for line in f:\n",
    "    n += 1\n",
    "    if len(pattern.findall(line)) != 0:\n",
    "        fe += 1\n",
    "        print(line, end='')\n",
    "print('---')\n",
    "print('Всего студентов: ', n)\n",
    "print('Юношей: ', n-fe)\n",
    "print('Девушек: ', fe)"
   ]
  },
  {
   "cell_type": "markdown",
   "metadata": {},
   "source": [
    "# 2. Списки\n",
    "Список в Python - это упорядоченная изменяемая коллекция объектов произвольных типов"
   ]
  },
  {
   "cell_type": "code",
   "execution_count": null,
   "metadata": {
    "scrolled": true
   },
   "outputs": [],
   "source": [
    "list1 = [\"яблоко\", \"банан\", \"вишня\"]\n",
    "print(list1)"
   ]
  },
  {
   "cell_type": "markdown",
   "metadata": {},
   "source": [
    "Элементы списка упорядочены, изменяемы и допускают повторяющиеся значения. Элементы списка проиндексированы, первый элемент имеет индекс [0], второй элемент - индекс [1] и т. д. При добавлении новых элементов, они помещаются в конец списка."
   ]
  },
  {
   "cell_type": "markdown",
   "metadata": {},
   "source": [
    "### _len()_\n",
    "Чтобы определить, сколько элементов в списке, используйте функцию len()."
   ]
  },
  {
   "cell_type": "code",
   "execution_count": null,
   "metadata": {},
   "outputs": [],
   "source": [
    "list1 = [\"яблоко\", \"банан\", \"вишня\"]\n",
    "print(len(list1))"
   ]
  },
  {
   "cell_type": "markdown",
   "metadata": {},
   "source": [
    "Элементы списка могут быть любого типа данных"
   ]
  },
  {
   "cell_type": "code",
   "execution_count": null,
   "metadata": {},
   "outputs": [],
   "source": [
    "list1 = [\"яблоко\", \"банан\", \"вишня\"]\n",
    "list2 = [1, 5, 7, 9, 3]\n",
    "list3 = [True, False, False]"
   ]
  },
  {
   "cell_type": "markdown",
   "metadata": {},
   "source": [
    "Список может содержать разные типы данных"
   ]
  },
  {
   "cell_type": "code",
   "execution_count": null,
   "metadata": {},
   "outputs": [],
   "source": [
    "list1=[\"abc\", 34, True, 40, \"студент\"]\n",
    "list1"
   ]
  },
  {
   "cell_type": "markdown",
   "metadata": {},
   "source": [
    "### _type()_"
   ]
  },
  {
   "cell_type": "code",
   "execution_count": null,
   "metadata": {},
   "outputs": [],
   "source": [
    "type(list1)"
   ]
  },
  {
   "cell_type": "markdown",
   "metadata": {},
   "source": [
    "### Конструктор _list()_"
   ]
  },
  {
   "cell_type": "code",
   "execution_count": null,
   "metadata": {},
   "outputs": [],
   "source": [
    "list1 = list((\"яблоко\", \"банан\", \"вишня\")) # note the double round-brackets\n",
    "print(list1)"
   ]
  },
  {
   "cell_type": "markdown",
   "metadata": {},
   "source": [
    "### Индексы и срезы\n",
    "Доступ к элементам списка осуществляется по номеру индекса."
   ]
  },
  {
   "cell_type": "code",
   "execution_count": null,
   "metadata": {},
   "outputs": [],
   "source": [
    "list1 = [\"яблоко\", \"банан\", \"вишня\", \"апельсин\", \"киви\", \"дыня\", \"манго\"]\n",
    "print(list1[1])\n",
    "print(list1[-1])\n",
    "print(list1[::2])\n",
    "print(list1[1::2])\n",
    "print(list1[2:5])\n",
    "print(list1[-3:-6:-1])"
   ]
  },
  {
   "cell_type": "markdown",
   "metadata": {},
   "source": [
    "### Проверка на наличие в списке"
   ]
  },
  {
   "cell_type": "code",
   "execution_count": null,
   "metadata": {},
   "outputs": [],
   "source": [
    "list1 = [\"яблоко\", \"банан\", \"вишня\"]\n",
    "if \"яблоко\" in list1:\n",
    "  print(\"Да, 'яблоко' в списке фруктов\") "
   ]
  },
  {
   "cell_type": "markdown",
   "metadata": {},
   "source": [
    "### Замена элементов списка"
   ]
  },
  {
   "cell_type": "code",
   "execution_count": null,
   "metadata": {},
   "outputs": [],
   "source": [
    "list1 = [\"яблоко\", \"банан\", \"вишня\"]\n",
    "list1[1] = \"черная смородина\"\n",
    "list1"
   ]
  },
  {
   "cell_type": "markdown",
   "metadata": {},
   "source": [
    "### Замена диапазона значений"
   ]
  },
  {
   "cell_type": "code",
   "execution_count": null,
   "metadata": {},
   "outputs": [],
   "source": [
    "list1 = [\"яблоко\", \"банан\", \"вишня\", \"апельсин\", \"киви\", \"дыня\", \"манго\"]\n",
    "list1[2:6] = [\"виноград\", \"груша\"]\n",
    "list1"
   ]
  },
  {
   "cell_type": "markdown",
   "metadata": {},
   "source": [
    "### Метод _insert()_"
   ]
  },
  {
   "cell_type": "code",
   "execution_count": null,
   "metadata": {},
   "outputs": [],
   "source": [
    "list1 = [\"яблоко\", \"банан\", \"вишня\"]\n",
    "list1.insert(2,\"грейпфрут\")\n",
    "list1"
   ]
  },
  {
   "cell_type": "markdown",
   "metadata": {},
   "source": [
    "### Метод _append()_"
   ]
  },
  {
   "cell_type": "code",
   "execution_count": null,
   "metadata": {},
   "outputs": [],
   "source": [
    "list1 = [\"яблоко\", \"банан\", \"вишня\"]\n",
    "list1.append(\"черешня\")\n",
    "list1"
   ]
  },
  {
   "cell_type": "markdown",
   "metadata": {},
   "source": [
    "### Метод _extend()_"
   ]
  },
  {
   "cell_type": "markdown",
   "metadata": {},
   "source": [
    "Чтобы добавить элементы из другого списка в текущий список, используйте метод _extend()._"
   ]
  },
  {
   "cell_type": "code",
   "execution_count": null,
   "metadata": {},
   "outputs": [],
   "source": [
    "list1 = [\"яблоко\", \"банан\", \"вишня\"]\n",
    "list2 = [\"калина\", \"рябина\", \"облепиха\"]\n",
    "list1.extend(list2)\n",
    "list1"
   ]
  },
  {
   "cell_type": "markdown",
   "metadata": {},
   "source": [
    "### Методы _remove(), pop(), clear()_"
   ]
  },
  {
   "cell_type": "code",
   "execution_count": null,
   "metadata": {},
   "outputs": [],
   "source": [
    "list1 = [\"яблоко\", \"банан\", \"вишня\", \"апельсин\", \"киви\", \"дыня\", \"манго\"]\n",
    "list1.remove(\"вишня\")\n",
    "print(list1)"
   ]
  },
  {
   "cell_type": "code",
   "execution_count": null,
   "metadata": {},
   "outputs": [],
   "source": [
    "list1 = [\"яблоко\", \"банан\", \"вишня\", \"апельсин\", \"киви\", \"дыня\", \"манго\"]\n",
    "list1.pop(2)\n",
    "print(list1)"
   ]
  },
  {
   "cell_type": "code",
   "execution_count": null,
   "metadata": {},
   "outputs": [],
   "source": [
    "list1 = [\"яблоко\", \"банан\", \"вишня\", \"апельсин\", \"киви\", \"дыня\", \"манго\"]\n",
    "list1.pop()\n",
    "print(list1)"
   ]
  },
  {
   "cell_type": "code",
   "execution_count": null,
   "metadata": {},
   "outputs": [],
   "source": [
    "list1.clear()\n",
    "print(list1)"
   ]
  },
  {
   "cell_type": "markdown",
   "metadata": {},
   "source": [
    "### Метод _sort()_"
   ]
  },
  {
   "cell_type": "code",
   "execution_count": null,
   "metadata": {},
   "outputs": [],
   "source": [
    "list1 = [\"яблоко\", \"банан\", \"вишня\", \"апельсин\", \"киви\", \"дыня\", \"манго\"]\n",
    "list1.sort()\n",
    "print(list1)"
   ]
  },
  {
   "cell_type": "code",
   "execution_count": null,
   "metadata": {},
   "outputs": [],
   "source": [
    "list1 = [\"яблоко\", \"банан\", \"вишня\", \"апельсин\", \"киви\", \"дыня\", \"манго\"]\n",
    "list1.sort(reverse = True)\n",
    "print(list1)"
   ]
  },
  {
   "cell_type": "markdown",
   "metadata": {},
   "source": [
    "# 3. Словари\n",
    "\n",
    "Словарь - упорядоченная изменяемая коллекция. Каждым элементом словаря является пара ключ - значение."
   ]
  },
  {
   "cell_type": "code",
   "execution_count": null,
   "metadata": {},
   "outputs": [],
   "source": [
    "dict1 = {\n",
    "  \"brand\": \"Ford\",\n",
    "  \"model\": \"Mustang\",\n",
    "  \"year\": 1964\n",
    "}"
   ]
  },
  {
   "cell_type": "markdown",
   "metadata": {},
   "source": [
    "К значениям словаря можно обращаться по ключу."
   ]
  },
  {
   "cell_type": "code",
   "execution_count": null,
   "metadata": {},
   "outputs": [],
   "source": [
    "dict1['brand']"
   ]
  },
  {
   "cell_type": "markdown",
   "metadata": {},
   "source": [
    "В словарях не допускаются дупликаты"
   ]
  },
  {
   "cell_type": "code",
   "execution_count": null,
   "metadata": {},
   "outputs": [],
   "source": [
    "dict1 = {\n",
    "  \"brand\": \"Ford\",\n",
    "  \"model\": \"Mustang\",\n",
    "  \"year\": 1964,\n",
    "  \"year\": 2020\n",
    "}\n",
    "dict1"
   ]
  },
  {
   "cell_type": "markdown",
   "metadata": {},
   "source": [
    "Значениями могут быть данные любых типов"
   ]
  },
  {
   "cell_type": "code",
   "execution_count": null,
   "metadata": {},
   "outputs": [],
   "source": [
    "dict1 = {\n",
    "  \"brand\": \"Ford\",\n",
    "  \"electric\": False,\n",
    "  \"year\": 1964,\n",
    "  \"colors\": [\"красный\", \"белый\", \"голубой\"]\n",
    "}"
   ]
  },
  {
   "cell_type": "markdown",
   "metadata": {},
   "source": [
    "### Метод _keys()_"
   ]
  },
  {
   "cell_type": "code",
   "execution_count": null,
   "metadata": {},
   "outputs": [],
   "source": [
    "dict1.keys()"
   ]
  },
  {
   "cell_type": "markdown",
   "metadata": {},
   "source": [
    "### Метод _values()_"
   ]
  },
  {
   "cell_type": "code",
   "execution_count": null,
   "metadata": {},
   "outputs": [],
   "source": [
    "dict1.values()"
   ]
  },
  {
   "cell_type": "markdown",
   "metadata": {},
   "source": [
    "### Метод _items()_"
   ]
  },
  {
   "cell_type": "code",
   "execution_count": null,
   "metadata": {},
   "outputs": [],
   "source": [
    "dict1.items()"
   ]
  },
  {
   "cell_type": "markdown",
   "metadata": {},
   "source": [
    "### Проверка на наличие ключа в словаре"
   ]
  },
  {
   "cell_type": "code",
   "execution_count": null,
   "metadata": {},
   "outputs": [],
   "source": [
    "if 'year' in dict1:\n",
    "    print(dict1['year'])\n",
    "else:\n",
    "    print('Такого ключа нет')"
   ]
  },
  {
   "cell_type": "markdown",
   "metadata": {},
   "source": [
    "### Изменение значений словаря"
   ]
  },
  {
   "cell_type": "code",
   "execution_count": null,
   "metadata": {},
   "outputs": [],
   "source": [
    "dict1 = {\n",
    "  \"brand\": \"Ford\",\n",
    "  \"model\": \"Mustang\",\n",
    "  \"year\": 1964\n",
    "}\n",
    "dict1[\"year\"] = 2018\n",
    "\n",
    "print(dict1)"
   ]
  },
  {
   "cell_type": "markdown",
   "metadata": {},
   "source": [
    "### Метод _pop()_\n",
    "Метод _pop()_ удаляет элемент словаря по имени ключа"
   ]
  },
  {
   "cell_type": "code",
   "execution_count": null,
   "metadata": {},
   "outputs": [],
   "source": [
    "dict1 = {\n",
    "  \"brand\": \"Ford\",\n",
    "  \"model\": \"Mustang\",\n",
    "  \"year\": 1964\n",
    "}\n",
    "dict1.pop(\"brand\")\n",
    "print(dict1)"
   ]
  },
  {
   "cell_type": "markdown",
   "metadata": {},
   "source": [
    "### Метод _clear()_ опустошает словарь"
   ]
  },
  {
   "cell_type": "code",
   "execution_count": null,
   "metadata": {},
   "outputs": [],
   "source": [
    "dict1.clear()\n",
    "print(dict1)"
   ]
  },
  {
   "cell_type": "markdown",
   "metadata": {},
   "source": [
    "### Проход по словарю в цикле"
   ]
  },
  {
   "cell_type": "markdown",
   "metadata": {},
   "source": [
    "Распечатать имена всех ключей"
   ]
  },
  {
   "cell_type": "code",
   "execution_count": null,
   "metadata": {},
   "outputs": [],
   "source": [
    "dict1 = {\n",
    "  \"brand\": \"Ford\",\n",
    "  \"model\": \"Mustang\",\n",
    "  \"year\": 1964\n",
    "}\n",
    "for x in dict1:\n",
    "    print(x)"
   ]
  },
  {
   "cell_type": "markdown",
   "metadata": {},
   "source": [
    "Распечатать все значения"
   ]
  },
  {
   "cell_type": "code",
   "execution_count": null,
   "metadata": {},
   "outputs": [],
   "source": [
    "for x in dict1:\n",
    "    print(dict1[x])"
   ]
  },
  {
   "cell_type": "markdown",
   "metadata": {},
   "source": [
    "### Методы _keys()_ и _values()_\n",
    "Для доступа к именам ключей и значениям можно также использовать методы _keys()_ и _values()_"
   ]
  },
  {
   "cell_type": "code",
   "execution_count": null,
   "metadata": {},
   "outputs": [],
   "source": [
    "for x in dict1.keys():\n",
    "    print(x)"
   ]
  },
  {
   "cell_type": "code",
   "execution_count": null,
   "metadata": {},
   "outputs": [],
   "source": [
    "for x in dict1.values():\n",
    "    print(x)"
   ]
  },
  {
   "cell_type": "markdown",
   "metadata": {},
   "source": [
    "### Метод _items()_\n",
    "Метод _items()_ используется для доступа как к именам ключей, так и значениям"
   ]
  },
  {
   "cell_type": "code",
   "execution_count": null,
   "metadata": {},
   "outputs": [],
   "source": [
    "for x, y in dict1.items():\n",
    "    print(x, y)"
   ]
  },
  {
   "cell_type": "markdown",
   "metadata": {},
   "source": [
    "### Словари можно вкладывать друг в друга"
   ]
  },
  {
   "cell_type": "code",
   "execution_count": null,
   "metadata": {},
   "outputs": [],
   "source": [
    "park = {\n",
    "    'car1' : {\n",
    "        'model' : 'Ford',\n",
    "        'brand' : 'Mustang',\n",
    "        'year' : 1996\n",
    "    },\n",
    "    'car2' : {\n",
    "        'model' : 'Lada',\n",
    "        'brand' : 'Granta',\n",
    "        'year' : 2020\n",
    "    }\n",
    "}\n",
    "print(park)"
   ]
  },
  {
   "cell_type": "markdown",
   "metadata": {},
   "source": [
    "# Упражнения"
   ]
  },
  {
   "cell_type": "markdown",
   "metadata": {},
   "source": [
    "1. Распечатать второе значение списка"
   ]
  },
  {
   "cell_type": "code",
   "execution_count": 6,
   "metadata": {},
   "outputs": [],
   "source": [
    "fruits = [\"яблоко\", \"банан\", \"вишня\"]\n",
    "# Ваш код здесь\n"
   ]
  },
  {
   "cell_type": "markdown",
   "metadata": {},
   "source": [
    "2. Поменять значение \"яблоко\" на \"киви\""
   ]
  },
  {
   "cell_type": "code",
   "execution_count": 9,
   "metadata": {},
   "outputs": [],
   "source": [
    "fruits = [\"яблоко\", \"банан\", \"вишня\"]\n",
    "# Ваш код здесь\n"
   ]
  },
  {
   "cell_type": "markdown",
   "metadata": {},
   "source": [
    "3. С помощью append() добавить к списку \"апельсин\"."
   ]
  },
  {
   "cell_type": "code",
   "execution_count": 10,
   "metadata": {},
   "outputs": [],
   "source": [
    "fruits = [\"яблоко\", \"банан\", \"вишня\"]\n",
    "# Ваш код здесь\n"
   ]
  },
  {
   "cell_type": "markdown",
   "metadata": {},
   "source": [
    "4. С помощью insert() вставить \"лемон\" на вторую позицию списка"
   ]
  },
  {
   "cell_type": "code",
   "execution_count": 12,
   "metadata": {},
   "outputs": [],
   "source": [
    "fruits = [\"яблоко\", \"банан\", \"вишня\"]\n",
    "# Ваш код здесь\n"
   ]
  },
  {
   "cell_type": "markdown",
   "metadata": {},
   "source": [
    "5. С помощью remove() удалите из списка \"банан\""
   ]
  },
  {
   "cell_type": "code",
   "execution_count": 14,
   "metadata": {},
   "outputs": [],
   "source": [
    "fruits = [\"яблоко\", \"банан\", \"вишня\"]\n",
    "# Ваш код здесь\n"
   ]
  },
  {
   "cell_type": "markdown",
   "metadata": {},
   "source": [
    "6. Имеется строка 'SIX, SEVEN, EIGHT, NINE, TEN'. Инвертировать последовательность слов, разделенных запятыми. Ожидается результат: 'TEN, NINE, EIGHT, SEVEN, SIX'."
   ]
  },
  {
   "cell_type": "code",
   "execution_count": 15,
   "metadata": {},
   "outputs": [],
   "source": [
    "s = \"SIX, SEVEN, EIGHT, NINE, TEN\"\n",
    "# Ваш код здесь"
   ]
  },
  {
   "cell_type": "markdown",
   "metadata": {},
   "source": [
    "7. В строке содержащей последовательность слов, разделенных запятыми удалить все нечетные слова. Ответ представить в виде строки.\n",
    "Пример: строка 'SIX,SEVEN,EIGHT,NINE,TEN' будет преобразована в: 'SIX,EIGHT,TEN'."
   ]
  },
  {
   "cell_type": "code",
   "execution_count": 16,
   "metadata": {},
   "outputs": [],
   "source": [
    "s='SIX,SEVEN,EIGHT,NINE,TEN'\n",
    "# Ваш код здесь"
   ]
  }
 ],
 "metadata": {
  "kernelspec": {
   "display_name": "Python 3",
   "language": "python",
   "name": "python3"
  },
  "language_info": {
   "codemirror_mode": {
    "name": "ipython",
    "version": 3
   },
   "file_extension": ".py",
   "mimetype": "text/x-python",
   "name": "python",
   "nbconvert_exporter": "python",
   "pygments_lexer": "ipython3",
   "version": "3.7.6"
  }
 },
 "nbformat": 4,
 "nbformat_minor": 4
}
