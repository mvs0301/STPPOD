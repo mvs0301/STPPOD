{
 "cells": [
  {
   "cell_type": "markdown",
   "metadata": {},
   "source": [
    "<img src=\"../Img/banner-fa-49-2.jpg\">\n",
    "\n",
    "29 марта 2021 года, ВМ/305-1(кк)<br>\n",
    "\n",
    "# Семинар. Контрольная работа с решением\n",
    "\n",
    "Студенты: Поток У18-7у<br>\n",
    "Преподаватель: Смирнов Михаил Викторович, доцент Департамента Анализа данных и машинного обучения Финансового университета при Правительстве Российской Федерации"
   ]
  },
  {
   "cell_type": "code",
   "execution_count": 2,
   "metadata": {},
   "outputs": [],
   "source": [
    "import numpy as np"
   ]
  },
  {
   "cell_type": "markdown",
   "metadata": {},
   "source": [
    "### Задание 1\n",
    "Имеется строка \"Волшебной красоты закат озарил Красноярск\". Напишите код, который меняет местами второе и третье слова."
   ]
  },
  {
   "cell_type": "code",
   "execution_count": 2,
   "metadata": {},
   "outputs": [
    {
     "name": "stdout",
     "output_type": "stream",
     "text": [
      "Волшебной закат красоты озарил Красноярск\n"
     ]
    }
   ],
   "source": [
    "# 1.\n",
    "\n",
    "s=\"Волшебной красоты закат озарил Красноярск\"\n",
    "# Ваш код здесь\n",
    "s=s.split()\n",
    "s[1],s[2]=s[2],s[1]\n",
    "s=\" \".join(s)\n",
    "print(s)"
   ]
  },
  {
   "cell_type": "markdown",
   "metadata": {},
   "source": [
    "### Задание 2 \n",
    "Имеется фрагмент html-кода.\n",
    "```\n",
    "<script type=\"text\" charset=\"UTF-8\"></script><script id=\"documentation_options\"></script>\n",
    "```\n",
    "Напишите код, возвращающий значение идентификатора *id*. Ожидается результат `documentation_options`."
   ]
  },
  {
   "cell_type": "code",
   "execution_count": 3,
   "metadata": {},
   "outputs": [
    {
     "name": "stdout",
     "output_type": "stream",
     "text": [
      "documentation_options\n"
     ]
    }
   ],
   "source": [
    "# 2.\n",
    "\n",
    "h='<script type=\"text\" charset=\"UTF-8\"></script><script id=\"documentation_options\"></script>'\n",
    "# Ваш код здесь\n",
    "start=h.find(\"doc\")\n",
    "end=h.find('\">',start)\n",
    "print(h[start:end])"
   ]
  },
  {
   "cell_type": "markdown",
   "metadata": {},
   "source": [
    "### Задание 3\n",
    "Напишите код, который показывает, сколько раз в html-коде встречается подстрока \"</\"."
   ]
  },
  {
   "cell_type": "code",
   "execution_count": 4,
   "metadata": {},
   "outputs": [
    {
     "name": "stdout",
     "output_type": "stream",
     "text": [
      "2\n"
     ]
    }
   ],
   "source": [
    "# 3.\n",
    "\n",
    "h='<script type=\"text\" charset=\"UTF-8\"></script><script id=\"documentation_options\"></script>'\n",
    "# Ваш код здесь\n",
    "n=h.count(\"</\")\n",
    "print(n)"
   ]
  },
  {
   "cell_type": "markdown",
   "metadata": {},
   "source": [
    "### Задание 4\n",
    "Имеется вложенная структура данных, содержащая список ингредиентов греческой кухни.\n",
    "```\n",
    "{'cuisine': 'greek',\n",
    " 'id': 10259,\n",
    " 'ingredients': ['romaine lettuce',\n",
    "                 'black olives',\n",
    "                 'grape tomatoes',\n",
    "                 'garlic',\n",
    "                 'pepper',\n",
    "                 'purple onion',\n",
    "                 'seasoning',\n",
    "                 'garbanzo beans',\n",
    "                 'feta cheese crumbles']}\n",
    "```\n",
    "Напишите код, который возвращает число ингредиентов."
   ]
  },
  {
   "cell_type": "code",
   "execution_count": 23,
   "metadata": {},
   "outputs": [
    {
     "name": "stdout",
     "output_type": "stream",
     "text": [
      "9\n"
     ]
    }
   ],
   "source": [
    "# 4.\n",
    "\n",
    "food={'cuisine': 'greek',\n",
    "'id': 10259,\n",
    "'ingredients': ['romaine lettuce',\n",
    "              'black olives',\n",
    "              'grape tomatoes',\n",
    "              'garlic',\n",
    "              'pepper',\n",
    "              'purple onion',\n",
    "              'seasoning',\n",
    "              'garbanzo beans',\n",
    "              'feta cheese crumbles']}\n",
    "\n",
    "# Ваш код здесь\n",
    "n=len(food['ingredients'])\n",
    "print(n)"
   ]
  },
  {
   "cell_type": "markdown",
   "metadata": {},
   "source": [
    "### Задание 5\n",
    "Напишите код, который распечатывает список ингредиентов кухни в алфавитном порядке."
   ]
  },
  {
   "cell_type": "code",
   "execution_count": 24,
   "metadata": {},
   "outputs": [
    {
     "name": "stdout",
     "output_type": "stream",
     "text": [
      "['black olives', 'feta cheese crumbles', 'garbanzo beans', 'garlic', 'grape tomatoes', 'pepper', 'purple onion', 'romaine lettuce', 'seasoning']\n"
     ]
    }
   ],
   "source": [
    "# 5.\n",
    "\n",
    "food={'cuisine': 'greek',\n",
    "'id': 10259,\n",
    "'ingredients': ['romaine lettuce',\n",
    "              'black olives',\n",
    "              'grape tomatoes',\n",
    "              'garlic',\n",
    "              'pepper',\n",
    "              'purple onion',\n",
    "              'seasoning',\n",
    "              'garbanzo beans',\n",
    "              'feta cheese crumbles']}\n",
    "\n",
    "# Ваш код здесь\n",
    "ingr=food['ingredients']\n",
    "ingr.sort()\n",
    "print(ingr)"
   ]
  },
  {
   "cell_type": "markdown",
   "metadata": {},
   "source": [
    "### Задание 6\n",
    "В списке ингредиентов тайской кухни допущена ошибка: один ингредиент указан дважды. \n",
    "```\n",
    "food={'id': 13121,\n",
    "      'cuisine': 'thai',\n",
    "      'ingredients': ['chopped cilantro fresh', 'hoisin sauce', \n",
    "                      'creamy peanut butter', 'chopped fresh mint',\n",
    "                      'thai basil', 'rice','rice','medium shrimp']}\n",
    "```\n",
    "Напишите код, который исключает повторяющееся значение. Результат может быть представлен в виде списка или множества ингредиентов без повторов."
   ]
  },
  {
   "cell_type": "code",
   "execution_count": 25,
   "metadata": {},
   "outputs": [
    {
     "name": "stdout",
     "output_type": "stream",
     "text": [
      "{'rice', 'chopped fresh mint', 'medium shrimp', 'thai basil', 'hoisin sauce', 'chopped cilantro fresh', 'creamy peanut butter'}\n"
     ]
    }
   ],
   "source": [
    "# 6. \n",
    "\n",
    "food={'id': 13121,\n",
    "   'cuisine': 'thai',\n",
    "   'ingredients': ['chopped cilantro fresh', 'hoisin sauce', \n",
    "                   'creamy peanut butter', 'chopped fresh mint',\n",
    "                   'thai basil', 'rice', 'rice', 'medium shrimp']}\n",
    "\n",
    "# Ваш код здесь\n",
    "set1=set(food['ingredients'])\n",
    "print(set1)"
   ]
  },
  {
   "cell_type": "markdown",
   "metadata": {},
   "source": [
    "### Задание 7\n",
    "Имеется массив `arr = np.array([1, 2, 3, 4])`. Распечатайте  количество измерений данного массива."
   ]
  },
  {
   "cell_type": "code",
   "execution_count": 3,
   "metadata": {},
   "outputs": [
    {
     "name": "stdout",
     "output_type": "stream",
     "text": [
      "1\n"
     ]
    }
   ],
   "source": [
    "# 7.\n",
    "\n",
    "arr = np.array([1, 2, 3, 4])\n",
    "\n",
    "# Ваш код здесь\n",
    "print(arr.ndim)"
   ]
  },
  {
   "cell_type": "markdown",
   "metadata": {},
   "source": [
    "### Задание 8\n",
    "Создать NumPy массив 11 на 7 вида: [[1, 2, 3, ..., 7], [11, 12, 13, ..., 17], [21, 22, 23, ..., 27], ..., [101, 102, 103, ..., 107]]"
   ]
  },
  {
   "cell_type": "code",
   "execution_count": 26,
   "metadata": {},
   "outputs": [
    {
     "data": {
      "text/plain": [
       "array([[  1,   2,   3,   4,   5,   6,   7],\n",
       "       [ 11,  12,  13,  14,  15,  16,  17],\n",
       "       [ 21,  22,  23,  24,  25,  26,  27],\n",
       "       [ 31,  32,  33,  34,  35,  36,  37],\n",
       "       [ 41,  42,  43,  44,  45,  46,  47],\n",
       "       [ 51,  52,  53,  54,  55,  56,  57],\n",
       "       [ 61,  62,  63,  64,  65,  66,  67],\n",
       "       [ 71,  72,  73,  74,  75,  76,  77],\n",
       "       [ 81,  82,  83,  84,  85,  86,  87],\n",
       "       [ 91,  92,  93,  94,  95,  96,  97],\n",
       "       [101, 102, 103, 104, 105, 106, 107]])"
      ]
     },
     "execution_count": 26,
     "metadata": {},
     "output_type": "execute_result"
    }
   ],
   "source": [
    "# 8. Вариант 1. С помощью среза\n",
    "\n",
    "# Ваш код здесь\n",
    "m=np.arange(1,111).reshape(11,10)\n",
    "m[:,:7]"
   ]
  },
  {
   "cell_type": "code",
   "execution_count": 27,
   "metadata": {},
   "outputs": [
    {
     "data": {
      "text/plain": [
       "array([[  1,   2,   3,   4,   5,   6,   7],\n",
       "       [ 11,  12,  13,  14,  15,  16,  17],\n",
       "       [ 21,  22,  23,  24,  25,  26,  27],\n",
       "       [ 31,  32,  33,  34,  35,  36,  37],\n",
       "       [ 41,  42,  43,  44,  45,  46,  47],\n",
       "       [ 51,  52,  53,  54,  55,  56,  57],\n",
       "       [ 61,  62,  63,  64,  65,  66,  67],\n",
       "       [ 71,  72,  73,  74,  75,  76,  77],\n",
       "       [ 81,  82,  83,  84,  85,  86,  87],\n",
       "       [ 91,  92,  93,  94,  95,  96,  97],\n",
       "       [101, 102, 103, 104, 105, 106, 107]])"
      ]
     },
     "execution_count": 27,
     "metadata": {},
     "output_type": "execute_result"
    }
   ],
   "source": [
    "# 8. Вариант 2. С помощью распространения\n",
    "\n",
    "# Ваш код здесь\n",
    "ma1=np.arange(0,110,10).reshape(11,1)\n",
    "ma2=np.arange(1,8).reshape(1,7)\n",
    "ma+ma2"
   ]
  },
  {
   "cell_type": "markdown",
   "metadata": {},
   "source": [
    "### Задание 9\n",
    "Написать код, в результате выполнения которого матрица размера $m$ на $n$ заполняется текстурой размера 2 на 2:\n",
    "\n",
    "```\n",
    "0 1\n",
    "2 3\n",
    "\n",
    "```\n",
    "\n",
    "Пример для $m = 4$ и $n = 5$:\n",
    "\n",
    "```\n",
    "0 1 0 1 0\n",
    "2 3 2 3 2\n",
    "0 1 0 1 0\n",
    "2 3 2 3 2\n",
    "```"
   ]
  },
  {
   "cell_type": "code",
   "execution_count": 10,
   "metadata": {},
   "outputs": [
    {
     "name": "stdout",
     "output_type": "stream",
     "text": [
      "[[0 1 0 1 0]\n",
      " [2 3 2 3 2]\n",
      " [0 1 0 1 0]\n",
      " [2 3 2 3 2]]\n"
     ]
    }
   ],
   "source": [
    "# 9.\n",
    "\n",
    "# Ваш код здесь\n",
    "m,n = 4,5\n",
    "A = np.array([0,1]*(n//2+1))[:n]\n",
    "B = np.array([2,3]*(n//2+1))[:n]\n",
    "Z = np.stack((A,B)*(m//2+1),axis=0)[:m]\n",
    "print(Z)"
   ]
  },
  {
   "cell_type": "markdown",
   "metadata": {},
   "source": [
    "### Задание 10\n",
    "Вычесть одномерный массив *B* из двумерного массива *A*, так, чтобы каждый элемент одномерного массива вычитался из всех элементов соответствующих строк массива *A*. Применить технику распространения.\n",
    "\n",
    "_Пример:_\n",
    "\n",
    "```\n",
    "A = np.array([[3,3,3],[4,4,4],[5,5,5]])\n",
    "B = np.array([1,2,3])\n",
    "```\n",
    "\n",
    "Ожидается резульат:\n",
    "\n",
    "```\n",
    "[[2 2 2]\n",
    " [2 2 2]\n",
    " [2 2 2]]\n",
    "```"
   ]
  },
  {
   "cell_type": "code",
   "execution_count": 45,
   "metadata": {},
   "outputs": [
    {
     "name": "stdout",
     "output_type": "stream",
     "text": [
      "[[2 2 2]\n",
      " [2 2 2]\n",
      " [2 2 2]]\n"
     ]
    }
   ],
   "source": [
    "# 10.\n",
    "\n",
    "# Ваш код здесь\n",
    "A = np.array([[3,3,3],[4,4,4],[5,5,5]])\n",
    "B = np.array([1,2,3])\n",
    "B = B.reshape(3,1)\n",
    "C = A-B\n",
    "print(C)"
   ]
  },
  {
   "cell_type": "markdown",
   "metadata": {},
   "source": [
    "### Задание 11\n",
    "Дан массив углов\n",
    "```\n",
    "alfas = np.array(([0.52, 0.79, 1.04, 1.57, 2.09, 2.36, 2.61]))\n",
    "```\n",
    "Создать массив из трех строк, состоящих из значений синусов, косинусов и тангенсов углов."
   ]
  },
  {
   "cell_type": "code",
   "execution_count": 46,
   "metadata": {},
   "outputs": [
    {
     "data": {
      "text/plain": [
       "array([[ 4.96880138e-01,  7.10353272e-01,  8.62404227e-01,\n",
       "         9.99999683e-01,  8.68214583e-01,  7.04410766e-01,\n",
       "         5.06906852e-01],\n",
       "       [ 8.67819180e-01,  7.03845316e-01,  5.06220257e-01,\n",
       "         7.96326711e-04, -4.96188913e-01, -7.09792556e-01,\n",
       "        -8.62000837e-01],\n",
       "       [ 5.72561830e-01,  1.00924629e+00,  1.70361461e+00,\n",
       "         1.25576559e+03, -1.74976619e+00, -9.92417798e-01,\n",
       "        -5.88058422e-01]])"
      ]
     },
     "execution_count": 46,
     "metadata": {},
     "output_type": "execute_result"
    }
   ],
   "source": [
    "# 11.\n",
    "\n",
    "alfas = np.array(([0.52, 0.79, 1.04, 1.57, 2.09, 2.36, 2.61]))\n",
    "\n",
    "# Ваш код здесь\n",
    "sin = np.sin(alfas)\n",
    "cos = np.cos(alfas)\n",
    "tan = np.tan(alfas)\n",
    "result = np.stack((sin, cos, tan), axis=0)\n",
    "print(result)"
   ]
  },
  {
   "cell_type": "markdown",
   "metadata": {},
   "source": [
    "### Задание 12\n",
    "Имеется массив `A = np.array([2, 6, 1, 9, 10, 3, 27])`. Получить элементы в диапазоне от 5 до 10."
   ]
  },
  {
   "cell_type": "code",
   "execution_count": 5,
   "metadata": {},
   "outputs": [
    {
     "data": {
      "text/plain": [
       "array([ 6,  9, 10])"
      ]
     },
     "execution_count": 5,
     "metadata": {},
     "output_type": "execute_result"
    }
   ],
   "source": [
    "# 12.\n",
    "\n",
    "A = np.array([2, 6, 1, 9, 10, 3, 27])\n",
    "\n",
    "# Ваш код здесь\n",
    "A[(A>=5) & (A<=10)]"
   ]
  },
  {
   "cell_type": "markdown",
   "metadata": {},
   "source": [
    "### Задание 13\n",
    "Поменять местами столбец 1 и 2 в массиве np.arange(9).reshape(3,3)"
   ]
  },
  {
   "cell_type": "code",
   "execution_count": 27,
   "metadata": {},
   "outputs": [
    {
     "name": "stdout",
     "output_type": "stream",
     "text": [
      "[[0 2 1]\n",
      " [3 5 4]\n",
      " [6 8 7]]\n"
     ]
    }
   ],
   "source": [
    "# 13\n",
    "\n",
    "A = np.arange(9).reshape(3,3)\n",
    "\n",
    "# Ваш код здесь\n",
    "A = np.concatenate((A[:,0],A[:,2],A[:,1])).reshape(3,3).T\n",
    "print(A)"
   ]
  },
  {
   "cell_type": "markdown",
   "metadata": {},
   "source": [
    "### Задание 14\n",
    "Инвертировать порядок элементов в двумерном массиве `np.arange(9).reshape(3,3)`.\n",
    "\n",
    "Ожидаемый результат:\n",
    "\n",
    "\n",
    "```python\n",
    "array([[8, 7, 6],\n",
    "       [5, 4, 3],\n",
    "       [2, 1, 0]])\n",
    "```"
   ]
  },
  {
   "cell_type": "code",
   "execution_count": 43,
   "metadata": {},
   "outputs": [
    {
     "name": "stdout",
     "output_type": "stream",
     "text": [
      "[[0 1 2]\n",
      " [3 4 5]\n",
      " [6 7 8]]\n",
      "\n",
      "[[8 7 6]\n",
      " [5 4 3]\n",
      " [2 1 0]]\n"
     ]
    }
   ],
   "source": [
    "# 14.\n",
    "\n",
    "A = np.arange(9).reshape(3,3)\n",
    "\n",
    "# Ваш код здесь\n",
    "print(A, end='\\n\\n')\n",
    "B=A[::-1,::-1]\n",
    "print(B)"
   ]
  },
  {
   "cell_type": "markdown",
   "metadata": {},
   "source": [
    "### Задание 15\n",
    "Cоздать массив из 20 случайных целых чисел от 0 до 100. Обрезать значения массива (заменить значения, выходящие за диапазон, на крайние значения) снизу по значению 30, сверху по значению 70."
   ]
  },
  {
   "cell_type": "code",
   "execution_count": 15,
   "metadata": {},
   "outputs": [
    {
     "name": "stdout",
     "output_type": "stream",
     "text": [
      "[ 4 92 20 74 63 72 36 20 22 22 65 19 54 93 64 37 88 67 44 82]\n",
      "[30 70 30 70 63 70 36 30 30 30 65 30 54 70 64 37 70 67 44 70]\n"
     ]
    }
   ],
   "source": [
    "# 15.\n",
    "\n",
    "# Ваш код здесь\n",
    "A = np.random.randint(0,101,size=(20))\n",
    "print(A)\n",
    "A[A<30]=30\n",
    "A[A>70]=70\n",
    "print(A)"
   ]
  }
 ],
 "metadata": {
  "kernelspec": {
   "display_name": "Python 3",
   "language": "python",
   "name": "python3"
  },
  "language_info": {
   "codemirror_mode": {
    "name": "ipython",
    "version": 3
   },
   "file_extension": ".py",
   "mimetype": "text/x-python",
   "name": "python",
   "nbconvert_exporter": "python",
   "pygments_lexer": "ipython3",
   "version": "3.7.6"
  }
 },
 "nbformat": 4,
 "nbformat_minor": 4
}
